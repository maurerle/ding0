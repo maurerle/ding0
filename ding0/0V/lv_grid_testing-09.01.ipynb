{
 "cells": [
  {
   "cell_type": "code",
   "execution_count": 1,
   "metadata": {},
   "outputs": [],
   "source": [
    "import warnings\n",
    "\n",
    "from pandas.core.common import SettingWithCopyWarning\n",
    "\n",
    "warnings.simplefilter(action=\"ignore\", category=SettingWithCopyWarning)"
   ]
  },
  {
   "cell_type": "code",
   "execution_count": 2,
   "metadata": {},
   "outputs": [],
   "source": [
    "%%capture\n",
    "\n",
    "from ding0.core import NetworkDing0\n",
    "from ding0.tools.logger import setup_logger\n",
    "from ding0.tools.results import save_nd_to_pickle\n",
    "from ding0.tools.plots import plot_mv_topology\n",
    "from egoio.tools import db\n",
    "from sqlalchemy.orm import sessionmaker\n",
    "import oedialect\n",
    "\n",
    "from ding0.tools import results # to load pickl file\n",
    "\n",
    "\n",
    "# create new network\n",
    "nd = NetworkDing0(name='network')\n",
    "\n",
    "\n",
    "# set ID of MV grid district\n",
    "mv_grid_districts = [40] # fn"
   ]
  },
  {
   "cell_type": "raw",
   "metadata": {},
   "source": [
    "import osmnx as ox\n",
    "\n",
    "import networkx as nx \n",
    "\n",
    "import pandas as pd\n",
    "from sqlalchemy import func              \n",
    "from geoalchemy2.shape import to_shape \n",
    "\n",
    "\n",
    "from shapely.geometry import Point, Polygon, LineString\n",
    "\n",
    "\n",
    "\n",
    "import folium"
   ]
  },
  {
   "cell_type": "markdown",
   "metadata": {},
   "source": [
    "#### SET DING0 SETTINGS"
   ]
  },
  {
   "cell_type": "code",
   "execution_count": 3,
   "metadata": {},
   "outputs": [],
   "source": [
    "# TODO set in config file\n",
    "ding0_default=False\n",
    "retain_all=False #  weil sonst graphen außerhalb des polys unverbunden zum graphen beibehalten werden"
   ]
  },
  {
   "cell_type": "code",
   "execution_count": 4,
   "metadata": {},
   "outputs": [],
   "source": [
    "engine = db.connection(section='oedb_dialect', readonly=True)\n",
    "session = sessionmaker(bind=engine)()"
   ]
  },
  {
   "cell_type": "code",
   "execution_count": 5,
   "metadata": {},
   "outputs": [
    {
     "name": "stdout",
     "output_type": "stream",
     "text": [
      "ding0_default False\n",
      "bicycle_parking is not matched in config and will be categorized as leftover\n",
      "bicycle_parking is not matched in config and will be categorized as leftover\n",
      "Begin topologically simplifying the graph...\n",
      "Simplified graph: 945 to 622 nodes, 1956 to 1310 edges\n",
      "all clusters are in range\n",
      "start w. index 0\n",
      "Wall time: 6.71 s\n"
     ]
    }
   ],
   "source": [
    "%%time\n",
    "\n",
    "print('ding0_default', ding0_default)\n",
    "if ding0_default:\n",
    "    \n",
    "    lv_stations, lv_grid_districts = nd.import_mv_grid_districts(session, \n",
    "                                                                 mv_grid_districts_no=mv_grid_districts)\n",
    "\n",
    "else:\n",
    "    \n",
    "    lv_load_area = nd.import_mv_grid_districts(session, ding0_default, \n",
    "                                               mv_grid_districts_no=mv_grid_districts,\n",
    "                                               need_parameterization=True)"
   ]
  },
  {
   "cell_type": "code",
   "execution_count": 6,
   "metadata": {},
   "outputs": [
    {
     "data": {
      "text/plain": [
       "[lv_grid_district_4488,\n",
       " lv_grid_district_4488,\n",
       " lv_grid_district_4488,\n",
       " lv_grid_district_4488,\n",
       " lv_grid_district_4488,\n",
       " lv_grid_district_4488,\n",
       " lv_grid_district_4488,\n",
       " lv_grid_district_4488,\n",
       " lv_grid_district_4488]"
      ]
     },
     "execution_count": 6,
     "metadata": {},
     "output_type": "execute_result"
    }
   ],
   "source": [
    "lv_load_area._lv_grid_districts"
   ]
  },
  {
   "cell_type": "code",
   "execution_count": 7,
   "metadata": {},
   "outputs": [
    {
     "data": {
      "text/plain": [
       "{'id_db': 4488,\n",
       " 'geo_data': <shapely.geometry.polygon.Polygon at 0x2ceec802190>,\n",
       " 'lv_load_area': lv_load_area_4488,\n",
       " 'lv_grid': lv_grid_4488,\n",
       " 'population': None,\n",
       " 'peak_load_residential': None,\n",
       " 'peak_load_retail': None,\n",
       " 'peak_load_industrial': None,\n",
       " 'peak_load_agricultural': None,\n",
       " 'peak_load': 325.52416810946147,\n",
       " 'sector_count_residential': None,\n",
       " 'sector_count_retail': None,\n",
       " 'sector_count_industrial': None,\n",
       " 'sector_count_agricultural': None,\n",
       " 'sector_consumption_residential': None,\n",
       " 'sector_consumption_retail': None,\n",
       " 'sector_consumption_industrial': None,\n",
       " 'sector_consumption_agricultural': None,\n",
       " 'mvlv_subst_id': 1,\n",
       " 'graph_district': <networkx.classes.multidigraph.MultiDiGraph at 0x2ceec74d1c0>,\n",
       " 'load_level': 'lv',\n",
       " 'buildings':                category       area  \\\n",
       " 257142214   residential   372.2810   \n",
       " 340327300   residential   135.4510   \n",
       " 340327302   residential    90.6245   \n",
       " 323225013   residential   240.0870   \n",
       " 323225750   residential   140.4370   \n",
       " ...                 ...        ...   \n",
       " 335080687   residential   190.0050   \n",
       " 335080688   residential   275.9980   \n",
       " 626700369   residential   298.0830   \n",
       " 626700371   residential   643.5310   \n",
       " 3654706698    ice_cream  2053.4000   \n",
       " \n",
       "                                                      geometry  \\\n",
       " 257142214   POLYGON ((4277000.540470407 2730218.100963964,...   \n",
       " 340327300   POLYGON ((4277022.00299576 2730220.7979672, 42...   \n",
       " 340327302   POLYGON ((4276989.092004471 2730215.324744434,...   \n",
       " 323225013   POLYGON ((4277186.11887402 2730420.504049834, ...   \n",
       " 323225750   POLYGON ((4277283.244529353 2730472.931696947,...   \n",
       " ...                                                       ...   \n",
       " 335080687   POLYGON ((4276699.745264208 2730735.95820786, ...   \n",
       " 335080688   POLYGON ((4276705.53600336 2730715.432874501, ...   \n",
       " 626700369   POLYGON ((4276674.391725582 2730867.82497235, ...   \n",
       " 626700371   POLYGON ((4276643.730906917 2730852.757424187,...   \n",
       " 3654706698  POLYGON ((4276991.088548915 2730633.047901352,...   \n",
       " \n",
       "                                   raccordement_building          name  \\\n",
       " 257142214   POINT (4277010.235934121 2730215.668519934)          None   \n",
       " 340327300   POINT (4277026.836116302 2730218.067917122)          None   \n",
       " 340327302    POINT (4276992.75394774 2730212.647453112)          None   \n",
       " 323225013   POINT (4277192.620447569 2730416.226085097)          None   \n",
       " 323225750   POINT (4277288.569003918 2730470.775915224)          None   \n",
       " ...                                                 ...           ...   \n",
       " 335080687   POINT (4276705.036754606 2730731.965763891)          None   \n",
       " 335080688    POINT (4276711.50451986 2730710.227314007)          None   \n",
       " 626700369   POINT (4276680.392924465 2730859.948791634)          None   \n",
       " 626700371   POINT (4276654.939642563 2730848.584385017)          None   \n",
       " 3654706698  POINT (4277010.263471567 2730652.179842929)  Gelati-Conte   \n",
       " \n",
       "             number_households  n_amenities_inside  osm_id_building  \\\n",
       " 257142214            0.750000                 1.0              NaN   \n",
       " 340327300            0.750000                 1.0              NaN   \n",
       " 340327302            0.750000                 1.0              NaN   \n",
       " 323225013            0.720930                 1.0              NaN   \n",
       " 323225750            0.807692                 1.0              NaN   \n",
       " ...                       ...                 ...              ...   \n",
       " 335080687            0.285714                 1.0              NaN   \n",
       " 335080688            0.285714                 1.0              NaN   \n",
       " 626700369            1.000000                 1.0              NaN   \n",
       " 626700371            1.000000                 1.0              NaN   \n",
       " 3654706698           0.687500                 1.0      307192332.0   \n",
       " \n",
       "                                       geometry_amenity             x  \\\n",
       " 257142214                                          NaN  4.277010e+06   \n",
       " 340327300                                          NaN  4.277027e+06   \n",
       " 340327302                                          NaN  4.276993e+06   \n",
       " 323225013                                          NaN  4.277193e+06   \n",
       " 323225750                                          NaN  4.277289e+06   \n",
       " ...                                                ...           ...   \n",
       " 335080687                                          NaN  4.276705e+06   \n",
       " 335080688                                          NaN  4.276712e+06   \n",
       " 626700369                                          NaN  4.276680e+06   \n",
       " 626700371                                          NaN  4.276655e+06   \n",
       " 3654706698  POINT (4277018.007443921 2730652.86950514)  4.277010e+06   \n",
       " \n",
       "                        y    capacity            nn     nn_dist  \\\n",
       " 257142214   2.730216e+06    1.281353      50673483  229.315010   \n",
       " 340327300   2.730218e+06    1.281353      50673483  213.938973   \n",
       " 340327302   2.730213e+06    1.281353     598495747  245.828506   \n",
       " 323225013   2.730416e+06    1.231688    2630456554   16.920484   \n",
       " 323225750   2.730471e+06    1.379918  526091311601   11.683302   \n",
       " ...                  ...         ...           ...         ...   \n",
       " 335080687   2.730732e+06    0.488134  188649659801   20.686302   \n",
       " 335080688   2.730710e+06    0.488134  188649659802   40.413408   \n",
       " 626700369   2.730860e+06    1.708470    1845088472   40.278903   \n",
       " 626700371   2.730849e+06    1.708470    1845088472   23.049515   \n",
       " 3654706698  2.730652e+06  187.906634    8269291557   27.599105   \n",
       " \n",
       "                                               nn_coords  cluster  \n",
       " 257142214   POINT (4277206.961498138 2730333.500715933)        1  \n",
       " 340327300   POINT (4277206.961498138 2730333.500715933)        1  \n",
       " 340327302   POINT (4277193.457375968 2730354.597403797)        1  \n",
       " 323225013    POINT (4277209.53013572 2730416.830433707)        1  \n",
       " 323225750   POINT (4277299.177439743 2730465.880953996)        1  \n",
       " ...                                                 ...      ...  \n",
       " 335080687   POINT (4276696.479714992 2730750.799249313)        1  \n",
       " 335080688   POINT (4276716.398535708 2730750.343297422)        1  \n",
       " 626700369   POINT (4276658.907258397 2730825.878919164)        1  \n",
       " 626700371   POINT (4276658.907258397 2730825.878919164)        1  \n",
       " 3654706698  POINT (4277021.745650292 2730627.082628499)        1  \n",
       " \n",
       " [134 rows x 16 columns]}"
      ]
     },
     "execution_count": 7,
     "metadata": {},
     "output_type": "execute_result"
    }
   ],
   "source": [
    "lv_load_area._lv_grid_districts[1].__dict__"
   ]
  },
  {
   "cell_type": "code",
   "execution_count": null,
   "metadata": {},
   "outputs": [],
   "source": []
  }
 ],
 "metadata": {
  "kernelspec": {
   "display_name": "Python 3 (ipykernel)",
   "language": "python",
   "name": "python3"
  },
  "language_info": {
   "codemirror_mode": {
    "name": "ipython",
    "version": 3
   },
   "file_extension": ".py",
   "mimetype": "text/x-python",
   "name": "python",
   "nbconvert_exporter": "python",
   "pygments_lexer": "ipython3",
   "version": "3.9.6"
  }
 },
 "nbformat": 4,
 "nbformat_minor": 4
}
