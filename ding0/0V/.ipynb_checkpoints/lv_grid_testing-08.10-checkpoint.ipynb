{
 "cells": [
  {
   "cell_type": "markdown",
   "metadata": {},
   "source": [
    "<img src=\"https://gist.githubusercontent.com/nesnoj/6ee605cd3494fa6e3e848385c4afbe19/raw/a883b1bdc69c0c5bbb0b00ba92f43033aa86ec64/dingo_model.png\" alt=\"DINGO Model\" width=\"800\"  align=\"center\">"
   ]
  },
  {
   "cell_type": "code",
   "execution_count": 1,
   "metadata": {},
   "outputs": [],
   "source": [
    "import warnings\n",
    "\n",
    "from pandas.core.common import SettingWithCopyWarning\n",
    "\n",
    "warnings.simplefilter(action=\"ignore\", category=SettingWithCopyWarning)"
   ]
  },
  {
   "cell_type": "code",
   "execution_count": 2,
   "metadata": {},
   "outputs": [],
   "source": [
    "%%capture\n",
    "\n",
    "from ding0.core import NetworkDing0\n",
    "from ding0.tools.logger import setup_logger\n",
    "from ding0.tools.results import save_nd_to_pickle\n",
    "from ding0.tools.plots import plot_mv_topology\n",
    "from egoio.tools import db\n",
    "from sqlalchemy.orm import sessionmaker\n",
    "import oedialect\n",
    "\n",
    "from ding0.tools import results # to load pickl file\n",
    "\n",
    "\n",
    "# create new network\n",
    "nd = NetworkDing0(name='network')\n",
    "\n",
    "\n",
    "# set ID of MV grid district\n",
    "mv_grid_districts = [40] # fn"
   ]
  },
  {
   "cell_type": "code",
   "execution_count": 3,
   "metadata": {},
   "outputs": [],
   "source": [
    "import osmnx as ox\n",
    "\n",
    "import networkx as nx \n",
    "\n",
    "import pandas as pd\n",
    "from sqlalchemy import func              \n",
    "from geoalchemy2.shape import to_shape \n",
    "\n",
    "\n",
    "from shapely.geometry import Point, Polygon, LineString\n",
    "\n",
    "\n",
    "\n",
    "import folium"
   ]
  },
  {
   "cell_type": "code",
   "execution_count": 4,
   "metadata": {},
   "outputs": [],
   "source": [
    "from config.config_lv_grids_osm import get_config_osm\n",
    "from config.db_conn_local import create_session_osm \n",
    "\n",
    "from grid.lv_grid.routing import build_graph_from_ways, \\\n",
    "get_location_substation_at_pi, subdivide_graph_edges\n",
    "\n",
    "from grid.lv_grid.parameterization import parameterize_by_load_profiles\n",
    "#from grid.lv_grid.clustering import \n",
    "\n",
    "from grid.lv_grid.geo import get_Point_from_x_y, get_points_in_load_area, \\\n",
    "get_convex_hull_from_points"
   ]
  },
  {
   "cell_type": "markdown",
   "metadata": {},
   "source": [
    "#### SET DING0 SETTINGS"
   ]
  },
  {
   "cell_type": "code",
   "execution_count": 5,
   "metadata": {},
   "outputs": [],
   "source": [
    "# TODO set in config file\n",
    "ding0_default=False\n",
    "retain_all=False #  weil sonst graphen außerhalb des polys unverbunden zum graphen beibehalten werden"
   ]
  },
  {
   "cell_type": "code",
   "execution_count": 6,
   "metadata": {},
   "outputs": [],
   "source": [
    "engine = db.connection(section='oedb_dialect', readonly=True)\n",
    "session = sessionmaker(bind=engine)()"
   ]
  },
  {
   "cell_type": "code",
   "execution_count": 7,
   "metadata": {},
   "outputs": [
    {
     "name": "stdout",
     "output_type": "stream",
     "text": [
      "Begin topologically simplifying the graph...\n",
      "Simplified graph: 162 to 108 nodes, 328 to 220 edges\n",
      "Wall time: 4.31 s\n"
     ]
    }
   ],
   "source": [
    "%%time\n",
    "\n",
    "id_db, row, simp_graph, geo_load_area, buildings_w_loads_df, street_loads = nd.import_mv_grid_districts(\n",
    "    session, ding0_default, mv_grid_districts_no=mv_grid_districts)"
   ]
  },
  {
   "cell_type": "markdown",
   "metadata": {},
   "source": [
    "### clustering"
   ]
  },
  {
   "cell_type": "code",
   "execution_count": 8,
   "metadata": {},
   "outputs": [],
   "source": [
    "from sklearn.cluster import AgglomerativeClustering\n",
    "import numpy as np"
   ]
  },
  {
   "cell_type": "code",
   "execution_count": 8,
   "metadata": {},
   "outputs": [
    {
     "ename": "NameError",
     "evalue": "name 'get_cluster_numbers' is not defined",
     "output_type": "error",
     "traceback": [
      "\u001b[1;31m---------------------------------------------------------------------------\u001b[0m",
      "\u001b[1;31mNameError\u001b[0m                                 Traceback (most recent call last)",
      "\u001b[1;32m~\\AppData\\Local\\Temp/ipykernel_14656/4246627672.py\u001b[0m in \u001b[0;36m<module>\u001b[1;34m\u001b[0m\n\u001b[1;32m----> 1\u001b[1;33m \u001b[0mk\u001b[0m \u001b[1;33m=\u001b[0m \u001b[0mget_cluster_numbers\u001b[0m\u001b[1;33m(\u001b[0m\u001b[0mbuildings_w_loads_df\u001b[0m\u001b[1;33m.\u001b[0m\u001b[0mcapacity\u001b[0m\u001b[1;33m.\u001b[0m\u001b[0msum\u001b[0m\u001b[1;33m(\u001b[0m\u001b[1;33m)\u001b[0m\u001b[1;33m)\u001b[0m\u001b[1;33m\u001b[0m\u001b[1;33m\u001b[0m\u001b[0m\n\u001b[0m\u001b[0;32m      2\u001b[0m \u001b[0mk\u001b[0m\u001b[1;33m\u001b[0m\u001b[1;33m\u001b[0m\u001b[0m\n",
      "\u001b[1;31mNameError\u001b[0m: name 'get_cluster_numbers' is not defined"
     ]
    }
   ],
   "source": [
    "k = get_cluster_numbers(buildings_w_loads_df.capacity.sum())\n",
    "k"
   ]
  },
  {
   "cell_type": "code",
   "execution_count": 9,
   "metadata": {},
   "outputs": [],
   "source": [
    "k=4"
   ]
  },
  {
   "cell_type": "code",
   "execution_count": 10,
   "metadata": {},
   "outputs": [],
   "source": [
    "X = []    # collect nodes\n",
    "for node in simp_graph.nodes:\n",
    "    X.append((simp_graph.nodes[node]['x'],simp_graph.nodes[node]['y']))\n",
    "X = np.array(X)\n",
    "\n",
    "adj_mat_sparse = nx.adjacency_matrix(simp_graph)"
   ]
  },
  {
   "cell_type": "code",
   "execution_count": 11,
   "metadata": {},
   "outputs": [
    {
     "name": "stdout",
     "output_type": "stream",
     "text": [
      "4\n"
     ]
    }
   ],
   "source": [
    "if k > len(X):\n",
    "    k=len(X)\n",
    "\n",
    "clustering = AgglomerativeClustering(n_clusters=k, linkage='ward', connectivity=adj_mat_sparse).fit(X)\n",
    "labels = clustering.labels_\n",
    "\n",
    "k = np.bincount(labels).size\n",
    "print(k)"
   ]
  },
  {
   "cell_type": "code",
   "execution_count": 12,
   "metadata": {},
   "outputs": [],
   "source": [
    "#assign cluster number to nodes\n",
    "nodes, edges = ox.graph_to_gdfs(simp_graph, nodes=True, edges=True)\n",
    "#nodes = nodes.sort_index()\n",
    "nodes['cluster'] = labels\n",
    "clu_graph = ox.graph_from_gdfs(nodes, edges)\n",
    "\n",
    "#nc = ox.plot.get_node_colors_by_attr(clu_graph, attr='cluster')\n",
    "#fig, ax = ox.plot_graph(clu_graph, node_color=nc, node_size=50, edge_color='w', edge_linewidth=1, show=False, close=False)\n"
   ]
  },
  {
   "cell_type": "code",
   "execution_count": 13,
   "metadata": {},
   "outputs": [
    {
     "name": "stdout",
     "output_type": "stream",
     "text": [
      "{'x': 4282465.613186001, 'y': 2732307.0927902046, 'node_type': 'non_synthetic', 'lon': 9.486881299999999, 'lat': 47.70317630000739, 'cluster': 0}\n",
      "\n",
      "\n",
      "{'x': 4282038.495855372, 'y': 2732459.481623211, 'node_type': 'non_synthetic', 'lon': 9.481180199999999, 'lat': 47.70452090000708, 'cluster': 1}\n",
      "\n",
      "\n",
      "{'x': 4282061.411230883, 'y': 2732194.125332162, 'node_type': 'non_synthetic', 'lon': 9.481509400000002, 'lat': 47.702134300007636, 'cluster': 2}\n",
      "\n",
      "\n",
      "{'x': 4282160.392420669, 'y': 2732343.9981744457, 'node_type': 'non_synthetic', 'lon': 9.482813799999999, 'lat': 47.70348930000733, 'cluster': 3}\n",
      "\n",
      "\n"
     ]
    },
    {
     "data": {
      "image/png": "[encoded data removed]",
      "text/plain": [
       "<Figure size 576x576 with 1 Axes>"
      ]
     },
     "metadata": {},
     "output_type": "display_data"
    }
   ],
   "source": [
    "# medoids\n",
    "import pandas as pd\n",
    "\n",
    "nodes, edges = ox.graph_to_gdfs(simp_graph, nodes=True, edges=True)\n",
    "nodes['cluster'] = labels\n",
    "clu_graph = ox.graph_from_gdfs(nodes, edges)\n",
    "\n",
    "cluster_graph = clu_graph.copy()\n",
    "\n",
    "nc = ox.plot.get_node_colors_by_attr(cluster_graph, attr='cluster')\n",
    "fig, ax = ox.plot_graph(cluster_graph, node_color=nc, node_size=50, edge_color='w', edge_linewidth=1, show=False, close=False)\n",
    "\n",
    "for i in range(k):\n",
    "    df_cluster = nodes[nodes['cluster'] == i]\n",
    "    cluster_nodes = list(df_cluster.index)\n",
    "    \n",
    "    #cluster_loads = street_loads[street_loads.index.isin(cluster_nodes)]\n",
    "    cluster_loads = pd.Series(cluster_nodes).map(street_loads.capacity).fillna(0).tolist()\n",
    "    \n",
    "    cluster_subgraph = cluster_graph.subgraph(cluster_nodes)\n",
    "    dm_cluster = nx.floyd_warshall_numpy(cluster_graph, nodelist=cluster_nodes, weight='length')\n",
    "    \n",
    "    #load_vector = np.ones(len(cluster_nodes), dtype = int) #unweighted\n",
    "    load_vector = np.array(cluster_loads) #weighted\n",
    "    unweighted_nodes = dm_cluster.dot(load_vector)\n",
    "    medoid = cluster_nodes[int(np.where(unweighted_nodes == np.amin(unweighted_nodes))[0][0])]\n",
    "        \n",
    "    medoid = cluster_graph.nodes[medoid]\n",
    "    ax.scatter(medoid['x'],medoid['y'],s=70,c='red')\n",
    "    \n",
    "    print(medoid)\n",
    "        \n",
    "    print('\\n')"
   ]
  },
  {
   "cell_type": "code",
   "execution_count": 14,
   "metadata": {},
   "outputs": [
    {
     "data": {
      "text/plain": [
       "2"
      ]
     },
     "execution_count": 14,
     "metadata": {},
     "output_type": "execute_result"
    }
   ],
   "source": [
    "# get loadds on mv level\n",
    "#mv_lv_level_threshold = get_config_osm('mv_lv_threshold_capacity')\n",
    "mv_lv_level_threshold = 40\n",
    "\n",
    "loads_mv_df = buildings_w_loads_df.loc[buildings_w_loads_df.capacity >= mv_lv_level_threshold]\n",
    "len(loads_mv_df)"
   ]
  },
  {
   "cell_type": "code",
   "execution_count": 16,
   "metadata": {},
   "outputs": [],
   "source": [
    "#assign cluster id to loads on mv level\n",
    "my_list = list(range(k, k + len(loads_mv_df)))\n",
    "loads_mv_df['cluster'] = my_list"
   ]
  },
  {
   "cell_type": "code",
   "execution_count": 29,
   "metadata": {},
   "outputs": [
    {
     "name": "stdout",
     "output_type": "stream",
     "text": [
      "154\n",
      "152\n",
      "2\n"
     ]
    }
   ],
   "source": [
    "# del loads on mv level from buildings_w_loads_df to assign cluserd ids\n",
    "print(len(buildings_w_loads_df))\n",
    "print(len(buildings_w_loads_df[~buildings_w_loads_df.index.isin(loads_mv_df.index.tolist())]))\n",
    "print(len(loads_mv_df))"
   ]
  },
  {
   "cell_type": "code",
   "execution_count": 37,
   "metadata": {},
   "outputs": [],
   "source": [
    "# this is lv level\n",
    "buildings_w_loads_df = buildings_w_loads_df[~buildings_w_loads_df.index.isin(loads_mv_df.index.tolist())]\n",
    "buildings_w_loads_df['cluster'] = buildings_w_loads_df.nn.map(nodes.cluster)"
   ]
  },
  {
   "cell_type": "code",
   "execution_count": 40,
   "metadata": {},
   "outputs": [
    {
     "data": {
      "text/plain": [
       "154"
      ]
     },
     "execution_count": 40,
     "metadata": {},
     "output_type": "execute_result"
    }
   ],
   "source": [
    "buildings_w_loads_df = pd.concat([buildings_w_loads_df, loads_mv_df])\n",
    "\n",
    "len(buildings_w_loads_df)"
   ]
  },
  {
   "cell_type": "code",
   "execution_count": 42,
   "metadata": {},
   "outputs": [
    {
     "data": {
      "text/plain": [
       "1    57\n",
       "0    37\n",
       "3    36\n",
       "2    22\n",
       "4     1\n",
       "5     1\n",
       "Name: cluster, dtype: int64"
      ]
     },
     "execution_count": 42,
     "metadata": {},
     "output_type": "execute_result"
    }
   ],
   "source": [
    "buildings_w_loads_df['cluster'].value_counts()"
   ]
  },
  {
   "cell_type": "code",
   "execution_count": 45,
   "metadata": {},
   "outputs": [
    {
     "data": {
      "text/html": [
       "<div>\n",
       "<style scoped>\n",
       "    .dataframe tbody tr th:only-of-type {\n",
       "        vertical-align: middle;\n",
       "    }\n",
       "\n",
       "    .dataframe tbody tr th {\n",
       "        vertical-align: top;\n",
       "    }\n",
       "\n",
       "    .dataframe thead th {\n",
       "        text-align: right;\n",
       "    }\n",
       "</style>\n",
       "<table border=\"1\" class=\"dataframe\">\n",
       "  <thead>\n",
       "    <tr style=\"text-align: right;\">\n",
       "      <th></th>\n",
       "      <th>category</th>\n",
       "      <th>area</th>\n",
       "      <th>geometry</th>\n",
       "      <th>raccordement_building</th>\n",
       "      <th>name</th>\n",
       "      <th>number_households</th>\n",
       "      <th>n_amenities_inside</th>\n",
       "      <th>osm_id_building</th>\n",
       "      <th>geometry_amenity</th>\n",
       "      <th>x</th>\n",
       "      <th>y</th>\n",
       "      <th>capacity</th>\n",
       "      <th>nn</th>\n",
       "      <th>nn_dist</th>\n",
       "      <th>nn_coords</th>\n",
       "      <th>cluster</th>\n",
       "    </tr>\n",
       "  </thead>\n",
       "  <tbody>\n",
       "    <tr>\n",
       "      <th>626714700</th>\n",
       "      <td>yes</td>\n",
       "      <td>455.9780</td>\n",
       "      <td>POLYGON ((9.4824524 47.70306610000742, 9.48263...</td>\n",
       "      <td>POINT (9.482576038704037 47.70311575385662)</td>\n",
       "      <td>None</td>\n",
       "      <td>0.424242</td>\n",
       "      <td>1.0</td>\n",
       "      <td>NaN</td>\n",
       "      <td>NaN</td>\n",
       "      <td>9.482576</td>\n",
       "      <td>47.703116</td>\n",
       "      <td>7.790247</td>\n",
       "      <td>3071953089</td>\n",
       "      <td>22.952842</td>\n",
       "      <td>POINT (9.482358699999995 47.7029700962565)</td>\n",
       "      <td>2</td>\n",
       "    </tr>\n",
       "    <tr>\n",
       "      <th>238921207</th>\n",
       "      <td>yes</td>\n",
       "      <td>314.1560</td>\n",
       "      <td>POLYGON ((9.481046600000001 47.70391420000723,...</td>\n",
       "      <td>POINT (9.481149916758799 47.70393007891353)</td>\n",
       "      <td>None</td>\n",
       "      <td>0.583333</td>\n",
       "      <td>1.0</td>\n",
       "      <td>NaN</td>\n",
       "      <td>NaN</td>\n",
       "      <td>9.481150</td>\n",
       "      <td>47.703930</td>\n",
       "      <td>5.367261</td>\n",
       "      <td>2467314133</td>\n",
       "      <td>22.423493</td>\n",
       "      <td>POINT (9.481165600000002 47.70372869625656)</td>\n",
       "      <td>2</td>\n",
       "    </tr>\n",
       "    <tr>\n",
       "      <th>626714681</th>\n",
       "      <td>yes</td>\n",
       "      <td>154.1710</td>\n",
       "      <td>POLYGON ((9.481762099999999 47.70295840000743,...</td>\n",
       "      <td>POINT (9.481831649999998 47.70298385000743)</td>\n",
       "      <td>None</td>\n",
       "      <td>0.500000</td>\n",
       "      <td>1.0</td>\n",
       "      <td>NaN</td>\n",
       "      <td>NaN</td>\n",
       "      <td>9.481832</td>\n",
       "      <td>47.702984</td>\n",
       "      <td>2.633965</td>\n",
       "      <td>614390526601</td>\n",
       "      <td>26.110807</td>\n",
       "      <td>POINT (9.481483400091941 47.70296921295756)</td>\n",
       "      <td>2</td>\n",
       "    </tr>\n",
       "    <tr>\n",
       "      <th>626714692</th>\n",
       "      <td>yes</td>\n",
       "      <td>196.0760</td>\n",
       "      <td>POLYGON ((9.482121899999997 47.70309960000741,...</td>\n",
       "      <td>POINT (9.482196290940117 47.70313292928571)</td>\n",
       "      <td>None</td>\n",
       "      <td>0.424242</td>\n",
       "      <td>1.0</td>\n",
       "      <td>NaN</td>\n",
       "      <td>NaN</td>\n",
       "      <td>9.482196</td>\n",
       "      <td>47.703133</td>\n",
       "      <td>3.349900</td>\n",
       "      <td>3071953089</td>\n",
       "      <td>21.806831</td>\n",
       "      <td>POINT (9.482358699999995 47.7029700962565)</td>\n",
       "      <td>2</td>\n",
       "    </tr>\n",
       "    <tr>\n",
       "      <th>405792415</th>\n",
       "      <td>yes</td>\n",
       "      <td>21.6372</td>\n",
       "      <td>POLYGON ((9.481268199999999 47.70362950000729,...</td>\n",
       "      <td>POINT (9.481293966297175 47.70363924331962)</td>\n",
       "      <td>None</td>\n",
       "      <td>0.416667</td>\n",
       "      <td>1.0</td>\n",
       "      <td>NaN</td>\n",
       "      <td>NaN</td>\n",
       "      <td>9.481294</td>\n",
       "      <td>47.703639</td>\n",
       "      <td>0.369665</td>\n",
       "      <td>2467314133</td>\n",
       "      <td>13.827757</td>\n",
       "      <td>POINT (9.481165600000002 47.70372869625656)</td>\n",
       "      <td>2</td>\n",
       "    </tr>\n",
       "  </tbody>\n",
       "</table>\n",
       "</div>"
      ],
      "text/plain": [
       "          category      area  \\\n",
       "626714700      yes  455.9780   \n",
       "238921207      yes  314.1560   \n",
       "626714681      yes  154.1710   \n",
       "626714692      yes  196.0760   \n",
       "405792415      yes   21.6372   \n",
       "\n",
       "                                                    geometry  \\\n",
       "626714700  POLYGON ((9.4824524 47.70306610000742, 9.48263...   \n",
       "238921207  POLYGON ((9.481046600000001 47.70391420000723,...   \n",
       "626714681  POLYGON ((9.481762099999999 47.70295840000743,...   \n",
       "626714692  POLYGON ((9.482121899999997 47.70309960000741,...   \n",
       "405792415  POLYGON ((9.481268199999999 47.70362950000729,...   \n",
       "\n",
       "                                 raccordement_building  name  \\\n",
       "626714700  POINT (9.482576038704037 47.70311575385662)  None   \n",
       "238921207  POINT (9.481149916758799 47.70393007891353)  None   \n",
       "626714681  POINT (9.481831649999998 47.70298385000743)  None   \n",
       "626714692  POINT (9.482196290940117 47.70313292928571)  None   \n",
       "405792415  POINT (9.481293966297175 47.70363924331962)  None   \n",
       "\n",
       "           number_households  n_amenities_inside  osm_id_building  \\\n",
       "626714700           0.424242                 1.0              NaN   \n",
       "238921207           0.583333                 1.0              NaN   \n",
       "626714681           0.500000                 1.0              NaN   \n",
       "626714692           0.424242                 1.0              NaN   \n",
       "405792415           0.416667                 1.0              NaN   \n",
       "\n",
       "          geometry_amenity         x          y  capacity            nn  \\\n",
       "626714700              NaN  9.482576  47.703116  7.790247    3071953089   \n",
       "238921207              NaN  9.481150  47.703930  5.367261    2467314133   \n",
       "626714681              NaN  9.481832  47.702984  2.633965  614390526601   \n",
       "626714692              NaN  9.482196  47.703133  3.349900    3071953089   \n",
       "405792415              NaN  9.481294  47.703639  0.369665    2467314133   \n",
       "\n",
       "             nn_dist                                    nn_coords  cluster  \n",
       "626714700  22.952842   POINT (9.482358699999995 47.7029700962565)        2  \n",
       "238921207  22.423493  POINT (9.481165600000002 47.70372869625656)        2  \n",
       "626714681  26.110807  POINT (9.481483400091941 47.70296921295756)        2  \n",
       "626714692  21.806831   POINT (9.482358699999995 47.7029700962565)        2  \n",
       "405792415  13.827757  POINT (9.481165600000002 47.70372869625656)        2  "
      ]
     },
     "execution_count": 45,
     "metadata": {},
     "output_type": "execute_result"
    }
   ],
   "source": [
    "buildings_w_loads_df.loc[buildings_w_loads_df.cluster==2].head(5)"
   ]
  },
  {
   "cell_type": "code",
   "execution_count": null,
   "metadata": {},
   "outputs": [],
   "source": [
    "# additionally for object\n",
    "# lv_grid as lv_grid-Obect\n",
    "\n",
    "# df\n",
    "la_id\n",
    "population\n",
    "peak_load_residential\n",
    "peak_load_retail\n",
    "peak_load_industrial\n",
    "peak_load_agricultural\n",
    "peak_load\n",
    "geom\n",
    "sector_count_residential\n",
    "sector_count_retail\n",
    "sector_count_industrial\n",
    "sector_count_agricultural\n",
    "sector_consumption_residential\n",
    "sector_consumption_retail\n",
    "sector_consumption_industrial\n",
    "sector_consumption_agricultural"
   ]
  },
  {
   "cell_type": "code",
   "execution_count": 15,
   "metadata": {},
   "outputs": [
    {
     "data": {
      "text/html": [
       "<div>\n",
       "<style scoped>\n",
       "    .dataframe tbody tr th:only-of-type {\n",
       "        vertical-align: middle;\n",
       "    }\n",
       "\n",
       "    .dataframe tbody tr th {\n",
       "        vertical-align: top;\n",
       "    }\n",
       "\n",
       "    .dataframe thead th {\n",
       "        text-align: right;\n",
       "    }\n",
       "</style>\n",
       "<table border=\"1\" class=\"dataframe\">\n",
       "  <thead>\n",
       "    <tr style=\"text-align: right;\">\n",
       "      <th></th>\n",
       "      <th>category</th>\n",
       "      <th>area</th>\n",
       "      <th>geometry</th>\n",
       "      <th>raccordement_building</th>\n",
       "      <th>name</th>\n",
       "      <th>number_households</th>\n",
       "      <th>n_amenities_inside</th>\n",
       "      <th>osm_id_building</th>\n",
       "      <th>geometry_amenity</th>\n",
       "      <th>x</th>\n",
       "      <th>y</th>\n",
       "      <th>capacity</th>\n",
       "      <th>nn</th>\n",
       "      <th>nn_dist</th>\n",
       "      <th>nn_coords</th>\n",
       "    </tr>\n",
       "  </thead>\n",
       "  <tbody>\n",
       "    <tr>\n",
       "      <th>443340114</th>\n",
       "      <td>restaurant</td>\n",
       "      <td>732.547</td>\n",
       "      <td>POLYGON ((9.483392699999998 47.70459640000707,...</td>\n",
       "      <td>POINT (9.48352605 47.70469195000704)</td>\n",
       "      <td>Sportplatz-Restaurant</td>\n",
       "      <td>1.0</td>\n",
       "      <td>1.0</td>\n",
       "      <td>301431136.0</td>\n",
       "      <td>0101000020e6100000c3d3861e8cf72240da9a83ea30da...</td>\n",
       "      <td>9.483526</td>\n",
       "      <td>47.704692</td>\n",
       "      <td>67.035376</td>\n",
       "      <td>443338172</td>\n",
       "      <td>29.025206</td>\n",
       "      <td>POINT (9.483255199999999 47.70450509625661)</td>\n",
       "    </tr>\n",
       "  </tbody>\n",
       "</table>\n",
       "</div>"
      ],
      "text/plain": [
       "             category     area  \\\n",
       "443340114  restaurant  732.547   \n",
       "\n",
       "                                                    geometry  \\\n",
       "443340114  POLYGON ((9.483392699999998 47.70459640000707,...   \n",
       "\n",
       "                          raccordement_building                   name  \\\n",
       "443340114  POINT (9.48352605 47.70469195000704)  Sportplatz-Restaurant   \n",
       "\n",
       "           number_households  n_amenities_inside  osm_id_building  \\\n",
       "443340114                1.0                 1.0      301431136.0   \n",
       "\n",
       "                                            geometry_amenity         x  \\\n",
       "443340114  0101000020e6100000c3d3861e8cf72240da9a83ea30da...  9.483526   \n",
       "\n",
       "                   y   capacity         nn    nn_dist  \\\n",
       "443340114  47.704692  67.035376  443338172  29.025206   \n",
       "\n",
       "                                             nn_coords  \n",
       "443340114  POINT (9.483255199999999 47.70450509625661)  "
      ]
     },
     "execution_count": 15,
     "metadata": {},
     "output_type": "execute_result"
    }
   ],
   "source": [
    "# district e.g.\n",
    "'id_db': 4563,\n",
    "'geo_data': <shapely.geometry.multipolygon.MultiPolygon at 0x17ffc430160>,\n",
    "'lv_load_area': lv_load_area_4544,\n",
    "'lv_grid': lv_grid_4563,\n",
    "'population': 80,\n",
    "'peak_load_residential': 27.9485612387548,\n",
    "'peak_load_retail': 0.0,\n",
    "'peak_load_industrial': 0.0,\n",
    "'peak_load_agricultural': 0.0,\n",
    "'peak_load': 27.9485612387548,\n",
    "'sector_count_residential': 1,\n",
    "'sector_count_retail': 0,\n",
    "'sector_count_industrial': 0,\n",
    "'sector_count_agricultural': 0,\n",
    "'sector_consumption_residential': 130771.856816184,\n",
    "'sector_consumption_retail': 0.0,\n",
    "'sector_consumption_industrial': 0.0,\n",
    "'sector_consumption_agricultural': 0.0"
   ]
  },
  {
   "cell_type": "code",
   "execution_count": null,
   "metadata": {},
   "outputs": [],
   "source": []
  },
  {
   "cell_type": "code",
   "execution_count": null,
   "metadata": {},
   "outputs": [],
   "source": []
  },
  {
   "cell_type": "code",
   "execution_count": null,
   "metadata": {},
   "outputs": [],
   "source": [
    "# todo check if truncate creates subgrpahs\n",
    "# if len(subgraphs) > 1:\n",
    "    # there are unconnected subgraphs\n",
    "    # then for each subgraph\n",
    "        # cluserting\n",
    "        # for each cluster\n",
    "            # build lv_grid_district"
   ]
  },
  {
   "cell_type": "code",
   "execution_count": null,
   "metadata": {},
   "outputs": [],
   "source": []
  },
  {
   "cell_type": "code",
   "execution_count": null,
   "metadata": {},
   "outputs": [],
   "source": []
  },
  {
   "cell_type": "code",
   "execution_count": 8,
   "metadata": {},
   "outputs": [],
   "source": []
  },
  {
   "cell_type": "code",
   "execution_count": 22,
   "metadata": {},
   "outputs": [],
   "source": []
  },
  {
   "cell_type": "code",
   "execution_count": 10,
   "metadata": {},
   "outputs": [],
   "source": []
  },
  {
   "cell_type": "markdown",
   "metadata": {},
   "source": [
    "### Clustering"
   ]
  },
  {
   "cell_type": "code",
   "execution_count": 27,
   "metadata": {},
   "outputs": [],
   "source": [
    "n_clusters = get_n_cluster(buildings_w_loads_df)\n",
    "if n_clusters < len(fn_fallenbrunnen_la._lv_grid_districts):\n",
    "    n_clusters = len(fn_fallenbrunnen_la._lv_grid_districts)\n",
    "buildings_w_loads_df = cluster_k_means(buildings_w_loads_df, n_clusters)"
   ]
  },
  {
   "cell_type": "code",
   "execution_count": 29,
   "metadata": {},
   "outputs": [
    {
     "data": {
      "text/plain": [
       "3"
      ]
     },
     "execution_count": 29,
     "metadata": {},
     "output_type": "execute_result"
    }
   ],
   "source": [
    "n_clusters"
   ]
  },
  {
   "cell_type": "markdown",
   "metadata": {},
   "source": [
    "### Update and add _districts"
   ]
  },
  {
   "cell_type": "code",
   "execution_count": 30,
   "metadata": {},
   "outputs": [
    {
     "name": "stdout",
     "output_type": "stream",
     "text": [
      "99\n",
      "85\n",
      "79\n"
     ]
    }
   ],
   "source": [
    "for i in range(n_clusters):\n",
    "    \n",
    "    print(len(buildings_w_loads_df.loc[(buildings_w_loads_df['Cluster']==i)]))\n"
   ]
  },
  {
   "cell_type": "code",
   "execution_count": 28,
   "metadata": {},
   "outputs": [
    {
     "data": {
      "text/html": [
       "<div>\n",
       "<style scoped>\n",
       "    .dataframe tbody tr th:only-of-type {\n",
       "        vertical-align: middle;\n",
       "    }\n",
       "\n",
       "    .dataframe tbody tr th {\n",
       "        vertical-align: top;\n",
       "    }\n",
       "\n",
       "    .dataframe thead th {\n",
       "        text-align: right;\n",
       "    }\n",
       "</style>\n",
       "<table border=\"1\" class=\"dataframe\">\n",
       "  <thead>\n",
       "    <tr style=\"text-align: right;\">\n",
       "      <th></th>\n",
       "      <th>category</th>\n",
       "      <th>capacity</th>\n",
       "      <th>area</th>\n",
       "      <th>number_households</th>\n",
       "      <th>x</th>\n",
       "      <th>y</th>\n",
       "      <th>geometry</th>\n",
       "      <th>raccordement</th>\n",
       "      <th>nn</th>\n",
       "      <th>nn_dist</th>\n",
       "      <th>Cluster</th>\n",
       "    </tr>\n",
       "    <tr>\n",
       "      <th>osm_id</th>\n",
       "      <th></th>\n",
       "      <th></th>\n",
       "      <th></th>\n",
       "      <th></th>\n",
       "      <th></th>\n",
       "      <th></th>\n",
       "      <th></th>\n",
       "      <th></th>\n",
       "      <th></th>\n",
       "      <th></th>\n",
       "      <th></th>\n",
       "    </tr>\n",
       "  </thead>\n",
       "  <tbody>\n",
       "    <tr>\n",
       "      <th>8598838279</th>\n",
       "      <td>ice_cream</td>\n",
       "      <td>20.966863</td>\n",
       "      <td>229.121</td>\n",
       "      <td>0.645161</td>\n",
       "      <td>9.437183</td>\n",
       "      <td>47.674769</td>\n",
       "      <td>POLYGON ((9.437094099999998 47.67477800001394,...</td>\n",
       "      <td>POINT (9.437183076702567 47.67476938145773)</td>\n",
       "      <td>475940044</td>\n",
       "      <td>19.021132</td>\n",
       "      <td>0</td>\n",
       "    </tr>\n",
       "    <tr>\n",
       "      <th>144020300</th>\n",
       "      <td>public_building</td>\n",
       "      <td>244.695822</td>\n",
       "      <td>2113.09</td>\n",
       "      <td>0.8125</td>\n",
       "      <td>9.438239</td>\n",
       "      <td>47.675506</td>\n",
       "      <td>POLYGON ((9.437905999999998 47.67551250001376,...</td>\n",
       "      <td>POINT (9.438238891069723 47.67550616796044)</td>\n",
       "      <td>1576023053</td>\n",
       "      <td>34.831012</td>\n",
       "      <td>0</td>\n",
       "    </tr>\n",
       "    <tr>\n",
       "      <th>144023114</th>\n",
       "      <td>school</td>\n",
       "      <td>102.108142</td>\n",
       "      <td>1641.61</td>\n",
       "      <td>0.552632</td>\n",
       "      <td>9.438521</td>\n",
       "      <td>47.673818</td>\n",
       "      <td>POLYGON ((9.438203599999998 47.67375600001416,...</td>\n",
       "      <td>POINT (9.438521488700175 47.67381754064048)</td>\n",
       "      <td>68844093</td>\n",
       "      <td>33.677840</td>\n",
       "      <td>0</td>\n",
       "    </tr>\n",
       "    <tr>\n",
       "      <th>314909001</th>\n",
       "      <td>residential</td>\n",
       "      <td>1.246721</td>\n",
       "      <td>100</td>\n",
       "      <td>0.72973</td>\n",
       "      <td>9.43711</td>\n",
       "      <td>47.674319</td>\n",
       "      <td>POLYGON ((9.4370154 47.67431780001401, 9.43711...</td>\n",
       "      <td>POINT (9.437109750000001 47.67431900001404)</td>\n",
       "      <td>2080880814</td>\n",
       "      <td>14.638173</td>\n",
       "      <td>0</td>\n",
       "    </tr>\n",
       "    <tr>\n",
       "      <th>314909020</th>\n",
       "      <td>house</td>\n",
       "      <td>1.102239</td>\n",
       "      <td>100</td>\n",
       "      <td>0.645161</td>\n",
       "      <td>9.437548</td>\n",
       "      <td>47.674401</td>\n",
       "      <td>POLYGON ((9.4374646 47.674413400014, 9.4375446...</td>\n",
       "      <td>POINT (9.437548450000001 47.67440130001403)</td>\n",
       "      <td>314975344</td>\n",
       "      <td>15.374000</td>\n",
       "      <td>0</td>\n",
       "    </tr>\n",
       "    <tr>\n",
       "      <th>...</th>\n",
       "      <td>...</td>\n",
       "      <td>...</td>\n",
       "      <td>...</td>\n",
       "      <td>...</td>\n",
       "      <td>...</td>\n",
       "      <td>...</td>\n",
       "      <td>...</td>\n",
       "      <td>...</td>\n",
       "      <td>...</td>\n",
       "      <td>...</td>\n",
       "      <td>...</td>\n",
       "    </tr>\n",
       "    <tr>\n",
       "      <th>314913916</th>\n",
       "      <td>residential</td>\n",
       "      <td>2.904399</td>\n",
       "      <td>100</td>\n",
       "      <td>1.7</td>\n",
       "      <td>9.436301</td>\n",
       "      <td>47.672468</td>\n",
       "      <td>POLYGON ((9.436173800000001 47.67246730001447,...</td>\n",
       "      <td>POINT (9.436301343479869 47.67246766666069)</td>\n",
       "      <td>311379901</td>\n",
       "      <td>30.431139</td>\n",
       "      <td>0</td>\n",
       "    </tr>\n",
       "    <tr>\n",
       "      <th>338514542</th>\n",
       "      <td>school</td>\n",
       "      <td>407.558658</td>\n",
       "      <td>6552.39</td>\n",
       "      <td>0.594203</td>\n",
       "      <td>9.438414</td>\n",
       "      <td>47.673881</td>\n",
       "      <td>POLYGON ((9.437957300000001 47.67387860001414,...</td>\n",
       "      <td>POINT (9.438414351486788 47.67388107322754)</td>\n",
       "      <td>68844093</td>\n",
       "      <td>31.901109</td>\n",
       "      <td>0</td>\n",
       "    </tr>\n",
       "    <tr>\n",
       "      <th>401560706</th>\n",
       "      <td>residential</td>\n",
       "      <td>1.102239</td>\n",
       "      <td>100</td>\n",
       "      <td>0.645161</td>\n",
       "      <td>9.43769</td>\n",
       "      <td>47.674448</td>\n",
       "      <td>POLYGON ((9.4376228 47.674467300014, 9.4377058...</td>\n",
       "      <td>POINT (9.437690147469656 47.67444791593603)</td>\n",
       "      <td>314975344</td>\n",
       "      <td>27.030240</td>\n",
       "      <td>0</td>\n",
       "    </tr>\n",
       "    <tr>\n",
       "      <th>427999640</th>\n",
       "      <td>residential</td>\n",
       "      <td>1.017812</td>\n",
       "      <td>100</td>\n",
       "      <td>0.595745</td>\n",
       "      <td>9.437456</td>\n",
       "      <td>47.673842</td>\n",
       "      <td>POLYGON ((9.4373962 47.67383920001416, 9.43741...</td>\n",
       "      <td>POINT (9.437456201491505 47.67384173088283)</td>\n",
       "      <td>1863458994</td>\n",
       "      <td>21.084569</td>\n",
       "      <td>0</td>\n",
       "    </tr>\n",
       "    <tr>\n",
       "      <th>428000222</th>\n",
       "      <td>residential</td>\n",
       "      <td>2.628415</td>\n",
       "      <td>100</td>\n",
       "      <td>1.538462</td>\n",
       "      <td>9.436665</td>\n",
       "      <td>47.673556</td>\n",
       "      <td>POLYGON ((9.436553399999999 47.67355130001422,...</td>\n",
       "      <td>POINT (9.436665109007034 47.67355583574013)</td>\n",
       "      <td>2080880811</td>\n",
       "      <td>34.390889</td>\n",
       "      <td>0</td>\n",
       "    </tr>\n",
       "  </tbody>\n",
       "</table>\n",
       "<p>99 rows × 11 columns</p>\n",
       "</div>"
      ],
      "text/plain": [
       "                   category    capacity     area number_households         x  \\\n",
       "osm_id                                                                         \n",
       "8598838279        ice_cream   20.966863  229.121          0.645161  9.437183   \n",
       "144020300   public_building  244.695822  2113.09            0.8125  9.438239   \n",
       "144023114            school  102.108142  1641.61          0.552632  9.438521   \n",
       "314909001       residential    1.246721      100           0.72973   9.43711   \n",
       "314909020             house    1.102239      100          0.645161  9.437548   \n",
       "...                     ...         ...      ...               ...       ...   \n",
       "314913916       residential    2.904399      100               1.7  9.436301   \n",
       "338514542            school  407.558658  6552.39          0.594203  9.438414   \n",
       "401560706       residential    1.102239      100          0.645161   9.43769   \n",
       "427999640       residential    1.017812      100          0.595745  9.437456   \n",
       "428000222       residential    2.628415      100          1.538462  9.436665   \n",
       "\n",
       "                    y                                           geometry  \\\n",
       "osm_id                                                                     \n",
       "8598838279  47.674769  POLYGON ((9.437094099999998 47.67477800001394,...   \n",
       "144020300   47.675506  POLYGON ((9.437905999999998 47.67551250001376,...   \n",
       "144023114   47.673818  POLYGON ((9.438203599999998 47.67375600001416,...   \n",
       "314909001   47.674319  POLYGON ((9.4370154 47.67431780001401, 9.43711...   \n",
       "314909020   47.674401  POLYGON ((9.4374646 47.674413400014, 9.4375446...   \n",
       "...               ...                                                ...   \n",
       "314913916   47.672468  POLYGON ((9.436173800000001 47.67246730001447,...   \n",
       "338514542   47.673881  POLYGON ((9.437957300000001 47.67387860001414,...   \n",
       "401560706   47.674448  POLYGON ((9.4376228 47.674467300014, 9.4377058...   \n",
       "427999640   47.673842  POLYGON ((9.4373962 47.67383920001416, 9.43741...   \n",
       "428000222   47.673556  POLYGON ((9.436553399999999 47.67355130001422,...   \n",
       "\n",
       "                                           raccordement          nn  \\\n",
       "osm_id                                                                \n",
       "8598838279  POINT (9.437183076702567 47.67476938145773)   475940044   \n",
       "144020300   POINT (9.438238891069723 47.67550616796044)  1576023053   \n",
       "144023114   POINT (9.438521488700175 47.67381754064048)    68844093   \n",
       "314909001   POINT (9.437109750000001 47.67431900001404)  2080880814   \n",
       "314909020   POINT (9.437548450000001 47.67440130001403)   314975344   \n",
       "...                                                 ...         ...   \n",
       "314913916   POINT (9.436301343479869 47.67246766666069)   311379901   \n",
       "338514542   POINT (9.438414351486788 47.67388107322754)    68844093   \n",
       "401560706   POINT (9.437690147469656 47.67444791593603)   314975344   \n",
       "427999640   POINT (9.437456201491505 47.67384173088283)  1863458994   \n",
       "428000222   POINT (9.436665109007034 47.67355583574013)  2080880811   \n",
       "\n",
       "              nn_dist  Cluster  \n",
       "osm_id                          \n",
       "8598838279  19.021132        0  \n",
       "144020300   34.831012        0  \n",
       "144023114   33.677840        0  \n",
       "314909001   14.638173        0  \n",
       "314909020   15.374000        0  \n",
       "...               ...      ...  \n",
       "314913916   30.431139        0  \n",
       "338514542   31.901109        0  \n",
       "401560706   27.030240        0  \n",
       "427999640   21.084569        0  \n",
       "428000222   34.390889        0  \n",
       "\n",
       "[99 rows x 11 columns]"
      ]
     },
     "execution_count": 28,
     "metadata": {},
     "output_type": "execute_result"
    }
   ],
   "source": [
    "buildings_w_loads_df.loc[(buildings_w_loads_df['Cluster']==0)]"
   ]
  },
  {
   "cell_type": "code",
   "execution_count": 16,
   "metadata": {},
   "outputs": [
    {
     "name": "stdout",
     "output_type": "stream",
     "text": [
      "Wall time: 9.38 ms\n"
     ]
    },
    {
     "data": {
      "text/plain": [
       "140"
      ]
     },
     "execution_count": 16,
     "metadata": {},
     "output_type": "execute_result"
    }
   ],
   "source": [
    "%%time\n",
    "\n",
    "geometry = buildings_w_loads_df.loc[(buildings_w_loads_df['Cluster']==0), 'geometry'].tolist()\n",
    "\n",
    "points = get_points_in_load_area(geometry)\n",
    "        \n",
    "len(points)"
   ]
  },
  {
   "cell_type": "code",
   "execution_count": 17,
   "metadata": {},
   "outputs": [
    {
     "data": {
      "image/svg+xml": [
       "<svg xmlns=\"http://www.w3.org/2000/svg\" xmlns:xlink=\"http://www.w3.org/1999/xlink\" width=\"100.0\" height=\"100.0\" viewBox=\"9.442894664000024 47.66468626401624 0.002454771999950367 0.0030816719992969865\" preserveAspectRatio=\"xMinYMin meet\"><g transform=\"matrix(1,0,0,-1,0,95.33245420003178)\"><path fill-rule=\"evenodd\" fill=\"#66cc99\" stroke=\"#555555\" stroke-width=\"6.163343998593973e-05\" opacity=\"0.6\" d=\"M 9.4449668,47.66480040001621 L 9.444477799999998,47.665050300016155 L 9.4433808,47.66681720001574 L 9.443314499999998,47.66692910001574 L 9.443008799999998,47.667459900015615 L 9.4437318,47.667653800015565 L 9.444817999999998,47.66596210001596 L 9.4452353,47.66525890001613 L 9.4451412,47.66484560001622 L 9.4449668,47.66480040001621 z\" /></g></svg>"
      ],
      "text/plain": [
       "<shapely.geometry.polygon.Polygon at 0x1d50dc74eb0>"
      ]
     },
     "execution_count": 17,
     "metadata": {},
     "output_type": "execute_result"
    }
   ],
   "source": [
    "get_convex_hull_from_points(points)"
   ]
  },
  {
   "cell_type": "code",
   "execution_count": 24,
   "metadata": {},
   "outputs": [
    {
     "data": {
      "text/plain": [
       "{'id_db': 20,\n",
       " 'mv_grid_district': mv_grid_district_40,\n",
       " '_lv_load_areas': [lv_load_area_4544,\n",
       "  lv_load_area_4545,\n",
       "  lv_load_area_4548,\n",
       "  MVCableDist_mvgd_40_26],\n",
       " 'peak_load': 65.35928151751943,\n",
       " 'branch_length_sum': 0,\n",
       " 'peak_load_max': 1000.0,\n",
       " 'branch_length_max': 2000.0,\n",
       " 'root_node': MVCableDist_mvgd_40_23}"
      ]
     },
     "execution_count": 24,
     "metadata": {},
     "output_type": "execute_result"
    }
   ],
   "source": [
    "fn_fallenbrunnen_la.lv_load_area_group.__dict__"
   ]
  },
  {
   "cell_type": "code",
   "execution_count": 28,
   "metadata": {},
   "outputs": [
    {
     "data": {
      "text/plain": [
       "{'id_db': 40,\n",
       " 'mv_grid': mv_grid_40,\n",
       " '_lv_load_areas': [lv_load_area_2128,\n",
       "  lv_load_area_2292,\n",
       "  lv_load_area_2383,\n",
       "  lv_load_area_2520,\n",
       "  lv_load_area_2521,\n",
       "  lv_load_area_2561,\n",
       "  lv_load_area_2608,\n",
       "  lv_load_area_2625,\n",
       "  lv_load_area_2633,\n",
       "  lv_load_area_2705,\n",
       "  lv_load_area_2728,\n",
       "  lv_load_area_2763,\n",
       "  lv_load_area_2765,\n",
       "  lv_load_area_2840,\n",
       "  lv_load_area_2842,\n",
       "  lv_load_area_3029,\n",
       "  lv_load_area_3088,\n",
       "  lv_load_area_3089,\n",
       "  lv_load_area_3119,\n",
       "  lv_load_area_3160,\n",
       "  lv_load_area_3235,\n",
       "  lv_load_area_3277,\n",
       "  lv_load_area_3304,\n",
       "  lv_load_area_3305,\n",
       "  lv_load_area_3307,\n",
       "  lv_load_area_3311,\n",
       "  lv_load_area_3314,\n",
       "  lv_load_area_3403,\n",
       "  lv_load_area_3413,\n",
       "  lv_load_area_3645,\n",
       "  lv_load_area_3661,\n",
       "  lv_load_area_3731,\n",
       "  lv_load_area_3780,\n",
       "  lv_load_area_3805,\n",
       "  lv_load_area_3911,\n",
       "  lv_load_area_3986,\n",
       "  lv_load_area_3987,\n",
       "  lv_load_area_3992,\n",
       "  lv_load_area_4212,\n",
       "  lv_load_area_4337,\n",
       "  lv_load_area_4347,\n",
       "  lv_load_area_4487,\n",
       "  lv_load_area_4488,\n",
       "  lv_load_area_4544,\n",
       "  lv_load_area_4545,\n",
       "  lv_load_area_4546,\n",
       "  lv_load_area_4547,\n",
       "  lv_load_area_4548,\n",
       "  lv_load_area_4549,\n",
       "  lv_load_area_4550,\n",
       "  lv_load_area_4620,\n",
       "  lv_load_area_4621,\n",
       "  lv_load_area_4622,\n",
       "  lv_load_area_4670,\n",
       "  lv_load_area_4674,\n",
       "  lv_load_area_4735,\n",
       "  lv_load_area_4764,\n",
       "  lv_load_area_4830,\n",
       "  lv_load_area_4831,\n",
       "  lv_load_area_4840,\n",
       "  lv_load_area_4855,\n",
       "  lv_load_area_4868,\n",
       "  lv_load_area_4918,\n",
       "  lv_load_area_5227,\n",
       "  lv_load_area_5305,\n",
       "  lv_load_area_5371,\n",
       "  lv_load_area_5372,\n",
       "  lv_load_area_5404,\n",
       "  lv_load_area_5511,\n",
       "  lv_load_area_5525,\n",
       "  lv_load_area_5529,\n",
       "  lv_load_area_5536,\n",
       "  lv_load_area_5583,\n",
       "  lv_load_area_5588,\n",
       "  lv_load_area_5595],\n",
       " '_lv_load_area_groups': [load_area_group_1,\n",
       "  load_area_group_2,\n",
       "  load_area_group_3,\n",
       "  load_area_group_4,\n",
       "  load_area_group_5,\n",
       "  load_area_group_6,\n",
       "  load_area_group_7,\n",
       "  load_area_group_8,\n",
       "  load_area_group_9,\n",
       "  load_area_group_10,\n",
       "  load_area_group_11,\n",
       "  load_area_group_12,\n",
       "  load_area_group_13,\n",
       "  load_area_group_14,\n",
       "  load_area_group_15,\n",
       "  load_area_group_16,\n",
       "  load_area_group_17,\n",
       "  load_area_group_18,\n",
       "  load_area_group_19,\n",
       "  load_area_group_20,\n",
       "  load_area_group_21,\n",
       "  load_area_group_22,\n",
       "  load_area_group_23,\n",
       "  load_area_group_24,\n",
       "  load_area_group_25,\n",
       "  load_area_group_26,\n",
       "  load_area_group_27,\n",
       "  load_area_group_28,\n",
       "  load_area_group_29,\n",
       "  load_area_group_30,\n",
       "  load_area_group_31,\n",
       "  load_area_group_32,\n",
       "  load_area_group_33,\n",
       "  load_area_group_34,\n",
       "  load_area_group_35,\n",
       "  load_area_group_36,\n",
       "  load_area_group_37,\n",
       "  load_area_group_38,\n",
       "  load_area_group_39],\n",
       " 'geo_data': <shapely.geometry.multipolygon.MultiPolygon at 0x1d51256bf10>,\n",
       " 'peak_load': 67057.57197852976,\n",
       " 'peak_load_satellites': 852.3248953957927,\n",
       " 'peak_load_aggregated': 54058.0529320802}"
      ]
     },
     "execution_count": 28,
     "metadata": {},
     "output_type": "execute_result"
    }
   ],
   "source": [
    "nd._mv_grid_districts[0].__dict__"
   ]
  },
  {
   "cell_type": "code",
   "execution_count": 17,
   "metadata": {},
   "outputs": [
    {
     "data": {
      "text/plain": [
       "{'id_db': 4563,\n",
       " 'geo_data': <shapely.geometry.point.Point at 0x118800eba90>,\n",
       " 'grid': lv_grid_4563,\n",
       " '_transformers': [Transformer_lv_grid_4563_1],\n",
       " 'v_level_operation': None,\n",
       " 'lv_load_area': lv_load_area_4544,\n",
       " 'voltage_res': [0.9897135909377942, 1.0123145234795161]}"
      ]
     },
     "execution_count": 17,
     "metadata": {},
     "output_type": "execute_result"
    }
   ],
   "source": [
    "fn_fallenbrunnen_la._lv_grid_districts[0].lv_grid._station.__dict__"
   ]
  },
  {
   "cell_type": "code",
   "execution_count": 17,
   "metadata": {},
   "outputs": [
    {
     "name": "stdout",
     "output_type": "stream",
     "text": [
      "update _lv_grid_districts 0\n",
      "add _lv_grid_districts id 1\n",
      "add _lv_grid_districts id 2\n"
     ]
    }
   ],
   "source": [
    "preprocessed_clusters = []   \n",
    "    \n",
    "\n",
    "for cluster_id in range(n_clusters):\n",
    "    \n",
    "    if cluster_id < len(fn_fallenbrunnen_la._lv_grid_districts):\n",
    "        \n",
    "        print('delete or update _lv_grid_districts[', cluster_id, ']')\n",
    "        \n",
    "        # GET NEW VALUES FOR DISTRICT        \n",
    "        # get convex hull of cluster\n",
    "        points = get_points_in_load_area(buildings_w_loads_df.loc[buildings_w_loads_df['Cluster']==cluster_id])\n",
    "        district_convex_hull = get_convex_hull_from_points(points)\n",
    "        \n",
    "        # get location of substation for cluster\n",
    "        station_x, station_y = get_location_substation_at_pi(graph, buildings_w_loads_df.loc[(buildings_w_loads_df['Cluster']==0)])\n",
    "\n",
    "        \n",
    "        # UPDATE VALUES\n",
    "        # update values of _lv_grid_districts[cluster_id]\n",
    "        fn_fallenbrunnen_la._lv_grid_districts[cluster_id].geo_data  = district_convex_hull\n",
    "        fn_fallenbrunnen_la._lv_grid_districts[cluster_id].poulation = buildings_w_loads_df.loc[buildings_w_loads_df['Cluster']==cluster_id]['number_households'].sum()\n",
    "        \n",
    "        fn_fallenbrunnen_la._lv_grid_districts[cluster_id].peak_load = buildings_w_loads_df.loc[(buildings_w_loads_df['Cluster']==0)]['capacity'].sum()\n",
    "        fn_fallenbrunnen_la._lv_grid_districts[cluster_id].peak_load_residential = buildings_w_loads_df.loc[(buildings_w_loads_df['Cluster']==cluster_id) & buildings_w_loads_df['number_households'] > 0]['capacity'].sum()\n",
    "        \n",
    "        \n",
    "        # ADD / RESET DING0 ELEMENTS\n",
    "        # update position of substation\n",
    "        fn_fallenbrunnen_la._lv_grid_districts[0].lv_grid._station.geo_data = get_Point_from_x_y(station_x, station_y)\n",
    "        \n",
    "        # reset list to add new elements\n",
    "        fn_fallenbrunnen_la._lv_grid_districts[cluster_id].lv_grid._station.transformers.clear()\n",
    "        \n",
    "        \n",
    "        # update trafo and loads\n",
    "        #fn_fallenbrunnen_la._lv_grid_districts[cluster_id].lv_grid.build_grid()\n",
    "        \n",
    "        \n",
    "    else:\n",
    "        \n",
    "        print('add _lv_grid_districts id', cluster_id)\n",
    "        \n",
    "        \n",
    "        \n",
    "        \n",
    "        \n",
    "    break\n",
    "    "
   ]
  },
  {
   "cell_type": "code",
   "execution_count": 21,
   "metadata": {},
   "outputs": [
    {
     "data": {
      "text/plain": [
       "{'id_db': 4563,\n",
       " 'geo_data': <shapely.geometry.point.Point at 0x1d50cd257f0>,\n",
       " 'grid': lv_grid_4563,\n",
       " '_transformers': [Transformer_lv_grid_4563_1],\n",
       " 'v_level_operation': None,\n",
       " 'lv_load_area': lv_load_area_4544,\n",
       " 'voltage_res': [0.9897135909377942, 1.0123145234795161]}"
      ]
     },
     "execution_count": 21,
     "metadata": {},
     "output_type": "execute_result"
    }
   ],
   "source": [
    "fn_fallenbrunnen_la._lv_grid_districts[0].lv_grid._station.__dict__"
   ]
  },
  {
   "cell_type": "code",
   "execution_count": null,
   "metadata": {},
   "outputs": [],
   "source": []
  },
  {
   "cell_type": "code",
   "execution_count": null,
   "metadata": {},
   "outputs": [],
   "source": []
  },
  {
   "cell_type": "code",
   "execution_count": null,
   "metadata": {},
   "outputs": [],
   "source": []
  },
  {
   "cell_type": "code",
   "execution_count": null,
   "metadata": {},
   "outputs": [],
   "source": []
  },
  {
   "cell_type": "code",
   "execution_count": null,
   "metadata": {},
   "outputs": [],
   "source": []
  },
  {
   "cell_type": "code",
   "execution_count": 19,
   "metadata": {},
   "outputs": [],
   "source": [
    "#lv_district_of_interest.lv_grid.graph_draw(mode='LV')"
   ]
  },
  {
   "cell_type": "code",
   "execution_count": 16,
   "metadata": {},
   "outputs": [
    {
     "ename": "NameError",
     "evalue": "name 'lv_district_of_interest' is not defined",
     "output_type": "error",
     "traceback": [
      "\u001b[1;31m---------------------------------------------------------------------------\u001b[0m",
      "\u001b[1;31mNameError\u001b[0m                                 Traceback (most recent call last)",
      "\u001b[1;32m<ipython-input-16-52e70a767919>\u001b[0m in \u001b[0;36m<module>\u001b[1;34m\u001b[0m\n\u001b[1;32m----> 1\u001b[1;33m \u001b[0mlv_district_of_interest\u001b[0m\u001b[1;33m.\u001b[0m\u001b[0mlv_grid\u001b[0m\u001b[1;33m.\u001b[0m\u001b[0m__dict__\u001b[0m \u001b[1;31m# .geo_data.wkt\u001b[0m\u001b[1;33m\u001b[0m\u001b[1;33m\u001b[0m\u001b[0m\n\u001b[0m",
      "\u001b[1;31mNameError\u001b[0m: name 'lv_district_of_interest' is not defined"
     ]
    }
   ],
   "source": [
    "lv_district_of_interest.lv_grid.__dict__ # .geo_data.wkt"
   ]
  },
  {
   "cell_type": "code",
   "execution_count": null,
   "metadata": {},
   "outputs": [],
   "source": []
  },
  {
   "cell_type": "code",
   "execution_count": null,
   "metadata": {},
   "outputs": [],
   "source": []
  },
  {
   "cell_type": "code",
   "execution_count": null,
   "metadata": {},
   "outputs": [],
   "source": []
  },
  {
   "cell_type": "code",
   "execution_count": null,
   "metadata": {},
   "outputs": [],
   "source": []
  },
  {
   "cell_type": "code",
   "execution_count": 19,
   "metadata": {},
   "outputs": [],
   "source": [
    "from sklearn.cluster import AgglomerativeClustering\n",
    "import numpy as np"
   ]
  },
  {
   "cell_type": "code",
   "execution_count": 20,
   "metadata": {},
   "outputs": [],
   "source": [
    "X = []    # collect nodes\n",
    "\n",
    "for node in graph.nodes:\n",
    "\n",
    "    X.append([graph.nodes[node]['X'], graph.nodes[node]['Y']])\n",
    "    \n",
    "    \n",
    "X = np.array(X)\n",
    "\n",
    "\n",
    "\n",
    "# clustering\n",
    "\n",
    "adj_mat_sparse = nx.adjacency_matrix(graph, weight='length')\n",
    "\n",
    "clustering = AgglomerativeClustering(n_clusters=n_clusters, linkage='ward', connectivity=adj_mat_sparse).fit(X)\n",
    "\n",
    "\n",
    "\n",
    "\n",
    "\n",
    "\n",
    "# assign cluster labels\n",
    "\n",
    "i_label = 0\n",
    "\n",
    "for node in list(graph.nodes):\n",
    "\n",
    "    graph.nodes[node]['cluster'] = clustering.labels_[i_label]\n",
    "    \n",
    "    i_label += 1\n",
    "    \n",
    "labels = nx.get_node_attributes(graph, 'cluster') "
   ]
  },
  {
   "cell_type": "code",
   "execution_count": 23,
   "metadata": {},
   "outputs": [
    {
     "data": {
      "image/png": "[encoded data removed]",
      "text/plain": [
       "<Figure size 432x288 with 1 Axes>"
      ]
     },
     "metadata": {},
     "output_type": "display_data"
    }
   ],
   "source": [
    "nx.draw(graph, node_coords_dict,labels=labels)"
   ]
  },
  {
   "cell_type": "code",
   "execution_count": null,
   "metadata": {},
   "outputs": [],
   "source": []
  },
  {
   "cell_type": "code",
   "execution_count": 24,
   "metadata": {},
   "outputs": [],
   "source": [
    "X = []    # collect nodes\n",
    "\n",
    "for node in graph.nodes:\n",
    "\n",
    "    X.append([graph.nodes[node]['X'], graph.nodes[node]['Y']])\n",
    "    \n",
    "    \n",
    "X = np.array(X)\n",
    "\n",
    "\n",
    "\n",
    "# clustering\n",
    "\n",
    "adj_mat_sparse = nx.to_numpy_matrix(graph, weight='length')\n",
    "\n",
    "clustering = AgglomerativeClustering(n_clusters=n_clusters, linkage='ward', connectivity=adj_mat_sparse).fit(X)\n",
    "\n",
    "\n",
    "\n",
    "\n",
    "\n",
    "\n",
    "# assign cluster labels\n",
    "\n",
    "i_label = 0\n",
    "\n",
    "for node in list(graph.nodes):\n",
    "\n",
    "    graph.nodes[node]['cluster'] = clustering.labels_[i_label]\n",
    "    \n",
    "    i_label += 1\n",
    "    \n",
    "labels = nx.get_node_attributes(graph, 'cluster') "
   ]
  },
  {
   "cell_type": "code",
   "execution_count": 25,
   "metadata": {},
   "outputs": [
    {
     "data": {
      "image/png": "[encoded data removed]",
      "text/plain": [
       "<Figure size 432x288 with 1 Axes>"
      ]
     },
     "metadata": {},
     "output_type": "display_data"
    }
   ],
   "source": [
    "nx.draw(graph, node_coords_dict,labels=labels)"
   ]
  },
  {
   "cell_type": "code",
   "execution_count": null,
   "metadata": {},
   "outputs": [],
   "source": []
  }
 ],
 "metadata": {
  "kernelspec": {
   "display_name": "Python 3 (ipykernel)",
   "language": "python",
   "name": "python3"
  },
  "language_info": {
   "codemirror_mode": {
    "name": "ipython",
    "version": 3
   },
   "file_extension": ".py",
   "mimetype": "text/x-python",
   "name": "python",
   "nbconvert_exporter": "python",
   "pygments_lexer": "ipython3",
   "version": "3.9.6"
  }
 },
 "nbformat": 4,
 "nbformat_minor": 4
}
