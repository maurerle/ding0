{
 "cells": [
  {
   "cell_type": "markdown",
   "metadata": {},
   "source": [
    "<img src=\"https://gist.githubusercontent.com/nesnoj/6ee605cd3494fa6e3e848385c4afbe19/raw/a883b1bdc69c0c5bbb0b00ba92f43033aa86ec64/dingo_model.png\" alt=\"DINGO Model\" width=\"800\"  align=\"center\">"
   ]
  },
  {
   "cell_type": "code",
   "execution_count": 1,
   "metadata": {},
   "outputs": [],
   "source": [
    "%%capture\n",
    "\n",
    "from ding0.core import NetworkDing0\n",
    "from ding0.tools.logger import setup_logger\n",
    "from ding0.tools.results import save_nd_to_pickle\n",
    "from ding0.tools.plots import plot_mv_topology\n",
    "from egoio.tools import db\n",
    "from sqlalchemy.orm import sessionmaker\n",
    "import oedialect\n",
    "\n",
    "from ding0.tools import results # to load pickl file\n",
    "\n",
    "\n",
    "# create new network\n",
    "nd = NetworkDing0(name='network')\n",
    "\n",
    "\n",
    "# set ID of MV grid district\n",
    "mv_grid_districts = [40] # fn"
   ]
  },
  {
   "cell_type": "code",
   "execution_count": 2,
   "metadata": {},
   "outputs": [],
   "source": [
    "import osmnx as ox\n",
    "\n",
    "import networkx as nx \n",
    "\n",
    "import pandas as pd\n",
    "from sqlalchemy import func              \n",
    "from geoalchemy2.shape import to_shape \n",
    "\n",
    "\n",
    "from shapely.geometry import Point, Polygon, LineString\n",
    "\n",
    "\n",
    "\n",
    "import folium"
   ]
  },
  {
   "cell_type": "code",
   "execution_count": 3,
   "metadata": {},
   "outputs": [],
   "source": [
    "from config.config_lv_grids_osm import get_config_osm\n",
    "from config.db_conn_local import create_session_osm \n",
    "\n",
    "from grid.lv_grid.routing import build_graph_from_ways, \\\n",
    "get_location_substation_at_pi, subdivide_graph_edges\n",
    "\n",
    "from grid.lv_grid.parameterization import parameterize_by_load_profiles\n",
    "#from grid.lv_grid.clustering import \n",
    "\n",
    "from grid.lv_grid.geo import get_Point_from_x_y, get_points_in_load_area, \\\n",
    "get_convex_hull_from_points"
   ]
  },
  {
   "cell_type": "markdown",
   "metadata": {},
   "source": [
    "#### SET DING0 SETTINGS"
   ]
  },
  {
   "cell_type": "code",
   "execution_count": 4,
   "metadata": {},
   "outputs": [],
   "source": [
    "# TODO set in config file\n",
    "ding0_default=False\n",
    "retain_all=False #  weil sonst graphen außerhalb des polys unverbunden zum graphen beibehalten werden"
   ]
  },
  {
   "cell_type": "code",
   "execution_count": 5,
   "metadata": {},
   "outputs": [],
   "source": [
    "engine = db.connection(section='oedb_dialect', readonly=True)\n",
    "session = sessionmaker(bind=engine)()"
   ]
  },
  {
   "cell_type": "code",
   "execution_count": 14,
   "metadata": {},
   "outputs": [
    {
     "name": "stdout",
     "output_type": "stream",
     "text": [
      "Begin topologically simplifying the graph...\n",
      "Simplified graph: 162 to 108 nodes, 328 to 220 edges\n",
      "Wall time: 2.81 s\n"
     ]
    }
   ],
   "source": [
    "%%time\n",
    "\n",
    "# load graph by ding0\n",
    "id_db, row, simp_graph, geo_load_area, buildings_w_loads_df, street_loads = \\\n",
    "nd.import_mv_grid_districts(session, ding0_default, mv_grid_districts_no=mv_grid_districts)"
   ]
  },
  {
   "cell_type": "markdown",
   "metadata": {},
   "source": [
    "### clustering"
   ]
  },
  {
   "cell_type": "code",
   "execution_count": 15,
   "metadata": {},
   "outputs": [],
   "source": [
    "from sklearn.cluster import AgglomerativeClustering\n",
    "import numpy as np"
   ]
  },
  {
   "cell_type": "code",
   "execution_count": 8,
   "metadata": {},
   "outputs": [
    {
     "ename": "NameError",
     "evalue": "name 'get_cluster_numbers' is not defined",
     "output_type": "error",
     "traceback": [
      "\u001b[1;31m---------------------------------------------------------------------------\u001b[0m",
      "\u001b[1;31mNameError\u001b[0m                                 Traceback (most recent call last)",
      "\u001b[1;32m~\\AppData\\Local\\Temp/ipykernel_8880/4246627672.py\u001b[0m in \u001b[0;36m<module>\u001b[1;34m\u001b[0m\n\u001b[1;32m----> 1\u001b[1;33m \u001b[0mk\u001b[0m \u001b[1;33m=\u001b[0m \u001b[0mget_cluster_numbers\u001b[0m\u001b[1;33m(\u001b[0m\u001b[0mbuildings_w_loads_df\u001b[0m\u001b[1;33m.\u001b[0m\u001b[0mcapacity\u001b[0m\u001b[1;33m.\u001b[0m\u001b[0msum\u001b[0m\u001b[1;33m(\u001b[0m\u001b[1;33m)\u001b[0m\u001b[1;33m)\u001b[0m\u001b[1;33m\u001b[0m\u001b[1;33m\u001b[0m\u001b[0m\n\u001b[0m\u001b[0;32m      2\u001b[0m \u001b[0mk\u001b[0m\u001b[1;33m\u001b[0m\u001b[1;33m\u001b[0m\u001b[0m\n",
      "\u001b[1;31mNameError\u001b[0m: name 'get_cluster_numbers' is not defined"
     ]
    }
   ],
   "source": [
    "k = get_cluster_numbers(buildings_w_loads_df.capacity.sum())\n",
    "k"
   ]
  },
  {
   "cell_type": "code",
   "execution_count": 16,
   "metadata": {},
   "outputs": [],
   "source": [
    "k=4"
   ]
  },
  {
   "cell_type": "code",
   "execution_count": 17,
   "metadata": {},
   "outputs": [
    {
     "data": {
      "text/plain": [
       "4"
      ]
     },
     "execution_count": 17,
     "metadata": {},
     "output_type": "execute_result"
    }
   ],
   "source": [
    "# each building on mv_lvl has its own substation at its nearest node in graph\n",
    "# build numer_stations stations\n",
    "number_buildings_mv_lvl = len(buildings_w_loads_df.loc[buildings_w_loads_df.capacity >= 200])\n",
    "numer_stations = k + number_buildings_mv_lvl\n",
    "numer_stations"
   ]
  },
  {
   "cell_type": "code",
   "execution_count": 18,
   "metadata": {},
   "outputs": [],
   "source": [
    "X = []    # collect nodes\n",
    "for node in simp_graph.nodes:\n",
    "    X.append((simp_graph.nodes[node]['x'],simp_graph.nodes[node]['y']))\n",
    "X = np.array(X)\n",
    "\n",
    "adj_mat_sparse = nx.adjacency_matrix(simp_graph)"
   ]
  },
  {
   "cell_type": "code",
   "execution_count": 19,
   "metadata": {},
   "outputs": [
    {
     "name": "stdout",
     "output_type": "stream",
     "text": [
      "4\n"
     ]
    }
   ],
   "source": [
    "if k > len(X):\n",
    "    k=len(X)\n",
    "\n",
    "clustering = AgglomerativeClustering(n_clusters=k, linkage='ward', connectivity=adj_mat_sparse).fit(X)\n",
    "labels = clustering.labels_\n",
    "\n",
    "k = np.bincount(labels).size\n",
    "print(k)"
   ]
  },
  {
   "cell_type": "code",
   "execution_count": 20,
   "metadata": {},
   "outputs": [],
   "source": [
    "#assign cluster number to nodes\n",
    "nodes, edges = ox.graph_to_gdfs(simp_graph, nodes=True, edges=True)\n",
    "#nodes = nodes.sort_index()\n",
    "nodes['cluster'] = labels\n",
    "clu_graph = ox.graph_from_gdfs(nodes, edges)\n",
    "\n",
    "#nc = ox.plot.get_node_colors_by_attr(clu_graph, attr='cluster')\n",
    "#fig, ax = ox.plot_graph(clu_graph, node_color=nc, node_size=50, edge_color='w', edge_linewidth=1, show=False, close=False)\n"
   ]
  },
  {
   "cell_type": "code",
   "execution_count": null,
   "metadata": {},
   "outputs": [],
   "source": []
  },
  {
   "cell_type": "code",
   "execution_count": 21,
   "metadata": {},
   "outputs": [
    {
     "name": "stdout",
     "output_type": "stream",
     "text": [
      "{'x': 4282465.613186001, 'y': 2732307.0927902046, 'node_type': 'non_synthetic', 'lon': 9.486881299999999, 'lat': 47.70317630000739, 'cluster': 0}\n",
      "\n",
      "\n",
      "{'x': 4282038.495855372, 'y': 2732459.481623211, 'node_type': 'non_synthetic', 'lon': 9.481180199999999, 'lat': 47.70452090000708, 'cluster': 1}\n",
      "\n",
      "\n",
      "{'x': 4282110.657747543, 'y': 2732248.5396371987, 'node_type': 'non_synthetic', 'lon': 9.4821602, 'lat': 47.70262710000751, 'cluster': 2}\n",
      "\n",
      "\n",
      "{'x': 4282171.9559385115, 'y': 2732383.5311303716, 'node_type': 'non_synthetic', 'lon': 9.482964199999998, 'lat': 47.703845800007244, 'cluster': 3}\n",
      "\n",
      "\n"
     ]
    },
    {
     "data": {
      "image/png": "[encoded data removed]",
      "text/plain": [
       "<Figure size 576x576 with 1 Axes>"
      ]
     },
     "metadata": {},
     "output_type": "display_data"
    }
   ],
   "source": [
    "# medoids\n",
    "import pandas as pd\n",
    "\n",
    "nodes, edges = ox.graph_to_gdfs(simp_graph, nodes=True, edges=True)\n",
    "nodes['cluster'] = labels\n",
    "clu_graph = ox.graph_from_gdfs(nodes, edges)\n",
    "\n",
    "cluster_graph = clu_graph.copy()\n",
    "\n",
    "nc = ox.plot.get_node_colors_by_attr(cluster_graph, attr='cluster')\n",
    "fig, ax = ox.plot_graph(cluster_graph, node_color=nc, node_size=50, edge_color='w', edge_linewidth=1, show=False, close=False)\n",
    "\n",
    "for i in range(k):\n",
    "    df_cluster = nodes[nodes['cluster'] == i]\n",
    "    cluster_nodes = list(df_cluster.index)\n",
    "    \n",
    "    #cluster_loads = street_loads[street_loads.index.isin(cluster_nodes)]\n",
    "    cluster_loads = pd.Series(cluster_nodes).map(street_loads.capacity).fillna(0).tolist()\n",
    "    \n",
    "    cluster_subgraph = cluster_graph.subgraph(cluster_nodes)\n",
    "    dm_cluster = nx.floyd_warshall_numpy(cluster_graph, nodelist=cluster_nodes, weight='length')\n",
    "    \n",
    "    #load_vector = np.ones(len(cluster_nodes), dtype = int) #unweighted\n",
    "    load_vector = np.array(cluster_loads) #weighted\n",
    "    unweighted_nodes = dm_cluster.dot(load_vector)\n",
    "    medoid = cluster_nodes[int(np.where(unweighted_nodes == np.amin(unweighted_nodes))[0][0])]\n",
    "        \n",
    "    medoid = cluster_graph.nodes[medoid]\n",
    "    ax.scatter(medoid['x'],medoid['y'],s=70,c='red')\n",
    "    \n",
    "    print(medoid)\n",
    "        \n",
    "    print('\\n')"
   ]
  },
  {
   "cell_type": "code",
   "execution_count": 24,
   "metadata": {},
   "outputs": [
    {
     "data": {
      "text/plain": [
       "array([[  0.        ,  18.25770131,  27.96987111,  59.44713623,\n",
       "         77.54010403,  70.19952572,  76.63506733,  91.63733787,\n",
       "        108.6733206 , 137.75131644,  43.95929266,  59.78050884,\n",
       "         60.78772267,  67.74982815,  69.17605969, 109.05383286,\n",
       "        123.80134549, 129.35531794, 204.88006669,  18.22388318,\n",
       "         38.85241877, 114.69432716,  89.11494628,  80.48405329],\n",
       "       [ 18.25770131,   0.        ,  46.22757242,  41.18943492,\n",
       "         59.28240272,  51.94182441,  58.37736602,  73.37963657,\n",
       "         90.41561929, 119.49361513,  62.21699396,  78.03821015,\n",
       "         79.04542398,  86.00752946,  87.433761  , 127.31153417,\n",
       "        142.0590468 , 147.61301925, 223.137768  ,  36.48158449,\n",
       "         20.59471746,  96.43662585, 107.37264759,  98.74175459],\n",
       "       [ 27.96987111,  46.22757242,   0.        ,  87.41700734,\n",
       "        105.50997514,  98.16939683, 104.60493844, 119.60720899,\n",
       "        136.64319171, 165.72118755,  15.98942154,  31.81063773,\n",
       "         32.81785156,  39.77995704,  41.20618858,  81.08396175,\n",
       "         95.83147438, 101.38544682, 176.91019558,  46.19375429,\n",
       "         66.82228988, 142.66419827,  61.14507517,  52.51418217],\n",
       "       [ 59.44713623,  41.18943492,  87.41700734,   0.        ,\n",
       "         18.0929678 ,  10.75238948,  17.1879311 ,  32.19020164,\n",
       "         49.22618437,  78.30418021, 103.40642889, 119.22764507,\n",
       "        120.2348589 , 127.19696438, 128.62319593, 168.50096909,\n",
       "        183.24848172, 188.80245417, 264.32720292,  77.67101941,\n",
       "         20.59471746,  55.24719093, 148.56208251, 139.93118952],\n",
       "       [ 77.54010403,  59.28240272, 105.50997514,  18.0929678 ,\n",
       "          0.        ,  28.84535728,  35.2808989 ,  50.28316944,\n",
       "         67.31915216,  96.39714801, 121.49939668, 137.32061286,\n",
       "        138.3278267 , 145.28993218, 146.71616372, 186.59393689,\n",
       "        201.34144951, 206.89542196, 282.42017072,  95.7639872 ,\n",
       "         38.68768526,  73.34015873, 166.65505031, 158.02415731],\n",
       "       [ 70.19952572,  51.94182441,  98.16939683,  10.75238948,\n",
       "         28.84535728,   0.        ,   6.43554162,  21.43781216,\n",
       "         38.47379488,  67.55179073, 114.15881837, 129.98003455,\n",
       "        130.98724839, 137.94935387, 139.37558541, 179.25335858,\n",
       "        194.0008712 , 199.55484365, 275.07959241,  88.42340889,\n",
       "         31.34710695,  44.49480144, 159.31447199, 150.683579  ],\n",
       "       [ 76.63506733,  58.37736602, 104.60493844,  17.1879311 ,\n",
       "         35.2808989 ,   6.43554162,   0.        ,  15.00227054,\n",
       "         32.03825326,  61.11624911, 120.59435999, 136.41557617,\n",
       "        137.42279   , 144.38489549, 145.81112703, 185.6889002 ,\n",
       "        200.43641282, 205.99038527, 281.51513403,  94.85895051,\n",
       "         37.78264856,  38.05925983, 165.75001361, 157.11912062],\n",
       "       [ 91.63733787,  73.37963657, 119.60720899,  32.19020164,\n",
       "         50.28316944,  21.43781216,  15.00227054,   0.        ,\n",
       "         17.03598272,  46.11397857, 135.59663053, 151.41784671,\n",
       "        152.42506054, 159.38716603, 160.81339757, 200.69117074,\n",
       "        215.43868336, 220.99265581, 296.51740457, 109.86122105,\n",
       "         52.7849191 ,  23.05698928, 180.75228415, 172.12139116],\n",
       "       [108.6733206 ,  90.41561929, 136.64319171,  49.22618437,\n",
       "         67.31915216,  38.47379488,  32.03825326,  17.03598272,\n",
       "          0.        ,  63.14996129, 152.63261325, 168.45382943,\n",
       "        169.46104327, 176.42314875, 177.84938029, 217.72715346,\n",
       "        232.47466608, 238.02863853, 313.55338729, 126.89720377,\n",
       "         69.82090183,  40.09297201, 197.78826688, 189.15737388],\n",
       "       [137.75131644, 119.49361513, 165.72118755,  78.30418021,\n",
       "         96.39714801,  67.55179073,  61.11624911,  46.11397857,\n",
       "         63.14996129,   0.        , 181.7106091 , 197.53182528,\n",
       "        198.53903911, 205.5011446 , 206.92737614, 246.80514931,\n",
       "        261.55266193, 267.10663438, 342.63138314, 155.97519962,\n",
       "         98.89889767,  23.05698928, 226.86626272, 218.23536973],\n",
       "       [ 43.95929266,  62.21699396,  15.98942154, 103.40642889,\n",
       "        121.49939668, 114.15881837, 120.59435999, 135.59663053,\n",
       "        152.63261325, 181.7106091 ,   0.        ,  15.82121618,\n",
       "         16.82843001,  23.7905355 ,  25.21676704,  65.09454021,\n",
       "         79.84205283,  85.39602528, 160.92077404,  62.18317583,\n",
       "         82.81171143, 158.65361981,  45.15565362,  36.52476063],\n",
       "       [ 59.78050884,  78.03821015,  31.81063773, 119.22764507,\n",
       "        137.32061286, 129.98003455, 136.41557617, 151.41784671,\n",
       "        168.45382943, 197.53182528,  15.82121618,   0.        ,\n",
       "         32.6496462 ,   7.96931932,   9.39555086,  49.27332403,\n",
       "         64.02083665, 101.21724146, 176.74199022,  78.00439201,\n",
       "         98.63292761, 174.47483599,  29.33443744,  52.34597681],\n",
       "       [ 60.78772267,  79.04542398,  32.81785156, 120.2348589 ,\n",
       "        138.3278267 , 130.98724839, 137.42279   , 152.42506054,\n",
       "        169.46104327, 198.53903911,  16.82843001,  32.6496462 ,\n",
       "          0.        ,  40.61896551,  42.04519705,  81.92297022,\n",
       "         96.67048285,  68.56759527, 144.09234402,  79.01160585,\n",
       "         99.64014144, 175.48204983,  61.98408364,  19.69633062],\n",
       "       [ 67.74982815,  86.00752946,  39.77995704, 127.19696438,\n",
       "        145.28993218, 137.94935387, 144.38489549, 159.38716603,\n",
       "        176.42314875, 205.5011446 ,  23.7905355 ,   7.96931932,\n",
       "         40.61896551,   0.        ,  17.36487017,  57.24264334,\n",
       "         71.99015597, 109.18656078, 184.71130954,  85.97371133,\n",
       "        106.60224692, 182.44415531,  37.30375676,  60.31529613],\n",
       "       [ 69.17605969,  87.433761  ,  41.20618858, 128.62319593,\n",
       "        146.71616372, 139.37558541, 145.81112703, 160.81339757,\n",
       "        177.84938029, 206.92737614,  25.21676704,   9.39555086,\n",
       "         42.04519705,  17.36487017,   0.        ,  39.87777317,\n",
       "         54.62528579, 110.61279232, 186.13754108,  87.39994287,\n",
       "        108.02847846, 183.87038685,  19.93888658,  61.74152767],\n",
       "       [109.05383286, 127.31153417,  81.08396175, 168.50096909,\n",
       "        186.59393689, 179.25335858, 185.6889002 , 200.69117074,\n",
       "        217.72715346, 246.80514931,  65.09454021,  49.27332403,\n",
       "         81.92297022,  57.24264334,  39.87777317,   0.        ,\n",
       "         14.74751262, 150.49056549, 226.01531425, 127.27771604,\n",
       "        147.90625163, 223.74816002,  19.93888658, 101.61930084],\n",
       "       [123.80134549, 142.0590468 ,  95.83147438, 183.24848172,\n",
       "        201.34144951, 194.0008712 , 200.43641282, 215.43868336,\n",
       "        232.47466608, 261.55266193,  79.84205283,  64.02083665,\n",
       "         96.67048285,  71.99015597,  54.62528579,  14.74751262,\n",
       "          0.        , 165.23807811, 240.76282687, 142.02522866,\n",
       "        162.65376426, 238.49567265,  34.68639921, 116.36681346],\n",
       "       [129.35531794, 147.61301925, 101.38544682, 188.80245417,\n",
       "        206.89542196, 199.55484365, 205.99038527, 220.99265581,\n",
       "        238.02863853, 267.10663438,  85.39602528, 101.21724146,\n",
       "         68.56759527, 109.18656078, 110.61279232, 150.49056549,\n",
       "        165.23807811,   0.        ,  75.52474876, 147.57920111,\n",
       "        168.20773671, 244.04964509, 130.5516789 ,  48.87126465],\n",
       "       [204.88006669, 223.137768  , 176.91019558, 264.32720292,\n",
       "        282.42017072, 275.07959241, 281.51513403, 296.51740457,\n",
       "        313.55338729, 342.63138314, 160.92077404, 176.74199022,\n",
       "        144.09234402, 184.71130954, 186.13754108, 226.01531425,\n",
       "        240.76282687,  75.52474876,   0.        , 223.10394987,\n",
       "        243.73248546, 319.57439385, 206.07642766, 124.39601341],\n",
       "       [ 18.22388318,  36.48158449,  46.19375429,  77.67101941,\n",
       "         95.7639872 ,  88.42340889,  94.85895051, 109.86122105,\n",
       "        126.89720377, 155.97519962,  62.18317583,  78.00439201,\n",
       "         79.01160585,  85.97371133,  87.39994287, 127.27771604,\n",
       "        142.02522866, 147.57920111, 223.10394987,   0.        ,\n",
       "         57.07630195, 132.91821034, 107.33882946,  98.70793646],\n",
       "       [ 38.85241877,  20.59471746,  66.82228988,  20.59471746,\n",
       "         38.68768526,  31.34710695,  37.78264856,  52.7849191 ,\n",
       "         69.82090183,  98.89889767,  82.81171143,  98.63292761,\n",
       "         99.64014144, 106.60224692, 108.02847846, 147.90625163,\n",
       "        162.65376426, 168.20773671, 243.73248546,  57.07630195,\n",
       "          0.        ,  75.84190839, 127.96736505, 119.33647206],\n",
       "       [114.69432716,  96.43662585, 142.66419827,  55.24719093,\n",
       "         73.34015873,  44.49480144,  38.05925983,  23.05698928,\n",
       "         40.09297201,  23.05698928, 158.65361981, 174.47483599,\n",
       "        175.48204983, 182.44415531, 183.87038685, 223.74816002,\n",
       "        238.49567265, 244.04964509, 319.57439385, 132.91821034,\n",
       "         75.84190839,   0.        , 203.80927344, 195.17838044],\n",
       "       [ 89.11494628, 107.37264759,  61.14507517, 148.56208251,\n",
       "        166.65505031, 159.31447199, 165.75001361, 180.75228415,\n",
       "        197.78826688, 226.86626272,  45.15565362,  29.33443744,\n",
       "         61.98408364,  37.30375676,  19.93888658,  19.93888658,\n",
       "         34.68639921, 130.5516789 , 206.07642766, 107.33882946,\n",
       "        127.96736505, 203.80927344,   0.        ,  81.68041425],\n",
       "       [ 80.48405329,  98.74175459,  52.51418217, 139.93118952,\n",
       "        158.02415731, 150.683579  , 157.11912062, 172.12139116,\n",
       "        189.15737388, 218.23536973,  36.52476063,  52.34597681,\n",
       "         19.69633062,  60.31529613,  61.74152767, 101.61930084,\n",
       "        116.36681346,  48.87126465, 124.39601341,  98.70793646,\n",
       "        119.33647206, 195.17838044,  81.68041425,   0.        ]])"
      ]
     },
     "execution_count": 24,
     "metadata": {},
     "output_type": "execute_result"
    }
   ],
   "source": [
    "dm_cluster"
   ]
  },
  {
   "cell_type": "code",
   "execution_count": 23,
   "metadata": {},
   "outputs": [
    {
     "data": {
      "text/plain": [
       "array([1.025082  , 2.050164  , 3.37811114, 0.        , 5.07363818,\n",
       "       0.72480545, 0.72480545, 0.72480545, 0.66672   , 4.30400591,\n",
       "       0.        , 0.        , 1.70847   , 0.        , 1.47549682,\n",
       "       1.47549682, 2.95099364, 0.        , 0.        , 1.025082  ,\n",
       "       1.025082  , 1.44961091, 2.95099364, 0.4271175 ])"
      ]
     },
     "execution_count": 23,
     "metadata": {},
     "output_type": "execute_result"
    }
   ],
   "source": [
    "load_vector"
   ]
  },
  {
   "cell_type": "code",
   "execution_count": 22,
   "metadata": {},
   "outputs": [
    {
     "data": {
      "text/plain": [
       "array([2617.80240724, 2611.83590332, 2741.62843389, 2809.48819226,\n",
       "       3225.86536101, 2981.21433102, 3093.32523372, 3376.42102473,\n",
       "       3918.62594376, 4441.7857318 , 2920.44363684, 3164.95292435,\n",
       "       3406.60529949, 3429.21938541, 3310.15664445, 4161.8065609 ,\n",
       "       4563.8015399 , 5663.51443831, 8167.95142764, 3184.75318818,\n",
       "       2689.55077362, 3875.67971507, 3677.14207525, 4042.91979985])"
      ]
     },
     "execution_count": 22,
     "metadata": {},
     "output_type": "execute_result"
    }
   ],
   "source": [
    "unweighted_nodes"
   ]
  },
  {
   "cell_type": "code",
   "execution_count": null,
   "metadata": {},
   "outputs": [],
   "source": []
  },
  {
   "cell_type": "code",
   "execution_count": null,
   "metadata": {},
   "outputs": [],
   "source": []
  },
  {
   "cell_type": "code",
   "execution_count": null,
   "metadata": {},
   "outputs": [],
   "source": []
  },
  {
   "cell_type": "code",
   "execution_count": null,
   "metadata": {},
   "outputs": [],
   "source": [
    "# todo check if truncate creates subgrpahs\n",
    "# if len(subgraphs) > 1:\n",
    "    # there are unconnected subgraphs\n",
    "    # then for each subgraph\n",
    "        # cluserting\n",
    "        # for each cluster\n",
    "            # build lv_grid_district"
   ]
  },
  {
   "cell_type": "code",
   "execution_count": null,
   "metadata": {},
   "outputs": [],
   "source": []
  },
  {
   "cell_type": "code",
   "execution_count": null,
   "metadata": {},
   "outputs": [],
   "source": []
  },
  {
   "cell_type": "code",
   "execution_count": 8,
   "metadata": {},
   "outputs": [],
   "source": []
  },
  {
   "cell_type": "code",
   "execution_count": 22,
   "metadata": {},
   "outputs": [],
   "source": []
  },
  {
   "cell_type": "code",
   "execution_count": 10,
   "metadata": {},
   "outputs": [],
   "source": []
  },
  {
   "cell_type": "markdown",
   "metadata": {},
   "source": [
    "### Clustering"
   ]
  },
  {
   "cell_type": "code",
   "execution_count": 27,
   "metadata": {},
   "outputs": [],
   "source": [
    "n_clusters = get_n_cluster(buildings_w_loads_df)\n",
    "if n_clusters < len(fn_fallenbrunnen_la._lv_grid_districts):\n",
    "    n_clusters = len(fn_fallenbrunnen_la._lv_grid_districts)\n",
    "buildings_w_loads_df = cluster_k_means(buildings_w_loads_df, n_clusters)"
   ]
  },
  {
   "cell_type": "code",
   "execution_count": 29,
   "metadata": {},
   "outputs": [
    {
     "data": {
      "text/plain": [
       "3"
      ]
     },
     "execution_count": 29,
     "metadata": {},
     "output_type": "execute_result"
    }
   ],
   "source": [
    "n_clusters"
   ]
  },
  {
   "cell_type": "markdown",
   "metadata": {},
   "source": [
    "### Update and add _districts"
   ]
  },
  {
   "cell_type": "code",
   "execution_count": 30,
   "metadata": {},
   "outputs": [
    {
     "name": "stdout",
     "output_type": "stream",
     "text": [
      "99\n",
      "85\n",
      "79\n"
     ]
    }
   ],
   "source": [
    "for i in range(n_clusters):\n",
    "    \n",
    "    print(len(buildings_w_loads_df.loc[(buildings_w_loads_df['Cluster']==i)]))\n"
   ]
  },
  {
   "cell_type": "code",
   "execution_count": 28,
   "metadata": {},
   "outputs": [
    {
     "data": {
      "text/html": [
       "<div>\n",
       "<style scoped>\n",
       "    .dataframe tbody tr th:only-of-type {\n",
       "        vertical-align: middle;\n",
       "    }\n",
       "\n",
       "    .dataframe tbody tr th {\n",
       "        vertical-align: top;\n",
       "    }\n",
       "\n",
       "    .dataframe thead th {\n",
       "        text-align: right;\n",
       "    }\n",
       "</style>\n",
       "<table border=\"1\" class=\"dataframe\">\n",
       "  <thead>\n",
       "    <tr style=\"text-align: right;\">\n",
       "      <th></th>\n",
       "      <th>category</th>\n",
       "      <th>capacity</th>\n",
       "      <th>area</th>\n",
       "      <th>number_households</th>\n",
       "      <th>x</th>\n",
       "      <th>y</th>\n",
       "      <th>geometry</th>\n",
       "      <th>raccordement</th>\n",
       "      <th>nn</th>\n",
       "      <th>nn_dist</th>\n",
       "      <th>Cluster</th>\n",
       "    </tr>\n",
       "    <tr>\n",
       "      <th>osm_id</th>\n",
       "      <th></th>\n",
       "      <th></th>\n",
       "      <th></th>\n",
       "      <th></th>\n",
       "      <th></th>\n",
       "      <th></th>\n",
       "      <th></th>\n",
       "      <th></th>\n",
       "      <th></th>\n",
       "      <th></th>\n",
       "      <th></th>\n",
       "    </tr>\n",
       "  </thead>\n",
       "  <tbody>\n",
       "    <tr>\n",
       "      <th>8598838279</th>\n",
       "      <td>ice_cream</td>\n",
       "      <td>20.966863</td>\n",
       "      <td>229.121</td>\n",
       "      <td>0.645161</td>\n",
       "      <td>9.437183</td>\n",
       "      <td>47.674769</td>\n",
       "      <td>POLYGON ((9.437094099999998 47.67477800001394,...</td>\n",
       "      <td>POINT (9.437183076702567 47.67476938145773)</td>\n",
       "      <td>475940044</td>\n",
       "      <td>19.021132</td>\n",
       "      <td>0</td>\n",
       "    </tr>\n",
       "    <tr>\n",
       "      <th>144020300</th>\n",
       "      <td>public_building</td>\n",
       "      <td>244.695822</td>\n",
       "      <td>2113.09</td>\n",
       "      <td>0.8125</td>\n",
       "      <td>9.438239</td>\n",
       "      <td>47.675506</td>\n",
       "      <td>POLYGON ((9.437905999999998 47.67551250001376,...</td>\n",
       "      <td>POINT (9.438238891069723 47.67550616796044)</td>\n",
       "      <td>1576023053</td>\n",
       "      <td>34.831012</td>\n",
       "      <td>0</td>\n",
       "    </tr>\n",
       "    <tr>\n",
       "      <th>144023114</th>\n",
       "      <td>school</td>\n",
       "      <td>102.108142</td>\n",
       "      <td>1641.61</td>\n",
       "      <td>0.552632</td>\n",
       "      <td>9.438521</td>\n",
       "      <td>47.673818</td>\n",
       "      <td>POLYGON ((9.438203599999998 47.67375600001416,...</td>\n",
       "      <td>POINT (9.438521488700175 47.67381754064048)</td>\n",
       "      <td>68844093</td>\n",
       "      <td>33.677840</td>\n",
       "      <td>0</td>\n",
       "    </tr>\n",
       "    <tr>\n",
       "      <th>314909001</th>\n",
       "      <td>residential</td>\n",
       "      <td>1.246721</td>\n",
       "      <td>100</td>\n",
       "      <td>0.72973</td>\n",
       "      <td>9.43711</td>\n",
       "      <td>47.674319</td>\n",
       "      <td>POLYGON ((9.4370154 47.67431780001401, 9.43711...</td>\n",
       "      <td>POINT (9.437109750000001 47.67431900001404)</td>\n",
       "      <td>2080880814</td>\n",
       "      <td>14.638173</td>\n",
       "      <td>0</td>\n",
       "    </tr>\n",
       "    <tr>\n",
       "      <th>314909020</th>\n",
       "      <td>house</td>\n",
       "      <td>1.102239</td>\n",
       "      <td>100</td>\n",
       "      <td>0.645161</td>\n",
       "      <td>9.437548</td>\n",
       "      <td>47.674401</td>\n",
       "      <td>POLYGON ((9.4374646 47.674413400014, 9.4375446...</td>\n",
       "      <td>POINT (9.437548450000001 47.67440130001403)</td>\n",
       "      <td>314975344</td>\n",
       "      <td>15.374000</td>\n",
       "      <td>0</td>\n",
       "    </tr>\n",
       "    <tr>\n",
       "      <th>...</th>\n",
       "      <td>...</td>\n",
       "      <td>...</td>\n",
       "      <td>...</td>\n",
       "      <td>...</td>\n",
       "      <td>...</td>\n",
       "      <td>...</td>\n",
       "      <td>...</td>\n",
       "      <td>...</td>\n",
       "      <td>...</td>\n",
       "      <td>...</td>\n",
       "      <td>...</td>\n",
       "    </tr>\n",
       "    <tr>\n",
       "      <th>314913916</th>\n",
       "      <td>residential</td>\n",
       "      <td>2.904399</td>\n",
       "      <td>100</td>\n",
       "      <td>1.7</td>\n",
       "      <td>9.436301</td>\n",
       "      <td>47.672468</td>\n",
       "      <td>POLYGON ((9.436173800000001 47.67246730001447,...</td>\n",
       "      <td>POINT (9.436301343479869 47.67246766666069)</td>\n",
       "      <td>311379901</td>\n",
       "      <td>30.431139</td>\n",
       "      <td>0</td>\n",
       "    </tr>\n",
       "    <tr>\n",
       "      <th>338514542</th>\n",
       "      <td>school</td>\n",
       "      <td>407.558658</td>\n",
       "      <td>6552.39</td>\n",
       "      <td>0.594203</td>\n",
       "      <td>9.438414</td>\n",
       "      <td>47.673881</td>\n",
       "      <td>POLYGON ((9.437957300000001 47.67387860001414,...</td>\n",
       "      <td>POINT (9.438414351486788 47.67388107322754)</td>\n",
       "      <td>68844093</td>\n",
       "      <td>31.901109</td>\n",
       "      <td>0</td>\n",
       "    </tr>\n",
       "    <tr>\n",
       "      <th>401560706</th>\n",
       "      <td>residential</td>\n",
       "      <td>1.102239</td>\n",
       "      <td>100</td>\n",
       "      <td>0.645161</td>\n",
       "      <td>9.43769</td>\n",
       "      <td>47.674448</td>\n",
       "      <td>POLYGON ((9.4376228 47.674467300014, 9.4377058...</td>\n",
       "      <td>POINT (9.437690147469656 47.67444791593603)</td>\n",
       "      <td>314975344</td>\n",
       "      <td>27.030240</td>\n",
       "      <td>0</td>\n",
       "    </tr>\n",
       "    <tr>\n",
       "      <th>427999640</th>\n",
       "      <td>residential</td>\n",
       "      <td>1.017812</td>\n",
       "      <td>100</td>\n",
       "      <td>0.595745</td>\n",
       "      <td>9.437456</td>\n",
       "      <td>47.673842</td>\n",
       "      <td>POLYGON ((9.4373962 47.67383920001416, 9.43741...</td>\n",
       "      <td>POINT (9.437456201491505 47.67384173088283)</td>\n",
       "      <td>1863458994</td>\n",
       "      <td>21.084569</td>\n",
       "      <td>0</td>\n",
       "    </tr>\n",
       "    <tr>\n",
       "      <th>428000222</th>\n",
       "      <td>residential</td>\n",
       "      <td>2.628415</td>\n",
       "      <td>100</td>\n",
       "      <td>1.538462</td>\n",
       "      <td>9.436665</td>\n",
       "      <td>47.673556</td>\n",
       "      <td>POLYGON ((9.436553399999999 47.67355130001422,...</td>\n",
       "      <td>POINT (9.436665109007034 47.67355583574013)</td>\n",
       "      <td>2080880811</td>\n",
       "      <td>34.390889</td>\n",
       "      <td>0</td>\n",
       "    </tr>\n",
       "  </tbody>\n",
       "</table>\n",
       "<p>99 rows × 11 columns</p>\n",
       "</div>"
      ],
      "text/plain": [
       "                   category    capacity     area number_households         x  \\\n",
       "osm_id                                                                         \n",
       "8598838279        ice_cream   20.966863  229.121          0.645161  9.437183   \n",
       "144020300   public_building  244.695822  2113.09            0.8125  9.438239   \n",
       "144023114            school  102.108142  1641.61          0.552632  9.438521   \n",
       "314909001       residential    1.246721      100           0.72973   9.43711   \n",
       "314909020             house    1.102239      100          0.645161  9.437548   \n",
       "...                     ...         ...      ...               ...       ...   \n",
       "314913916       residential    2.904399      100               1.7  9.436301   \n",
       "338514542            school  407.558658  6552.39          0.594203  9.438414   \n",
       "401560706       residential    1.102239      100          0.645161   9.43769   \n",
       "427999640       residential    1.017812      100          0.595745  9.437456   \n",
       "428000222       residential    2.628415      100          1.538462  9.436665   \n",
       "\n",
       "                    y                                           geometry  \\\n",
       "osm_id                                                                     \n",
       "8598838279  47.674769  POLYGON ((9.437094099999998 47.67477800001394,...   \n",
       "144020300   47.675506  POLYGON ((9.437905999999998 47.67551250001376,...   \n",
       "144023114   47.673818  POLYGON ((9.438203599999998 47.67375600001416,...   \n",
       "314909001   47.674319  POLYGON ((9.4370154 47.67431780001401, 9.43711...   \n",
       "314909020   47.674401  POLYGON ((9.4374646 47.674413400014, 9.4375446...   \n",
       "...               ...                                                ...   \n",
       "314913916   47.672468  POLYGON ((9.436173800000001 47.67246730001447,...   \n",
       "338514542   47.673881  POLYGON ((9.437957300000001 47.67387860001414,...   \n",
       "401560706   47.674448  POLYGON ((9.4376228 47.674467300014, 9.4377058...   \n",
       "427999640   47.673842  POLYGON ((9.4373962 47.67383920001416, 9.43741...   \n",
       "428000222   47.673556  POLYGON ((9.436553399999999 47.67355130001422,...   \n",
       "\n",
       "                                           raccordement          nn  \\\n",
       "osm_id                                                                \n",
       "8598838279  POINT (9.437183076702567 47.67476938145773)   475940044   \n",
       "144020300   POINT (9.438238891069723 47.67550616796044)  1576023053   \n",
       "144023114   POINT (9.438521488700175 47.67381754064048)    68844093   \n",
       "314909001   POINT (9.437109750000001 47.67431900001404)  2080880814   \n",
       "314909020   POINT (9.437548450000001 47.67440130001403)   314975344   \n",
       "...                                                 ...         ...   \n",
       "314913916   POINT (9.436301343479869 47.67246766666069)   311379901   \n",
       "338514542   POINT (9.438414351486788 47.67388107322754)    68844093   \n",
       "401560706   POINT (9.437690147469656 47.67444791593603)   314975344   \n",
       "427999640   POINT (9.437456201491505 47.67384173088283)  1863458994   \n",
       "428000222   POINT (9.436665109007034 47.67355583574013)  2080880811   \n",
       "\n",
       "              nn_dist  Cluster  \n",
       "osm_id                          \n",
       "8598838279  19.021132        0  \n",
       "144020300   34.831012        0  \n",
       "144023114   33.677840        0  \n",
       "314909001   14.638173        0  \n",
       "314909020   15.374000        0  \n",
       "...               ...      ...  \n",
       "314913916   30.431139        0  \n",
       "338514542   31.901109        0  \n",
       "401560706   27.030240        0  \n",
       "427999640   21.084569        0  \n",
       "428000222   34.390889        0  \n",
       "\n",
       "[99 rows x 11 columns]"
      ]
     },
     "execution_count": 28,
     "metadata": {},
     "output_type": "execute_result"
    }
   ],
   "source": [
    "buildings_w_loads_df.loc[(buildings_w_loads_df['Cluster']==0)]"
   ]
  },
  {
   "cell_type": "code",
   "execution_count": 16,
   "metadata": {},
   "outputs": [
    {
     "name": "stdout",
     "output_type": "stream",
     "text": [
      "Wall time: 9.38 ms\n"
     ]
    },
    {
     "data": {
      "text/plain": [
       "140"
      ]
     },
     "execution_count": 16,
     "metadata": {},
     "output_type": "execute_result"
    }
   ],
   "source": [
    "%%time\n",
    "\n",
    "geometry = buildings_w_loads_df.loc[(buildings_w_loads_df['Cluster']==0), 'geometry'].tolist()\n",
    "\n",
    "points = get_points_in_load_area(geometry)\n",
    "        \n",
    "len(points)"
   ]
  },
  {
   "cell_type": "code",
   "execution_count": 17,
   "metadata": {},
   "outputs": [
    {
     "data": {
      "image/svg+xml": [
       "<svg xmlns=\"http://www.w3.org/2000/svg\" xmlns:xlink=\"http://www.w3.org/1999/xlink\" width=\"100.0\" height=\"100.0\" viewBox=\"9.442894664000024 47.66468626401624 0.002454771999950367 0.0030816719992969865\" preserveAspectRatio=\"xMinYMin meet\"><g transform=\"matrix(1,0,0,-1,0,95.33245420003178)\"><path fill-rule=\"evenodd\" fill=\"#66cc99\" stroke=\"#555555\" stroke-width=\"6.163343998593973e-05\" opacity=\"0.6\" d=\"M 9.4449668,47.66480040001621 L 9.444477799999998,47.665050300016155 L 9.4433808,47.66681720001574 L 9.443314499999998,47.66692910001574 L 9.443008799999998,47.667459900015615 L 9.4437318,47.667653800015565 L 9.444817999999998,47.66596210001596 L 9.4452353,47.66525890001613 L 9.4451412,47.66484560001622 L 9.4449668,47.66480040001621 z\" /></g></svg>"
      ],
      "text/plain": [
       "<shapely.geometry.polygon.Polygon at 0x1d50dc74eb0>"
      ]
     },
     "execution_count": 17,
     "metadata": {},
     "output_type": "execute_result"
    }
   ],
   "source": [
    "get_convex_hull_from_points(points)"
   ]
  },
  {
   "cell_type": "code",
   "execution_count": 24,
   "metadata": {},
   "outputs": [
    {
     "data": {
      "text/plain": [
       "{'id_db': 20,\n",
       " 'mv_grid_district': mv_grid_district_40,\n",
       " '_lv_load_areas': [lv_load_area_4544,\n",
       "  lv_load_area_4545,\n",
       "  lv_load_area_4548,\n",
       "  MVCableDist_mvgd_40_26],\n",
       " 'peak_load': 65.35928151751943,\n",
       " 'branch_length_sum': 0,\n",
       " 'peak_load_max': 1000.0,\n",
       " 'branch_length_max': 2000.0,\n",
       " 'root_node': MVCableDist_mvgd_40_23}"
      ]
     },
     "execution_count": 24,
     "metadata": {},
     "output_type": "execute_result"
    }
   ],
   "source": [
    "fn_fallenbrunnen_la.lv_load_area_group.__dict__"
   ]
  },
  {
   "cell_type": "code",
   "execution_count": 28,
   "metadata": {},
   "outputs": [
    {
     "data": {
      "text/plain": [
       "{'id_db': 40,\n",
       " 'mv_grid': mv_grid_40,\n",
       " '_lv_load_areas': [lv_load_area_2128,\n",
       "  lv_load_area_2292,\n",
       "  lv_load_area_2383,\n",
       "  lv_load_area_2520,\n",
       "  lv_load_area_2521,\n",
       "  lv_load_area_2561,\n",
       "  lv_load_area_2608,\n",
       "  lv_load_area_2625,\n",
       "  lv_load_area_2633,\n",
       "  lv_load_area_2705,\n",
       "  lv_load_area_2728,\n",
       "  lv_load_area_2763,\n",
       "  lv_load_area_2765,\n",
       "  lv_load_area_2840,\n",
       "  lv_load_area_2842,\n",
       "  lv_load_area_3029,\n",
       "  lv_load_area_3088,\n",
       "  lv_load_area_3089,\n",
       "  lv_load_area_3119,\n",
       "  lv_load_area_3160,\n",
       "  lv_load_area_3235,\n",
       "  lv_load_area_3277,\n",
       "  lv_load_area_3304,\n",
       "  lv_load_area_3305,\n",
       "  lv_load_area_3307,\n",
       "  lv_load_area_3311,\n",
       "  lv_load_area_3314,\n",
       "  lv_load_area_3403,\n",
       "  lv_load_area_3413,\n",
       "  lv_load_area_3645,\n",
       "  lv_load_area_3661,\n",
       "  lv_load_area_3731,\n",
       "  lv_load_area_3780,\n",
       "  lv_load_area_3805,\n",
       "  lv_load_area_3911,\n",
       "  lv_load_area_3986,\n",
       "  lv_load_area_3987,\n",
       "  lv_load_area_3992,\n",
       "  lv_load_area_4212,\n",
       "  lv_load_area_4337,\n",
       "  lv_load_area_4347,\n",
       "  lv_load_area_4487,\n",
       "  lv_load_area_4488,\n",
       "  lv_load_area_4544,\n",
       "  lv_load_area_4545,\n",
       "  lv_load_area_4546,\n",
       "  lv_load_area_4547,\n",
       "  lv_load_area_4548,\n",
       "  lv_load_area_4549,\n",
       "  lv_load_area_4550,\n",
       "  lv_load_area_4620,\n",
       "  lv_load_area_4621,\n",
       "  lv_load_area_4622,\n",
       "  lv_load_area_4670,\n",
       "  lv_load_area_4674,\n",
       "  lv_load_area_4735,\n",
       "  lv_load_area_4764,\n",
       "  lv_load_area_4830,\n",
       "  lv_load_area_4831,\n",
       "  lv_load_area_4840,\n",
       "  lv_load_area_4855,\n",
       "  lv_load_area_4868,\n",
       "  lv_load_area_4918,\n",
       "  lv_load_area_5227,\n",
       "  lv_load_area_5305,\n",
       "  lv_load_area_5371,\n",
       "  lv_load_area_5372,\n",
       "  lv_load_area_5404,\n",
       "  lv_load_area_5511,\n",
       "  lv_load_area_5525,\n",
       "  lv_load_area_5529,\n",
       "  lv_load_area_5536,\n",
       "  lv_load_area_5583,\n",
       "  lv_load_area_5588,\n",
       "  lv_load_area_5595],\n",
       " '_lv_load_area_groups': [load_area_group_1,\n",
       "  load_area_group_2,\n",
       "  load_area_group_3,\n",
       "  load_area_group_4,\n",
       "  load_area_group_5,\n",
       "  load_area_group_6,\n",
       "  load_area_group_7,\n",
       "  load_area_group_8,\n",
       "  load_area_group_9,\n",
       "  load_area_group_10,\n",
       "  load_area_group_11,\n",
       "  load_area_group_12,\n",
       "  load_area_group_13,\n",
       "  load_area_group_14,\n",
       "  load_area_group_15,\n",
       "  load_area_group_16,\n",
       "  load_area_group_17,\n",
       "  load_area_group_18,\n",
       "  load_area_group_19,\n",
       "  load_area_group_20,\n",
       "  load_area_group_21,\n",
       "  load_area_group_22,\n",
       "  load_area_group_23,\n",
       "  load_area_group_24,\n",
       "  load_area_group_25,\n",
       "  load_area_group_26,\n",
       "  load_area_group_27,\n",
       "  load_area_group_28,\n",
       "  load_area_group_29,\n",
       "  load_area_group_30,\n",
       "  load_area_group_31,\n",
       "  load_area_group_32,\n",
       "  load_area_group_33,\n",
       "  load_area_group_34,\n",
       "  load_area_group_35,\n",
       "  load_area_group_36,\n",
       "  load_area_group_37,\n",
       "  load_area_group_38,\n",
       "  load_area_group_39],\n",
       " 'geo_data': <shapely.geometry.multipolygon.MultiPolygon at 0x1d51256bf10>,\n",
       " 'peak_load': 67057.57197852976,\n",
       " 'peak_load_satellites': 852.3248953957927,\n",
       " 'peak_load_aggregated': 54058.0529320802}"
      ]
     },
     "execution_count": 28,
     "metadata": {},
     "output_type": "execute_result"
    }
   ],
   "source": [
    "nd._mv_grid_districts[0].__dict__"
   ]
  },
  {
   "cell_type": "code",
   "execution_count": 17,
   "metadata": {},
   "outputs": [
    {
     "data": {
      "text/plain": [
       "{'id_db': 4563,\n",
       " 'geo_data': <shapely.geometry.point.Point at 0x118800eba90>,\n",
       " 'grid': lv_grid_4563,\n",
       " '_transformers': [Transformer_lv_grid_4563_1],\n",
       " 'v_level_operation': None,\n",
       " 'lv_load_area': lv_load_area_4544,\n",
       " 'voltage_res': [0.9897135909377942, 1.0123145234795161]}"
      ]
     },
     "execution_count": 17,
     "metadata": {},
     "output_type": "execute_result"
    }
   ],
   "source": [
    "fn_fallenbrunnen_la._lv_grid_districts[0].lv_grid._station.__dict__"
   ]
  },
  {
   "cell_type": "code",
   "execution_count": 17,
   "metadata": {},
   "outputs": [
    {
     "name": "stdout",
     "output_type": "stream",
     "text": [
      "update _lv_grid_districts 0\n",
      "add _lv_grid_districts id 1\n",
      "add _lv_grid_districts id 2\n"
     ]
    }
   ],
   "source": [
    "preprocessed_clusters = []   \n",
    "    \n",
    "\n",
    "for cluster_id in range(n_clusters):\n",
    "    \n",
    "    if cluster_id < len(fn_fallenbrunnen_la._lv_grid_districts):\n",
    "        \n",
    "        print('delete or update _lv_grid_districts[', cluster_id, ']')\n",
    "        \n",
    "        # GET NEW VALUES FOR DISTRICT        \n",
    "        # get convex hull of cluster\n",
    "        points = get_points_in_load_area(buildings_w_loads_df.loc[buildings_w_loads_df['Cluster']==cluster_id])\n",
    "        district_convex_hull = get_convex_hull_from_points(points)\n",
    "        \n",
    "        # get location of substation for cluster\n",
    "        station_x, station_y = get_location_substation_at_pi(graph, buildings_w_loads_df.loc[(buildings_w_loads_df['Cluster']==0)])\n",
    "\n",
    "        \n",
    "        # UPDATE VALUES\n",
    "        # update values of _lv_grid_districts[cluster_id]\n",
    "        fn_fallenbrunnen_la._lv_grid_districts[cluster_id].geo_data  = district_convex_hull\n",
    "        fn_fallenbrunnen_la._lv_grid_districts[cluster_id].poulation = buildings_w_loads_df.loc[buildings_w_loads_df['Cluster']==cluster_id]['number_households'].sum()\n",
    "        \n",
    "        fn_fallenbrunnen_la._lv_grid_districts[cluster_id].peak_load = buildings_w_loads_df.loc[(buildings_w_loads_df['Cluster']==0)]['capacity'].sum()\n",
    "        fn_fallenbrunnen_la._lv_grid_districts[cluster_id].peak_load_residential = buildings_w_loads_df.loc[(buildings_w_loads_df['Cluster']==cluster_id) & buildings_w_loads_df['number_households'] > 0]['capacity'].sum()\n",
    "        \n",
    "        \n",
    "        # ADD / RESET DING0 ELEMENTS\n",
    "        # update position of substation\n",
    "        fn_fallenbrunnen_la._lv_grid_districts[0].lv_grid._station.geo_data = get_Point_from_x_y(station_x, station_y)\n",
    "        \n",
    "        # reset list to add new elements\n",
    "        fn_fallenbrunnen_la._lv_grid_districts[cluster_id].lv_grid._station.transformers.clear()\n",
    "        \n",
    "        \n",
    "        # update trafo and loads\n",
    "        #fn_fallenbrunnen_la._lv_grid_districts[cluster_id].lv_grid.build_grid()\n",
    "        \n",
    "        \n",
    "    else:\n",
    "        \n",
    "        print('add _lv_grid_districts id', cluster_id)\n",
    "        \n",
    "        \n",
    "        \n",
    "        \n",
    "        \n",
    "    break\n",
    "    "
   ]
  },
  {
   "cell_type": "code",
   "execution_count": 21,
   "metadata": {},
   "outputs": [
    {
     "data": {
      "text/plain": [
       "{'id_db': 4563,\n",
       " 'geo_data': <shapely.geometry.point.Point at 0x1d50cd257f0>,\n",
       " 'grid': lv_grid_4563,\n",
       " '_transformers': [Transformer_lv_grid_4563_1],\n",
       " 'v_level_operation': None,\n",
       " 'lv_load_area': lv_load_area_4544,\n",
       " 'voltage_res': [0.9897135909377942, 1.0123145234795161]}"
      ]
     },
     "execution_count": 21,
     "metadata": {},
     "output_type": "execute_result"
    }
   ],
   "source": [
    "fn_fallenbrunnen_la._lv_grid_districts[0].lv_grid._station.__dict__"
   ]
  },
  {
   "cell_type": "code",
   "execution_count": null,
   "metadata": {},
   "outputs": [],
   "source": []
  },
  {
   "cell_type": "code",
   "execution_count": null,
   "metadata": {},
   "outputs": [],
   "source": []
  },
  {
   "cell_type": "code",
   "execution_count": null,
   "metadata": {},
   "outputs": [],
   "source": []
  },
  {
   "cell_type": "code",
   "execution_count": null,
   "metadata": {},
   "outputs": [],
   "source": []
  },
  {
   "cell_type": "code",
   "execution_count": null,
   "metadata": {},
   "outputs": [],
   "source": []
  },
  {
   "cell_type": "code",
   "execution_count": 19,
   "metadata": {},
   "outputs": [],
   "source": [
    "#lv_district_of_interest.lv_grid.graph_draw(mode='LV')"
   ]
  },
  {
   "cell_type": "code",
   "execution_count": 16,
   "metadata": {},
   "outputs": [
    {
     "ename": "NameError",
     "evalue": "name 'lv_district_of_interest' is not defined",
     "output_type": "error",
     "traceback": [
      "\u001b[1;31m---------------------------------------------------------------------------\u001b[0m",
      "\u001b[1;31mNameError\u001b[0m                                 Traceback (most recent call last)",
      "\u001b[1;32m<ipython-input-16-52e70a767919>\u001b[0m in \u001b[0;36m<module>\u001b[1;34m\u001b[0m\n\u001b[1;32m----> 1\u001b[1;33m \u001b[0mlv_district_of_interest\u001b[0m\u001b[1;33m.\u001b[0m\u001b[0mlv_grid\u001b[0m\u001b[1;33m.\u001b[0m\u001b[0m__dict__\u001b[0m \u001b[1;31m# .geo_data.wkt\u001b[0m\u001b[1;33m\u001b[0m\u001b[1;33m\u001b[0m\u001b[0m\n\u001b[0m",
      "\u001b[1;31mNameError\u001b[0m: name 'lv_district_of_interest' is not defined"
     ]
    }
   ],
   "source": [
    "lv_district_of_interest.lv_grid.__dict__ # .geo_data.wkt"
   ]
  },
  {
   "cell_type": "code",
   "execution_count": null,
   "metadata": {},
   "outputs": [],
   "source": []
  },
  {
   "cell_type": "code",
   "execution_count": null,
   "metadata": {},
   "outputs": [],
   "source": []
  },
  {
   "cell_type": "code",
   "execution_count": null,
   "metadata": {},
   "outputs": [],
   "source": []
  },
  {
   "cell_type": "code",
   "execution_count": null,
   "metadata": {},
   "outputs": [],
   "source": []
  },
  {
   "cell_type": "code",
   "execution_count": 19,
   "metadata": {},
   "outputs": [],
   "source": [
    "from sklearn.cluster import AgglomerativeClustering\n",
    "import numpy as np"
   ]
  },
  {
   "cell_type": "code",
   "execution_count": 20,
   "metadata": {},
   "outputs": [],
   "source": [
    "X = []    # collect nodes\n",
    "\n",
    "for node in graph.nodes:\n",
    "\n",
    "    X.append([graph.nodes[node]['X'], graph.nodes[node]['Y']])\n",
    "    \n",
    "    \n",
    "X = np.array(X)\n",
    "\n",
    "\n",
    "\n",
    "# clustering\n",
    "\n",
    "adj_mat_sparse = nx.adjacency_matrix(graph, weight='length')\n",
    "\n",
    "clustering = AgglomerativeClustering(n_clusters=n_clusters, linkage='ward', connectivity=adj_mat_sparse).fit(X)\n",
    "\n",
    "\n",
    "\n",
    "\n",
    "\n",
    "\n",
    "# assign cluster labels\n",
    "\n",
    "i_label = 0\n",
    "\n",
    "for node in list(graph.nodes):\n",
    "\n",
    "    graph.nodes[node]['cluster'] = clustering.labels_[i_label]\n",
    "    \n",
    "    i_label += 1\n",
    "    \n",
    "labels = nx.get_node_attributes(graph, 'cluster') "
   ]
  },
  {
   "cell_type": "code",
   "execution_count": 23,
   "metadata": {},
   "outputs": [
    {
     "data": {
      "image/png": "[encoded data removed]",
      "text/plain": [
       "<Figure size 432x288 with 1 Axes>"
      ]
     },
     "metadata": {},
     "output_type": "display_data"
    }
   ],
   "source": [
    "nx.draw(graph, node_coords_dict,labels=labels)"
   ]
  },
  {
   "cell_type": "code",
   "execution_count": null,
   "metadata": {},
   "outputs": [],
   "source": []
  },
  {
   "cell_type": "code",
   "execution_count": 24,
   "metadata": {},
   "outputs": [],
   "source": [
    "X = []    # collect nodes\n",
    "\n",
    "for node in graph.nodes:\n",
    "\n",
    "    X.append([graph.nodes[node]['X'], graph.nodes[node]['Y']])\n",
    "    \n",
    "    \n",
    "X = np.array(X)\n",
    "\n",
    "\n",
    "\n",
    "# clustering\n",
    "\n",
    "adj_mat_sparse = nx.to_numpy_matrix(graph, weight='length')\n",
    "\n",
    "clustering = AgglomerativeClustering(n_clusters=n_clusters, linkage='ward', connectivity=adj_mat_sparse).fit(X)\n",
    "\n",
    "\n",
    "\n",
    "\n",
    "\n",
    "\n",
    "# assign cluster labels\n",
    "\n",
    "i_label = 0\n",
    "\n",
    "for node in list(graph.nodes):\n",
    "\n",
    "    graph.nodes[node]['cluster'] = clustering.labels_[i_label]\n",
    "    \n",
    "    i_label += 1\n",
    "    \n",
    "labels = nx.get_node_attributes(graph, 'cluster') "
   ]
  },
  {
   "cell_type": "code",
   "execution_count": 25,
   "metadata": {},
   "outputs": [
    {
     "data": {
      "image/png": "[encoded data removed]",
      "text/plain": [
       "<Figure size 432x288 with 1 Axes>"
      ]
     },
     "metadata": {},
     "output_type": "display_data"
    }
   ],
   "source": [
    "nx.draw(graph, node_coords_dict,labels=labels)"
   ]
  },
  {
   "cell_type": "code",
   "execution_count": null,
   "metadata": {},
   "outputs": [],
   "source": []
  }
 ],
 "metadata": {
  "kernelspec": {
   "display_name": "Python 3 (ipykernel)",
   "language": "python",
   "name": "python3"
  },
  "language_info": {
   "codemirror_mode": {
    "name": "ipython",
    "version": 3
   },
   "file_extension": ".py",
   "mimetype": "text/x-python",
   "name": "python",
   "nbconvert_exporter": "python",
   "pygments_lexer": "ipython3",
   "version": "3.9.6"
  }
 },
 "nbformat": 4,
 "nbformat_minor": 4
}
