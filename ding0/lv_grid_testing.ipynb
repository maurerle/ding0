{
 "cells": [
  {
   "cell_type": "markdown",
   "metadata": {},
   "source": [
    "<img src=\"https://gist.githubusercontent.com/nesnoj/6ee605cd3494fa6e3e848385c4afbe19/raw/a883b1bdc69c0c5bbb0b00ba92f43033aa86ec64/dingo_model.png\" alt=\"DINGO Model\" width=\"800\"  align=\"center\">"
   ]
  },
  {
   "cell_type": "code",
   "execution_count": 1,
   "metadata": {},
   "outputs": [],
   "source": [
    "%%capture\n",
    "\n",
    "from ding0.core import NetworkDing0\n",
    "from ding0.tools.logger import setup_logger\n",
    "from ding0.tools.results import save_nd_to_pickle\n",
    "from ding0.tools.plots import plot_mv_topology\n",
    "from egoio.tools import db\n",
    "from sqlalchemy.orm import sessionmaker\n",
    "import oedialect\n",
    "\n",
    "# create new network\n",
    "nd = NetworkDing0(name='network')\n",
    "\n",
    "\n",
    "\n",
    "# set ID of MV grid district\n",
    "mv_grid_districts = [40] # fn"
   ]
  },
  {
   "cell_type": "code",
   "execution_count": 2,
   "metadata": {},
   "outputs": [],
   "source": [
    "engine = db.connection(section='oedb_dialect', readonly=True)\n",
    "session = sessionmaker(bind=engine)()"
   ]
  },
  {
   "cell_type": "code",
   "execution_count": 3,
   "metadata": {},
   "outputs": [],
   "source": [
    "# due to load_nd_from_pickle\n",
    "from ding0.tools import results"
   ]
  },
  {
   "cell_type": "code",
   "execution_count": 4,
   "metadata": {},
   "outputs": [
    {
     "name": "stdout",
     "output_type": "stream",
     "text": [
      "LOAD DING0 GRID FROM PKL\n"
     ]
    }
   ],
   "source": [
    "load_from_pkl=True\n",
    "\n",
    "if load_from_pkl:\n",
    "    \n",
    "    print('LOAD DING0 GRID FROM PKL')\n",
    "\n",
    "    grid_id=40\n",
    "    nd = results.load_nd_from_pickle(filename='./config/tmp/ding0_grids__' + str(grid_id) + '.pkl')\n",
    "    \n",
    "    # should be closed before export\n",
    "    nd.control_circuit_breakers(mode='open')\n",
    "\n",
    "\n",
    "else:\n",
    "    \n",
    "    print('DING0.RUN()')\n",
    "    \n",
    "    nd.import_mv_grid_districts(session, mv_grid_districts_no=mv_grid_districts)\n",
    "    nd.import_generators(session)\n",
    "\n",
    "    nd.mv_parametrize_grid()\n",
    "    nd.validate_grid_districts()\n",
    "    \n",
    "    build_lv_grid_default=True\n",
    "\n",
    "    if build_lv_grid_default:\n",
    "\n",
    "        nd.build_lv_grids()\n",
    "\n",
    "    else:\n",
    "\n",
    "        print('IMPLEMENT_MY_ROUTING')\n",
    "        \n",
    "        \n",
    "    nd.mv_routing()\n",
    "    \n",
    "    nd.connect_generators()\n",
    "    #nd.set_branch_ids()\n",
    "    nd.set_circuit_breakers()\n",
    "    \n",
    "    \n",
    "    nd.control_circuit_breakers(mode='open')\n",
    "    nd.run_powerflow(session)\n",
    "    \n",
    "    nd.reinforce_grid()\n",
    "    \n",
    "    \n",
    "    \n",
    "    #nd.control_circuit_breakers(mode='close')\n",
    "    #save_nd_to_pickle(nd, filename='ding0_grids__40.pkl')"
   ]
  },
  {
   "cell_type": "code",
   "execution_count": 5,
   "metadata": {},
   "outputs": [],
   "source": [
    "import networkx as nx # to enable nx.draw()\n",
    "import pandas as pd\n",
    "from sqlalchemy import func\n",
    "from geoalchemy2.shape import to_shape \n",
    "from shapely.wkt import loads"
   ]
  },
  {
   "cell_type": "code",
   "execution_count": 6,
   "metadata": {},
   "outputs": [],
   "source": [
    "from config.config_lv_grids_osm import get_config_osm \n",
    "from config.db_conn_local_bw_sandbox import get_session_osm\n",
    "from config.classes_db_conn.osm_load_classes import Buildings_with_Amenities, Building_wo_Amenity, Amenities_ni_Buildings, Way"
   ]
  },
  {
   "cell_type": "code",
   "execution_count": 7,
   "metadata": {},
   "outputs": [],
   "source": [
    "from grid.lv_grid.routing import build_graph_from_ways, nearest_nodes, get_location_substation_at_pi\n",
    "from grid.lv_grid.parameterization import parameterize_by_load_profiles\n",
    "from grid.lv_grid.clustering import get_n_cluster, cluster_k_means"
   ]
  },
  {
   "cell_type": "code",
   "execution_count": 8,
   "metadata": {},
   "outputs": [],
   "source": [
    "from grid.lv_grid.geo import get_Point_from_x_y, get_points_in_load_area, get_convex_hull_from_points"
   ]
  },
  {
   "cell_type": "code",
   "execution_count": 9,
   "metadata": {
    "tags": []
   },
   "outputs": [],
   "source": [
    "session_osm = get_session_osm()"
   ]
  },
  {
   "cell_type": "code",
   "execution_count": 10,
   "metadata": {},
   "outputs": [
    {
     "name": "stdout",
     "output_type": "stream",
     "text": [
      "build a lv grid for  lv_load_area_4544\n",
      "peak_load by ding0 27.9485612387548\n",
      "STARTING SYNTHESIZING LV GRIDS FOR load_area\n",
      "CALL\n",
      "SYNTHESIZING LV GRIDS for LA TERMINATED\n"
     ]
    }
   ],
   "source": [
    "# FOR TESTING REASONS SELECT ONE LOAD_AREA (Fallenbrunnen) BY ID\n",
    "id_load_area_fallenbrunnen = '4544'\n",
    "\n",
    "load_areas = []\n",
    "\n",
    "\n",
    "for mv_grid_district in nd.mv_grid_districts():\n",
    "    for load_area in mv_grid_district.lv_load_areas():\n",
    "        \n",
    "        \n",
    "        if not load_area.is_aggregated:\n",
    "                \n",
    "            if id_load_area_fallenbrunnen in str(load_area):\n",
    "                \n",
    "                fn_fallenbrunnen_la  = load_area\n",
    "                fn_fallenbrunnen_geo = fn_fallenbrunnen_la.geo_area\n",
    "                \n",
    "                #for lv_district in fn_fallenbrunnen_la._lv_grid_districts:\n",
    "                # does not work due to one districtr has 1 lv station where trafo is located\n",
    "            \n",
    "                print('build a lv grid for ', str(load_area))\n",
    "                print('peak_load by ding0', load_area.peak_load)\n",
    "                print('STARTING SYNTHESIZING LV GRIDS FOR load_area')\n",
    "\n",
    "                print('CALL')\n",
    "\n",
    "                print('SYNTHESIZING LV GRIDS for LA TERMINATED')\n",
    "                \n",
    "                \n",
    "        # if only is_aggregated\n",
    "        #    indent\n",
    "        load_areas.append(load_area)\n",
    "                                \n",
    "                "
   ]
  },
  {
   "cell_type": "code",
   "execution_count": 11,
   "metadata": {},
   "outputs": [],
   "source": [
    "# load ways and buildings...\n",
    "\n",
    "### Load bays\n",
    "ways = session_osm.query(Way).filter(func.st_intersects(func.ST_GeomFromText(fn_fallenbrunnen_geo.wkt, get_config_osm('srid')), Way.geometry)) \n",
    "\n",
    "\n",
    "graph, node_coords_dict = build_graph_from_ways(ways)\n",
    "#nx.draw(graph, node_coords_dict)\n",
    "\n",
    "\n",
    "### Load buildings_w_a\n",
    "buildings_w_a = session_osm.query(Buildings_with_Amenities).filter(func.st_intersects(func.ST_GeomFromText(fn_fallenbrunnen_geo.wkt, get_config_osm('srid')), Buildings_with_Amenities.geometry_amenity)) \n",
    "\n",
    "### Load buildings_wo_a\n",
    "#buildings_wo_a = session_osm.query(Building_wo_Amenity).filter(func.st_intersects(func.ST_GeomFromText(fn_fallenbrunnen_geo.wkt, config_osm['srid']), Building_wo_Amenity.geometry)) \n",
    "buildings_wo_a = session_osm.query(Building_wo_Amenity).filter(func.st_intersects(func.ST_GeomFromText(fn_fallenbrunnen_geo.wkt, get_config_osm('srid')), Building_wo_Amenity.geometry)) \n",
    "\n",
    "### Load buildings_wo_a\n",
    "#amenities_ni_Buildings = session_osm.query(Amenities_ni_Buildings).filter(func.st_intersects(func.ST_GeomFromText(fn_fallenbrunnen_geo.wkt, config_osm['srid']), Amenities_ni_Buildings.geometry)) \n",
    "amenities_ni_Buildings = session_osm.query(Amenities_ni_Buildings).filter(func.st_intersects(func.ST_GeomFromText(fn_fallenbrunnen_geo.wkt, get_config_osm('srid')), Amenities_ni_Buildings.geometry)) \n"
   ]
  },
  {
   "cell_type": "code",
   "execution_count": 12,
   "metadata": {},
   "outputs": [
    {
     "data": {
      "image/png": "[encoded data removed]",
      "text/plain": [
       "<Figure size 432x288 with 1 Axes>"
      ]
     },
     "metadata": {},
     "output_type": "display_data"
    }
   ],
   "source": [
    "nx.draw(graph, node_coords_dict)"
   ]
  },
  {
   "cell_type": "markdown",
   "metadata": {},
   "source": [
    "#### ADD LOADS and ASSIGN NN"
   ]
  },
  {
   "cell_type": "code",
   "execution_count": 13,
   "metadata": {},
   "outputs": [
    {
     "name": "stdout",
     "output_type": "stream",
     "text": [
      "Wall time: 14.5 s\n"
     ]
    }
   ],
   "source": [
    "%%time\n",
    "\n",
    "buildings_w_loads_df = parameterize_by_load_profiles(buildings_w_a, buildings_wo_a, amenities_ni_Buildings)\n",
    "\n",
    "X = buildings_w_loads_df['x'].tolist()\n",
    "Y = buildings_w_loads_df['y'].tolist()\n",
    "    \n",
    "buildings_w_loads_df['nn'], buildings_w_loads_df['nn_dist'] = nearest_nodes(graph, X, Y)\n"
   ]
  },
  {
   "cell_type": "markdown",
   "metadata": {},
   "source": [
    "### Clustering"
   ]
  },
  {
   "cell_type": "code",
   "execution_count": 14,
   "metadata": {},
   "outputs": [],
   "source": [
    "n_clusters = get_n_cluster(buildings_w_loads_df)\n",
    "if n_clusters < len(fn_fallenbrunnen_la._lv_grid_districts):\n",
    "    n_clusters = len(fn_fallenbrunnen_la._lv_grid_districts)\n",
    "buildings_w_loads_df = cluster_k_means(buildings_w_loads_df, n_clusters)"
   ]
  },
  {
   "cell_type": "markdown",
   "metadata": {},
   "source": [
    "### Update and add _districts"
   ]
  },
  {
   "cell_type": "code",
   "execution_count": 15,
   "metadata": {},
   "outputs": [
    {
     "data": {
      "text/html": [
       "<div>\n",
       "<style scoped>\n",
       "    .dataframe tbody tr th:only-of-type {\n",
       "        vertical-align: middle;\n",
       "    }\n",
       "\n",
       "    .dataframe tbody tr th {\n",
       "        vertical-align: top;\n",
       "    }\n",
       "\n",
       "    .dataframe thead th {\n",
       "        text-align: right;\n",
       "    }\n",
       "</style>\n",
       "<table border=\"1\" class=\"dataframe\">\n",
       "  <thead>\n",
       "    <tr style=\"text-align: right;\">\n",
       "      <th></th>\n",
       "      <th>category</th>\n",
       "      <th>capacity</th>\n",
       "      <th>number_households</th>\n",
       "      <th>x</th>\n",
       "      <th>y</th>\n",
       "      <th>geometry</th>\n",
       "      <th>nn</th>\n",
       "      <th>nn_dist</th>\n",
       "      <th>Cluster</th>\n",
       "    </tr>\n",
       "    <tr>\n",
       "      <th>osm_id</th>\n",
       "      <th></th>\n",
       "      <th></th>\n",
       "      <th></th>\n",
       "      <th></th>\n",
       "      <th></th>\n",
       "      <th></th>\n",
       "      <th></th>\n",
       "      <th></th>\n",
       "      <th></th>\n",
       "    </tr>\n",
       "  </thead>\n",
       "  <tbody>\n",
       "    <tr>\n",
       "      <th>35318091</th>\n",
       "      <td>dormitory</td>\n",
       "      <td>88.840440</td>\n",
       "      <td>52.0</td>\n",
       "      <td>9.443895</td>\n",
       "      <td>47.667216</td>\n",
       "      <td>POLYGON ((9.443008799999998 47.66745990001561,...</td>\n",
       "      <td>2927393550</td>\n",
       "      <td>40.266932</td>\n",
       "      <td>0</td>\n",
       "    </tr>\n",
       "    <tr>\n",
       "      <th>222184229</th>\n",
       "      <td>university</td>\n",
       "      <td>46.540341</td>\n",
       "      <td>0.0</td>\n",
       "      <td>9.444999</td>\n",
       "      <td>47.664924</td>\n",
       "      <td>POLYGON ((9.444854599999998 47.66499900001618,...</td>\n",
       "      <td>2311661357</td>\n",
       "      <td>24.986495</td>\n",
       "      <td>0</td>\n",
       "    </tr>\n",
       "    <tr>\n",
       "      <th>247479384</th>\n",
       "      <td>restaurant</td>\n",
       "      <td>158.595981</td>\n",
       "      <td>0.0</td>\n",
       "      <td>9.444379</td>\n",
       "      <td>47.665467</td>\n",
       "      <td>POLYGON ((9.4440598 47.665758600016, 9.4441263...</td>\n",
       "      <td>3840636444</td>\n",
       "      <td>12.316928</td>\n",
       "      <td>0</td>\n",
       "    </tr>\n",
       "    <tr>\n",
       "      <th>249601890</th>\n",
       "      <td>cinema</td>\n",
       "      <td>200.692980</td>\n",
       "      <td>0.0</td>\n",
       "      <td>9.444379</td>\n",
       "      <td>47.665467</td>\n",
       "      <td>POLYGON ((9.4440598 47.665758600016, 9.4441263...</td>\n",
       "      <td>3840636444</td>\n",
       "      <td>12.316928</td>\n",
       "      <td>0</td>\n",
       "    </tr>\n",
       "    <tr>\n",
       "      <th>1510094884</th>\n",
       "      <td>bar</td>\n",
       "      <td>158.595981</td>\n",
       "      <td>0.0</td>\n",
       "      <td>9.444379</td>\n",
       "      <td>47.665467</td>\n",
       "      <td>POLYGON ((9.4440598 47.665758600016, 9.4441263...</td>\n",
       "      <td>3840636444</td>\n",
       "      <td>12.316928</td>\n",
       "      <td>0</td>\n",
       "    </tr>\n",
       "    <tr>\n",
       "      <th>1510098931</th>\n",
       "      <td>theatre</td>\n",
       "      <td>200.692980</td>\n",
       "      <td>0.0</td>\n",
       "      <td>9.444379</td>\n",
       "      <td>47.665467</td>\n",
       "      <td>POLYGON ((9.4440598 47.665758600016, 9.4441263...</td>\n",
       "      <td>3840636444</td>\n",
       "      <td>12.316928</td>\n",
       "      <td>0</td>\n",
       "    </tr>\n",
       "    <tr>\n",
       "      <th>2427156009</th>\n",
       "      <td>university</td>\n",
       "      <td>304.811100</td>\n",
       "      <td>0.0</td>\n",
       "      <td>9.444427</td>\n",
       "      <td>47.666355</td>\n",
       "      <td>POLYGON ((9.443543500000001 47.66659780001582,...</td>\n",
       "      <td>2927393547</td>\n",
       "      <td>39.824731</td>\n",
       "      <td>0</td>\n",
       "    </tr>\n",
       "  </tbody>\n",
       "</table>\n",
       "</div>"
      ],
      "text/plain": [
       "              category    capacity number_households         x          y  \\\n",
       "osm_id                                                                      \n",
       "35318091     dormitory   88.840440              52.0  9.443895  47.667216   \n",
       "222184229   university   46.540341               0.0  9.444999  47.664924   \n",
       "247479384   restaurant  158.595981               0.0  9.444379  47.665467   \n",
       "249601890       cinema  200.692980               0.0  9.444379  47.665467   \n",
       "1510094884         bar  158.595981               0.0  9.444379  47.665467   \n",
       "1510098931     theatre  200.692980               0.0  9.444379  47.665467   \n",
       "2427156009  university  304.811100               0.0  9.444427  47.666355   \n",
       "\n",
       "                                                     geometry          nn  \\\n",
       "osm_id                                                                      \n",
       "35318091    POLYGON ((9.443008799999998 47.66745990001561,...  2927393550   \n",
       "222184229   POLYGON ((9.444854599999998 47.66499900001618,...  2311661357   \n",
       "247479384   POLYGON ((9.4440598 47.665758600016, 9.4441263...  3840636444   \n",
       "249601890   POLYGON ((9.4440598 47.665758600016, 9.4441263...  3840636444   \n",
       "1510094884  POLYGON ((9.4440598 47.665758600016, 9.4441263...  3840636444   \n",
       "1510098931  POLYGON ((9.4440598 47.665758600016, 9.4441263...  3840636444   \n",
       "2427156009  POLYGON ((9.443543500000001 47.66659780001582,...  2927393547   \n",
       "\n",
       "              nn_dist  Cluster  \n",
       "osm_id                          \n",
       "35318091    40.266932        0  \n",
       "222184229   24.986495        0  \n",
       "247479384   12.316928        0  \n",
       "249601890   12.316928        0  \n",
       "1510094884  12.316928        0  \n",
       "1510098931  12.316928        0  \n",
       "2427156009  39.824731        0  "
      ]
     },
     "execution_count": 15,
     "metadata": {},
     "output_type": "execute_result"
    }
   ],
   "source": [
    "buildings_w_loads_df.loc[(buildings_w_loads_df['Cluster']==0)]"
   ]
  },
  {
   "cell_type": "code",
   "execution_count": 16,
   "metadata": {},
   "outputs": [
    {
     "name": "stdout",
     "output_type": "stream",
     "text": [
      "Wall time: 9.38 ms\n"
     ]
    },
    {
     "data": {
      "text/plain": [
       "140"
      ]
     },
     "execution_count": 16,
     "metadata": {},
     "output_type": "execute_result"
    }
   ],
   "source": [
    "%%time\n",
    "\n",
    "geometry = buildings_w_loads_df.loc[(buildings_w_loads_df['Cluster']==0), 'geometry'].tolist()\n",
    "\n",
    "points = get_points_in_load_area(geometry)\n",
    "        \n",
    "len(points)"
   ]
  },
  {
   "cell_type": "code",
   "execution_count": 17,
   "metadata": {},
   "outputs": [
    {
     "data": {
      "image/svg+xml": [
       "<svg xmlns=\"http://www.w3.org/2000/svg\" xmlns:xlink=\"http://www.w3.org/1999/xlink\" width=\"100.0\" height=\"100.0\" viewBox=\"9.442894664000024 47.66468626401624 0.002454771999950367 0.0030816719992969865\" preserveAspectRatio=\"xMinYMin meet\"><g transform=\"matrix(1,0,0,-1,0,95.33245420003178)\"><path fill-rule=\"evenodd\" fill=\"#66cc99\" stroke=\"#555555\" stroke-width=\"6.163343998593973e-05\" opacity=\"0.6\" d=\"M 9.4449668,47.66480040001621 L 9.444477799999998,47.665050300016155 L 9.4433808,47.66681720001574 L 9.443314499999998,47.66692910001574 L 9.443008799999998,47.667459900015615 L 9.4437318,47.667653800015565 L 9.444817999999998,47.66596210001596 L 9.4452353,47.66525890001613 L 9.4451412,47.66484560001622 L 9.4449668,47.66480040001621 z\" /></g></svg>"
      ],
      "text/plain": [
       "<shapely.geometry.polygon.Polygon at 0x1d50dc74eb0>"
      ]
     },
     "execution_count": 17,
     "metadata": {},
     "output_type": "execute_result"
    }
   ],
   "source": [
    "get_convex_hull_from_points(points)"
   ]
  },
  {
   "cell_type": "code",
   "execution_count": 24,
   "metadata": {},
   "outputs": [
    {
     "data": {
      "text/plain": [
       "{'id_db': 20,\n",
       " 'mv_grid_district': mv_grid_district_40,\n",
       " '_lv_load_areas': [lv_load_area_4544,\n",
       "  lv_load_area_4545,\n",
       "  lv_load_area_4548,\n",
       "  MVCableDist_mvgd_40_26],\n",
       " 'peak_load': 65.35928151751943,\n",
       " 'branch_length_sum': 0,\n",
       " 'peak_load_max': 1000.0,\n",
       " 'branch_length_max': 2000.0,\n",
       " 'root_node': MVCableDist_mvgd_40_23}"
      ]
     },
     "execution_count": 24,
     "metadata": {},
     "output_type": "execute_result"
    }
   ],
   "source": [
    "fn_fallenbrunnen_la.lv_load_area_group.__dict__"
   ]
  },
  {
   "cell_type": "code",
   "execution_count": 28,
   "metadata": {},
   "outputs": [
    {
     "data": {
      "text/plain": [
       "{'id_db': 40,\n",
       " 'mv_grid': mv_grid_40,\n",
       " '_lv_load_areas': [lv_load_area_2128,\n",
       "  lv_load_area_2292,\n",
       "  lv_load_area_2383,\n",
       "  lv_load_area_2520,\n",
       "  lv_load_area_2521,\n",
       "  lv_load_area_2561,\n",
       "  lv_load_area_2608,\n",
       "  lv_load_area_2625,\n",
       "  lv_load_area_2633,\n",
       "  lv_load_area_2705,\n",
       "  lv_load_area_2728,\n",
       "  lv_load_area_2763,\n",
       "  lv_load_area_2765,\n",
       "  lv_load_area_2840,\n",
       "  lv_load_area_2842,\n",
       "  lv_load_area_3029,\n",
       "  lv_load_area_3088,\n",
       "  lv_load_area_3089,\n",
       "  lv_load_area_3119,\n",
       "  lv_load_area_3160,\n",
       "  lv_load_area_3235,\n",
       "  lv_load_area_3277,\n",
       "  lv_load_area_3304,\n",
       "  lv_load_area_3305,\n",
       "  lv_load_area_3307,\n",
       "  lv_load_area_3311,\n",
       "  lv_load_area_3314,\n",
       "  lv_load_area_3403,\n",
       "  lv_load_area_3413,\n",
       "  lv_load_area_3645,\n",
       "  lv_load_area_3661,\n",
       "  lv_load_area_3731,\n",
       "  lv_load_area_3780,\n",
       "  lv_load_area_3805,\n",
       "  lv_load_area_3911,\n",
       "  lv_load_area_3986,\n",
       "  lv_load_area_3987,\n",
       "  lv_load_area_3992,\n",
       "  lv_load_area_4212,\n",
       "  lv_load_area_4337,\n",
       "  lv_load_area_4347,\n",
       "  lv_load_area_4487,\n",
       "  lv_load_area_4488,\n",
       "  lv_load_area_4544,\n",
       "  lv_load_area_4545,\n",
       "  lv_load_area_4546,\n",
       "  lv_load_area_4547,\n",
       "  lv_load_area_4548,\n",
       "  lv_load_area_4549,\n",
       "  lv_load_area_4550,\n",
       "  lv_load_area_4620,\n",
       "  lv_load_area_4621,\n",
       "  lv_load_area_4622,\n",
       "  lv_load_area_4670,\n",
       "  lv_load_area_4674,\n",
       "  lv_load_area_4735,\n",
       "  lv_load_area_4764,\n",
       "  lv_load_area_4830,\n",
       "  lv_load_area_4831,\n",
       "  lv_load_area_4840,\n",
       "  lv_load_area_4855,\n",
       "  lv_load_area_4868,\n",
       "  lv_load_area_4918,\n",
       "  lv_load_area_5227,\n",
       "  lv_load_area_5305,\n",
       "  lv_load_area_5371,\n",
       "  lv_load_area_5372,\n",
       "  lv_load_area_5404,\n",
       "  lv_load_area_5511,\n",
       "  lv_load_area_5525,\n",
       "  lv_load_area_5529,\n",
       "  lv_load_area_5536,\n",
       "  lv_load_area_5583,\n",
       "  lv_load_area_5588,\n",
       "  lv_load_area_5595],\n",
       " '_lv_load_area_groups': [load_area_group_1,\n",
       "  load_area_group_2,\n",
       "  load_area_group_3,\n",
       "  load_area_group_4,\n",
       "  load_area_group_5,\n",
       "  load_area_group_6,\n",
       "  load_area_group_7,\n",
       "  load_area_group_8,\n",
       "  load_area_group_9,\n",
       "  load_area_group_10,\n",
       "  load_area_group_11,\n",
       "  load_area_group_12,\n",
       "  load_area_group_13,\n",
       "  load_area_group_14,\n",
       "  load_area_group_15,\n",
       "  load_area_group_16,\n",
       "  load_area_group_17,\n",
       "  load_area_group_18,\n",
       "  load_area_group_19,\n",
       "  load_area_group_20,\n",
       "  load_area_group_21,\n",
       "  load_area_group_22,\n",
       "  load_area_group_23,\n",
       "  load_area_group_24,\n",
       "  load_area_group_25,\n",
       "  load_area_group_26,\n",
       "  load_area_group_27,\n",
       "  load_area_group_28,\n",
       "  load_area_group_29,\n",
       "  load_area_group_30,\n",
       "  load_area_group_31,\n",
       "  load_area_group_32,\n",
       "  load_area_group_33,\n",
       "  load_area_group_34,\n",
       "  load_area_group_35,\n",
       "  load_area_group_36,\n",
       "  load_area_group_37,\n",
       "  load_area_group_38,\n",
       "  load_area_group_39],\n",
       " 'geo_data': <shapely.geometry.multipolygon.MultiPolygon at 0x1d51256bf10>,\n",
       " 'peak_load': 67057.57197852976,\n",
       " 'peak_load_satellites': 852.3248953957927,\n",
       " 'peak_load_aggregated': 54058.0529320802}"
      ]
     },
     "execution_count": 28,
     "metadata": {},
     "output_type": "execute_result"
    }
   ],
   "source": [
    "nd._mv_grid_districts[0].__dict__"
   ]
  },
  {
   "cell_type": "code",
   "execution_count": 17,
   "metadata": {},
   "outputs": [
    {
     "data": {
      "text/plain": [
       "{'id_db': 4563,\n",
       " 'geo_data': <shapely.geometry.point.Point at 0x118800eba90>,\n",
       " 'grid': lv_grid_4563,\n",
       " '_transformers': [Transformer_lv_grid_4563_1],\n",
       " 'v_level_operation': None,\n",
       " 'lv_load_area': lv_load_area_4544,\n",
       " 'voltage_res': [0.9897135909377942, 1.0123145234795161]}"
      ]
     },
     "execution_count": 17,
     "metadata": {},
     "output_type": "execute_result"
    }
   ],
   "source": [
    "fn_fallenbrunnen_la._lv_grid_districts[0].lv_grid._station.__dict__"
   ]
  },
  {
   "cell_type": "code",
   "execution_count": 17,
   "metadata": {},
   "outputs": [
    {
     "name": "stdout",
     "output_type": "stream",
     "text": [
      "update _lv_grid_districts 0\n",
      "add _lv_grid_districts id 1\n",
      "add _lv_grid_districts id 2\n"
     ]
    }
   ],
   "source": [
    "preprocessed_clusters = []   \n",
    "    \n",
    "\n",
    "for cluster_id in range(n_clusters):\n",
    "    \n",
    "    if cluster_id < len(fn_fallenbrunnen_la._lv_grid_districts):\n",
    "        \n",
    "        print('delete or update _lv_grid_districts[', cluster_id, ']')\n",
    "        \n",
    "        # GET NEW VALUES FOR DISTRICT        \n",
    "        # get convex hull of cluster\n",
    "        points = get_points_in_load_area(buildings_w_loads_df.loc[buildings_w_loads_df['Cluster']==cluster_id])\n",
    "        district_convex_hull = get_convex_hull_from_points(points)\n",
    "        \n",
    "        # get location of substation for cluster\n",
    "        station_x, station_y = get_location_substation_at_pi(graph, buildings_w_loads_df.loc[(buildings_w_loads_df['Cluster']==0)])\n",
    "\n",
    "        \n",
    "        # UPDATE VALUES\n",
    "        # update values of _lv_grid_districts[cluster_id]\n",
    "        fn_fallenbrunnen_la._lv_grid_districts[cluster_id].geo_data  = district_convex_hull\n",
    "        fn_fallenbrunnen_la._lv_grid_districts[cluster_id].poulation = buildings_w_loads_df.loc[buildings_w_loads_df['Cluster']==cluster_id]['number_households'].sum()\n",
    "        \n",
    "        fn_fallenbrunnen_la._lv_grid_districts[cluster_id].peak_load = buildings_w_loads_df.loc[(buildings_w_loads_df['Cluster']==0)]['capacity'].sum()\n",
    "        fn_fallenbrunnen_la._lv_grid_districts[cluster_id].peak_load_residential = buildings_w_loads_df.loc[(buildings_w_loads_df['Cluster']==cluster_id) & buildings_w_loads_df['number_households'] > 0]['capacity'].sum()\n",
    "        \n",
    "        \n",
    "        # ADD / RESET DING0 ELEMENTS\n",
    "        # update position of substation\n",
    "        fn_fallenbrunnen_la._lv_grid_districts[0].lv_grid._station.geo_data = get_Point_from_x_y(station_x, station_y)\n",
    "        \n",
    "        # reset list to add new elements\n",
    "        fn_fallenbrunnen_la._lv_grid_districts[cluster_id].lv_grid._station.transformers.clear()\n",
    "        \n",
    "        \n",
    "        # update trafo and loads\n",
    "        #fn_fallenbrunnen_la._lv_grid_districts[cluster_id].lv_grid.build_grid()\n",
    "        \n",
    "        \n",
    "    else:\n",
    "        \n",
    "        print('add _lv_grid_districts id', cluster_id)\n",
    "        \n",
    "        \n",
    "        \n",
    "        \n",
    "        \n",
    "    break\n",
    "    "
   ]
  },
  {
   "cell_type": "code",
   "execution_count": 21,
   "metadata": {},
   "outputs": [
    {
     "data": {
      "text/plain": [
       "{'id_db': 4563,\n",
       " 'geo_data': <shapely.geometry.point.Point at 0x1d50cd257f0>,\n",
       " 'grid': lv_grid_4563,\n",
       " '_transformers': [Transformer_lv_grid_4563_1],\n",
       " 'v_level_operation': None,\n",
       " 'lv_load_area': lv_load_area_4544,\n",
       " 'voltage_res': [0.9897135909377942, 1.0123145234795161]}"
      ]
     },
     "execution_count": 21,
     "metadata": {},
     "output_type": "execute_result"
    }
   ],
   "source": [
    "fn_fallenbrunnen_la._lv_grid_districts[0].lv_grid._station.__dict__"
   ]
  },
  {
   "cell_type": "code",
   "execution_count": null,
   "metadata": {},
   "outputs": [],
   "source": []
  },
  {
   "cell_type": "code",
   "execution_count": null,
   "metadata": {},
   "outputs": [],
   "source": []
  },
  {
   "cell_type": "code",
   "execution_count": null,
   "metadata": {},
   "outputs": [],
   "source": []
  },
  {
   "cell_type": "code",
   "execution_count": null,
   "metadata": {},
   "outputs": [],
   "source": []
  },
  {
   "cell_type": "code",
   "execution_count": null,
   "metadata": {},
   "outputs": [],
   "source": []
  },
  {
   "cell_type": "code",
   "execution_count": 19,
   "metadata": {},
   "outputs": [],
   "source": [
    "#lv_district_of_interest.lv_grid.graph_draw(mode='LV')"
   ]
  },
  {
   "cell_type": "code",
   "execution_count": 16,
   "metadata": {},
   "outputs": [
    {
     "ename": "NameError",
     "evalue": "name 'lv_district_of_interest' is not defined",
     "output_type": "error",
     "traceback": [
      "\u001b[1;31m---------------------------------------------------------------------------\u001b[0m",
      "\u001b[1;31mNameError\u001b[0m                                 Traceback (most recent call last)",
      "\u001b[1;32m<ipython-input-16-52e70a767919>\u001b[0m in \u001b[0;36m<module>\u001b[1;34m\u001b[0m\n\u001b[1;32m----> 1\u001b[1;33m \u001b[0mlv_district_of_interest\u001b[0m\u001b[1;33m.\u001b[0m\u001b[0mlv_grid\u001b[0m\u001b[1;33m.\u001b[0m\u001b[0m__dict__\u001b[0m \u001b[1;31m# .geo_data.wkt\u001b[0m\u001b[1;33m\u001b[0m\u001b[1;33m\u001b[0m\u001b[0m\n\u001b[0m",
      "\u001b[1;31mNameError\u001b[0m: name 'lv_district_of_interest' is not defined"
     ]
    }
   ],
   "source": [
    "lv_district_of_interest.lv_grid.__dict__ # .geo_data.wkt"
   ]
  },
  {
   "cell_type": "code",
   "execution_count": null,
   "metadata": {},
   "outputs": [],
   "source": []
  },
  {
   "cell_type": "code",
   "execution_count": null,
   "metadata": {},
   "outputs": [],
   "source": []
  },
  {
   "cell_type": "code",
   "execution_count": null,
   "metadata": {},
   "outputs": [],
   "source": []
  },
  {
   "cell_type": "code",
   "execution_count": null,
   "metadata": {},
   "outputs": [],
   "source": []
  },
  {
   "cell_type": "code",
   "execution_count": 19,
   "metadata": {},
   "outputs": [],
   "source": [
    "from sklearn.cluster import AgglomerativeClustering\n",
    "import numpy as np"
   ]
  },
  {
   "cell_type": "code",
   "execution_count": 20,
   "metadata": {},
   "outputs": [],
   "source": [
    "X = []    # collect nodes\n",
    "\n",
    "for node in graph.nodes:\n",
    "\n",
    "    X.append([graph.nodes[node]['X'], graph.nodes[node]['Y']])\n",
    "    \n",
    "    \n",
    "X = np.array(X)\n",
    "\n",
    "\n",
    "\n",
    "# clustering\n",
    "\n",
    "adj_mat_sparse = nx.adjacency_matrix(graph, weight='length')\n",
    "\n",
    "clustering = AgglomerativeClustering(n_clusters=n_clusters, linkage='ward', connectivity=adj_mat_sparse).fit(X)\n",
    "\n",
    "\n",
    "\n",
    "\n",
    "\n",
    "\n",
    "# assign cluster labels\n",
    "\n",
    "i_label = 0\n",
    "\n",
    "for node in list(graph.nodes):\n",
    "\n",
    "    graph.nodes[node]['cluster'] = clustering.labels_[i_label]\n",
    "    \n",
    "    i_label += 1\n",
    "    \n",
    "labels = nx.get_node_attributes(graph, 'cluster') "
   ]
  },
  {
   "cell_type": "code",
   "execution_count": 23,
   "metadata": {},
   "outputs": [
    {
     "data": {
      "image/png": "[encoded data removed]",
      "text/plain": [
       "<Figure size 432x288 with 1 Axes>"
      ]
     },
     "metadata": {},
     "output_type": "display_data"
    }
   ],
   "source": [
    "nx.draw(graph, node_coords_dict,labels=labels)"
   ]
  },
  {
   "cell_type": "code",
   "execution_count": null,
   "metadata": {},
   "outputs": [],
   "source": []
  },
  {
   "cell_type": "code",
   "execution_count": 24,
   "metadata": {},
   "outputs": [],
   "source": [
    "X = []    # collect nodes\n",
    "\n",
    "for node in graph.nodes:\n",
    "\n",
    "    X.append([graph.nodes[node]['X'], graph.nodes[node]['Y']])\n",
    "    \n",
    "    \n",
    "X = np.array(X)\n",
    "\n",
    "\n",
    "\n",
    "# clustering\n",
    "\n",
    "adj_mat_sparse = nx.to_numpy_matrix(graph, weight='length')\n",
    "\n",
    "clustering = AgglomerativeClustering(n_clusters=n_clusters, linkage='ward', connectivity=adj_mat_sparse).fit(X)\n",
    "\n",
    "\n",
    "\n",
    "\n",
    "\n",
    "\n",
    "# assign cluster labels\n",
    "\n",
    "i_label = 0\n",
    "\n",
    "for node in list(graph.nodes):\n",
    "\n",
    "    graph.nodes[node]['cluster'] = clustering.labels_[i_label]\n",
    "    \n",
    "    i_label += 1\n",
    "    \n",
    "labels = nx.get_node_attributes(graph, 'cluster') "
   ]
  },
  {
   "cell_type": "code",
   "execution_count": 25,
   "metadata": {},
   "outputs": [
    {
     "data": {
      "image/png": "[encoded data removed]",
      "text/plain": [
       "<Figure size 432x288 with 1 Axes>"
      ]
     },
     "metadata": {},
     "output_type": "display_data"
    }
   ],
   "source": [
    "nx.draw(graph, node_coords_dict,labels=labels)"
   ]
  },
  {
   "cell_type": "code",
   "execution_count": null,
   "metadata": {},
   "outputs": [],
   "source": []
  }
 ],
 "metadata": {
  "kernelspec": {
   "display_name": "Python 3",
   "language": "python",
   "name": "python3"
  },
  "language_info": {
   "codemirror_mode": {
    "name": "ipython",
    "version": 3
   },
   "file_extension": ".py",
   "mimetype": "text/x-python",
   "name": "python",
   "nbconvert_exporter": "python",
   "pygments_lexer": "ipython3",
   "version": "3.8.5"
  }
 },
 "nbformat": 4,
 "nbformat_minor": 4
}
