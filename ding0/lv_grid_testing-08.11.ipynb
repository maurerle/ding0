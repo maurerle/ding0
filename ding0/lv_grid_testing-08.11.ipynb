{
 "cells": [
  {
   "cell_type": "markdown",
   "metadata": {},
   "source": [
    "<img src=\"https://gist.githubusercontent.com/nesnoj/6ee605cd3494fa6e3e848385c4afbe19/raw/a883b1bdc69c0c5bbb0b00ba92f43033aa86ec64/dingo_model.png\" alt=\"DINGO Model\" width=\"800\"  align=\"center\">"
   ]
  },
  {
   "cell_type": "code",
   "execution_count": 1,
   "metadata": {},
   "outputs": [],
   "source": [
    "import warnings\n",
    "\n",
    "from pandas.core.common import SettingWithCopyWarning\n",
    "\n",
    "warnings.simplefilter(action=\"ignore\", category=SettingWithCopyWarning)"
   ]
  },
  {
   "cell_type": "code",
   "execution_count": 2,
   "metadata": {},
   "outputs": [],
   "source": [
    "%%capture\n",
    "\n",
    "from ding0.core import NetworkDing0\n",
    "from ding0.tools.logger import setup_logger\n",
    "from ding0.tools.results import save_nd_to_pickle\n",
    "from ding0.tools.plots import plot_mv_topology\n",
    "from egoio.tools import db\n",
    "from sqlalchemy.orm import sessionmaker\n",
    "import oedialect\n",
    "\n",
    "from ding0.tools import results # to load pickl file\n",
    "\n",
    "\n",
    "# create new network\n",
    "nd = NetworkDing0(name='network')\n",
    "\n",
    "\n",
    "# set ID of MV grid district\n",
    "mv_grid_districts = [40] # fn"
   ]
  },
  {
   "cell_type": "code",
   "execution_count": 3,
   "metadata": {},
   "outputs": [],
   "source": [
    "import osmnx as ox\n",
    "\n",
    "import networkx as nx \n",
    "\n",
    "import pandas as pd\n",
    "from sqlalchemy import func              \n",
    "from geoalchemy2.shape import to_shape \n",
    "\n",
    "\n",
    "from shapely.geometry import Point, Polygon, LineString\n",
    "\n",
    "\n",
    "\n",
    "import folium"
   ]
  },
  {
   "cell_type": "code",
   "execution_count": 4,
   "metadata": {},
   "outputs": [],
   "source": [
    "from config.config_lv_grids_osm import get_config_osm\n",
    "from config.db_conn_local import create_session_osm \n",
    "\n",
    "from grid.lv_grid.routing import build_graph_from_ways, \\\n",
    "get_location_substation_at_pi, subdivide_graph_edges, \\\n",
    "get_mvlv_subst_loc_list, get_cluster_graph_and_nodes, \\\n",
    "add_mv_load_station_to_mvlv_subst_list\n",
    "\n",
    "from grid.lv_grid.parameterization import parameterize_by_load_profiles\n",
    "#from grid.lv_grid.clustering import \n",
    "\n",
    "from grid.lv_grid.geo import get_Point_from_x_y, get_points_in_load_area, \\\n",
    "get_convex_hull_from_points"
   ]
  },
  {
   "cell_type": "markdown",
   "metadata": {},
   "source": [
    "#### SET DING0 SETTINGS"
   ]
  },
  {
   "cell_type": "code",
   "execution_count": 5,
   "metadata": {},
   "outputs": [],
   "source": [
    "# TODO set in config file\n",
    "ding0_default=False\n",
    "retain_all=False #  weil sonst graphen außerhalb des polys unverbunden zum graphen beibehalten werden"
   ]
  },
  {
   "cell_type": "code",
   "execution_count": 6,
   "metadata": {},
   "outputs": [],
   "source": [
    "engine = db.connection(section='oedb_dialect', readonly=True)\n",
    "session = sessionmaker(bind=engine)()"
   ]
  },
  {
   "cell_type": "code",
   "execution_count": 7,
   "metadata": {},
   "outputs": [
    {
     "name": "stdout",
     "output_type": "stream",
     "text": [
      "ding0_default False\n",
      "Begin topologically simplifying the graph...\n",
      "Simplified graph: 162 to 108 nodes, 328 to 220 edges\n",
      "Wall time: 4.14 s\n"
     ]
    }
   ],
   "source": [
    "%%time\n",
    "\n",
    "print('ding0_default', ding0_default)\n",
    "if ding0_default:\n",
    "    \n",
    "    lv_stations, lv_grid_districts = nd.import_mv_grid_districts(session, mv_grid_districts_no=mv_grid_districts)\n",
    "\n",
    "else:\n",
    "    id_db, row, simp_graph, geo_load_area, buildings_w_loads_df, street_loads = nd.import_mv_grid_districts(\n",
    "        session, ding0_default, mv_grid_districts_no=mv_grid_districts)"
   ]
  },
  {
   "cell_type": "markdown",
   "metadata": {},
   "source": [
    "### clustering"
   ]
  },
  {
   "cell_type": "code",
   "execution_count": 8,
   "metadata": {},
   "outputs": [],
   "source": [
    "from grid.lv_grid.clustering import get_cluster_numbers, apply_AgglomerativeClustering"
   ]
  },
  {
   "cell_type": "code",
   "execution_count": 9,
   "metadata": {},
   "outputs": [],
   "source": [
    "n_cluster = get_cluster_numbers(buildings_w_loads_df)\n",
    "#todo reset n_cluster\n",
    "n_cluster = 4\n",
    "labels = apply_AgglomerativeClustering(simp_graph, n_cluster)"
   ]
  },
  {
   "cell_type": "code",
   "execution_count": 10,
   "metadata": {},
   "outputs": [],
   "source": [
    "cluster_graph, nodes_w_labels = get_cluster_graph_and_nodes(simp_graph, labels)\n",
    "mvlv_subst_list = get_mvlv_subst_loc_list(cluster_graph, nodes_w_labels, street_loads, labels, n_cluster)"
   ]
  },
  {
   "cell_type": "code",
   "execution_count": 11,
   "metadata": {},
   "outputs": [],
   "source": [
    "# get loadds on mv level\n",
    "#mv_lv_level_threshold = get_config_osm('mv_lv_threshold_capacity')\n",
    "# TODO weg mit den 40 wg testing\n",
    "mv_lv_level_threshold = 40\n",
    "\n",
    "loads_mv_df = buildings_w_loads_df.loc[buildings_w_loads_df.capacity >= mv_lv_level_threshold]\n",
    "\n",
    "#assign cluster id to loads on mv level\n",
    "mv_cluster_ids = list(range(n_cluster, n_cluster + len(loads_mv_df)))\n",
    "loads_mv_df['cluster'] = mv_cluster_ids\n",
    "\n",
    "\n",
    "# map cluster to buildings of lv level\n",
    "buildings_w_loads_df = buildings_w_loads_df[~buildings_w_loads_df.index.isin(loads_mv_df.index.tolist())]\n",
    "buildings_w_loads_df['cluster'] = buildings_w_loads_df.nn.map(nodes_w_labels.cluster)\n",
    "\n",
    "\n",
    "# concat lv and mv level after assignment of cluster ids\n",
    "buildings_w_loads_df = pd.concat([buildings_w_loads_df, loads_mv_df])\n"
   ]
  },
  {
   "cell_type": "code",
   "execution_count": 12,
   "metadata": {},
   "outputs": [],
   "source": [
    "mvlv_subst_list = add_mv_load_station_to_mvlv_subst_list(loads_mv_df, mvlv_subst_list, nodes_w_labels)"
   ]
  },
  {
   "cell_type": "code",
   "execution_count": 13,
   "metadata": {},
   "outputs": [
    {
     "data": {
      "text/plain": [
       "[{'x': 4282465.613186001,\n",
       "  'y': 2732307.0927902046,\n",
       "  'node_type': 'non_synthetic',\n",
       "  'lon': 9.486881299999999,\n",
       "  'lat': 47.70317630000739,\n",
       "  'cluster': 0,\n",
       "  'osmid': 329334526,\n",
       "  'load_level': 'lv'},\n",
       " {'x': 4282038.495855372,\n",
       "  'y': 2732459.481623211,\n",
       "  'node_type': 'non_synthetic',\n",
       "  'lon': 9.481180199999999,\n",
       "  'lat': 47.70452090000708,\n",
       "  'cluster': 1,\n",
       "  'osmid': 331517321,\n",
       "  'load_level': 'lv'},\n",
       " {'x': 4282110.657747543,\n",
       "  'y': 2732248.5396371987,\n",
       "  'node_type': 'non_synthetic',\n",
       "  'lon': 9.4821602,\n",
       "  'lat': 47.70262710000751,\n",
       "  'cluster': 2,\n",
       "  'osmid': 3071953083,\n",
       "  'load_level': 'lv'},\n",
       " {'x': 4282171.9559385115,\n",
       "  'y': 2732383.5311303716,\n",
       "  'node_type': 'non_synthetic',\n",
       "  'lon': 9.482964199999998,\n",
       "  'lat': 47.703845800007244,\n",
       "  'cluster': 3,\n",
       "  'osmid': 443336608,\n",
       "  'load_level': 'lv'},\n",
       " {'x': nan,\n",
       "  'y': nan,\n",
       "  'node_type': 'non_synthetic',\n",
       "  'lon': 9.483255199999999,\n",
       "  'lat': 47.70450509625661,\n",
       "  'cluster': 4,\n",
       "  'osmid': 443338172,\n",
       "  'load_level': 'mv'}]"
      ]
     },
     "execution_count": 13,
     "metadata": {},
     "output_type": "execute_result"
    }
   ],
   "source": [
    "mvlv_subst_list"
   ]
  },
  {
   "cell_type": "code",
   "execution_count": 14,
   "metadata": {},
   "outputs": [],
   "source": [
    "cluster_graph_proj = ox.projection.project_graph(cluster_graph, to_crs='epsg:4326')\n"
   ]
  },
  {
   "cell_type": "code",
   "execution_count": 15,
   "metadata": {},
   "outputs": [
    {
     "data": {
      "image/png": "[encoded data removed]",
      "text/plain": [
       "<Figure size 576x576 with 1 Axes>"
      ]
     },
     "metadata": {},
     "output_type": "display_data"
    }
   ],
   "source": [
    "nc = ox.plot.get_node_colors_by_attr(cluster_graph_proj, attr='cluster')\n",
    "fig, ax = ox.plot_graph(cluster_graph_proj, node_color=nc, node_size=50, edge_color='w', edge_linewidth=1, show=False, close=False)\n",
    "\n",
    "for mvlv_subst_loc in mvlv_subst_list:\n",
    "    \n",
    "    ax.scatter(mvlv_subst_loc['lon'],mvlv_subst_loc['lat'],s=70,c='red')\n",
    "\n"
   ]
  },
  {
   "cell_type": "code",
   "execution_count": 16,
   "metadata": {},
   "outputs": [
    {
     "data": {
      "text/plain": [
       "1    57\n",
       "0    37\n",
       "3    36\n",
       "2    23\n",
       "4     1\n",
       "Name: cluster, dtype: int64"
      ]
     },
     "execution_count": 16,
     "metadata": {},
     "output_type": "execute_result"
    }
   ],
   "source": [
    "buildings_w_loads_df.cluster.value_counts()"
   ]
  },
  {
   "cell_type": "code",
   "execution_count": 91,
   "metadata": {},
   "outputs": [],
   "source": []
  },
  {
   "cell_type": "code",
   "execution_count": 21,
   "metadata": {
    "collapsed": true,
    "jupyter": {
     "outputs_hidden": true
    },
    "tags": []
   },
   "outputs": [
    {
     "data": {
      "text/plain": [
       "zensus_sum                                                               261.0\n",
       "zensus_cnt                                                                18.0\n",
       "ioer_sum                                                                  None\n",
       "ioer_cnt                                                                  None\n",
       "area                                                                 21.629852\n",
       "sector_area_residential                                              11.895053\n",
       "sector_area_retail                                                         NaN\n",
       "sector_area_industrial                                                     NaN\n",
       "sector_area_agricultural                                                   NaN\n",
       "sector_share_residential                                              0.549937\n",
       "sector_share_retail                                                        NaN\n",
       "sector_share_industrial                                                    NaN\n",
       "sector_share_agricultural                                                  NaN\n",
       "sector_count_residential                                                   2.0\n",
       "sector_count_retail                                                        NaN\n",
       "sector_count_industrial                                                    NaN\n",
       "sector_count_agricultural                                                  NaN\n",
       "nuts_code                                                                DE147\n",
       "geo_area                     POLYGON((9.48065814797112 47.702048792915,9.48...\n",
       "geo_centre                            POINT(9.48333382615772 47.7035934456626)\n",
       "peak_load_residential                                                91.182181\n",
       "peak_load_retail                                                           0.0\n",
       "peak_load_industrial                                                       0.0\n",
       "peak_load_agricultural                                                     0.0\n",
       "peak_load                                                            91.182181\n",
       "Name: 5588, dtype: object"
      ]
     },
     "execution_count": 21,
     "metadata": {},
     "output_type": "execute_result"
    }
   ],
   "source": [
    "row"
   ]
  },
  {
   "cell_type": "code",
   "execution_count": 20,
   "metadata": {},
   "outputs": [
    {
     "data": {
      "text/plain": [
       "5588"
      ]
     },
     "execution_count": 20,
     "metadata": {},
     "output_type": "execute_result"
    }
   ],
   "source": [
    "id_db"
   ]
  },
  {
   "cell_type": "code",
   "execution_count": 112,
   "metadata": {},
   "outputs": [],
   "source": [
    "from shapely.geometry import MultiPoint, Point, shape\n",
    "from grid.lv_grid.geo import get_points_in_load_area, get_convex_hull_from_points"
   ]
  },
  {
   "cell_type": "code",
   "execution_count": 128,
   "metadata": {},
   "outputs": [
    {
     "name": "stdout",
     "output_type": "stream",
     "text": [
      "Wall time: 69 ms\n"
     ]
    }
   ],
   "source": [
    "%%time\n",
    "\n",
    "ch_polys = []\n",
    "\n",
    "for cluster_i in range(len(mvlv_subst_list)):\n",
    "\n",
    "    # get convex hull per cluster\n",
    "    cluster_geo_list = buildings_w_loads_df.loc[buildings_w_loads_df.cluster==cluster_i].geometry.tolist()\n",
    "\n",
    "    points = get_points_in_load_area(cluster_geo_list)\n",
    "\n",
    "    polygon = get_convex_hull_from_points(points)\n",
    "    \n",
    "    ch_polys.append(polygon)\n",
    "    \n",
    "    \n",
    "for geo in mv_load_substation_geo_list:\n",
    "    \n",
    "    points = get_points_in_load_area([geo])\n",
    "\n",
    "    polygon = get_convex_hull_from_points(points)\n",
    "    \n",
    "    ch_polys.append(polygon)"
   ]
  },
  {
   "cell_type": "code",
   "execution_count": 104,
   "metadata": {},
   "outputs": [],
   "source": [
    "# init empty stations_df\n",
    "lv_stations = pd.DataFrame(columns=['la_id', 'geom'])\n",
    "lv_stations.index.name = 'mvlv_subst_id'"
   ]
  },
  {
   "cell_type": "code",
   "execution_count": 124,
   "metadata": {},
   "outputs": [],
   "source": [
    "# add stations for cluster load centers\n",
    "last_row_ix = len(lv_stations)\n",
    "for mvlv_subst_loc in mvlv_subst_list:\n",
    "    \n",
    "    cluster_id = mvlv_subst_loc.get('cluster')\n",
    "    lv_stations.loc[last_row_ix+cluster_id] = [id_db, Point(mvlv_subst_loc.get('lon'),mvlv_subst_loc.get('lat'))]\n",
    "    \n",
    "    \n",
    "    \n",
    "    \n",
    "# add stations for buildings on mv level\n",
    "mv_load_substation_loc_list = buildings_w_loads_df.loc[buildings_w_loads_df.capacity >= mv_lv_level_threshold].nn_coords.tolist()\n",
    "mv_load_substation_geo_list = buildings_w_loads_df.loc[buildings_w_loads_df.capacity >= mv_lv_level_threshold].geometry.tolist()\n",
    "\n",
    "\n",
    "for mv_load_substation_loc in mv_load_substation_loc_list:\n",
    "    \n",
    "    lv_stations.loc[len(lv_stations)] = [id_db, mv_load_substation_loc]\n"
   ]
  },
  {
   "cell_type": "code",
   "execution_count": 125,
   "metadata": {},
   "outputs": [
    {
     "data": {
      "text/html": [
       "<div>\n",
       "<style scoped>\n",
       "    .dataframe tbody tr th:only-of-type {\n",
       "        vertical-align: middle;\n",
       "    }\n",
       "\n",
       "    .dataframe tbody tr th {\n",
       "        vertical-align: top;\n",
       "    }\n",
       "\n",
       "    .dataframe thead th {\n",
       "        text-align: right;\n",
       "    }\n",
       "</style>\n",
       "<table border=\"1\" class=\"dataframe\">\n",
       "  <thead>\n",
       "    <tr style=\"text-align: right;\">\n",
       "      <th></th>\n",
       "      <th>la_id</th>\n",
       "      <th>geom</th>\n",
       "    </tr>\n",
       "    <tr>\n",
       "      <th>mvlv_subst_id</th>\n",
       "      <th></th>\n",
       "      <th></th>\n",
       "    </tr>\n",
       "  </thead>\n",
       "  <tbody>\n",
       "    <tr>\n",
       "      <th>0</th>\n",
       "      <td>5588</td>\n",
       "      <td>POINT (9.486881299999999 47.70317630000739)</td>\n",
       "    </tr>\n",
       "    <tr>\n",
       "      <th>1</th>\n",
       "      <td>5588</td>\n",
       "      <td>POINT (9.481180199999999 47.70452090000708)</td>\n",
       "    </tr>\n",
       "    <tr>\n",
       "      <th>2</th>\n",
       "      <td>5588</td>\n",
       "      <td>POINT (9.482160199999999 47.70262710000751)</td>\n",
       "    </tr>\n",
       "    <tr>\n",
       "      <th>3</th>\n",
       "      <td>5588</td>\n",
       "      <td>POINT (9.482964199999998 47.70384580000724)</td>\n",
       "    </tr>\n",
       "    <tr>\n",
       "      <th>4</th>\n",
       "      <td>5588</td>\n",
       "      <td>POINT (9.483255199999999 47.70450509625661)</td>\n",
       "    </tr>\n",
       "    <tr>\n",
       "      <th>5</th>\n",
       "      <td>5588</td>\n",
       "      <td>POINT (9.486881299999999 47.70317630000739)</td>\n",
       "    </tr>\n",
       "    <tr>\n",
       "      <th>6</th>\n",
       "      <td>5588</td>\n",
       "      <td>POINT (9.481180199999999 47.70452090000708)</td>\n",
       "    </tr>\n",
       "    <tr>\n",
       "      <th>7</th>\n",
       "      <td>5588</td>\n",
       "      <td>POINT (9.482160199999999 47.70262710000751)</td>\n",
       "    </tr>\n",
       "    <tr>\n",
       "      <th>8</th>\n",
       "      <td>5588</td>\n",
       "      <td>POINT (9.482964199999998 47.70384580000724)</td>\n",
       "    </tr>\n",
       "    <tr>\n",
       "      <th>9</th>\n",
       "      <td>5588</td>\n",
       "      <td>POINT (9.483255199999999 47.70450509625661)</td>\n",
       "    </tr>\n",
       "  </tbody>\n",
       "</table>\n",
       "</div>"
      ],
      "text/plain": [
       "              la_id                                         geom\n",
       "mvlv_subst_id                                                   \n",
       "0              5588  POINT (9.486881299999999 47.70317630000739)\n",
       "1              5588  POINT (9.481180199999999 47.70452090000708)\n",
       "2              5588  POINT (9.482160199999999 47.70262710000751)\n",
       "3              5588  POINT (9.482964199999998 47.70384580000724)\n",
       "4              5588  POINT (9.483255199999999 47.70450509625661)\n",
       "5              5588  POINT (9.486881299999999 47.70317630000739)\n",
       "6              5588  POINT (9.481180199999999 47.70452090000708)\n",
       "7              5588  POINT (9.482160199999999 47.70262710000751)\n",
       "8              5588  POINT (9.482964199999998 47.70384580000724)\n",
       "9              5588  POINT (9.483255199999999 47.70450509625661)"
      ]
     },
     "execution_count": 125,
     "metadata": {},
     "output_type": "execute_result"
    }
   ],
   "source": [
    "lv_stations"
   ]
  },
  {
   "cell_type": "code",
   "execution_count": 11,
   "metadata": {},
   "outputs": [
    {
     "data": {
      "text/html": [
       "<div>\n",
       "<style scoped>\n",
       "    .dataframe tbody tr th:only-of-type {\n",
       "        vertical-align: middle;\n",
       "    }\n",
       "\n",
       "    .dataframe tbody tr th {\n",
       "        vertical-align: top;\n",
       "    }\n",
       "\n",
       "    .dataframe thead th {\n",
       "        text-align: right;\n",
       "    }\n",
       "</style>\n",
       "<table border=\"1\" class=\"dataframe\">\n",
       "  <thead>\n",
       "    <tr style=\"text-align: right;\">\n",
       "      <th></th>\n",
       "      <th>la_id</th>\n",
       "      <th>geom</th>\n",
       "    </tr>\n",
       "    <tr>\n",
       "      <th>mvlv_subst_id</th>\n",
       "      <th></th>\n",
       "      <th></th>\n",
       "    </tr>\n",
       "  </thead>\n",
       "  <tbody>\n",
       "    <tr>\n",
       "      <th>2873</th>\n",
       "      <td>2520</td>\n",
       "      <td>POINT(9.49063792246541 47.7452397283099)</td>\n",
       "    </tr>\n",
       "    <tr>\n",
       "      <th>3053</th>\n",
       "      <td>2728</td>\n",
       "      <td>POINT(9.49342672911522 47.7327193529698)</td>\n",
       "    </tr>\n",
       "  </tbody>\n",
       "</table>\n",
       "</div>"
      ],
      "text/plain": [
       "               la_id                                      geom\n",
       "mvlv_subst_id                                                 \n",
       "2873            2520  POINT(9.49063792246541 47.7452397283099)\n",
       "3053            2728  POINT(9.49342672911522 47.7327193529698)"
      ]
     },
     "execution_count": 11,
     "metadata": {},
     "output_type": "execute_result"
    }
   ],
   "source": [
    "lv_stations.head(2)"
   ]
  },
  {
   "cell_type": "code",
   "execution_count": 129,
   "metadata": {
    "tags": []
   },
   "outputs": [
    {
     "data": {
      "text/html": [
       "<div style=\"width:100%;\"><div style=\"position:relative;width:100%;height:0;padding-bottom:60%;\"><span style=\"color:#565656\">Make this Notebook Trusted to load map: File -> Trust Notebook</span><iframe src=\"about:blank\" style=\"position:absolute;width:100%;height:100%;left:0;top:0;border:none !important;\" data-html=%3C%21DOCTYPE%20html%3E%0A%3Chead%3E%20%20%20%20%0A%20%20%20%20%3Cmeta%20http-equiv%3D%22content-type%22%20content%3D%22text/html%3B%20charset%3DUTF-8%22%20/%3E%0A%20%20%20%20%0A%20%20%20%20%20%20%20%20%3Cscript%3E%0A%20%20%20%20%20%20%20%20%20%20%20%20L_NO_TOUCH%20%3D%20false%3B%0A%20%20%20%20%20%20%20%20%20%20%20%20L_DISABLE_3D%20%3D%20false%3B%0A%20%20%20%20%20%20%20%20%3C/script%3E%0A%20%20%20%20%0A%20%20%20%20%3Cstyle%3Ehtml%2C%20body%20%7Bwidth%3A%20100%25%3Bheight%3A%20100%25%3Bmargin%3A%200%3Bpadding%3A%200%3B%7D%3C/style%3E%0A%20%20%20%20%3Cstyle%3E%23map%20%7Bposition%3Aabsolute%3Btop%3A0%3Bbottom%3A0%3Bright%3A0%3Bleft%3A0%3B%7D%3C/style%3E%0A%20%20%20%20%3Cscript%20src%3D%22https%3A//cdn.jsdelivr.net/npm/leaflet%401.6.0/dist/leaflet.js%22%3E%3C/script%3E%0A%20%20%20%20%3Cscript%20src%3D%22https%3A//code.jquery.com/jquery-1.12.4.min.js%22%3E%3C/script%3E%0A%20%20%20%20%3Cscript%20src%3D%22https%3A//maxcdn.bootstrapcdn.com/bootstrap/3.2.0/js/bootstrap.min.js%22%3E%3C/script%3E%0A%20%20%20%20%3Cscript%20src%3D%22https%3A//cdnjs.cloudflare.com/ajax/libs/Leaflet.awesome-markers/2.0.2/leaflet.awesome-markers.js%22%3E%3C/script%3E%0A%20%20%20%20%3Clink%20rel%3D%22stylesheet%22%20href%3D%22https%3A//cdn.jsdelivr.net/npm/leaflet%401.6.0/dist/leaflet.css%22/%3E%0A%20%20%20%20%3Clink%20rel%3D%22stylesheet%22%20href%3D%22https%3A//maxcdn.bootstrapcdn.com/bootstrap/3.2.0/css/bootstrap.min.css%22/%3E%0A%20%20%20%20%3Clink%20rel%3D%22stylesheet%22%20href%3D%22https%3A//maxcdn.bootstrapcdn.com/bootstrap/3.2.0/css/bootstrap-theme.min.css%22/%3E%0A%20%20%20%20%3Clink%20rel%3D%22stylesheet%22%20href%3D%22https%3A//maxcdn.bootstrapcdn.com/font-awesome/4.6.3/css/font-awesome.min.css%22/%3E%0A%20%20%20%20%3Clink%20rel%3D%22stylesheet%22%20href%3D%22https%3A//cdnjs.cloudflare.com/ajax/libs/Leaflet.awesome-markers/2.0.2/leaflet.awesome-markers.css%22/%3E%0A%20%20%20%20%3Clink%20rel%3D%22stylesheet%22%20href%3D%22https%3A//cdn.jsdelivr.net/gh/python-visualization/folium/folium/templates/leaflet.awesome.rotate.min.css%22/%3E%0A%20%20%20%20%0A%20%20%20%20%20%20%20%20%20%20%20%20%3Cmeta%20name%3D%22viewport%22%20content%3D%22width%3Ddevice-width%2C%0A%20%20%20%20%20%20%20%20%20%20%20%20%20%20%20%20initial-scale%3D1.0%2C%20maximum-scale%3D1.0%2C%20user-scalable%3Dno%22%20/%3E%0A%20%20%20%20%20%20%20%20%20%20%20%20%3Cstyle%3E%0A%20%20%20%20%20%20%20%20%20%20%20%20%20%20%20%20%23map_fc22b78d3c474875855d1f29db7ce3dd%20%7B%0A%20%20%20%20%20%20%20%20%20%20%20%20%20%20%20%20%20%20%20%20position%3A%20relative%3B%0A%20%20%20%20%20%20%20%20%20%20%20%20%20%20%20%20%20%20%20%20width%3A%20100.0%25%3B%0A%20%20%20%20%20%20%20%20%20%20%20%20%20%20%20%20%20%20%20%20height%3A%20100.0%25%3B%0A%20%20%20%20%20%20%20%20%20%20%20%20%20%20%20%20%20%20%20%20left%3A%200.0%25%3B%0A%20%20%20%20%20%20%20%20%20%20%20%20%20%20%20%20%20%20%20%20top%3A%200.0%25%3B%0A%20%20%20%20%20%20%20%20%20%20%20%20%20%20%20%20%7D%0A%20%20%20%20%20%20%20%20%20%20%20%20%3C/style%3E%0A%20%20%20%20%20%20%20%20%0A%3C/head%3E%0A%3Cbody%3E%20%20%20%20%0A%20%20%20%20%0A%20%20%20%20%20%20%20%20%20%20%20%20%3Cdiv%20class%3D%22folium-map%22%20id%3D%22map_fc22b78d3c474875855d1f29db7ce3dd%22%20%3E%3C/div%3E%0A%20%20%20%20%20%20%20%20%0A%3C/body%3E%0A%3Cscript%3E%20%20%20%20%0A%20%20%20%20%0A%20%20%20%20%20%20%20%20%20%20%20%20var%20map_fc22b78d3c474875855d1f29db7ce3dd%20%3D%20L.map%28%0A%20%20%20%20%20%20%20%20%20%20%20%20%20%20%20%20%22map_fc22b78d3c474875855d1f29db7ce3dd%22%2C%0A%20%20%20%20%20%20%20%20%20%20%20%20%20%20%20%20%7B%0A%20%20%20%20%20%20%20%20%20%20%20%20%20%20%20%20%20%20%20%20center%3A%20%5B47.70469195000704%2C%209.48352605%5D%2C%0A%20%20%20%20%20%20%20%20%20%20%20%20%20%20%20%20%20%20%20%20crs%3A%20L.CRS.EPSG3857%2C%0A%20%20%20%20%20%20%20%20%20%20%20%20%20%20%20%20%20%20%20%20zoom%3A%2016%2C%0A%20%20%20%20%20%20%20%20%20%20%20%20%20%20%20%20%20%20%20%20zoomControl%3A%20true%2C%0A%20%20%20%20%20%20%20%20%20%20%20%20%20%20%20%20%20%20%20%20preferCanvas%3A%20false%2C%0A%20%20%20%20%20%20%20%20%20%20%20%20%20%20%20%20%7D%0A%20%20%20%20%20%20%20%20%20%20%20%20%29%3B%0A%0A%20%20%20%20%20%20%20%20%20%20%20%20%0A%0A%20%20%20%20%20%20%20%20%0A%20%20%20%20%0A%20%20%20%20%20%20%20%20%20%20%20%20var%20tile_layer_3ded901c75264236b3072e984e7eb7a3%20%3D%20L.tileLayer%28%0A%20%20%20%20%20%20%20%20%20%20%20%20%20%20%20%20%22https%3A//%7Bs%7D.tile.openstreetmap.org/%7Bz%7D/%7Bx%7D/%7By%7D.png%22%2C%0A%20%20%20%20%20%20%20%20%20%20%20%20%20%20%20%20%7B%22attribution%22%3A%20%22Data%20by%20%5Cu0026copy%3B%20%5Cu003ca%20href%3D%5C%22http%3A//openstreetmap.org%5C%22%5Cu003eOpenStreetMap%5Cu003c/a%5Cu003e%2C%20under%20%5Cu003ca%20href%3D%5C%22http%3A//www.openstreetmap.org/copyright%5C%22%5Cu003eODbL%5Cu003c/a%5Cu003e.%22%2C%20%22detectRetina%22%3A%20false%2C%20%22maxNativeZoom%22%3A%2018%2C%20%22maxZoom%22%3A%2018%2C%20%22minZoom%22%3A%200%2C%20%22noWrap%22%3A%20false%2C%20%22opacity%22%3A%201%2C%20%22subdomains%22%3A%20%22abc%22%2C%20%22tms%22%3A%20false%7D%0A%20%20%20%20%20%20%20%20%20%20%20%20%29.addTo%28map_fc22b78d3c474875855d1f29db7ce3dd%29%3B%0A%20%20%20%20%20%20%20%20%0A%20%20%20%20%0A%0A%20%20%20%20%20%20%20%20function%20geo_json_4bdbd8733f7245fc98fd1a53923214dc_onEachFeature%28feature%2C%20layer%29%20%7B%0A%20%20%20%20%20%20%20%20%20%20%20%20layer.on%28%7B%0A%20%20%20%20%20%20%20%20%20%20%20%20%7D%29%3B%0A%20%20%20%20%20%20%20%20%7D%3B%0A%20%20%20%20%20%20%20%20var%20geo_json_4bdbd8733f7245fc98fd1a53923214dc%20%3D%20L.geoJson%28null%2C%20%7B%0A%20%20%20%20%20%20%20%20%20%20%20%20%20%20%20%20onEachFeature%3A%20geo_json_4bdbd8733f7245fc98fd1a53923214dc_onEachFeature%2C%0A%20%20%20%20%20%20%20%20%20%20%20%20%0A%20%20%20%20%20%20%20%20%7D%29%3B%0A%0A%20%20%20%20%20%20%20%20function%20geo_json_4bdbd8733f7245fc98fd1a53923214dc_add%20%28data%29%20%7B%0A%20%20%20%20%20%20%20%20%20%20%20%20geo_json_4bdbd8733f7245fc98fd1a53923214dc%0A%20%20%20%20%20%20%20%20%20%20%20%20%20%20%20%20.addData%28data%29%0A%20%20%20%20%20%20%20%20%20%20%20%20%20%20%20%20.addTo%28map_fc22b78d3c474875855d1f29db7ce3dd%29%3B%0A%20%20%20%20%20%20%20%20%7D%0A%20%20%20%20%20%20%20%20%20%20%20%20geo_json_4bdbd8733f7245fc98fd1a53923214dc_add%28%7B%22coordinates%22%3A%20%5B%5B%5B9.488204399999999%2C%2047.701698800007726%5D%2C%20%5B9.487119%2C%2047.70181400000771%5D%2C%20%5B9.485713899999999%2C%2047.70261860000753%5D%2C%20%5B9.4856617%2C%2047.70269520000751%5D%2C%20%5B9.4856027%2C%2047.70285220000747%5D%2C%20%5B9.4855581%2C%2047.702978000007434%5D%2C%20%5B9.485540999999998%2C%2047.703068800007415%5D%2C%20%5B9.4856536%2C%2047.703404600007325%5D%2C%20%5B9.4866023%2C%2047.703925500007216%5D%2C%20%5B9.4877967%2C%2047.70392080000722%5D%2C%20%5B9.487891399999999%2C%2047.70391750000723%5D%2C%20%5B9.488164599999998%2C%2047.703823300007244%5D%2C%20%5B9.488451199999998%2C%2047.70291000000745%5D%2C%20%5B9.488451199999998%2C%2047.70278180000749%5D%2C%20%5B9.488381399999998%2C%2047.701698800007726%5D%2C%20%5B9.488204399999999%2C%2047.701698800007726%5D%5D%5D%2C%20%22type%22%3A%20%22Polygon%22%7D%29%3B%0A%0A%20%20%20%20%20%20%20%20%0A%20%20%20%20%0A%0A%20%20%20%20%20%20%20%20function%20geo_json_6ac26e3fd78f41a19b4b2697b96cd164_onEachFeature%28feature%2C%20layer%29%20%7B%0A%20%20%20%20%20%20%20%20%20%20%20%20layer.on%28%7B%0A%20%20%20%20%20%20%20%20%20%20%20%20%7D%29%3B%0A%20%20%20%20%20%20%20%20%7D%3B%0A%20%20%20%20%20%20%20%20var%20geo_json_6ac26e3fd78f41a19b4b2697b96cd164%20%3D%20L.geoJson%28null%2C%20%7B%0A%20%20%20%20%20%20%20%20%20%20%20%20%20%20%20%20onEachFeature%3A%20geo_json_6ac26e3fd78f41a19b4b2697b96cd164_onEachFeature%2C%0A%20%20%20%20%20%20%20%20%20%20%20%20%0A%20%20%20%20%20%20%20%20%7D%29%3B%0A%0A%20%20%20%20%20%20%20%20function%20geo_json_6ac26e3fd78f41a19b4b2697b96cd164_add%20%28data%29%20%7B%0A%20%20%20%20%20%20%20%20%20%20%20%20geo_json_6ac26e3fd78f41a19b4b2697b96cd164%0A%20%20%20%20%20%20%20%20%20%20%20%20%20%20%20%20.addData%28data%29%0A%20%20%20%20%20%20%20%20%20%20%20%20%20%20%20%20.addTo%28map_fc22b78d3c474875855d1f29db7ce3dd%29%3B%0A%20%20%20%20%20%20%20%20%7D%0A%20%20%20%20%20%20%20%20%20%20%20%20geo_json_6ac26e3fd78f41a19b4b2697b96cd164_add%28%7B%22coordinates%22%3A%20%5B%5B%5B9.480691299999998%2C%2047.703794300007246%5D%2C%20%5B9.4804176%2C%2047.70381370000724%5D%2C%20%5B9.4801756%2C%2047.7039383000072%5D%2C%20%5B9.478810699999999%2C%2047.70504580000696%5D%2C%20%5B9.4788381%2C%2047.70510670000695%5D%2C%20%5B9.479058099999998%2C%2047.70526730000691%5D%2C%20%5B9.4803737%2C%2047.70575290000679%5D%2C%20%5B9.4806379%2C%2047.70568340000681%5D%2C%20%5B9.481983699999999%2C%2047.7052538000069%5D%2C%20%5B9.4823036%2C%2047.705119300006935%5D%2C%20%5B9.482877299999998%2C%2047.704320000007144%5D%2C%20%5B9.4828009%2C%2047.704203500007154%5D%2C%20%5B9.4825478%2C%2047.70399300000719%5D%2C%20%5B9.482143799999998%2C%2047.70380380000725%5D%2C%20%5B9.480691299999998%2C%2047.703794300007246%5D%5D%5D%2C%20%22type%22%3A%20%22Polygon%22%7D%29%3B%0A%0A%20%20%20%20%20%20%20%20%0A%20%20%20%20%0A%0A%20%20%20%20%20%20%20%20function%20geo_json_c89a438700ab4927b89a8a8eb3620737_onEachFeature%28feature%2C%20layer%29%20%7B%0A%20%20%20%20%20%20%20%20%20%20%20%20layer.on%28%7B%0A%20%20%20%20%20%20%20%20%20%20%20%20%7D%29%3B%0A%20%20%20%20%20%20%20%20%7D%3B%0A%20%20%20%20%20%20%20%20var%20geo_json_c89a438700ab4927b89a8a8eb3620737%20%3D%20L.geoJson%28null%2C%20%7B%0A%20%20%20%20%20%20%20%20%20%20%20%20%20%20%20%20onEachFeature%3A%20geo_json_c89a438700ab4927b89a8a8eb3620737_onEachFeature%2C%0A%20%20%20%20%20%20%20%20%20%20%20%20%0A%20%20%20%20%20%20%20%20%7D%29%3B%0A%0A%20%20%20%20%20%20%20%20function%20geo_json_c89a438700ab4927b89a8a8eb3620737_add%20%28data%29%20%7B%0A%20%20%20%20%20%20%20%20%20%20%20%20geo_json_c89a438700ab4927b89a8a8eb3620737%0A%20%20%20%20%20%20%20%20%20%20%20%20%20%20%20%20.addData%28data%29%0A%20%20%20%20%20%20%20%20%20%20%20%20%20%20%20%20.addTo%28map_fc22b78d3c474875855d1f29db7ce3dd%29%3B%0A%20%20%20%20%20%20%20%20%7D%0A%20%20%20%20%20%20%20%20%20%20%20%20geo_json_c89a438700ab4927b89a8a8eb3620737_add%28%7B%22coordinates%22%3A%20%5B%5B%5B9.482229099999998%2C%2047.70182870000771%5D%2C%20%5B9.4817921%2C%2047.70191110000766%5D%2C%20%5B9.4810466%2C%2047.70391420000723%5D%2C%20%5B9.481092499999999%2C%2047.703996600007194%5D%2C%20%5B9.481523%2C%2047.70391990000721%5D%2C%20%5B9.481629000000002%2C%2047.70388470000721%5D%2C%20%5B9.482688499999998%2C%2047.70317710000739%5D%2C%20%5B9.4827367%2C%2047.70310930000741%5D%2C%20%5B9.482305699999998%2C%2047.70201290000765%5D%2C%20%5B9.482229099999998%2C%2047.70182870000771%5D%5D%5D%2C%20%22type%22%3A%20%22Polygon%22%7D%29%3B%0A%0A%20%20%20%20%20%20%20%20%0A%20%20%20%20%0A%0A%20%20%20%20%20%20%20%20function%20geo_json_9a636bceb1974c0798096c91f9d23e99_onEachFeature%28feature%2C%20layer%29%20%7B%0A%20%20%20%20%20%20%20%20%20%20%20%20layer.on%28%7B%0A%20%20%20%20%20%20%20%20%20%20%20%20%7D%29%3B%0A%20%20%20%20%20%20%20%20%7D%3B%0A%20%20%20%20%20%20%20%20var%20geo_json_9a636bceb1974c0798096c91f9d23e99%20%3D%20L.geoJson%28null%2C%20%7B%0A%20%20%20%20%20%20%20%20%20%20%20%20%20%20%20%20onEachFeature%3A%20geo_json_9a636bceb1974c0798096c91f9d23e99_onEachFeature%2C%0A%20%20%20%20%20%20%20%20%20%20%20%20%0A%20%20%20%20%20%20%20%20%7D%29%3B%0A%0A%20%20%20%20%20%20%20%20function%20geo_json_9a636bceb1974c0798096c91f9d23e99_add%20%28data%29%20%7B%0A%20%20%20%20%20%20%20%20%20%20%20%20geo_json_9a636bceb1974c0798096c91f9d23e99%0A%20%20%20%20%20%20%20%20%20%20%20%20%20%20%20%20.addData%28data%29%0A%20%20%20%20%20%20%20%20%20%20%20%20%20%20%20%20.addTo%28map_fc22b78d3c474875855d1f29db7ce3dd%29%3B%0A%20%20%20%20%20%20%20%20%7D%0A%20%20%20%20%20%20%20%20%20%20%20%20geo_json_9a636bceb1974c0798096c91f9d23e99_add%28%7B%22coordinates%22%3A%20%5B%5B%5B9.4827577%2C%2047.70312860000739%5D%2C%20%5B9.4826804%2C%2047.70314280000741%5D%2C%20%5B9.4820415%2C%2047.70334060000735%5D%2C%20%5B9.4824199%2C%2047.704814800007014%5D%2C%20%5B9.4824484%2C%2047.70487930000699%5D%2C%20%5B9.4825342%2C%2047.70486210000699%5D%2C%20%5B9.4839692%2C%2047.704242100007164%5D%2C%20%5B9.483842099999999%2C%2047.703684400007276%5D%2C%20%5B9.483798899999998%2C%2047.7035941000073%5D%2C%20%5B9.483387399999998%2C%2047.70331350000736%5D%2C%20%5B9.4827577%2C%2047.70312860000739%5D%5D%5D%2C%20%22type%22%3A%20%22Polygon%22%7D%29%3B%0A%0A%20%20%20%20%20%20%20%20%0A%20%20%20%20%0A%0A%20%20%20%20%20%20%20%20function%20geo_json_0ad124a56f4f4ac9a447a4f0806ee4bf_onEachFeature%28feature%2C%20layer%29%20%7B%0A%20%20%20%20%20%20%20%20%20%20%20%20layer.on%28%7B%0A%20%20%20%20%20%20%20%20%20%20%20%20%7D%29%3B%0A%20%20%20%20%20%20%20%20%7D%3B%0A%20%20%20%20%20%20%20%20var%20geo_json_0ad124a56f4f4ac9a447a4f0806ee4bf%20%3D%20L.geoJson%28null%2C%20%7B%0A%20%20%20%20%20%20%20%20%20%20%20%20%20%20%20%20onEachFeature%3A%20geo_json_0ad124a56f4f4ac9a447a4f0806ee4bf_onEachFeature%2C%0A%20%20%20%20%20%20%20%20%20%20%20%20%0A%20%20%20%20%20%20%20%20%7D%29%3B%0A%0A%20%20%20%20%20%20%20%20function%20geo_json_0ad124a56f4f4ac9a447a4f0806ee4bf_add%20%28data%29%20%7B%0A%20%20%20%20%20%20%20%20%20%20%20%20geo_json_0ad124a56f4f4ac9a447a4f0806ee4bf%0A%20%20%20%20%20%20%20%20%20%20%20%20%20%20%20%20.addData%28data%29%0A%20%20%20%20%20%20%20%20%20%20%20%20%20%20%20%20.addTo%28map_fc22b78d3c474875855d1f29db7ce3dd%29%3B%0A%20%20%20%20%20%20%20%20%7D%0A%20%20%20%20%20%20%20%20%20%20%20%20geo_json_0ad124a56f4f4ac9a447a4f0806ee4bf_add%28%7B%22coordinates%22%3A%20%5B%5B%5B9.483553%2C%2047.70456210000705%5D%2C%20%5B9.483392699999998%2C%2047.70459640000707%5D%2C%20%5B9.4834991%2C%2047.70482180000701%5D%2C%20%5B9.483659399999999%2C%2047.704787500007015%5D%2C%20%5B9.483553%2C%2047.70456210000705%5D%5D%5D%2C%20%22type%22%3A%20%22Polygon%22%7D%29%3B%0A%0A%20%20%20%20%20%20%20%20%0A%20%20%20%20%0A%0A%20%20%20%20%20%20%20%20function%20geo_json_3a626791dc29495a9083441fdf226464_onEachFeature%28feature%2C%20layer%29%20%7B%0A%20%20%20%20%20%20%20%20%20%20%20%20layer.on%28%7B%0A%20%20%20%20%20%20%20%20%20%20%20%20%7D%29%3B%0A%20%20%20%20%20%20%20%20%7D%3B%0A%20%20%20%20%20%20%20%20var%20geo_json_3a626791dc29495a9083441fdf226464%20%3D%20L.geoJson%28null%2C%20%7B%0A%20%20%20%20%20%20%20%20%20%20%20%20%20%20%20%20onEachFeature%3A%20geo_json_3a626791dc29495a9083441fdf226464_onEachFeature%2C%0A%20%20%20%20%20%20%20%20%20%20%20%20%0A%20%20%20%20%20%20%20%20%7D%29%3B%0A%0A%20%20%20%20%20%20%20%20function%20geo_json_3a626791dc29495a9083441fdf226464_add%20%28data%29%20%7B%0A%20%20%20%20%20%20%20%20%20%20%20%20geo_json_3a626791dc29495a9083441fdf226464%0A%20%20%20%20%20%20%20%20%20%20%20%20%20%20%20%20.addData%28data%29%0A%20%20%20%20%20%20%20%20%20%20%20%20%20%20%20%20.addTo%28map_fc22b78d3c474875855d1f29db7ce3dd%29%3B%0A%20%20%20%20%20%20%20%20%7D%0A%20%20%20%20%20%20%20%20%20%20%20%20geo_json_3a626791dc29495a9083441fdf226464_add%28%7B%22bbox%22%3A%20%5B9.478960199999996%2C%2047.700660896256295%2C%209.488861499999995%2C%2047.70579499625672%5D%2C%20%22features%22%3A%20%5B%7B%22bbox%22%3A%20%5B9.486666031671987%2C%2047.703096697321115%2C%209.486881299999999%2C%2047.703176296256544%5D%2C%20%22geometry%22%3A%20%7B%22coordinates%22%3A%20%5B%5B9.486881299999999%2C%2047.703176296256544%5D%2C%20%5B9.486666031671987%2C%2047.703096697321115%5D%5D%2C%20%22type%22%3A%20%22LineString%22%7D%2C%20%22id%22%3A%20%22%28329334526%2C%2065866904701%2C%200%29%22%2C%20%22properties%22%3A%20%7B%22highway%22%3A%20%22residential%22%2C%20%22length%22%3A%2018.426216140036495%2C%20%22osmid%22%3A%2037795694%7D%2C%20%22type%22%3A%20%22Feature%22%7D%2C%20%7B%22bbox%22%3A%20%5B9.486881299999999%2C%2047.70301509625651%2C%209.487157300000002%2C%2047.703176296256544%5D%2C%20%22geometry%22%3A%20%7B%22coordinates%22%3A%20%5B%5B9.486881299999999%2C%2047.703176296256544%5D%2C%20%5B9.487157300000002%2C%2047.70301509625651%5D%5D%2C%20%22type%22%3A%20%22LineString%22%7D%2C%20%22id%22%3A%20%22%28329334526%2C%20331519841%2C%200%29%22%2C%20%22properties%22%3A%20%7B%22highway%22%3A%20%22residential%22%2C%20%22length%22%3A%2027.397117201539068%2C%20%22osmid%22%3A%20626721645%7D%2C%20%22type%22%3A%20%22Feature%22%7D%2C%20%7B%22bbox%22%3A%20%5B9.486853299999996%2C%2047.703176296256544%2C%209.486881299999999%2C%2047.70340469625656%5D%2C%20%22geometry%22%3A%20%7B%22coordinates%22%3A%20%5B%5B9.486881299999999%2C%2047.703176296256544%5D%2C%20%5B9.486855999999996%2C%2047.70326199625652%5D%2C%20%5B9.486853299999996%2C%2047.70340469625656%5D%5D%2C%20%22type%22%3A%20%22LineString%22%7D%2C%20%22id%22%3A%20%22%28329334526%2C%20331517282%2C%200%29%22%2C%20%22properties%22%3A%20%7B%22highway%22%3A%20%22residential%22%2C%20%22length%22%3A%2025.568262097637415%2C%20%22osmid%22%3A%2030097509%7D%2C%20%22type%22%3A%20%22Feature%22%7D%2C%20%7B%22bbox%22%3A%20%5B9.486666031671987%2C%2047.703096697321115%2C%209.486881299999999%2C%2047.703176296256544%5D%2C%20%22geometry%22%3A%20%7B%22coordinates%22%3A%20%5B%5B9.486881299999999%2C%2047.703176296256544%5D%2C%20%5B9.486666031671987%2C%2047.703096697321115%5D%5D%2C%20%22type%22%3A%20%22LineString%22%7D%2C%20%22id%22%3A%20%22%2865866904701%2C%20329334526%2C%200%29%22%2C%20%22properties%22%3A%20%7B%22highway%22%3A%20%22residential%22%2C%20%22length%22%3A%2018.426216140036495%2C%20%22osmid%22%3A%2037795694%7D%2C%20%22type%22%3A%20%22Feature%22%7D%2C%20%7B%22bbox%22%3A%20%5B9.486450764008517%2C%2047.70301709795986%2C%209.486666031671987%2C%2047.703096697321115%5D%2C%20%22geometry%22%3A%20%7B%22coordinates%22%3A%20%5B%5B9.486666031671987%2C%2047.703096697321115%5D%2C%20%5B9.486450764008517%2C%2047.70301709795986%5D%5D%2C%20%22type%22%3A%20%22LineString%22%7D%2C%20%22id%22%3A%20%22%2865866904701%2C%2065866904702%2C%200%29%22%2C%20%22properties%22%3A%20%7B%22highway%22%3A%20%22residential%22%2C%20%22length%22%3A%2018.426216140036495%2C%20%22osmid%22%3A%2037795694%7D%2C%20%22type%22%3A%20%22Feature%22%7D%2C%20%7B%22bbox%22%3A%20%5B9.486881299999999%2C%2047.70301509625651%2C%209.487157300000002%2C%2047.703176296256544%5D%2C%20%22geometry%22%3A%20%7B%22coordinates%22%3A%20%5B%5B9.486881299999999%2C%2047.703176296256544%5D%2C%20%5B9.487157300000002%2C%2047.70301509625651%5D%5D%2C%20%22type%22%3A%20%22LineString%22%7D%2C%20%22id%22%3A%20%22%28331519841%2C%20329334526%2C%200%29%22%2C%20%22properties%22%3A%20%7B%22highway%22%3A%20%22residential%22%2C%20%22length%22%3A%2027.397117201539068%2C%20%22osmid%22%3A%20626721645%7D%2C%20%22type%22%3A%20%22Feature%22%7D%2C%20%7B%22bbox%22%3A%20%5B9.487042499999996%2C%2047.702914396256496%2C%209.487157300000002%2C%2047.70301509625651%5D%2C%20%22geometry%22%3A%20%7B%22coordinates%22%3A%20%5B%5B9.487157300000002%2C%2047.70301509625651%5D%2C%20%5B9.487042499999996%2C%2047.702914396256496%5D%5D%2C%20%22type%22%3A%20%22LineString%22%7D%2C%20%22id%22%3A%20%22%28331519841%2C%203037986486%2C%200%29%22%2C%20%22properties%22%3A%20%7B%22highway%22%3A%20%22residential%22%2C%20%22length%22%3A%2014.124172407952564%2C%20%22osmid%22%3A%2037795705%7D%2C%20%22type%22%3A%20%22Feature%22%7D%2C%20%7B%22bbox%22%3A%20%5B9.487157300000002%2C%2047.702976896256516%2C%209.487312399999997%2C%2047.70301509625651%5D%2C%20%22geometry%22%3A%20%7B%22coordinates%22%3A%20%5B%5B9.487157300000002%2C%2047.70301509625651%5D%2C%20%5B9.487312399999997%2C%2047.702976896256516%5D%5D%2C%20%22type%22%3A%20%22LineString%22%7D%2C%20%22id%22%3A%20%22%28331519841%2C%203037986472%2C%200%29%22%2C%20%22properties%22%3A%20%7B%22highway%22%3A%20%22residential%22%2C%20%22length%22%3A%2012.397944471332185%2C%20%22osmid%22%3A%20626721645%7D%2C%20%22type%22%3A%20%22Feature%22%7D%2C%20%7B%22bbox%22%3A%20%5B9.486853299999996%2C%2047.70340469625656%2C%209.486932199999995%2C%2047.70348929625661%5D%2C%20%22geometry%22%3A%20%7B%22coordinates%22%3A%20%5B%5B9.486853299999996%2C%2047.70340469625656%5D%2C%20%5B9.486932199999995%2C%2047.70348929625661%5D%5D%2C%20%22type%22%3A%20%22LineString%22%7D%2C%20%22id%22%3A%20%22%28331517282%2C%20331517284%2C%200%29%22%2C%20%22properties%22%3A%20%7B%22highway%22%3A%20%22residential%22%2C%20%22length%22%3A%2011.11100737784385%2C%20%22osmid%22%3A%2030097509%7D%2C%20%22type%22%3A%20%22Feature%22%7D%2C%20%7B%22bbox%22%3A%20%5B9.486853299999996%2C%2047.703176296256544%2C%209.486881299999999%2C%2047.70340469625656%5D%2C%20%22geometry%22%3A%20%7B%22coordinates%22%3A%20%5B%5B9.486853299999996%2C%2047.70340469625656%5D%2C%20%5B9.486855999999996%2C%2047.70326199625652%5D%2C%20%5B9.486881299999999%2C%2047.703176296256544%5D%5D%2C%20%22type%22%3A%20%22LineString%22%7D%2C%20%22id%22%3A%20%22%28331517282%2C%20329334526%2C%200%29%22%2C%20%22properties%22%3A%20%7B%22highway%22%3A%20%22residential%22%2C%20%22length%22%3A%2025.568262097637415%2C%20%22osmid%22%3A%2030097509%7D%2C%20%22type%22%3A%20%22Feature%22%7D%2C%20%7B%22bbox%22%3A%20%5B9.4855897%2C%2047.702698696256476%2C%209.485804965005329%2C%2047.70277829732106%5D%2C%20%22geometry%22%3A%20%7B%22coordinates%22%3A%20%5B%5B9.485804965005329%2C%2047.70277829732106%5D%2C%20%5B9.4855897%2C%2047.702698696256476%5D%5D%2C%20%22type%22%3A%20%22LineString%22%7D%2C%20%22id%22%3A%20%22%28329334521%2C%2065866904705%2C%200%29%22%2C%20%22properties%22%3A%20%7B%22highway%22%3A%20%22residential%22%2C%20%22length%22%3A%2018.426216140036495%2C%20%22osmid%22%3A%2037795694%7D%2C%20%22type%22%3A%20%22Feature%22%7D%2C%20%7B%22bbox%22%3A%20%5B9.485804965005329%2C%2047.70277829732106%2C%209.486020230675194%2C%2047.70285789795981%5D%2C%20%22geometry%22%3A%20%7B%22coordinates%22%3A%20%5B%5B9.486020230675194%2C%2047.70285789795981%5D%2C%20%5B9.485804965005329%2C%2047.70277829732106%5D%5D%2C%20%22type%22%3A%20%22LineString%22%7D%2C%20%22id%22%3A%20%22%2865866904705%2C%2065866904704%2C%200%29%22%2C%20%22properties%22%3A%20%7B%22highway%22%3A%20%22residential%22%2C%20%22length%22%3A%2018.426216140036495%2C%20%22osmid%22%3A%2037795694%7D%2C%20%22type%22%3A%20%22Feature%22%7D%2C%20%7B%22bbox%22%3A%20%5B9.4855897%2C%2047.702698696256476%2C%209.485804965005329%2C%2047.70277829732106%5D%2C%20%22geometry%22%3A%20%7B%22coordinates%22%3A%20%5B%5B9.485804965005329%2C%2047.70277829732106%5D%2C%20%5B9.4855897%2C%2047.702698696256476%5D%5D%2C%20%22type%22%3A%20%22LineString%22%7D%2C%20%22id%22%3A%20%22%2865866904705%2C%20329334521%2C%200%29%22%2C%20%22properties%22%3A%20%7B%22highway%22%3A%20%22residential%22%2C%20%22length%22%3A%2018.426216140036495%2C%20%22osmid%22%3A%2037795694%7D%2C%20%22type%22%3A%20%22Feature%22%7D%2C%20%7B%22bbox%22%3A%20%5B9.487042499999996%2C%2047.702914396256496%2C%209.487157300000002%2C%2047.70301509625651%5D%2C%20%22geometry%22%3A%20%7B%22coordinates%22%3A%20%5B%5B9.487157300000002%2C%2047.70301509625651%5D%2C%20%5B9.487042499999996%2C%2047.702914396256496%5D%5D%2C%20%22type%22%3A%20%22LineString%22%7D%2C%20%22id%22%3A%20%22%283037986486%2C%20331519841%2C%200%29%22%2C%20%22properties%22%3A%20%7B%22highway%22%3A%20%22residential%22%2C%20%22length%22%3A%2014.124172407952564%2C%20%22osmid%22%3A%2037795705%7D%2C%20%22type%22%3A%20%22Feature%22%7D%2C%20%7B%22bbox%22%3A%20%5B9.487042499999996%2C%2047.70266689625648%2C%209.487061199999998%2C%2047.702914396256496%5D%2C%20%22geometry%22%3A%20%7B%22coordinates%22%3A%20%5B%5B9.487042499999996%2C%2047.702914396256496%5D%2C%20%5B9.487061199999998%2C%2047.70266689625648%5D%5D%2C%20%22type%22%3A%20%22LineString%22%7D%2C%20%22id%22%3A%20%22%283037986486%2C%20443341571%2C%200%29%22%2C%20%22properties%22%3A%20%7B%22highway%22%3A%20%22residential%22%2C%20%22length%22%3A%2027.537277042263693%2C%20%22osmid%22%3A%2037795705%7D%2C%20%22type%22%3A%20%22Feature%22%7D%2C%20%7B%22bbox%22%3A%20%5B9.487157300000002%2C%2047.702976896256516%2C%209.487312399999997%2C%2047.70301509625651%5D%2C%20%22geometry%22%3A%20%7B%22coordinates%22%3A%20%5B%5B9.487157300000002%2C%2047.70301509625651%5D%2C%20%5B9.487312399999997%2C%2047.702976896256516%5D%5D%2C%20%22type%22%3A%20%22LineString%22%7D%2C%20%22id%22%3A%20%22%283037986472%2C%20331519841%2C%200%29%22%2C%20%22properties%22%3A%20%7B%22highway%22%3A%20%22residential%22%2C%20%22length%22%3A%2012.397944471332185%2C%20%22osmid%22%3A%20626721645%7D%2C%20%22type%22%3A%20%22Feature%22%7D%2C%20%7B%22bbox%22%3A%20%5B9.487312399999997%2C%2047.70290099625651%2C%209.487945800000006%2C%2047.702976896256516%5D%2C%20%22geometry%22%3A%20%7B%22coordinates%22%3A%20%5B%5B9.487312399999997%2C%2047.702976896256516%5D%2C%20%5B9.487629100234455%2C%2047.702938946715186%5D%2C%20%5B9.487945800000006%2C%2047.70290099625651%5D%5D%2C%20%22type%22%3A%20%22LineString%22%7D%2C%20%22id%22%3A%20%22%283037986472%2C%20329334529%2C%200%29%22%2C%20%22properties%22%3A%20%7B%22highway%22%3A%20%22residential%22%2C%20%22length%22%3A%2048.31128970802344%2C%20%22osmid%22%3A%20626721645%7D%2C%20%22type%22%3A%20%22Feature%22%7D%2C%20%7B%22bbox%22%3A%20%5B9.486853299999996%2C%2047.70340469625656%2C%209.486932199999995%2C%2047.70348929625661%5D%2C%20%22geometry%22%3A%20%7B%22coordinates%22%3A%20%5B%5B9.486853299999996%2C%2047.70340469625656%5D%2C%20%5B9.486932199999995%2C%2047.70348929625661%5D%5D%2C%20%22type%22%3A%20%22LineString%22%7D%2C%20%22id%22%3A%20%22%28331517284%2C%20331517282%2C%200%29%22%2C%20%22properties%22%3A%20%7B%22highway%22%3A%20%22residential%22%2C%20%22length%22%3A%2011.11100737784385%2C%20%22osmid%22%3A%2030097509%7D%2C%20%22type%22%3A%20%22Feature%22%7D%2C%20%7B%22bbox%22%3A%20%5B9.486932199999995%2C%2047.70348929625661%2C%209.487095999999992%2C%2047.703696796256565%5D%2C%20%22geometry%22%3A%20%7B%22coordinates%22%3A%20%5B%5B9.486932199999995%2C%2047.70348929625661%5D%2C%20%5B9.487095999999992%2C%2047.703696796256565%5D%5D%2C%20%22type%22%3A%20%22LineString%22%7D%2C%20%22id%22%3A%20%22%28331517284%2C%20331517290%2C%200%29%22%2C%20%22properties%22%3A%20%7B%22highway%22%3A%20%22residential%22%2C%20%22length%22%3A%2026.130628077516402%2C%20%22osmid%22%3A%2030097509%7D%2C%20%22type%22%3A%20%22Feature%22%7D%2C%20%7B%22bbox%22%3A%20%5B9.486932199999995%2C%2047.70348929625661%2C%209.487095999999992%2C%2047.703696796256565%5D%2C%20%22geometry%22%3A%20%7B%22coordinates%22%3A%20%5B%5B9.486932199999995%2C%2047.70348929625661%5D%2C%20%5B9.487095999999992%2C%2047.703696796256565%5D%5D%2C%20%22type%22%3A%20%22LineString%22%7D%2C%20%22id%22%3A%20%22%28331517290%2C%20331517284%2C%200%29%22%2C%20%22properties%22%3A%20%7B%22highway%22%3A%20%22residential%22%2C%20%22length%22%3A%2026.130628077516402%2C%20%22osmid%22%3A%2030097509%7D%2C%20%22type%22%3A%20%22Feature%22%7D%2C%20%7B%22bbox%22%3A%20%5B9.487095999999992%2C%2047.703696796256565%2C%209.487096399999993%2C%2047.7039423962566%5D%2C%20%22geometry%22%3A%20%7B%22coordinates%22%3A%20%5B%5B9.487095999999992%2C%2047.703696796256565%5D%2C%20%5B9.487096399999993%2C%2047.7039423962566%5D%5D%2C%20%22type%22%3A%20%22LineString%22%7D%2C%20%22id%22%3A%20%22%28331517290%2C%20331517294%2C%200%29%22%2C%20%22properties%22%3A%20%7B%22highway%22%3A%20%22residential%22%2C%20%22length%22%3A%2027.290072428438496%2C%20%22osmid%22%3A%2030097509%7D%2C%20%22type%22%3A%20%22Feature%22%7D%2C%20%7B%22bbox%22%3A%20%5B9.487095999999992%2C%2047.703696796256565%2C%209.487096399999993%2C%2047.7039423962566%5D%2C%20%22geometry%22%3A%20%7B%22coordinates%22%3A%20%5B%5B9.487095999999992%2C%2047.703696796256565%5D%2C%20%5B9.487096399999993%2C%2047.7039423962566%5D%5D%2C%20%22type%22%3A%20%22LineString%22%7D%2C%20%22id%22%3A%20%22%28331517294%2C%20331517290%2C%200%29%22%2C%20%22properties%22%3A%20%7B%22highway%22%3A%20%22residential%22%2C%20%22length%22%3A%2027.290072428438496%2C%20%22osmid%22%3A%2030097509%7D%2C%20%22type%22%3A%20%22Feature%22%7D%2C%20%7B%22bbox%22%3A%20%5B9.487096399999993%2C%2047.7039423962566%2C%209.487151300000003%2C%2047.70403159625661%5D%2C%20%22geometry%22%3A%20%7B%22coordinates%22%3A%20%5B%5B9.487096399999993%2C%2047.7039423962566%5D%2C%20%5B9.487116699999998%2C%2047.70399789625661%5D%2C%20%5B9.487151300000003%2C%2047.70403159625661%5D%5D%2C%20%22type%22%3A%20%22LineString%22%7D%2C%20%22id%22%3A%20%22%28331517294%2C%20331517300%2C%200%29%22%2C%20%22properties%22%3A%20%7B%22highway%22%3A%20%22residential%22%2C%20%22length%22%3A%2010.909667933876342%2C%20%22osmid%22%3A%2030097509%7D%2C%20%22type%22%3A%20%22Feature%22%7D%2C%20%7B%22bbox%22%3A%20%5B9.4867798%2C%2047.70403159625661%2C%209.487151300000003%2C%2047.70410359625661%5D%2C%20%22geometry%22%3A%20%7B%22coordinates%22%3A%20%5B%5B9.487151300000003%2C%2047.70403159625661%5D%2C%20%5B9.4867798%2C%2047.70410359625661%5D%5D%2C%20%22type%22%3A%20%22LineString%22%7D%2C%20%22id%22%3A%20%22%28331517300%2C%20331517302%2C%200%29%22%2C%20%22properties%22%3A%20%7B%22highway%22%3A%20%22residential%22%2C%20%22length%22%3A%2029.024678372108642%2C%20%22osmid%22%3A%2037795695%7D%2C%20%22type%22%3A%20%22Feature%22%7D%2C%20%7B%22bbox%22%3A%20%5B9.487096399999993%2C%2047.7039423962566%2C%209.487151300000003%2C%2047.70403159625661%5D%2C%20%22geometry%22%3A%20%7B%22coordinates%22%3A%20%5B%5B9.487151300000003%2C%2047.70403159625661%5D%2C%20%5B9.487116699999998%2C%2047.70399789625661%5D%2C%20%5B9.487096399999993%2C%2047.7039423962566%5D%5D%2C%20%22type%22%3A%20%22LineString%22%7D%2C%20%22id%22%3A%20%22%28331517300%2C%20331517294%2C%200%29%22%2C%20%22properties%22%3A%20%7B%22highway%22%3A%20%22residential%22%2C%20%22length%22%3A%2010.909667933876342%2C%20%22osmid%22%3A%2030097509%7D%2C%20%22type%22%3A%20%22Feature%22%7D%2C%20%7B%22bbox%22%3A%20%5B9.487151300000003%2C%2047.70397771785957%2C%209.487876640509292%2C%2047.70403159625661%5D%2C%20%22geometry%22%3A%20%7B%22coordinates%22%3A%20%5B%5B9.487151300000003%2C%2047.70403159625661%5D%2C%20%5B9.487393080339519%2C%2047.70401363732524%5D%2C%20%5B9.48763486050928%2C%2047.70399567785955%5D%2C%20%5B9.487876640509292%2C%2047.70397771785957%5D%5D%2C%20%22type%22%3A%20%22LineString%22%7D%2C%20%22id%22%3A%20%22%28331517300%2C%2077489745603%2C%200%29%22%2C%20%22properties%22%3A%20%7B%22highway%22%3A%20%22residential%22%2C%20%22length%22%3A%2054.80050405011097%2C%20%22osmid%22%3A%2030097999%7D%2C%20%22type%22%3A%20%22Feature%22%7D%2C%20%7B%22bbox%22%3A%20%5B9.4867798%2C%2047.70403159625661%2C%209.487151300000003%2C%2047.70410359625661%5D%2C%20%22geometry%22%3A%20%7B%22coordinates%22%3A%20%5B%5B9.487151300000003%2C%2047.70403159625661%5D%2C%20%5B9.4867798%2C%2047.70410359625661%5D%5D%2C%20%22type%22%3A%20%22LineString%22%7D%2C%20%22id%22%3A%20%22%28331517302%2C%20331517300%2C%200%29%22%2C%20%22properties%22%3A%20%7B%22highway%22%3A%20%22residential%22%2C%20%22length%22%3A%2029.024678372108642%2C%20%22osmid%22%3A%2037795695%7D%2C%20%22type%22%3A%20%22Feature%22%7D%2C%20%7B%22bbox%22%3A%20%5B9.484452500000005%2C%2047.70410359625661%2C%209.4867798%2C%2047.70430119625666%5D%2C%20%22geometry%22%3A%20%7B%22coordinates%22%3A%20%5B%5B9.4867798%2C%2047.70410359625661%5D%2C%20%5B9.486543150147211%2C%2047.70413549651277%5D%2C%20%5B9.486306499999992%2C%2047.704167396256615%5D%2C%20%5B9.486030360573201%2C%2047.70419397765094%5D%2C%20%5B9.485754220859809%2C%2047.7042205583481%5D%2C%20%5B9.485478080859798%2C%2047.70424713834809%5D%2C%20%5B9.4852019405732%2C%2047.70427371765093%5D%2C%20%5B9.484925799999996%2C%2047.704300296256584%5D%2C%20%5B9.484689150002522%2C%2047.70430074651242%5D%2C%20%5B9.484452500000005%2C%2047.70430119625666%5D%5D%2C%20%22type%22%3A%20%22LineString%22%7D%2C%20%22id%22%3A%20%22%28331517302%2C%20443339517%2C%200%29%22%2C%20%22properties%22%3A%20%7B%22highway%22%3A%20%22residential%22%2C%20%22length%22%3A%20176.52468867525766%2C%20%22osmid%22%3A%2037795695%7D%2C%20%22type%22%3A%20%22Feature%22%7D%2C%20%7B%22bbox%22%3A%20%5B9.487876640509292%2C%2047.70395975732525%2C%209.488118420339529%2C%2047.70397771785957%5D%2C%20%22geometry%22%3A%20%7B%22coordinates%22%3A%20%5B%5B9.487876640509292%2C%2047.70397771785957%5D%2C%20%5B9.488118420339529%2C%2047.70395975732525%5D%5D%2C%20%22type%22%3A%20%22LineString%22%7D%2C%20%22id%22%3A%20%22%2877489745603%2C%2077489745604%2C%200%29%22%2C%20%22properties%22%3A%20%7B%22highway%22%3A%20%22residential%22%2C%20%22length%22%3A%2018.26683468308001%2C%20%22osmid%22%3A%2030097999%7D%2C%20%22type%22%3A%20%22Feature%22%7D%2C%20%7B%22bbox%22%3A%20%5B9.487151300000003%2C%2047.70397771785957%2C%209.487876640509292%2C%2047.70403159625661%5D%2C%20%22geometry%22%3A%20%7B%22coordinates%22%3A%20%5B%5B9.487876640509292%2C%2047.70397771785957%5D%2C%20%5B9.48763486050928%2C%2047.70399567785955%5D%2C%20%5B9.487393080339519%2C%2047.70401363732524%5D%2C%20%5B9.487151300000003%2C%2047.70403159625661%5D%5D%2C%20%22type%22%3A%20%22LineString%22%7D%2C%20%22id%22%3A%20%22%2877489745603%2C%20331517300%2C%200%29%22%2C%20%22properties%22%3A%20%7B%22highway%22%3A%20%22residential%22%2C%20%22length%22%3A%2054.80050405011097%2C%20%22osmid%22%3A%2030097999%7D%2C%20%22type%22%3A%20%22Feature%22%7D%2C%20%7B%22bbox%22%3A%20%5B9.484412800000001%2C%2047.70430119625666%2C%209.484478200000003%2C%2047.70497689625666%5D%2C%20%22geometry%22%3A%20%7B%22coordinates%22%3A%20%5B%5B9.484452500000005%2C%2047.70430119625666%5D%2C%20%5B9.48443265006864%2C%2047.70447489626579%5D%2C%20%5B9.484412800000001%2C%2047.704648596256646%5D%2C%20%5B9.484445499897149%2C%2047.70481274626797%5D%2C%20%5B9.484478200000003%2C%2047.70497689625666%5D%5D%2C%20%22type%22%3A%20%22LineString%22%7D%2C%20%22id%22%3A%20%22%28443339517%2C%201283292589%2C%200%29%22%2C%20%22properties%22%3A%20%7B%22highway%22%3A%20%22unclassified%22%2C%20%22length%22%3A%2075.5247487572266%2C%20%22osmid%22%3A%2037795428%7D%2C%20%22type%22%3A%20%22Feature%22%7D%2C%20%7B%22bbox%22%3A%20%5B9.484452500000005%2C%2047.70410359625661%2C%209.4867798%2C%2047.70430119625666%5D%2C%20%22geometry%22%3A%20%7B%22coordinates%22%3A%20%5B%5B9.484452500000005%2C%2047.70430119625666%5D%2C%20%5B9.484689150002522%2C%2047.70430074651242%5D%2C%20%5B9.484925799999996%2C%2047.704300296256584%5D%2C%20%5B9.4852019405732%2C%2047.70427371765093%5D%2C%20%5B9.485478080859798%2C%2047.70424713834809%5D%2C%20%5B9.485754220859809%2C%2047.7042205583481%5D%2C%20%5B9.486030360573201%2C%2047.70419397765094%5D%2C%20%5B9.486306499999992%2C%2047.704167396256615%5D%2C%20%5B9.486543150147211%2C%2047.70413549651277%5D%2C%20%5B9.4867798%2C%2047.70410359625661%5D%5D%2C%20%22type%22%3A%20%22LineString%22%7D%2C%20%22id%22%3A%20%22%28443339517%2C%20331517302%2C%200%29%22%2C%20%22properties%22%3A%20%7B%22highway%22%3A%20%22residential%22%2C%20%22length%22%3A%20176.52468867525766%2C%20%22osmid%22%3A%2037795695%7D%2C%20%22type%22%3A%20%22Feature%22%7D%2C%20%7B%22bbox%22%3A%20%5B9.483812250239541%2C%2047.70428929625664%2C%209.484452500000005%2C%2047.704338046547825%5D%2C%20%22geometry%22%3A%20%7B%22coordinates%22%3A%20%5B%5B9.484452500000005%2C%2047.70430119625666%5D%2C%20%5B9.4840644%2C%2047.70428929625664%5D%2C%20%5B9.483812250239541%2C%2047.704338046547825%5D%5D%2C%20%22type%22%3A%20%22LineString%22%7D%2C%20%22id%22%3A%20%22%28443339517%2C%20368956408301%2C%200%29%22%2C%20%22properties%22%3A%20%7B%22highway%22%3A%20%22residential%22%2C%20%22length%22%3A%2048.871264650877855%2C%20%22osmid%22%3A%2037795695%7D%2C%20%22type%22%3A%20%22Feature%22%7D%2C%20%7B%22bbox%22%3A%20%5B9.488168299999996%2C%2047.702968763411334%2C%209.488399366874441%2C%2047.70299179625651%5D%2C%20%22geometry%22%3A%20%7B%22coordinates%22%3A%20%5B%5B9.488168299999996%2C%2047.70299179625651%5D%2C%20%5B9.488399366874441%2C%2047.702968763411334%5D%5D%2C%20%22type%22%3A%20%22LineString%22%7D%2C%20%22id%22%3A%20%22%283076312536%2C%20615262508401%2C%200%29%22%2C%20%22properties%22%3A%20%7B%22highway%22%3A%20%22service%22%2C%20%22length%22%3A%2017.54112615553275%2C%20%22osmid%22%3A%20303278577%7D%2C%20%22type%22%3A%20%22Feature%22%7D%2C%20%7B%22bbox%22%3A%20%5B9.488137700000003%2C%2047.70288569625651%2C%209.488168299999996%2C%2047.70299179625651%5D%2C%20%22geometry%22%3A%20%7B%22coordinates%22%3A%20%5B%5B9.488137700000003%2C%2047.70288569625651%5D%2C%20%5B9.488168299999996%2C%2047.70299179625651%5D%5D%2C%20%22type%22%3A%20%22LineString%22%7D%2C%20%22id%22%3A%20%22%283076312536%2C%20329334540%2C%200%29%22%2C%20%22properties%22%3A%20%7B%22highway%22%3A%20%22secondary%22%2C%20%22length%22%3A%2012.010832019119901%2C%20%22osmid%22%3A%2039772847%7D%2C%20%22type%22%3A%20%22Feature%22%7D%2C%20%7B%22bbox%22%3A%20%5B9.488168299999996%2C%2047.70299179625651%2C%209.488219659252177%2C%2047.70318105633872%5D%2C%20%22geometry%22%3A%20%7B%22coordinates%22%3A%20%5B%5B9.488219659252177%2C%2047.70318105633872%5D%2C%20%5B9.488168299999996%2C%2047.70299179625651%5D%5D%2C%20%22type%22%3A%20%22LineString%22%7D%2C%20%22id%22%3A%20%22%283076312536%2C%20340783580504%2C%200%29%22%2C%20%22properties%22%3A%20%7B%22highway%22%3A%20%22secondary%22%2C%20%22length%22%3A%2021.379830434163267%2C%20%22osmid%22%3A%2039772847%7D%2C%20%22type%22%3A%20%22Feature%22%7D%2C%20%7B%22bbox%22%3A%20%5B9.488168299999996%2C%2047.702968763411334%2C%209.488399366874441%2C%2047.70299179625651%5D%2C%20%22geometry%22%3A%20%7B%22coordinates%22%3A%20%5B%5B9.488168299999996%2C%2047.70299179625651%5D%2C%20%5B9.488399366874441%2C%2047.702968763411334%5D%5D%2C%20%22type%22%3A%20%22LineString%22%7D%2C%20%22id%22%3A%20%22%28615262508401%2C%203076312536%2C%200%29%22%2C%20%22properties%22%3A%20%7B%22highway%22%3A%20%22service%22%2C%20%22length%22%3A%2017.54112615553275%2C%20%22osmid%22%3A%20303278577%7D%2C%20%22type%22%3A%20%22Feature%22%7D%2C%20%7B%22bbox%22%3A%20%5B9.488399366874441%2C%2047.70292269625649%2C%209.488861499999995%2C%2047.702968763411334%5D%2C%20%22geometry%22%3A%20%7B%22coordinates%22%3A%20%5B%5B9.488399366874441%2C%2047.702968763411334%5D%2C%20%5B9.48863043354111%2C%2047.70294573007801%5D%2C%20%5B9.488861499999995%2C%2047.70292269625649%5D%5D%2C%20%22type%22%3A%20%22LineString%22%7D%2C%20%22id%22%3A%20%22%28615262508401%2C%203076312548%2C%200%29%22%2C%20%22properties%22%3A%20%7B%22highway%22%3A%20%22service%22%2C%20%22length%22%3A%2035.0822523110655%2C%20%22osmid%22%3A%20303278577%7D%2C%20%22type%22%3A%20%22Feature%22%7D%2C%20%7B%22bbox%22%3A%20%5B9.488137700000003%2C%2047.70288569625651%2C%209.488168299999996%2C%2047.70299179625651%5D%2C%20%22geometry%22%3A%20%7B%22coordinates%22%3A%20%5B%5B9.488137700000003%2C%2047.70288569625651%5D%2C%20%5B9.488168299999996%2C%2047.70299179625651%5D%5D%2C%20%22type%22%3A%20%22LineString%22%7D%2C%20%22id%22%3A%20%22%28329334540%2C%203076312536%2C%200%29%22%2C%20%22properties%22%3A%20%7B%22highway%22%3A%20%22secondary%22%2C%20%22length%22%3A%2012.010832019119901%2C%20%22osmid%22%3A%2039772847%7D%2C%20%22type%22%3A%20%22Feature%22%7D%2C%20%7B%22bbox%22%3A%20%5B9.487947655780067%2C%2047.70199181069077%2C%209.488137700000003%2C%2047.70288569625651%5D%2C%20%22geometry%22%3A%20%7B%22coordinates%22%3A%20%5B%5B9.488137700000003%2C%2047.70288569625651%5D%2C%20%5B9.488089599999995%2C%2047.70265929625645%5D%2C%20%5B9.488054113604306%2C%2047.702492424902196%5D%2C%20%5B9.488018627435753%2C%2047.70232555352317%5D%2C%20%5B9.487983141494338%2C%2047.70215868211936%5D%2C%20%5B9.487947655780067%2C%2047.70199181069077%5D%5D%2C%20%22type%22%3A%20%22LineString%22%7D%2C%20%22id%22%3A%20%22%28329334540%2C%20313193593503%2C%200%29%22%2C%20%22properties%22%3A%20%7B%22highway%22%3A%20%22secondary%22%2C%20%22length%22%3A%20100.34223172703116%2C%20%22osmid%22%3A%2039772847%7D%2C%20%22type%22%3A%20%22Feature%22%7D%2C%20%7B%22bbox%22%3A%20%5B9.487945800000006%2C%2047.70288569625651%2C%209.488137700000003%2C%2047.70290099625651%5D%2C%20%22geometry%22%3A%20%7B%22coordinates%22%3A%20%5B%5B9.488137700000003%2C%2047.70288569625651%5D%2C%20%5B9.488057900000003%2C%2047.7028962962565%5D%2C%20%5B9.487945800000006%2C%2047.70290099625651%5D%5D%2C%20%22type%22%3A%20%22LineString%22%7D%2C%20%22id%22%3A%20%22%28329334540%2C%20329334529%2C%200%29%22%2C%20%22properties%22%3A%20%7B%22highway%22%3A%20%22residential%22%2C%20%22length%22%3A%2014.542698928172722%2C%20%22osmid%22%3A%20626721645%7D%2C%20%22type%22%3A%20%22Feature%22%7D%2C%20%7B%22bbox%22%3A%20%5B9.488168299999996%2C%2047.70299179625651%2C%209.488219659252177%2C%2047.70318105633872%5D%2C%20%22geometry%22%3A%20%7B%22coordinates%22%3A%20%5B%5B9.488219659252177%2C%2047.70318105633872%5D%2C%20%5B9.488168299999996%2C%2047.70299179625651%5D%5D%2C%20%22type%22%3A%20%22LineString%22%7D%2C%20%22id%22%3A%20%22%28340783580504%2C%203076312536%2C%200%29%22%2C%20%22properties%22%3A%20%7B%22highway%22%3A%20%22secondary%22%2C%20%22length%22%3A%2021.379830434163267%2C%20%22osmid%22%3A%2039772847%7D%2C%20%22type%22%3A%20%22Feature%22%7D%2C%20%7B%22bbox%22%3A%20%5B9.488219659252177%2C%2047.70318105633872%2C%209.488322378878248%2C%2047.70355957637986%5D%2C%20%22geometry%22%3A%20%7B%22coordinates%22%3A%20%5B%5B9.488219659252177%2C%2047.70318105633872%5D%2C%20%5B9.488271018878264%2C%2047.703370316379846%5D%2C%20%5B9.488322378878248%2C%2047.70355957637986%5D%5D%2C%20%22type%22%3A%20%22LineString%22%7D%2C%20%22id%22%3A%20%22%28340783580504%2C%20340783580502%2C%200%29%22%2C%20%22properties%22%3A%20%7B%22highway%22%3A%20%22secondary%22%2C%20%22length%22%3A%2042.759660868152366%2C%20%22osmid%22%3A%2039772847%7D%2C%20%22type%22%3A%20%22Feature%22%7D%2C%20%7B%22bbox%22%3A%20%5B9.480129699999994%2C%2047.704153396868904%2C%209.48038826716047%2C%2047.70420239625658%5D%2C%20%22geometry%22%3A%20%7B%22coordinates%22%3A%20%5B%5B9.480129699999994%2C%2047.70420239625658%5D%2C%20%5B9.48038826716047%2C%2047.704153396868904%5D%5D%2C%20%22type%22%3A%20%22LineString%22%7D%2C%20%22id%22%3A%20%22%28260386718%2C%2052077343701%2C%200%29%22%2C%20%22properties%22%3A%20%7B%22highway%22%3A%20%22residential%22%2C%20%22length%22%3A%2020.167626309731318%2C%20%22osmid%22%3A%2037794929%7D%2C%20%22type%22%3A%20%22Feature%22%7D%2C%20%7B%22bbox%22%3A%20%5B9.479414899999993%2C%2047.70420239625658%2C%209.480129699999994%2C%2047.70425159625659%5D%2C%20%22geometry%22%3A%20%7B%22coordinates%22%3A%20%5B%5B9.480129699999994%2C%2047.70420239625658%5D%2C%20%5B9.479834600000004%2C%2047.704223696256605%5D%2C%20%5B9.479624750057265%2C%2047.704237646457834%5D%2C%20%5B9.479414899999993%2C%2047.70425159625659%5D%5D%2C%20%22type%22%3A%20%22LineString%22%7D%2C%20%22id%22%3A%20%22%28260386718%2C%203071952178%2C%200%29%22%2C%20%22properties%22%3A%20%7B%22highway%22%3A%20%5B%22residential%22%2C%20%22unclassified%22%5D%2C%20%22length%22%3A%2053.95873314427257%2C%20%22osmid%22%3A%20%5B37794929%2C%20119067449%5D%7D%2C%20%22type%22%3A%20%22Feature%22%7D%2C%20%7B%22bbox%22%3A%20%5B9.480129699999994%2C%2047.704153396868904%2C%209.48038826716047%2C%2047.70420239625658%5D%2C%20%22geometry%22%3A%20%7B%22coordinates%22%3A%20%5B%5B9.480129699999994%2C%2047.70420239625658%5D%2C%20%5B9.48038826716047%2C%2047.704153396868904%5D%5D%2C%20%22type%22%3A%20%22LineString%22%7D%2C%20%22id%22%3A%20%22%2852077343701%2C%20260386718%2C%200%29%22%2C%20%22properties%22%3A%20%7B%22highway%22%3A%20%22residential%22%2C%20%22length%22%3A%2020.167626309731318%2C%20%22osmid%22%3A%2037794929%7D%2C%20%22type%22%3A%20%22Feature%22%7D%2C%20%7B%22bbox%22%3A%20%5B9.48038826716047%2C%2047.7041043968689%2C%209.480646833827139%2C%2047.704153396868904%5D%2C%20%22geometry%22%3A%20%7B%22coordinates%22%3A%20%5B%5B9.48038826716047%2C%2047.704153396868904%5D%2C%20%5B9.480646833827139%2C%2047.7041043968689%5D%5D%2C%20%22type%22%3A%20%22LineString%22%7D%2C%20%22id%22%3A%20%22%2852077343701%2C%2052077343702%2C%200%29%22%2C%20%22properties%22%3A%20%7B%22highway%22%3A%20%22residential%22%2C%20%22length%22%3A%2020.167626309860182%2C%20%22osmid%22%3A%2037794929%7D%2C%20%22type%22%3A%20%22Feature%22%7D%2C%20%7B%22bbox%22%3A%20%5B9.479187549955578%2C%2047.70424144649266%2C%209.479414899999993%2C%2047.70425159625659%5D%2C%20%22geometry%22%3A%20%7B%22coordinates%22%3A%20%5B%5B9.479187549955578%2C%2047.70424144649266%5D%2C%20%5B9.479414899999993%2C%2047.70425159625659%5D%5D%2C%20%22type%22%3A%20%22LineString%22%7D%2C%20%22id%22%3A%20%22%283071952178%2C%20333233889501%2C%200%29%22%2C%20%22properties%22%3A%20%7B%22highway%22%3A%20%22unclassified%22%2C%20%22length%22%3A%2017.110346341810835%2C%20%22osmid%22%3A%20119067449%7D%2C%20%22type%22%3A%20%22Feature%22%7D%2C%20%7B%22bbox%22%3A%20%5B9.479414899999993%2C%2047.70420239625658%2C%209.480129699999994%2C%2047.70425159625659%5D%2C%20%22geometry%22%3A%20%7B%22coordinates%22%3A%20%5B%5B9.479414899999993%2C%2047.70425159625659%5D%2C%20%5B9.479624750057265%2C%2047.704237646457834%5D%2C%20%5B9.479834600000004%2C%2047.704223696256605%5D%2C%20%5B9.480129699999994%2C%2047.70420239625658%5D%5D%2C%20%22type%22%3A%20%22LineString%22%7D%2C%20%22id%22%3A%20%22%283071952178%2C%20260386718%2C%200%29%22%2C%20%22properties%22%3A%20%7B%22highway%22%3A%20%5B%22residential%22%2C%20%22unclassified%22%5D%2C%20%22length%22%3A%2053.95873314427257%2C%20%22osmid%22%3A%20%5B119067449%2C%2037794929%5D%7D%2C%20%22type%22%3A%20%22Feature%22%7D%2C%20%7B%22bbox%22%3A%20%5B9.478960199999996%2C%2047.70423129625658%2C%209.479187549955578%2C%2047.70424144649266%5D%2C%20%22geometry%22%3A%20%7B%22coordinates%22%3A%20%5B%5B9.478960199999996%2C%2047.70423129625658%5D%2C%20%5B9.479187549955578%2C%2047.70424144649266%5D%5D%2C%20%22type%22%3A%20%22LineString%22%7D%2C%20%22id%22%3A%20%22%28333233889501%2C%20260386717%2C%200%29%22%2C%20%22properties%22%3A%20%7B%22highway%22%3A%20%22unclassified%22%2C%20%22length%22%3A%2017.110346340853706%2C%20%22osmid%22%3A%20119067449%7D%2C%20%22type%22%3A%20%22Feature%22%7D%2C%20%7B%22bbox%22%3A%20%5B9.479187549955578%2C%2047.70424144649266%2C%209.479414899999993%2C%2047.70425159625659%5D%2C%20%22geometry%22%3A%20%7B%22coordinates%22%3A%20%5B%5B9.479187549955578%2C%2047.70424144649266%5D%2C%20%5B9.479414899999993%2C%2047.70425159625659%5D%5D%2C%20%22type%22%3A%20%22LineString%22%7D%2C%20%22id%22%3A%20%22%28333233889501%2C%203071952178%2C%200%29%22%2C%20%22properties%22%3A%20%7B%22highway%22%3A%20%22unclassified%22%2C%20%22length%22%3A%2017.110346341810835%2C%20%22osmid%22%3A%20119067449%7D%2C%20%22type%22%3A%20%22Feature%22%7D%2C%20%7B%22bbox%22%3A%20%5B9.480646833827139%2C%2047.70405539625659%2C%209.4809054%2C%2047.7041043968689%5D%2C%20%22geometry%22%3A%20%7B%22coordinates%22%3A%20%5B%5B9.480646833827139%2C%2047.7041043968689%5D%2C%20%5B9.4809054%2C%2047.70405539625659%5D%5D%2C%20%22type%22%3A%20%22LineString%22%7D%2C%20%22id%22%3A%20%22%28260386719%2C%2052077343702%2C%200%29%22%2C%20%22properties%22%3A%20%7B%22highway%22%3A%20%22residential%22%2C%20%22length%22%3A%2020.167626309731318%2C%20%22osmid%22%3A%2037794929%7D%2C%20%22type%22%3A%20%22Feature%22%7D%2C%20%7B%22bbox%22%3A%20%5B9.480854500000001%2C%2047.70372869625656%2C%209.481165600000002%2C%2047.70405539625659%5D%2C%20%22geometry%22%3A%20%7B%22coordinates%22%3A%20%5B%5B9.4809054%2C%2047.70405539625659%5D%2C%20%5B9.480854500000001%2C%2047.703867696256566%5D%2C%20%5B9.481165600000002%2C%2047.70372869625656%5D%5D%2C%20%22type%22%3A%20%22LineString%22%7D%2C%20%22id%22%3A%20%22%28260386719%2C%202467314133%2C%200%29%22%2C%20%22properties%22%3A%20%7B%22highway%22%3A%20%22residential%22%2C%20%22length%22%3A%2049.21242337398658%2C%20%22osmid%22%3A%20187007984%7D%2C%20%22type%22%3A%20%22Feature%22%7D%2C%20%7B%22bbox%22%3A%20%5B9.4809054%2C%2047.70405539625659%2C%209.480990299999997%2C%2047.70416729625663%5D%2C%20%22geometry%22%3A%20%7B%22coordinates%22%3A%20%5B%5B9.4809054%2C%2047.70405539625659%5D%2C%20%5B9.480920999999995%2C%2047.704097896256556%5D%2C%20%5B9.480990299999997%2C%2047.70416729625663%5D%5D%2C%20%22type%22%3A%20%22LineString%22%7D%2C%20%22id%22%3A%20%22%28260386719%2C%20331517323%2C%200%29%22%2C%20%22properties%22%3A%20%7B%22highway%22%3A%20%22residential%22%2C%20%22length%22%3A%2014.167746045819275%2C%20%22osmid%22%3A%20626714574%7D%2C%20%22type%22%3A%20%22Feature%22%7D%2C%20%7B%22bbox%22%3A%20%5B9.48038826716047%2C%2047.7041043968689%2C%209.480646833827139%2C%2047.704153396868904%5D%2C%20%22geometry%22%3A%20%7B%22coordinates%22%3A%20%5B%5B9.48038826716047%2C%2047.704153396868904%5D%2C%20%5B9.480646833827139%2C%2047.7041043968689%5D%5D%2C%20%22type%22%3A%20%22LineString%22%7D%2C%20%22id%22%3A%20%22%2852077343702%2C%2052077343701%2C%200%29%22%2C%20%22properties%22%3A%20%7B%22highway%22%3A%20%22residential%22%2C%20%22length%22%3A%2020.167626309860182%2C%20%22osmid%22%3A%2037794929%7D%2C%20%22type%22%3A%20%22Feature%22%7D%2C%20%7B%22bbox%22%3A%20%5B9.480646833827139%2C%2047.70405539625659%2C%209.4809054%2C%2047.7041043968689%5D%2C%20%22geometry%22%3A%20%7B%22coordinates%22%3A%20%5B%5B9.480646833827139%2C%2047.7041043968689%5D%2C%20%5B9.4809054%2C%2047.70405539625659%5D%5D%2C%20%22type%22%3A%20%22LineString%22%7D%2C%20%22id%22%3A%20%22%2852077343702%2C%20260386719%2C%200%29%22%2C%20%22properties%22%3A%20%7B%22highway%22%3A%20%22residential%22%2C%20%22length%22%3A%2020.167626309731318%2C%20%22osmid%22%3A%2037794929%7D%2C%20%22type%22%3A%20%22Feature%22%7D%2C%20%7B%22bbox%22%3A%20%5B9.481165600000002%2C%2047.703616796256576%2C%209.481495499999998%2C%2047.70372869625656%5D%2C%20%22geometry%22%3A%20%7B%22coordinates%22%3A%20%5B%5B9.481495499999998%2C%2047.703616796256576%5D%2C%20%5B9.481165600000002%2C%2047.70372869625656%5D%5D%2C%20%22type%22%3A%20%22LineString%22%7D%2C%20%22id%22%3A%20%22%282467314133%2C%20260386721%2C%200%29%22%2C%20%22properties%22%3A%20%7B%22highway%22%3A%20%22residential%22%2C%20%22length%22%3A%2027.722135110249813%2C%20%22osmid%22%3A%20187007984%7D%2C%20%22type%22%3A%20%22Feature%22%7D%2C%20%7B%22bbox%22%3A%20%5B9.480854500000001%2C%2047.70372869625656%2C%209.481165600000002%2C%2047.70405539625659%5D%2C%20%22geometry%22%3A%20%7B%22coordinates%22%3A%20%5B%5B9.481165600000002%2C%2047.70372869625656%5D%2C%20%5B9.480854500000001%2C%2047.703867696256566%5D%2C%20%5B9.4809054%2C%2047.70405539625659%5D%5D%2C%20%22type%22%3A%20%22LineString%22%7D%2C%20%22id%22%3A%20%22%282467314133%2C%20260386719%2C%200%29%22%2C%20%22properties%22%3A%20%7B%22highway%22%3A%20%22residential%22%2C%20%22length%22%3A%2049.21242337398658%2C%20%22osmid%22%3A%20187007984%7D%2C%20%22type%22%3A%20%22Feature%22%7D%2C%20%7B%22bbox%22%3A%20%5B9.480990299999997%2C%2047.70416729625663%2C%209.481085249675536%2C%2047.70434409630509%5D%2C%20%22geometry%22%3A%20%7B%22coordinates%22%3A%20%5B%5B9.481085249675536%2C%2047.70434409630509%5D%2C%20%5B9.480990299999997%2C%2047.70416729625663%5D%5D%2C%20%22type%22%3A%20%22LineString%22%7D%2C%20%22id%22%3A%20%22%28331517323%2C%2066303464401%2C%200%29%22%2C%20%22properties%22%3A%20%7B%22highway%22%3A%20%22residential%22%2C%20%22length%22%3A%2020.89798263981715%2C%20%22osmid%22%3A%20626714574%7D%2C%20%22type%22%3A%20%22Feature%22%7D%2C%20%7B%22bbox%22%3A%20%5B9.4809054%2C%2047.70405539625659%2C%209.480990299999997%2C%2047.70416729625663%5D%2C%20%22geometry%22%3A%20%7B%22coordinates%22%3A%20%5B%5B9.480990299999997%2C%2047.70416729625663%5D%2C%20%5B9.480920999999995%2C%2047.704097896256556%5D%2C%20%5B9.4809054%2C%2047.70405539625659%5D%5D%2C%20%22type%22%3A%20%22LineString%22%7D%2C%20%22id%22%3A%20%22%28331517323%2C%20260386719%2C%200%29%22%2C%20%22properties%22%3A%20%7B%22highway%22%3A%20%22residential%22%2C%20%22length%22%3A%2014.167746045819275%2C%20%22osmid%22%3A%20626714574%7D%2C%20%22type%22%3A%20%22Feature%22%7D%2C%20%7B%22bbox%22%3A%20%5B9.48148973330022%2C%2047.703456596269234%2C%209.481495499999998%2C%2047.703616796256576%5D%2C%20%22geometry%22%3A%20%7B%22coordinates%22%3A%20%5B%5B9.481495499999998%2C%2047.703616796256576%5D%2C%20%5B9.48148973330022%2C%2047.703456596269234%5D%5D%2C%20%22type%22%3A%20%22LineString%22%7D%2C%20%22id%22%3A%20%22%28260386721%2C%20333233890001%2C%200%29%22%2C%20%22properties%22%3A%20%7B%22highway%22%3A%20%22unclassified%22%2C%20%22length%22%3A%2017.805944015565558%2C%20%22osmid%22%3A%2037794950%7D%2C%20%22type%22%3A%20%22Feature%22%7D%2C%20%7B%22bbox%22%3A%20%5B9.481495499999998%2C%2047.703616796256576%2C%209.481610923861382%2C%2047.70378674645911%5D%2C%20%22geometry%22%3A%20%7B%22coordinates%22%3A%20%5B%5B9.481495499999998%2C%2047.703616796256576%5D%2C%20%5B9.481610923861382%2C%2047.70378674645911%5D%5D%2C%20%22type%22%3A%20%22LineString%22%7D%2C%20%22id%22%3A%20%22%28260386721%2C%2070372225301%2C%200%29%22%2C%20%22properties%22%3A%20%7B%22highway%22%3A%20%22residential%22%2C%20%22length%22%3A%2020.77698209501711%2C%20%22osmid%22%3A%2037795005%7D%2C%20%22type%22%3A%20%22Feature%22%7D%2C%20%7B%22bbox%22%3A%20%5B9.481165600000002%2C%2047.703616796256576%2C%209.481495499999998%2C%2047.70372869625656%5D%2C%20%22geometry%22%3A%20%7B%22coordinates%22%3A%20%5B%5B9.481495499999998%2C%2047.703616796256576%5D%2C%20%5B9.481165600000002%2C%2047.70372869625656%5D%5D%2C%20%22type%22%3A%20%22LineString%22%7D%2C%20%22id%22%3A%20%22%28260386721%2C%202467314133%2C%200%29%22%2C%20%22properties%22%3A%20%7B%22highway%22%3A%20%22residential%22%2C%20%22length%22%3A%2027.722135110249813%2C%20%22osmid%22%3A%20187007984%7D%2C%20%22type%22%3A%20%22Feature%22%7D%2C%20%7B%22bbox%22%3A%20%5B9.48148973330022%2C%2047.703456596269234%2C%209.481495499999998%2C%2047.703616796256576%5D%2C%20%22geometry%22%3A%20%7B%22coordinates%22%3A%20%5B%5B9.481495499999998%2C%2047.703616796256576%5D%2C%20%5B9.48148973330022%2C%2047.703456596269234%5D%5D%2C%20%22type%22%3A%20%22LineString%22%7D%2C%20%22id%22%3A%20%22%28333233890001%2C%20260386721%2C%200%29%22%2C%20%22properties%22%3A%20%7B%22highway%22%3A%20%22unclassified%22%2C%20%22length%22%3A%2017.805944015565558%2C%20%22osmid%22%3A%2037794950%7D%2C%20%22type%22%3A%20%22Feature%22%7D%2C%20%7B%22bbox%22%3A%20%5B9.481483966633547%2C%2047.70329639626921%2C%209.48148973330022%2C%2047.703456596269234%5D%2C%20%22geometry%22%3A%20%7B%22coordinates%22%3A%20%5B%5B9.48148973330022%2C%2047.703456596269234%5D%2C%20%5B9.481483966633547%2C%2047.70329639626921%5D%5D%2C%20%22type%22%3A%20%22LineString%22%7D%2C%20%22id%22%3A%20%22%28333233890001%2C%20333233890002%2C%200%29%22%2C%20%22properties%22%3A%20%7B%22highway%22%3A%20%22unclassified%22%2C%20%22length%22%3A%2017.805944015129114%2C%20%22osmid%22%3A%2037794950%7D%2C%20%22type%22%3A%20%22Feature%22%7D%2C%20%7B%22bbox%22%3A%20%5B9.481495499999998%2C%2047.703616796256576%2C%209.481610923861382%2C%2047.70378674645911%5D%2C%20%22geometry%22%3A%20%7B%22coordinates%22%3A%20%5B%5B9.481495499999998%2C%2047.703616796256576%5D%2C%20%5B9.481610923861382%2C%2047.70378674645911%5D%5D%2C%20%22type%22%3A%20%22LineString%22%7D%2C%20%22id%22%3A%20%22%2870372225301%2C%20260386721%2C%200%29%22%2C%20%22properties%22%3A%20%7B%22highway%22%3A%20%22residential%22%2C%20%22length%22%3A%2020.77698209501711%2C%20%22osmid%22%3A%2037795005%7D%2C%20%22type%22%3A%20%22Feature%22%7D%2C%20%7B%22bbox%22%3A%20%5B9.481610923861382%2C%2047.70378674645911%2C%209.481726348481848%2C%2047.70395669652662%5D%2C%20%22geometry%22%3A%20%7B%22coordinates%22%3A%20%5B%5B9.481610923861382%2C%2047.70378674645911%5D%2C%20%5B9.481726348481848%2C%2047.70395669652662%5D%5D%2C%20%22type%22%3A%20%22LineString%22%7D%2C%20%22id%22%3A%20%22%2870372225301%2C%2070372225302%2C%200%29%22%2C%20%22properties%22%3A%20%7B%22highway%22%3A%20%22residential%22%2C%20%22length%22%3A%2020.776982095833276%2C%20%22osmid%22%3A%2037795005%7D%2C%20%22type%22%3A%20%22Feature%22%7D%2C%20%7B%22bbox%22%3A%20%5B9.481478200000002%2C%2047.70296921295756%2C%209.48148340009194%2C%2047.70313619625652%5D%2C%20%22geometry%22%3A%20%7B%22coordinates%22%3A%20%5B%5B9.481478200000002%2C%2047.70313619625652%5D%2C%20%5B9.48148340009194%2C%2047.70296921295756%5D%5D%2C%20%22type%22%3A%20%22LineString%22%7D%2C%20%22id%22%3A%20%22%283071952179%2C%20614390526601%2C%200%29%22%2C%20%22properties%22%3A%20%7B%22highway%22%3A%20%22unclassified%22%2C%20%22length%22%3A%2018.55867853377683%2C%20%22osmid%22%3A%2037794950%7D%2C%20%22type%22%3A%20%22Feature%22%7D%2C%20%7B%22bbox%22%3A%20%5B9.481478200000002%2C%2047.70313619625652%2C%209.481483966633547%2C%2047.70329639626921%5D%2C%20%22geometry%22%3A%20%7B%22coordinates%22%3A%20%5B%5B9.481483966633547%2C%2047.70329639626921%5D%2C%20%5B9.481478200000002%2C%2047.70313619625652%5D%5D%2C%20%22type%22%3A%20%22LineString%22%7D%2C%20%22id%22%3A%20%22%283071952179%2C%20333233890002%2C%200%29%22%2C%20%22properties%22%3A%20%7B%22highway%22%3A%20%22unclassified%22%2C%20%22length%22%3A%2017.805944015565558%2C%20%22osmid%22%3A%2037794950%7D%2C%20%22type%22%3A%20%22Feature%22%7D%2C%20%7B%22bbox%22%3A%20%5B9.481478200000002%2C%2047.70296921295756%2C%209.48148340009194%2C%2047.70313619625652%5D%2C%20%22geometry%22%3A%20%7B%22coordinates%22%3A%20%5B%5B9.481478200000002%2C%2047.70313619625652%5D%2C%20%5B9.48148340009194%2C%2047.70296921295756%5D%5D%2C%20%22type%22%3A%20%22LineString%22%7D%2C%20%22id%22%3A%20%22%28614390526601%2C%203071952179%2C%200%29%22%2C%20%22properties%22%3A%20%7B%22highway%22%3A%20%22unclassified%22%2C%20%22length%22%3A%2018.55867853377683%2C%20%22osmid%22%3A%2037794950%7D%2C%20%22type%22%3A%20%22Feature%22%7D%2C%20%7B%22bbox%22%3A%20%5B9.48148340009194%2C%2047.70213429625642%2C%209.481509400000009%2C%2047.70296921295756%5D%2C%20%22geometry%22%3A%20%7B%22coordinates%22%3A%20%5B%5B9.48148340009194%2C%2047.70296921295756%5D%2C%20%5B9.481488600147115%2C%2047.702802229644846%5D%2C%20%5B9.48149380016551%2C%2047.70263524631838%5D%2C%20%5B9.481499000147116%2C%2047.702468262978165%5D%2C%20%5B9.481504200091944%2C%2047.702301279624166%5D%2C%20%5B9.481509400000009%2C%2047.70213429625642%5D%5D%2C%20%22type%22%3A%20%22LineString%22%7D%2C%20%22id%22%3A%20%22%28614390526601%2C%203071953087%2C%200%29%22%2C%20%22properties%22%3A%20%7B%22highway%22%3A%20%22unclassified%22%2C%20%22length%22%3A%2092.79339266985514%2C%20%22osmid%22%3A%2037794950%7D%2C%20%22type%22%3A%20%22Feature%22%7D%2C%20%7B%22bbox%22%3A%20%5B9.481483966633547%2C%2047.70329639626921%2C%209.48148973330022%2C%2047.703456596269234%5D%2C%20%22geometry%22%3A%20%7B%22coordinates%22%3A%20%5B%5B9.48148973330022%2C%2047.703456596269234%5D%2C%20%5B9.481483966633547%2C%2047.70329639626921%5D%5D%2C%20%22type%22%3A%20%22LineString%22%7D%2C%20%22id%22%3A%20%22%28333233890002%2C%20333233890001%2C%200%29%22%2C%20%22properties%22%3A%20%7B%22highway%22%3A%20%22unclassified%22%2C%20%22length%22%3A%2017.805944015129114%2C%20%22osmid%22%3A%2037794950%7D%2C%20%22type%22%3A%20%22Feature%22%7D%2C%20%7B%22bbox%22%3A%20%5B9.481478200000002%2C%2047.70313619625652%2C%209.481483966633547%2C%2047.70329639626921%5D%2C%20%22geometry%22%3A%20%7B%22coordinates%22%3A%20%5B%5B9.481483966633547%2C%2047.70329639626921%5D%2C%20%5B9.481478200000002%2C%2047.70313619625652%5D%5D%2C%20%22type%22%3A%20%22LineString%22%7D%2C%20%22id%22%3A%20%22%28333233890002%2C%203071952179%2C%200%29%22%2C%20%22properties%22%3A%20%7B%22highway%22%3A%20%22unclassified%22%2C%20%22length%22%3A%2017.805944015565558%2C%20%22osmid%22%3A%2037794950%7D%2C%20%22type%22%3A%20%22Feature%22%7D%2C%20%7B%22bbox%22%3A%20%5B9.481957200000002%2C%2047.70429659625659%2C%209.4822157%2C%2047.704354696256594%5D%2C%20%22geometry%22%3A%20%7B%22coordinates%22%3A%20%5B%5B9.481957200000002%2C%2047.70429659625659%5D%2C%20%5B9.4822157%2C%2047.704354696256594%5D%5D%2C%20%22type%22%3A%20%22LineString%22%7D%2C%20%22id%22%3A%20%22%28443335532%2C%20443335533%2C%200%29%22%2C%20%22properties%22%3A%20%7B%22highway%22%3A%20%22residential%22%2C%20%22length%22%3A%2020.45672423237844%2C%20%22osmid%22%3A%2037795005%7D%2C%20%22type%22%3A%20%22Feature%22%7D%2C%20%7B%22bbox%22%3A%20%5B9.481957200000002%2C%2047.70429659625659%2C%209.481967499999998%2C%2047.70449929625663%5D%2C%20%22geometry%22%3A%20%7B%22coordinates%22%3A%20%5B%5B9.481957200000002%2C%2047.70429659625659%5D%2C%20%5B9.481967499999998%2C%2047.70449929625663%5D%5D%2C%20%22type%22%3A%20%22LineString%22%7D%2C%20%22id%22%3A%20%22%28443335532%2C%20331517312%2C%200%29%22%2C%20%22properties%22%3A%20%7B%22highway%22%3A%20%22residential%22%2C%20%22length%22%3A%2022.53632308462942%2C%20%22osmid%22%3A%2037795006%7D%2C%20%22type%22%3A%20%22Feature%22%7D%2C%20%7B%22bbox%22%3A%20%5B9.481841773861381%2C%2047.70412664645912%2C%209.481957200000002%2C%2047.70429659625659%5D%2C%20%22geometry%22%3A%20%7B%22coordinates%22%3A%20%5B%5B9.481841773861381%2C%2047.70412664645912%5D%2C%20%5B9.481957200000002%2C%2047.70429659625659%5D%5D%2C%20%22type%22%3A%20%22LineString%22%7D%2C%20%22id%22%3A%20%22%28443335532%2C%2070372225303%2C%200%29%22%2C%20%22properties%22%3A%20%7B%22highway%22%3A%20%22residential%22%2C%20%22length%22%3A%2020.77698209501711%2C%20%22osmid%22%3A%2037795005%7D%2C%20%22type%22%3A%20%22Feature%22%7D%2C%20%7B%22bbox%22%3A%20%5B9.481957200000002%2C%2047.70429659625659%2C%209.4822157%2C%2047.704354696256594%5D%2C%20%22geometry%22%3A%20%7B%22coordinates%22%3A%20%5B%5B9.481957200000002%2C%2047.70429659625659%5D%2C%20%5B9.4822157%2C%2047.704354696256594%5D%5D%2C%20%22type%22%3A%20%22LineString%22%7D%2C%20%22id%22%3A%20%22%28443335533%2C%20443335532%2C%200%29%22%2C%20%22properties%22%3A%20%7B%22highway%22%3A%20%22residential%22%2C%20%22length%22%3A%2020.45672423237844%2C%20%22osmid%22%3A%2037795005%7D%2C%20%22type%22%3A%20%22Feature%22%7D%2C%20%7B%22bbox%22%3A%20%5B9.4822157%2C%2047.70426677183798%2C%209.482420526052248%2C%2047.704354696256594%5D%2C%20%22geometry%22%3A%20%7B%22coordinates%22%3A%20%5B%5B9.4822157%2C%2047.704354696256594%5D%2C%20%5B9.482420526052248%2C%2047.70426677183798%5D%5D%2C%20%22type%22%3A%20%22LineString%22%7D%2C%20%22id%22%3A%20%22%28443335533%2C%2077485284301%2C%200%29%22%2C%20%22properties%22%3A%20%7B%22highway%22%3A%20%22residential%22%2C%20%22length%22%3A%2018.223883176577846%2C%20%22osmid%22%3A%2037795008%7D%2C%20%22type%22%3A%20%22Feature%22%7D%2C%20%7B%22bbox%22%3A%20%5B9.481967499999998%2C%2047.704354696256594%2C%209.4822157%2C%2047.70449929625663%5D%2C%20%22geometry%22%3A%20%7B%22coordinates%22%3A%20%5B%5B9.4822157%2C%2047.704354696256594%5D%2C%20%5B9.481967499999998%2C%2047.70449929625663%5D%5D%2C%20%22type%22%3A%20%22LineString%22%7D%2C%20%22id%22%3A%20%22%28443335533%2C%20331517312%2C%200%29%22%2C%20%22properties%22%3A%20%7B%22highway%22%3A%20%22residential%22%2C%20%22length%22%3A%2024.61084460362297%2C%20%22osmid%22%3A%2037795008%7D%2C%20%22type%22%3A%20%22Feature%22%7D%2C%20%7B%22bbox%22%3A%20%5B9.481957200000002%2C%2047.70429659625659%2C%209.481967499999998%2C%2047.70449929625663%5D%2C%20%22geometry%22%3A%20%7B%22coordinates%22%3A%20%5B%5B9.481957200000002%2C%2047.70429659625659%5D%2C%20%5B9.481967499999998%2C%2047.70449929625663%5D%5D%2C%20%22type%22%3A%20%22LineString%22%7D%2C%20%22id%22%3A%20%22%28331517312%2C%20443335532%2C%200%29%22%2C%20%22properties%22%3A%20%7B%22highway%22%3A%20%22residential%22%2C%20%22length%22%3A%2022.53632308462942%2C%20%22osmid%22%3A%2037795006%7D%2C%20%22type%22%3A%20%22Feature%22%7D%2C%20%7B%22bbox%22%3A%20%5B9.481967499999998%2C%2047.704354696256594%2C%209.4822157%2C%2047.70449929625663%5D%2C%20%22geometry%22%3A%20%7B%22coordinates%22%3A%20%5B%5B9.4822157%2C%2047.704354696256594%5D%2C%20%5B9.481967499999998%2C%2047.70449929625663%5D%5D%2C%20%22type%22%3A%20%22LineString%22%7D%2C%20%22id%22%3A%20%22%28331517312%2C%20443335533%2C%200%29%22%2C%20%22properties%22%3A%20%7B%22highway%22%3A%20%22residential%22%2C%20%22length%22%3A%2024.61084460362297%2C%20%22osmid%22%3A%2037795008%7D%2C%20%22type%22%3A%20%22Feature%22%7D%2C%20%7B%22bbox%22%3A%20%5B9.481636800000004%2C%2047.70449929625663%2C%209.481967499999998%2C%2047.704646996256656%5D%2C%20%22geometry%22%3A%20%7B%22coordinates%22%3A%20%5B%5B9.481967499999998%2C%2047.70449929625663%5D%2C%20%5B9.481636800000004%2C%2047.704646996256656%5D%5D%2C%20%22type%22%3A%20%22LineString%22%7D%2C%20%22id%22%3A%20%22%28331517312%2C%20331517315%2C%200%29%22%2C%20%22properties%22%3A%20%7B%22highway%22%3A%20%22residential%22%2C%20%22length%22%3A%2029.770150215280342%2C%20%22osmid%22%3A%2037795008%7D%2C%20%22type%22%3A%20%22Feature%22%7D%2C%20%7B%22bbox%22%3A%20%5B9.481726348481848%2C%2047.70395669652662%2C%209.481841773861381%2C%2047.70412664645912%5D%2C%20%22geometry%22%3A%20%7B%22coordinates%22%3A%20%5B%5B9.481726348481848%2C%2047.70395669652662%5D%2C%20%5B9.481841773861381%2C%2047.70412664645912%5D%5D%2C%20%22type%22%3A%20%22LineString%22%7D%2C%20%22id%22%3A%20%22%2870372225303%2C%2070372225302%2C%200%29%22%2C%20%22properties%22%3A%20%7B%22highway%22%3A%20%22residential%22%2C%20%22length%22%3A%2020.776982095438978%2C%20%22osmid%22%3A%2037795005%7D%2C%20%22type%22%3A%20%22Feature%22%7D%2C%20%7B%22bbox%22%3A%20%5B9.481841773861381%2C%2047.70412664645912%2C%209.481957200000002%2C%2047.70429659625659%5D%2C%20%22geometry%22%3A%20%7B%22coordinates%22%3A%20%5B%5B9.481841773861381%2C%2047.70412664645912%5D%2C%20%5B9.481957200000002%2C%2047.70429659625659%5D%5D%2C%20%22type%22%3A%20%22LineString%22%7D%2C%20%22id%22%3A%20%22%2870372225303%2C%20443335532%2C%200%29%22%2C%20%22properties%22%3A%20%7B%22highway%22%3A%20%22residential%22%2C%20%22length%22%3A%2020.77698209501711%2C%20%22osmid%22%3A%2037795005%7D%2C%20%22type%22%3A%20%22Feature%22%7D%2C%20%7B%22bbox%22%3A%20%5B9.481509400000009%2C%2047.70193274626589%2C%209.481541200087731%2C%2047.70213429625642%5D%2C%20%22geometry%22%3A%20%7B%22coordinates%22%3A%20%5B%5B9.481509400000009%2C%2047.70213429625642%5D%2C%20%5B9.481509999999997%2C%2047.70207559625644%5D%2C%20%5B9.481541200087731%2C%2047.70193274626589%5D%5D%2C%20%22type%22%3A%20%22LineString%22%7D%2C%20%22id%22%3A%20%22%283071953087%2C%2058972122201%2C%200%29%22%2C%20%22properties%22%3A%20%7B%22highway%22%3A%20%22unclassified%22%2C%20%22length%22%3A%2022.568026726177017%2C%20%22osmid%22%3A%2037794950%7D%2C%20%22type%22%3A%20%22Feature%22%7D%2C%20%7B%22bbox%22%3A%20%5B9.481509400000009%2C%2047.70213429625642%2C%209.481772599568178%2C%2047.702464646320195%5D%2C%20%22geometry%22%3A%20%7B%22coordinates%22%3A%20%5B%5B9.481509400000009%2C%2047.70213429625642%5D%2C%20%5B9.481602300000002%2C%2047.70215959625646%5D%2C%20%5B9.481639799999995%2C%2047.70217589625646%5D%2C%20%5B9.481655900000007%2C%2047.702204696256494%5D%2C%20%5B9.481664000000004%2C%2047.70225889625643%5D%2C%20%5B9.481772599568178%2C%2047.702464646320195%5D%5D%2C%20%22type%22%3A%20%22LineString%22%7D%2C%20%22id%22%3A%20%22%283071953087%2C%20614390618601%2C%200%29%22%2C%20%22properties%22%3A%20%7B%22highway%22%3A%20%22residential%22%2C%20%22length%22%3A%2044.614956014038924%2C%20%22osmid%22%3A%20302910640%7D%2C%20%22type%22%3A%20%22Feature%22%7D%2C%20%7B%22bbox%22%3A%20%5B9.48148340009194%2C%2047.70213429625642%2C%209.481509400000009%2C%2047.70296921295756%5D%2C%20%22geometry%22%3A%20%7B%22coordinates%22%3A%20%5B%5B9.481509400000009%2C%2047.70213429625642%5D%2C%20%5B9.481504200091944%2C%2047.702301279624166%5D%2C%20%5B9.481499000147116%2C%2047.702468262978165%5D%2C%20%5B9.48149380016551%2C%2047.70263524631838%5D%2C%20%5B9.481488600147115%2C%2047.702802229644846%5D%2C%20%5B9.48148340009194%2C%2047.70296921295756%5D%5D%2C%20%22type%22%3A%20%22LineString%22%7D%2C%20%22id%22%3A%20%22%283071953087%2C%20614390526601%2C%200%29%22%2C%20%22properties%22%3A%20%7B%22highway%22%3A%20%22unclassified%22%2C%20%22length%22%3A%2092.79339266985514%2C%20%22osmid%22%3A%2037794950%7D%2C%20%22type%22%3A%20%22Feature%22%7D%2C%20%7B%22bbox%22%3A%20%5B9.481541200087731%2C%2047.70178989625644%2C%209.481572400000003%2C%2047.70193274626589%5D%2C%20%22geometry%22%3A%20%7B%22coordinates%22%3A%20%5B%5B9.481541200087731%2C%2047.70193274626589%5D%2C%20%5B9.481572400000003%2C%2047.70178989625644%5D%5D%2C%20%22type%22%3A%20%22LineString%22%7D%2C%20%22id%22%3A%20%22%2858972122201%2C%20329334500%2C%200%29%22%2C%20%22properties%22%3A%20%7B%22highway%22%3A%20%22unclassified%22%2C%20%22length%22%3A%2016.045364502748285%2C%20%22osmid%22%3A%2037794950%7D%2C%20%22type%22%3A%20%22Feature%22%7D%2C%20%7B%22bbox%22%3A%20%5B9.481509400000009%2C%2047.70193274626589%2C%209.481541200087731%2C%2047.70213429625642%5D%2C%20%22geometry%22%3A%20%7B%22coordinates%22%3A%20%5B%5B9.481541200087731%2C%2047.70193274626589%5D%2C%20%5B9.481509999999997%2C%2047.70207559625644%5D%2C%20%5B9.481509400000009%2C%2047.70213429625642%5D%5D%2C%20%22type%22%3A%20%22LineString%22%7D%2C%20%22id%22%3A%20%22%2858972122201%2C%203071953087%2C%200%29%22%2C%20%22properties%22%3A%20%7B%22highway%22%3A%20%22unclassified%22%2C%20%22length%22%3A%2022.568026726177017%2C%20%22osmid%22%3A%2037794950%7D%2C%20%22type%22%3A%20%22Feature%22%7D%2C%20%7B%22bbox%22%3A%20%5B9.481772599568178%2C%2047.702464646320195%2C%209.482160199999996%2C%2047.70267039625649%5D%2C%20%22geometry%22%3A%20%7B%22coordinates%22%3A%20%5B%5B9.481772599568178%2C%2047.702464646320195%5D%2C%20%5B9.481881199999997%2C%2047.70267039625649%5D%2C%20%5B9.482160199999996%2C%2047.702627096256464%5D%5D%2C%20%22type%22%3A%20%22LineString%22%7D%2C%20%22id%22%3A%20%22%28614390618601%2C%203071953083%2C%200%29%22%2C%20%22properties%22%3A%20%7B%22highway%22%3A%20%22residential%22%2C%20%22length%22%3A%2045.77078379835263%2C%20%22osmid%22%3A%20302910640%7D%2C%20%22type%22%3A%20%22Feature%22%7D%2C%20%7B%22bbox%22%3A%20%5B9.481509400000009%2C%2047.70213429625642%2C%209.481772599568178%2C%2047.702464646320195%5D%2C%20%22geometry%22%3A%20%7B%22coordinates%22%3A%20%5B%5B9.481772599568178%2C%2047.702464646320195%5D%2C%20%5B9.481664000000004%2C%2047.70225889625643%5D%2C%20%5B9.481655900000007%2C%2047.702204696256494%5D%2C%20%5B9.481639799999995%2C%2047.70217589625646%5D%2C%20%5B9.481602300000002%2C%2047.70215959625646%5D%2C%20%5B9.481509400000009%2C%2047.70213429625642%5D%5D%2C%20%22type%22%3A%20%22LineString%22%7D%2C%20%22id%22%3A%20%22%28614390618601%2C%203071953087%2C%200%29%22%2C%20%22properties%22%3A%20%7B%22highway%22%3A%20%22residential%22%2C%20%22length%22%3A%2044.61495601403892%2C%20%22osmid%22%3A%20302910640%7D%2C%20%22type%22%3A%20%22Feature%22%7D%2C%20%7B%22bbox%22%3A%20%5B9.481541200087731%2C%2047.70178989625644%2C%209.481572400000003%2C%2047.70193274626589%5D%2C%20%22geometry%22%3A%20%7B%22coordinates%22%3A%20%5B%5B9.481541200087731%2C%2047.70193274626589%5D%2C%20%5B9.481572400000003%2C%2047.70178989625644%5D%5D%2C%20%22type%22%3A%20%22LineString%22%7D%2C%20%22id%22%3A%20%22%28329334500%2C%2058972122201%2C%200%29%22%2C%20%22properties%22%3A%20%7B%22highway%22%3A%20%22unclassified%22%2C%20%22length%22%3A%2016.045364502748285%2C%20%22osmid%22%3A%2037794950%7D%2C%20%22type%22%3A%20%22Feature%22%7D%2C%20%7B%22bbox%22%3A%20%5B9.4822157%2C%2047.70426677183798%2C%209.482420526052248%2C%2047.704354696256594%5D%2C%20%22geometry%22%3A%20%7B%22coordinates%22%3A%20%5B%5B9.4822157%2C%2047.704354696256594%5D%2C%20%5B9.482420526052248%2C%2047.70426677183798%5D%5D%2C%20%22type%22%3A%20%22LineString%22%7D%2C%20%22id%22%3A%20%22%2877485284301%2C%20443335533%2C%200%29%22%2C%20%22properties%22%3A%20%7B%22highway%22%3A%20%22residential%22%2C%20%22length%22%3A%2018.223883176577846%2C%20%22osmid%22%3A%2037795008%7D%2C%20%22type%22%3A%20%22Feature%22%7D%2C%20%7B%22bbox%22%3A%20%5B9.482420526052248%2C%2047.70417884703176%2C%209.482625351402998%2C%2047.70426677183798%5D%2C%20%22geometry%22%3A%20%7B%22coordinates%22%3A%20%5B%5B9.482420526052248%2C%2047.70426677183798%5D%2C%20%5B9.482625351402998%2C%2047.70417884703176%5D%5D%2C%20%22type%22%3A%20%22LineString%22%7D%2C%20%22id%22%3A%20%22%2877485284301%2C%2077485284302%2C%200%29%22%2C%20%22properties%22%3A%20%7B%22highway%22%3A%20%22residential%22%2C%20%22length%22%3A%2018.223883176830228%2C%20%22osmid%22%3A%2037795008%7D%2C%20%22type%22%3A%20%22Feature%22%7D%2C%20%7B%22bbox%22%3A%20%5B9.481636800000004%2C%2047.70449929625663%2C%209.481967499999998%2C%2047.704646996256656%5D%2C%20%22geometry%22%3A%20%7B%22coordinates%22%3A%20%5B%5B9.481967499999998%2C%2047.70449929625663%5D%2C%20%5B9.481636800000004%2C%2047.704646996256656%5D%5D%2C%20%22type%22%3A%20%22LineString%22%7D%2C%20%22id%22%3A%20%22%28331517315%2C%20331517312%2C%200%29%22%2C%20%22properties%22%3A%20%7B%22highway%22%3A%20%22residential%22%2C%20%22length%22%3A%2029.770150215280342%2C%20%22osmid%22%3A%2037795008%7D%2C%20%22type%22%3A%20%22Feature%22%7D%2C%20%7B%22bbox%22%3A%20%5B9.481564600000006%2C%2047.70464169625666%2C%209.481636800000004%2C%2047.704646996256656%5D%2C%20%22geometry%22%3A%20%7B%22coordinates%22%3A%20%5B%5B9.481636800000004%2C%2047.704646996256656%5D%2C%20%5B9.481564600000006%2C%2047.70464169625666%5D%5D%2C%20%22type%22%3A%20%22LineString%22%7D%2C%20%22id%22%3A%20%22%28331517315%2C%208095608341%2C%200%29%22%2C%20%22properties%22%3A%20%7B%22highway%22%3A%20%22residential%22%2C%20%22length%22%3A%205.453752324916123%2C%20%22osmid%22%3A%2037795007%7D%2C%20%22type%22%3A%20%22Feature%22%7D%2C%20%7B%22bbox%22%3A%20%5B9.482964200000003%2C%2047.70384579625661%2C%209.483034999999994%2C%2047.704002996256605%5D%2C%20%22geometry%22%3A%20%7B%22coordinates%22%3A%20%5B%5B9.483034999999994%2C%2047.704002996256605%5D%2C%20%5B9.482964200000003%2C%2047.70384579625661%5D%5D%2C%20%22type%22%3A%20%22LineString%22%7D%2C%20%22id%22%3A%20%22%28331517310%2C%20443336608%2C%200%29%22%2C%20%22properties%22%3A%20%7B%22highway%22%3A%20%22residential%22%2C%20%22length%22%3A%2018.2577013093645%2C%20%22osmid%22%3A%2037795133%7D%2C%20%22type%22%3A%20%22Feature%22%7D%2C%20%7B%22bbox%22%3A%20%5B9.483034999999994%2C%2047.704002996256605%2C%209.483212000000005%2C%2047.70422449625663%5D%2C%20%22geometry%22%3A%20%7B%22coordinates%22%3A%20%5B%5B9.483034999999994%2C%2047.704002996256605%5D%2C%20%5B9.483212000000005%2C%2047.70422449625663%5D%5D%2C%20%22type%22%3A%20%22LineString%22%7D%2C%20%22id%22%3A%20%22%28331517310%2C%20331517308%2C%200%29%22%2C%20%22properties%22%3A%20%7B%22highway%22%3A%20%22residential%22%2C%20%22length%22%3A%2027.969871111033108%2C%20%22osmid%22%3A%2037795695%7D%2C%20%22type%22%3A%20%22Feature%22%7D%2C%20%7B%22bbox%22%3A%20%5B9.482830176052245%2C%2047.704002996256605%2C%209.483034999999994%2C%2047.70409092183797%5D%2C%20%22geometry%22%3A%20%7B%22coordinates%22%3A%20%5B%5B9.482830176052245%2C%2047.70409092183797%5D%2C%20%5B9.483034999999994%2C%2047.704002996256605%5D%5D%2C%20%22type%22%3A%20%22LineString%22%7D%2C%20%22id%22%3A%20%22%28331517310%2C%2077485284303%2C%200%29%22%2C%20%22properties%22%3A%20%7B%22highway%22%3A%20%22residential%22%2C%20%22length%22%3A%2018.223883176577846%2C%20%22osmid%22%3A%2037795008%7D%2C%20%22type%22%3A%20%22Feature%22%7D%2C%20%7B%22bbox%22%3A%20%5B9.482964200000003%2C%2047.70384579625661%2C%209.483034999999994%2C%2047.704002996256605%5D%2C%20%22geometry%22%3A%20%7B%22coordinates%22%3A%20%5B%5B9.483034999999994%2C%2047.704002996256605%5D%2C%20%5B9.482964200000003%2C%2047.70384579625661%5D%5D%2C%20%22type%22%3A%20%22LineString%22%7D%2C%20%22id%22%3A%20%22%28443336608%2C%20331517310%2C%200%29%22%2C%20%22properties%22%3A%20%7B%22highway%22%3A%20%22residential%22%2C%20%22length%22%3A%2018.2577013093645%2C%20%22osmid%22%3A%2037795133%7D%2C%20%22type%22%3A%20%22Feature%22%7D%2C%20%7B%22bbox%22%3A%20%5B9.482888999741277%2C%2047.70366754628989%2C%209.482964200000003%2C%2047.70384579625661%5D%2C%20%22geometry%22%3A%20%7B%22coordinates%22%3A%20%5B%5B9.482964200000003%2C%2047.70384579625661%5D%2C%20%5B9.482888999741277%2C%2047.70366754628989%5D%5D%2C%20%22type%22%3A%20%22LineString%22%7D%2C%20%22id%22%3A%20%22%28443336608%2C%2088667445301%2C%200%29%22%2C%20%22properties%22%3A%20%7B%22highway%22%3A%20%22residential%22%2C%20%22length%22%3A%2020.594717460628974%2C%20%22osmid%22%3A%2037795133%7D%2C%20%22type%22%3A%20%22Feature%22%7D%2C%20%7B%22bbox%22%3A%20%5B9.483034999999994%2C%2047.704002996256605%2C%209.483212000000005%2C%2047.70422449625663%5D%2C%20%22geometry%22%3A%20%7B%22coordinates%22%3A%20%5B%5B9.483034999999994%2C%2047.704002996256605%5D%2C%20%5B9.483212000000005%2C%2047.70422449625663%5D%5D%2C%20%22type%22%3A%20%22LineString%22%7D%2C%20%22id%22%3A%20%22%28331517308%2C%20331517310%2C%200%29%22%2C%20%22properties%22%3A%20%7B%22highway%22%3A%20%22residential%22%2C%20%22length%22%3A%2027.969871111033108%2C%20%22osmid%22%3A%2037795695%7D%2C%20%22type%22%3A%20%22Feature%22%7D%2C%20%7B%22bbox%22%3A%20%5B9.483212000000005%2C%2047.70422449625663%2C%209.483350000000002%2C%2047.70433409625662%5D%2C%20%22geometry%22%3A%20%7B%22coordinates%22%3A%20%5B%5B9.483350000000002%2C%2047.70433409625662%5D%2C%20%5B9.483212000000005%2C%2047.70422449625663%5D%5D%2C%20%22type%22%3A%20%22LineString%22%7D%2C%20%22id%22%3A%20%22%28331517308%2C%20443338171%2C%200%29%22%2C%20%22properties%22%3A%20%7B%22highway%22%3A%20%22residential%22%2C%20%22length%22%3A%2015.98942154456103%2C%20%22osmid%22%3A%2037795695%7D%2C%20%22type%22%3A%20%22Feature%22%7D%2C%20%7B%22bbox%22%3A%20%5B9.482625351402998%2C%2047.70409092183797%2C%209.482830176052245%2C%2047.70417884703176%5D%2C%20%22geometry%22%3A%20%7B%22coordinates%22%3A%20%5B%5B9.482625351402998%2C%2047.70417884703176%5D%2C%20%5B9.482830176052245%2C%2047.70409092183797%5D%5D%2C%20%22type%22%3A%20%22LineString%22%7D%2C%20%22id%22%3A%20%22%2877485284303%2C%2077485284302%2C%200%29%22%2C%20%22properties%22%3A%20%7B%22highway%22%3A%20%22residential%22%2C%20%22length%22%3A%2018.223883176577846%2C%20%22osmid%22%3A%2037795008%7D%2C%20%22type%22%3A%20%22Feature%22%7D%2C%20%7B%22bbox%22%3A%20%5B9.482830176052245%2C%2047.704002996256605%2C%209.483034999999994%2C%2047.70409092183797%5D%2C%20%22geometry%22%3A%20%7B%22coordinates%22%3A%20%5B%5B9.482830176052245%2C%2047.70409092183797%5D%2C%20%5B9.483034999999994%2C%2047.704002996256605%5D%5D%2C%20%22type%22%3A%20%22LineString%22%7D%2C%20%22id%22%3A%20%22%2877485284303%2C%20331517310%2C%200%29%22%2C%20%22properties%22%3A%20%7B%22highway%22%3A%20%22residential%22%2C%20%22length%22%3A%2018.223883176577846%2C%20%22osmid%22%3A%2037795008%7D%2C%20%22type%22%3A%20%22Feature%22%7D%2C%20%7B%22bbox%22%3A%20%5B9.481564600000006%2C%2047.70464169625666%2C%209.481636800000004%2C%2047.704646996256656%5D%2C%20%22geometry%22%3A%20%7B%22coordinates%22%3A%20%5B%5B9.481636800000004%2C%2047.704646996256656%5D%2C%20%5B9.481564600000006%2C%2047.70464169625666%5D%5D%2C%20%22type%22%3A%20%22LineString%22%7D%2C%20%22id%22%3A%20%22%288095608341%2C%20331517315%2C%200%29%22%2C%20%22properties%22%3A%20%7B%22highway%22%3A%20%22residential%22%2C%20%22length%22%3A%205.453752324916123%2C%20%22osmid%22%3A%2037795007%7D%2C%20%22type%22%3A%20%22Feature%22%7D%2C%20%7B%22bbox%22%3A%20%5B9.481423800000004%2C%2047.70463129625662%2C%209.481564600000006%2C%2047.70464169625666%5D%2C%20%22geometry%22%3A%20%7B%22coordinates%22%3A%20%5B%5B9.481564600000006%2C%2047.70464169625666%5D%2C%20%5B9.481423800000004%2C%2047.70463129625662%5D%5D%2C%20%22type%22%3A%20%22LineString%22%7D%2C%20%22id%22%3A%20%22%288095608341%2C%20331517316%2C%200%29%22%2C%20%22properties%22%3A%20%7B%22highway%22%3A%20%22residential%22%2C%20%22length%22%3A%2010.636346011329858%2C%20%22osmid%22%3A%2037795007%7D%2C%20%22type%22%3A%20%22Feature%22%7D%2C%20%7B%22bbox%22%3A%20%5B9.481564600000006%2C%2047.70464169625666%2C%209.4816655%2C%2047.70483789625664%5D%2C%20%22geometry%22%3A%20%7B%22coordinates%22%3A%20%5B%5B9.481564600000006%2C%2047.70464169625666%5D%2C%20%5B9.481608199999998%2C%2047.70474729625665%5D%2C%20%5B9.4816655%2C%2047.70483789625664%5D%5D%2C%20%22type%22%3A%20%22LineString%22%7D%2C%20%22id%22%3A%20%22%288095608341%2C%208095608343%2C%200%29%22%2C%20%22properties%22%3A%20%7B%22highway%22%3A%20%22service%22%2C%20%22length%22%3A%2023.128870506945017%2C%20%22osmid%22%3A%20868521723%7D%2C%20%22type%22%3A%20%22Feature%22%7D%2C%20%7B%22bbox%22%3A%20%5B9.481423800000004%2C%2047.70463129625662%2C%209.481564600000006%2C%2047.70464169625666%5D%2C%20%22geometry%22%3A%20%7B%22coordinates%22%3A%20%5B%5B9.481564600000006%2C%2047.70464169625666%5D%2C%20%5B9.481423800000004%2C%2047.70463129625662%5D%5D%2C%20%22type%22%3A%20%22LineString%22%7D%2C%20%22id%22%3A%20%22%28331517316%2C%208095608341%2C%200%29%22%2C%20%22properties%22%3A%20%7B%22highway%22%3A%20%22residential%22%2C%20%22length%22%3A%2010.636346011329858%2C%20%22osmid%22%3A%2037795007%7D%2C%20%22type%22%3A%20%22Feature%22%7D%2C%20%7B%22bbox%22%3A%20%5B9.481287500000004%2C%2047.70458279625661%2C%209.481423800000004%2C%2047.70463129625662%5D%2C%20%22geometry%22%3A%20%7B%22coordinates%22%3A%20%5B%5B9.481423800000004%2C%2047.70463129625662%5D%2C%20%5B9.481287500000004%2C%2047.70458279625661%5D%5D%2C%20%22type%22%3A%20%22LineString%22%7D%2C%20%22id%22%3A%20%22%28331517316%2C%20331517319%2C%200%29%22%2C%20%22properties%22%3A%20%7B%22highway%22%3A%20%22residential%22%2C%20%22length%22%3A%2011.566762203729555%2C%20%22osmid%22%3A%2037795007%7D%2C%20%22type%22%3A%20%22Feature%22%7D%2C%20%7B%22bbox%22%3A%20%5B9.4816655%2C%2047.70483789625664%2C%209.4817058%2C%2047.704895296256645%5D%2C%20%22geometry%22%3A%20%7B%22coordinates%22%3A%20%5B%5B9.4816655%2C%2047.70483789625664%5D%2C%20%5B9.4817058%2C%2047.704895296256645%5D%5D%2C%20%22type%22%3A%20%22LineString%22%7D%2C%20%22id%22%3A%20%22%288095608343%2C%208095608344%2C%200%29%22%2C%20%22properties%22%3A%20%7B%22highway%22%3A%20%22service%22%2C%20%22length%22%3A%207.059103301719467%2C%20%22osmid%22%3A%20868521723%7D%2C%20%22type%22%3A%20%22Feature%22%7D%2C%20%7B%22bbox%22%3A%20%5B9.481564600000006%2C%2047.70464169625666%2C%209.4816655%2C%2047.70483789625664%5D%2C%20%22geometry%22%3A%20%7B%22coordinates%22%3A%20%5B%5B9.4816655%2C%2047.70483789625664%5D%2C%20%5B9.481608199999998%2C%2047.70474729625665%5D%2C%20%5B9.481564600000006%2C%2047.70464169625666%5D%5D%2C%20%22type%22%3A%20%22LineString%22%7D%2C%20%22id%22%3A%20%22%288095608343%2C%208095608341%2C%200%29%22%2C%20%22properties%22%3A%20%7B%22highway%22%3A%20%22service%22%2C%20%22length%22%3A%2023.128870506945017%2C%20%22osmid%22%3A%20868521723%7D%2C%20%22type%22%3A%20%22Feature%22%7D%2C%20%7B%22bbox%22%3A%20%5B9.481287500000004%2C%2047.70458279625661%2C%209.481423800000004%2C%2047.70463129625662%5D%2C%20%22geometry%22%3A%20%7B%22coordinates%22%3A%20%5B%5B9.481423800000004%2C%2047.70463129625662%5D%2C%20%5B9.481287500000004%2C%2047.70458279625661%5D%5D%2C%20%22type%22%3A%20%22LineString%22%7D%2C%20%22id%22%3A%20%22%28331517319%2C%20331517316%2C%200%29%22%2C%20%22properties%22%3A%20%7B%22highway%22%3A%20%22residential%22%2C%20%22length%22%3A%2011.566762203729555%2C%20%22osmid%22%3A%2037795007%7D%2C%20%22type%22%3A%20%22Feature%22%7D%2C%20%7B%22bbox%22%3A%20%5B9.481180200000003%2C%2047.704520896256625%2C%209.481287500000004%2C%2047.70458279625661%5D%2C%20%22geometry%22%3A%20%7B%22coordinates%22%3A%20%5B%5B9.481287500000004%2C%2047.70458279625661%5D%2C%20%5B9.481180200000003%2C%2047.704520896256625%5D%5D%2C%20%22type%22%3A%20%22LineString%22%7D%2C%20%22id%22%3A%20%22%28331517319%2C%20331517321%2C%200%29%22%2C%20%22properties%22%3A%20%7B%22highway%22%3A%20%22residential%22%2C%20%22length%22%3A%2010.593181754207263%2C%20%22osmid%22%3A%2037795007%7D%2C%20%22type%22%3A%20%22Feature%22%7D%2C%20%7B%22bbox%22%3A%20%5B9.481180200000003%2C%2047.704520896256625%2C%209.481287500000004%2C%2047.70458279625661%5D%2C%20%22geometry%22%3A%20%7B%22coordinates%22%3A%20%5B%5B9.481287500000004%2C%2047.70458279625661%5D%2C%20%5B9.481180200000003%2C%2047.704520896256625%5D%5D%2C%20%22type%22%3A%20%22LineString%22%7D%2C%20%22id%22%3A%20%22%28331517321%2C%20331517319%2C%200%29%22%2C%20%22properties%22%3A%20%7B%22highway%22%3A%20%22residential%22%2C%20%22length%22%3A%2010.593181754207263%2C%20%22osmid%22%3A%2037795007%7D%2C%20%22type%22%3A%20%22Feature%22%7D%2C%20%7B%22bbox%22%3A%20%5B9.480926450483091%2C%2047.704520896256625%2C%209.481180200000003%2C%2047.70461864655345%5D%2C%20%22geometry%22%3A%20%7B%22coordinates%22%3A%20%5B%5B9.481180200000003%2C%2047.704520896256625%5D%2C%20%5B9.480926450483091%2C%2047.70461864655345%5D%5D%2C%20%22type%22%3A%20%22LineString%22%7D%2C%20%22id%22%3A%20%22%28331517321%2C%2069803636201%2C%200%29%22%2C%20%22properties%22%3A%20%7B%22highway%22%3A%20%22unclassified%22%2C%20%22length%22%3A%2021.935796246874663%2C%20%22osmid%22%3A%20626712378%7D%2C%20%22type%22%3A%20%22Feature%22%7D%2C%20%7B%22bbox%22%3A%20%5B9.481085249675536%2C%2047.70434409630509%2C%209.481180200000003%2C%2047.704520896256625%5D%2C%20%22geometry%22%3A%20%7B%22coordinates%22%3A%20%5B%5B9.481180200000003%2C%2047.704520896256625%5D%2C%20%5B9.481085249675536%2C%2047.70434409630509%5D%5D%2C%20%22type%22%3A%20%22LineString%22%7D%2C%20%22id%22%3A%20%22%28331517321%2C%2066303464401%2C%200%29%22%2C%20%22properties%22%3A%20%7B%22highway%22%3A%20%22residential%22%2C%20%22length%22%3A%2020.897982640253776%2C%20%22osmid%22%3A%20626714574%7D%2C%20%22type%22%3A%20%22Feature%22%7D%2C%20%7B%22bbox%22%3A%20%5B9.480926450483091%2C%2047.704520896256625%2C%209.481180200000003%2C%2047.70461864655345%5D%2C%20%22geometry%22%3A%20%7B%22coordinates%22%3A%20%5B%5B9.481180200000003%2C%2047.704520896256625%5D%2C%20%5B9.480926450483091%2C%2047.70461864655345%5D%5D%2C%20%22type%22%3A%20%22LineString%22%7D%2C%20%22id%22%3A%20%22%2869803636201%2C%20331517321%2C%200%29%22%2C%20%22properties%22%3A%20%7B%22highway%22%3A%20%22unclassified%22%2C%20%22length%22%3A%2021.935796246874663%2C%20%22osmid%22%3A%20626712378%7D%2C%20%22type%22%3A%20%22Feature%22%7D%2C%20%7B%22bbox%22%3A%20%5B9.480672699999992%2C%2047.70461864655345%2C%209.480926450483091%2C%2047.704716396256636%5D%2C%20%22geometry%22%3A%20%7B%22coordinates%22%3A%20%5B%5B9.480926450483091%2C%2047.70461864655345%5D%2C%20%5B9.480672699999992%2C%2047.704716396256636%5D%5D%2C%20%22type%22%3A%20%22LineString%22%7D%2C%20%22id%22%3A%20%22%2869803636201%2C%20366519041%2C%200%29%22%2C%20%22properties%22%3A%20%7B%22highway%22%3A%20%22unclassified%22%2C%20%22length%22%3A%2021.93579624710807%2C%20%22osmid%22%3A%20626712378%7D%2C%20%22type%22%3A%20%22Feature%22%7D%2C%20%7B%22bbox%22%3A%20%5B9.481085249675536%2C%2047.70434409630509%2C%209.481180200000003%2C%2047.704520896256625%5D%2C%20%22geometry%22%3A%20%7B%22coordinates%22%3A%20%5B%5B9.481180200000003%2C%2047.704520896256625%5D%2C%20%5B9.481085249675536%2C%2047.70434409630509%5D%5D%2C%20%22type%22%3A%20%22LineString%22%7D%2C%20%22id%22%3A%20%22%2866303464401%2C%20331517321%2C%200%29%22%2C%20%22properties%22%3A%20%7B%22highway%22%3A%20%22residential%22%2C%20%22length%22%3A%2020.897982640253776%2C%20%22osmid%22%3A%20626714574%7D%2C%20%22type%22%3A%20%22Feature%22%7D%2C%20%7B%22bbox%22%3A%20%5B9.480990299999997%2C%2047.70416729625663%2C%209.481085249675536%2C%2047.70434409630509%5D%2C%20%22geometry%22%3A%20%7B%22coordinates%22%3A%20%5B%5B9.481085249675536%2C%2047.70434409630509%5D%2C%20%5B9.480990299999997%2C%2047.70416729625663%5D%5D%2C%20%22type%22%3A%20%22LineString%22%7D%2C%20%22id%22%3A%20%22%2866303464401%2C%20331517323%2C%200%29%22%2C%20%22properties%22%3A%20%7B%22highway%22%3A%20%22residential%22%2C%20%22length%22%3A%2020.89798263981715%2C%20%22osmid%22%3A%20626714574%7D%2C%20%22type%22%3A%20%22Feature%22%7D%2C%20%7B%22bbox%22%3A%20%5B9.480568500000002%2C%2047.704716396256636%2C%209.480672699999992%2C%2047.704819096256664%5D%2C%20%22geometry%22%3A%20%7B%22coordinates%22%3A%20%5B%5B9.480672699999992%2C%2047.704716396256636%5D%2C%20%5B9.480568500000002%2C%2047.704819096256664%5D%5D%2C%20%22type%22%3A%20%22LineString%22%7D%2C%20%22id%22%3A%20%22%28366519041%2C%203037961767%2C%200%29%22%2C%20%22properties%22%3A%20%7B%22highway%22%3A%20%22unclassified%22%2C%20%22length%22%3A%2013.838052626159392%2C%20%22osmid%22%3A%20626712378%7D%2C%20%22type%22%3A%20%22Feature%22%7D%2C%20%7B%22bbox%22%3A%20%5B9.480672699999992%2C%2047.70461864655345%2C%209.480926450483091%2C%2047.704716396256636%5D%2C%20%22geometry%22%3A%20%7B%22coordinates%22%3A%20%5B%5B9.480926450483091%2C%2047.70461864655345%5D%2C%20%5B9.480672699999992%2C%2047.704716396256636%5D%5D%2C%20%22type%22%3A%20%22LineString%22%7D%2C%20%22id%22%3A%20%22%28366519041%2C%2069803636201%2C%200%29%22%2C%20%22properties%22%3A%20%7B%22highway%22%3A%20%22unclassified%22%2C%20%22length%22%3A%2021.93579624710807%2C%20%22osmid%22%3A%20626712378%7D%2C%20%22type%22%3A%20%22Feature%22%7D%2C%20%7B%22bbox%22%3A%20%5B9.480568500000002%2C%2047.704716396256636%2C%209.480672699999992%2C%2047.704819096256664%5D%2C%20%22geometry%22%3A%20%7B%22coordinates%22%3A%20%5B%5B9.480672699999992%2C%2047.704716396256636%5D%2C%20%5B9.480568500000002%2C%2047.704819096256664%5D%5D%2C%20%22type%22%3A%20%22LineString%22%7D%2C%20%22id%22%3A%20%22%283037961767%2C%20366519041%2C%200%29%22%2C%20%22properties%22%3A%20%7B%22highway%22%3A%20%22unclassified%22%2C%20%22length%22%3A%2013.838052626159392%2C%20%22osmid%22%3A%20626712378%7D%2C%20%22type%22%3A%20%22Feature%22%7D%2C%20%7B%22bbox%22%3A%20%5B9.480531899999992%2C%2047.704819096256664%2C%209.480568500000002%2C%2047.704920496256655%5D%2C%20%22geometry%22%3A%20%7B%22coordinates%22%3A%20%5B%5B9.480568500000002%2C%2047.704819096256664%5D%2C%20%5B9.480531899999992%2C%2047.704920496256655%5D%5D%2C%20%22type%22%3A%20%22LineString%22%7D%2C%20%22id%22%3A%20%22%283037961767%2C%20366519040%2C%200%29%22%2C%20%22properties%22%3A%20%7B%22highway%22%3A%20%22unclassified%22%2C%20%22length%22%3A%2011.598082981425069%2C%20%22osmid%22%3A%20626712378%7D%2C%20%22type%22%3A%20%22Feature%22%7D%2C%20%7B%22bbox%22%3A%20%5B9.482888999741277%2C%2047.70366754628989%2C%209.482964200000003%2C%2047.70384579625661%5D%2C%20%22geometry%22%3A%20%7B%22coordinates%22%3A%20%5B%5B9.482964200000003%2C%2047.70384579625661%5D%2C%20%5B9.482888999741277%2C%2047.70366754628989%5D%5D%2C%20%22type%22%3A%20%22LineString%22%7D%2C%20%22id%22%3A%20%22%2888667445301%2C%20443336608%2C%200%29%22%2C%20%22properties%22%3A%20%7B%22highway%22%3A%20%22residential%22%2C%20%22length%22%3A%2020.594717460628974%2C%20%22osmid%22%3A%2037795133%7D%2C%20%22type%22%3A%20%22Feature%22%7D%2C%20%7B%22bbox%22%3A%20%5B9.482813799999999%2C%2047.70348929625661%2C%209.482888999741277%2C%2047.70366754628989%5D%2C%20%22geometry%22%3A%20%7B%22coordinates%22%3A%20%5B%5B9.482888999741277%2C%2047.70366754628989%5D%2C%20%5B9.482813799999999%2C%2047.70348929625661%5D%5D%2C%20%22type%22%3A%20%22LineString%22%7D%2C%20%22id%22%3A%20%22%2888667445301%2C%20443337845%2C%200%29%22%2C%20%22properties%22%3A%20%7B%22highway%22%3A%20%22residential%22%2C%20%22length%22%3A%2020.594717460628974%2C%20%22osmid%22%3A%2037795133%7D%2C%20%22type%22%3A%20%22Feature%22%7D%2C%20%7B%22bbox%22%3A%20%5B9.4832097%2C%2047.70433409625662%2C%209.483350000000002%2C%2047.70444029625663%5D%2C%20%22geometry%22%3A%20%7B%22coordinates%22%3A%20%5B%5B9.483350000000002%2C%2047.70433409625662%5D%2C%20%5B9.4832097%2C%2047.70444029625663%5D%5D%2C%20%22type%22%3A%20%22LineString%22%7D%2C%20%22id%22%3A%20%22%28443338171%2C%20443338763%2C%200%29%22%2C%20%22properties%22%3A%20%7B%22highway%22%3A%20%22service%22%2C%20%22length%22%3A%2015.821216180835734%2C%20%22osmid%22%3A%2037795268%7D%2C%20%22type%22%3A%20%22Feature%22%7D%2C%20%7B%22bbox%22%3A%20%5B9.483350000000002%2C%2047.70433409625662%2C%209.483560099999996%2C%2047.70438679625665%5D%2C%20%22geometry%22%3A%20%7B%22coordinates%22%3A%20%5B%5B9.483350000000002%2C%2047.70433409625662%5D%2C%20%5B9.483560099999996%2C%2047.70438679625665%5D%5D%2C%20%22type%22%3A%20%22LineString%22%7D%2C%20%22id%22%3A%20%22%28443338171%2C%201283292598%2C%200%29%22%2C%20%22properties%22%3A%20%7B%22highway%22%3A%20%22residential%22%2C%20%22length%22%3A%2016.8284300142491%2C%20%22osmid%22%3A%2037795695%7D%2C%20%22type%22%3A%20%22Feature%22%7D%2C%20%7B%22bbox%22%3A%20%5B9.483212000000005%2C%2047.70422449625663%2C%209.483350000000002%2C%2047.70433409625662%5D%2C%20%22geometry%22%3A%20%7B%22coordinates%22%3A%20%5B%5B9.483350000000002%2C%2047.70433409625662%5D%2C%20%5B9.483212000000005%2C%2047.70422449625663%5D%5D%2C%20%22type%22%3A%20%22LineString%22%7D%2C%20%22id%22%3A%20%22%28443338171%2C%20331517308%2C%200%29%22%2C%20%22properties%22%3A%20%7B%22highway%22%3A%20%22residential%22%2C%20%22length%22%3A%2015.98942154456103%2C%20%22osmid%22%3A%2037795695%7D%2C%20%22type%22%3A%20%22Feature%22%7D%2C%20%7B%22bbox%22%3A%20%5B9.4825812%2C%2047.70348929625661%2C%209.482813799999999%2C%2047.70353169625656%5D%2C%20%22geometry%22%3A%20%7B%22coordinates%22%3A%20%5B%5B9.482813799999999%2C%2047.70348929625661%5D%2C%20%5B9.4825812%2C%2047.70353169625656%5D%5D%2C%20%22type%22%3A%20%22LineString%22%7D%2C%20%22id%22%3A%20%22%28443337845%2C%20443337846%2C%200%29%22%2C%20%22properties%22%3A%20%7B%22highway%22%3A%20%22residential%22%2C%20%22length%22%3A%2018.09296779739039%2C%20%22osmid%22%3A%2037795225%7D%2C%20%22type%22%3A%20%22Feature%22%7D%2C%20%7B%22bbox%22%3A%20%5B9.482813799999999%2C%2047.70348929625661%2C%209.482888999741277%2C%2047.70366754628989%5D%2C%20%22geometry%22%3A%20%7B%22coordinates%22%3A%20%5B%5B9.482888999741277%2C%2047.70366754628989%5D%2C%20%5B9.482813799999999%2C%2047.70348929625661%5D%5D%2C%20%22type%22%3A%20%22LineString%22%7D%2C%20%22id%22%3A%20%22%28443337845%2C%2088667445301%2C%200%29%22%2C%20%22properties%22%3A%20%7B%22highway%22%3A%20%22residential%22%2C%20%22length%22%3A%2020.594717460628974%2C%20%22osmid%22%3A%2037795133%7D%2C%20%22type%22%3A%20%22Feature%22%7D%2C%20%7B%22bbox%22%3A%20%5B9.482813799999999%2C%2047.703393096256576%2C%209.482828800000004%2C%2047.70348929625661%5D%2C%20%22geometry%22%3A%20%7B%22coordinates%22%3A%20%5B%5B9.482813799999999%2C%2047.70348929625661%5D%2C%20%5B9.482820800000008%2C%2047.70343259625655%5D%2C%20%5B9.482828800000004%2C%2047.703393096256576%5D%5D%2C%20%22type%22%3A%20%22LineString%22%7D%2C%20%22id%22%3A%20%22%28443337845%2C%203071953095%2C%200%29%22%2C%20%22properties%22%3A%20%7B%22highway%22%3A%20%22residential%22%2C%20%22length%22%3A%2010.752389484813095%2C%20%22osmid%22%3A%2037795133%7D%2C%20%22type%22%3A%20%22Feature%22%7D%2C%20%7B%22bbox%22%3A%20%5B9.4825812%2C%2047.70348929625661%2C%209.482813799999999%2C%2047.70353169625656%5D%2C%20%22geometry%22%3A%20%7B%22coordinates%22%3A%20%5B%5B9.482813799999999%2C%2047.70348929625661%5D%2C%20%5B9.4825812%2C%2047.70353169625656%5D%5D%2C%20%22type%22%3A%20%22LineString%22%7D%2C%20%22id%22%3A%20%22%28443337846%2C%20443337845%2C%200%29%22%2C%20%22properties%22%3A%20%7B%22highway%22%3A%20%22residential%22%2C%20%22length%22%3A%2018.09296779739039%2C%20%22osmid%22%3A%2037795225%7D%2C%20%22type%22%3A%20%22Feature%22%7D%2C%20%7B%22bbox%22%3A%20%5B9.482828800000004%2C%2047.70335969625655%2C%209.482898799999997%2C%2047.703393096256576%5D%2C%20%22geometry%22%3A%20%7B%22coordinates%22%3A%20%5B%5B9.482828800000004%2C%2047.703393096256576%5D%2C%20%5B9.482898799999997%2C%2047.70335969625655%5D%5D%2C%20%22type%22%3A%20%22LineString%22%7D%2C%20%22id%22%3A%20%22%283071953095%2C%20443337114%2C%200%29%22%2C%20%22properties%22%3A%20%7B%22highway%22%3A%20%22residential%22%2C%20%22length%22%3A%206.435541617793899%2C%20%22osmid%22%3A%2037795133%7D%2C%20%22type%22%3A%20%22Feature%22%7D%2C%20%7B%22bbox%22%3A%20%5B9.482813799999999%2C%2047.703393096256576%2C%209.482828800000004%2C%2047.70348929625661%5D%2C%20%22geometry%22%3A%20%7B%22coordinates%22%3A%20%5B%5B9.482828800000004%2C%2047.703393096256576%5D%2C%20%5B9.482820800000008%2C%2047.70343259625655%5D%2C%20%5B9.482813799999999%2C%2047.70348929625661%5D%5D%2C%20%22type%22%3A%20%22LineString%22%7D%2C%20%22id%22%3A%20%22%283071953095%2C%20443337845%2C%200%29%22%2C%20%22properties%22%3A%20%7B%22highway%22%3A%20%22residential%22%2C%20%22length%22%3A%2010.752389484813095%2C%20%22osmid%22%3A%2037795133%7D%2C%20%22type%22%3A%20%22Feature%22%7D%2C%20%7B%22bbox%22%3A%20%5B9.482828800000004%2C%2047.70335969625655%2C%209.482898799999997%2C%2047.703393096256576%5D%2C%20%22geometry%22%3A%20%7B%22coordinates%22%3A%20%5B%5B9.482828800000004%2C%2047.703393096256576%5D%2C%20%5B9.482898799999997%2C%2047.70335969625655%5D%5D%2C%20%22type%22%3A%20%22LineString%22%7D%2C%20%22id%22%3A%20%22%28443337114%2C%203071953095%2C%200%29%22%2C%20%22properties%22%3A%20%7B%22highway%22%3A%20%22residential%22%2C%20%22length%22%3A%206.435541617793899%2C%20%22osmid%22%3A%2037795133%7D%2C%20%22type%22%3A%20%22Feature%22%7D%2C%20%7B%22bbox%22%3A%20%5B9.482898799999997%2C%2047.70331579625653%2C%209.483087699999997%2C%2047.70335969625655%5D%2C%20%22geometry%22%3A%20%7B%22coordinates%22%3A%20%5B%5B9.482898799999997%2C%2047.70335969625655%5D%2C%20%5B9.483087699999997%2C%2047.70331579625653%5D%5D%2C%20%22type%22%3A%20%22LineString%22%7D%2C%20%22id%22%3A%20%22%28443337114%2C%20443337744%2C%200%29%22%2C%20%22properties%22%3A%20%7B%22highway%22%3A%20%22residential%22%2C%20%22length%22%3A%2015.002270541215347%2C%20%22osmid%22%3A%2037795133%7D%2C%20%22type%22%3A%20%22Feature%22%7D%2C%20%7B%22bbox%22%3A%20%5B9.482898799999997%2C%2047.70331579625653%2C%209.483087699999997%2C%2047.70335969625655%5D%2C%20%22geometry%22%3A%20%7B%22coordinates%22%3A%20%5B%5B9.482898799999997%2C%2047.70335969625655%5D%2C%20%5B9.483087699999997%2C%2047.70331579625653%5D%5D%2C%20%22type%22%3A%20%22LineString%22%7D%2C%20%22id%22%3A%20%22%28443337744%2C%20443337114%2C%200%29%22%2C%20%22properties%22%3A%20%7B%22highway%22%3A%20%22residential%22%2C%20%22length%22%3A%2015.002270541215347%2C%20%22osmid%22%3A%2037795133%7D%2C%20%22type%22%3A%20%22Feature%22%7D%2C%20%7B%22bbox%22%3A%20%5B9.483087699999997%2C%2047.70325969625651%2C%209.483298800000002%2C%2047.70331579625653%5D%2C%20%22geometry%22%3A%20%7B%22coordinates%22%3A%20%5B%5B9.483087699999997%2C%2047.70331579625653%5D%2C%20%5B9.483298800000002%2C%2047.70325969625651%5D%5D%2C%20%22type%22%3A%20%22LineString%22%7D%2C%20%22id%22%3A%20%22%28443337744%2C%20443337115%2C%200%29%22%2C%20%22properties%22%3A%20%7B%22highway%22%3A%20%22residential%22%2C%20%22length%22%3A%2017.035982722300528%2C%20%22osmid%22%3A%2037795133%7D%2C%20%22type%22%3A%20%22Feature%22%7D%2C%20%7B%22bbox%22%3A%20%5B9.483087699999997%2C%2047.70331579625653%2C%209.483174249667327%2C%2047.703514896300064%5D%2C%20%22geometry%22%3A%20%7B%22coordinates%22%3A%20%5B%5B9.483087699999997%2C%2047.70331579625653%5D%2C%20%5B9.483174249667327%2C%2047.703514896300064%5D%5D%2C%20%22type%22%3A%20%22LineString%22%7D%2C%20%22id%22%3A%20%22%28443337744%2C%2088667548901%2C%200%29%22%2C%20%22properties%22%3A%20%7B%22highway%22%3A%20%22residential%22%2C%20%22length%22%3A%2023.056989284097753%2C%20%22osmid%22%3A%2037795220%7D%2C%20%22type%22%3A%20%22Feature%22%7D%2C%20%7B%22bbox%22%3A%20%5B9.483087699999997%2C%2047.70325969625651%2C%209.483298800000002%2C%2047.70331579625653%5D%2C%20%22geometry%22%3A%20%7B%22coordinates%22%3A%20%5B%5B9.483087699999997%2C%2047.70331579625653%5D%2C%20%5B9.483298800000002%2C%2047.70325969625651%5D%5D%2C%20%22type%22%3A%20%22LineString%22%7D%2C%20%22id%22%3A%20%22%28443337115%2C%20443337744%2C%200%29%22%2C%20%22properties%22%3A%20%7B%22highway%22%3A%20%22residential%22%2C%20%22length%22%3A%2017.035982722300528%2C%20%22osmid%22%3A%2037795133%7D%2C%20%22type%22%3A%20%22Feature%22%7D%2C%20%7B%22bbox%22%3A%20%5B9.483087699999997%2C%2047.70331579625653%2C%209.483174249667327%2C%2047.703514896300064%5D%2C%20%22geometry%22%3A%20%7B%22coordinates%22%3A%20%5B%5B9.483087699999997%2C%2047.70331579625653%5D%2C%20%5B9.483174249667327%2C%2047.703514896300064%5D%5D%2C%20%22type%22%3A%20%22LineString%22%7D%2C%20%22id%22%3A%20%22%2888667548901%2C%20443337744%2C%200%29%22%2C%20%22properties%22%3A%20%7B%22highway%22%3A%20%22residential%22%2C%20%22length%22%3A%2023.056989284097753%2C%20%22osmid%22%3A%2037795220%7D%2C%20%22type%22%3A%20%22Feature%22%7D%2C%20%7B%22bbox%22%3A%20%5B9.483174249667327%2C%2047.703514896300064%2C%209.483260799999993%2C%2047.703713996256575%5D%2C%20%22geometry%22%3A%20%7B%22coordinates%22%3A%20%5B%5B9.483174249667327%2C%2047.703514896300064%5D%2C%20%5B9.483260799999993%2C%2047.703713996256575%5D%5D%2C%20%22type%22%3A%20%22LineString%22%7D%2C%20%22id%22%3A%20%22%2888667548901%2C%20443337745%2C%200%29%22%2C%20%22properties%22%3A%20%7B%22highway%22%3A%20%22residential%22%2C%20%22length%22%3A%2023.056989284543626%2C%20%22osmid%22%3A%2037795220%7D%2C%20%22type%22%3A%20%22Feature%22%7D%2C%20%7B%22bbox%22%3A%20%5B9.483174249667327%2C%2047.703514896300064%2C%209.483260799999993%2C%2047.703713996256575%5D%2C%20%22geometry%22%3A%20%7B%22coordinates%22%3A%20%5B%5B9.483174249667327%2C%2047.703514896300064%5D%2C%20%5B9.483260799999993%2C%2047.703713996256575%5D%5D%2C%20%22type%22%3A%20%22LineString%22%7D%2C%20%22id%22%3A%20%22%28443337745%2C%2088667548901%2C%200%29%22%2C%20%22properties%22%3A%20%7B%22highway%22%3A%20%22residential%22%2C%20%22length%22%3A%2023.056989284543626%2C%20%22osmid%22%3A%2037795220%7D%2C%20%22type%22%3A%20%22Feature%22%7D%2C%20%7B%22bbox%22%3A%20%5B9.4832097%2C%2047.70433409625662%2C%209.483350000000002%2C%2047.70444029625663%5D%2C%20%22geometry%22%3A%20%7B%22coordinates%22%3A%20%5B%5B9.483350000000002%2C%2047.70433409625662%5D%2C%20%5B9.4832097%2C%2047.70444029625663%5D%5D%2C%20%22type%22%3A%20%22LineString%22%7D%2C%20%22id%22%3A%20%22%28443338763%2C%20443338171%2C%200%29%22%2C%20%22properties%22%3A%20%7B%22highway%22%3A%20%22service%22%2C%20%22length%22%3A%2015.821216180835734%2C%20%22osmid%22%3A%2037795268%7D%2C%20%22type%22%3A%20%22Feature%22%7D%2C%20%7B%22bbox%22%3A%20%5B9.4832097%2C%2047.70444029625663%2C%209.483255199999999%2C%2047.70450509625661%5D%2C%20%22geometry%22%3A%20%7B%22coordinates%22%3A%20%5B%5B9.4832097%2C%2047.70444029625663%5D%2C%20%5B9.483255199999999%2C%2047.70450509625661%5D%5D%2C%20%22type%22%3A%20%22LineString%22%7D%2C%20%22id%22%3A%20%22%28443338763%2C%20443338172%2C%200%29%22%2C%20%22properties%22%3A%20%7B%22highway%22%3A%20%22service%22%2C%20%22length%22%3A%207.969319316699743%2C%20%22osmid%22%3A%2037795268%7D%2C%20%22type%22%3A%20%22Feature%22%7D%2C%20%7B%22bbox%22%3A%20%5B9.483151099999994%2C%2047.70444029625663%2C%209.4832097%2C%2047.70451499625663%5D%2C%20%22geometry%22%3A%20%7B%22coordinates%22%3A%20%5B%5B9.4832097%2C%2047.70444029625663%5D%2C%20%5B9.483151099999994%2C%2047.70451499625663%5D%5D%2C%20%22type%22%3A%20%22LineString%22%7D%2C%20%22id%22%3A%20%22%28443338763%2C%20443338764%2C%200%29%22%2C%20%22properties%22%3A%20%7B%22highway%22%3A%20%22service%22%2C%20%22length%22%3A%209.395550857989358%2C%20%22osmid%22%3A%2037795339%7D%2C%20%22type%22%3A%20%22Feature%22%7D%2C%20%7B%22bbox%22%3A%20%5B9.483350000000002%2C%2047.70433409625662%2C%209.483560099999996%2C%2047.70438679625665%5D%2C%20%22geometry%22%3A%20%7B%22coordinates%22%3A%20%5B%5B9.483350000000002%2C%2047.70433409625662%5D%2C%20%5B9.483560099999996%2C%2047.70438679625665%5D%5D%2C%20%22type%22%3A%20%22LineString%22%7D%2C%20%22id%22%3A%20%22%281283292598%2C%20443338171%2C%200%29%22%2C%20%22properties%22%3A%20%7B%22highway%22%3A%20%22residential%22%2C%20%22length%22%3A%2016.8284300142491%2C%20%22osmid%22%3A%2037795695%7D%2C%20%22type%22%3A%20%22Feature%22%7D%2C%20%7B%22bbox%22%3A%20%5B9.483560099999996%2C%2047.704338046547825%2C%209.483812250239541%2C%2047.70438679625665%5D%2C%20%22geometry%22%3A%20%7B%22coordinates%22%3A%20%5B%5B9.483812250239541%2C%2047.704338046547825%5D%2C%20%5B9.483560099999996%2C%2047.70438679625665%5D%5D%2C%20%22type%22%3A%20%22LineString%22%7D%2C%20%22id%22%3A%20%22%281283292598%2C%20368956408301%2C%200%29%22%2C%20%22properties%22%3A%20%7B%22highway%22%3A%20%22residential%22%2C%20%22length%22%3A%2019.696330615240885%2C%20%22osmid%22%3A%2037795695%7D%2C%20%22type%22%3A%20%22Feature%22%7D%2C%20%7B%22bbox%22%3A%20%5B9.4832097%2C%2047.70444029625663%2C%209.483255199999999%2C%2047.70450509625661%5D%2C%20%22geometry%22%3A%20%7B%22coordinates%22%3A%20%5B%5B9.4832097%2C%2047.70444029625663%5D%2C%20%5B9.483255199999999%2C%2047.70450509625661%5D%5D%2C%20%22type%22%3A%20%22LineString%22%7D%2C%20%22id%22%3A%20%22%28443338172%2C%20443338763%2C%200%29%22%2C%20%22properties%22%3A%20%7B%22highway%22%3A%20%22service%22%2C%20%22length%22%3A%207.969319316699743%2C%20%22osmid%22%3A%2037795268%7D%2C%20%22type%22%3A%20%22Feature%22%7D%2C%20%7B%22bbox%22%3A%20%5B9.483151099999994%2C%2047.70444029625663%2C%209.4832097%2C%2047.70451499625663%5D%2C%20%22geometry%22%3A%20%7B%22coordinates%22%3A%20%5B%5B9.4832097%2C%2047.70444029625663%5D%2C%20%5B9.483151099999994%2C%2047.70451499625663%5D%5D%2C%20%22type%22%3A%20%22LineString%22%7D%2C%20%22id%22%3A%20%22%28443338764%2C%20443338763%2C%200%29%22%2C%20%22properties%22%3A%20%7B%22highway%22%3A%20%22service%22%2C%20%22length%22%3A%209.395550857989358%2C%20%22osmid%22%3A%2037795339%7D%2C%20%22type%22%3A%20%22Feature%22%7D%2C%20%7B%22bbox%22%3A%20%5B9.482974550460987%2C%2047.70451499625663%2C%209.483151099999994%2C%2047.70464899640373%5D%2C%20%22geometry%22%3A%20%7B%22coordinates%22%3A%20%5B%5B9.483151099999994%2C%2047.70451499625663%5D%2C%20%5B9.482974550460987%2C%2047.70464899640373%5D%5D%2C%20%22type%22%3A%20%22LineString%22%7D%2C%20%22id%22%3A%20%22%28443338764%2C%2088667752901%2C%200%29%22%2C%20%22properties%22%3A%20%7B%22highway%22%3A%20%22service%22%2C%20%22length%22%3A%2019.93888658432677%2C%20%22osmid%22%3A%2037795339%7D%2C%20%22type%22%3A%20%22Feature%22%7D%2C%20%7B%22bbox%22%3A%20%5B9.483560099999996%2C%2047.704338046547825%2C%209.483812250239541%2C%2047.70438679625665%5D%2C%20%22geometry%22%3A%20%7B%22coordinates%22%3A%20%5B%5B9.483812250239541%2C%2047.704338046547825%5D%2C%20%5B9.483560099999996%2C%2047.70438679625665%5D%5D%2C%20%22type%22%3A%20%22LineString%22%7D%2C%20%22id%22%3A%20%22%28368956408301%2C%201283292598%2C%200%29%22%2C%20%22properties%22%3A%20%7B%22highway%22%3A%20%22residential%22%2C%20%22length%22%3A%2019.696330615240885%2C%20%22osmid%22%3A%2037795695%7D%2C%20%22type%22%3A%20%22Feature%22%7D%2C%20%7B%22bbox%22%3A%20%5B9.483812250239541%2C%2047.70428929625664%2C%209.484452500000005%2C%2047.704338046547825%5D%2C%20%22geometry%22%3A%20%7B%22coordinates%22%3A%20%5B%5B9.483812250239541%2C%2047.704338046547825%5D%2C%20%5B9.4840644%2C%2047.70428929625664%5D%2C%20%5B9.484452500000005%2C%2047.70430119625666%5D%5D%2C%20%22type%22%3A%20%22LineString%22%7D%2C%20%22id%22%3A%20%22%28368956408301%2C%20443339517%2C%200%29%22%2C%20%22properties%22%3A%20%7B%22highway%22%3A%20%22residential%22%2C%20%22length%22%3A%2048.871264650877855%2C%20%22osmid%22%3A%2037795695%7D%2C%20%22type%22%3A%20%22Feature%22%7D%2C%20%7B%22bbox%22%3A%20%5B9.482974550460987%2C%2047.70451499625663%2C%209.483151099999994%2C%2047.70464899640373%5D%2C%20%22geometry%22%3A%20%7B%22coordinates%22%3A%20%5B%5B9.483151099999994%2C%2047.70451499625663%5D%2C%20%5B9.482974550460987%2C%2047.70464899640373%5D%5D%2C%20%22type%22%3A%20%22LineString%22%7D%2C%20%22id%22%3A%20%22%2888667752901%2C%20443338764%2C%200%29%22%2C%20%22properties%22%3A%20%7B%22highway%22%3A%20%22service%22%2C%20%22length%22%3A%2019.93888658432677%2C%20%22osmid%22%3A%2037795339%7D%2C%20%22type%22%3A%20%22Feature%22%7D%2C%20%7B%22bbox%22%3A%20%5B9.482797999999999%2C%2047.70464899640373%2C%209.482974550460987%2C%2047.70478299625663%5D%2C%20%22geometry%22%3A%20%7B%22coordinates%22%3A%20%5B%5B9.482974550460987%2C%2047.70464899640373%5D%2C%20%5B9.482797999999999%2C%2047.70478299625663%5D%5D%2C%20%22type%22%3A%20%22LineString%22%7D%2C%20%22id%22%3A%20%22%2888667752901%2C%20443338765%2C%200%29%22%2C%20%22properties%22%3A%20%7B%22highway%22%3A%20%22service%22%2C%20%22length%22%3A%2019.93888658432677%2C%20%22osmid%22%3A%2037795339%7D%2C%20%22type%22%3A%20%22Feature%22%7D%2C%20%7B%22bbox%22%3A%20%5B9.482608500000001%2C%2047.70478299625663%2C%209.482797999999999%2C%2047.70481779625669%5D%2C%20%22geometry%22%3A%20%7B%22coordinates%22%3A%20%5B%5B9.482797999999999%2C%2047.70478299625663%5D%2C%20%5B9.482608500000001%2C%2047.70481779625669%5D%5D%2C%20%22type%22%3A%20%22LineString%22%7D%2C%20%22id%22%3A%20%22%28443338765%2C%20443338766%2C%200%29%22%2C%20%22properties%22%3A%20%7B%22highway%22%3A%20%22service%22%2C%20%22length%22%3A%2014.747512623576696%2C%20%22osmid%22%3A%2037795339%7D%2C%20%22type%22%3A%20%22Feature%22%7D%2C%20%7B%22bbox%22%3A%20%5B9.482797999999999%2C%2047.70464899640373%2C%209.482974550460987%2C%2047.70478299625663%5D%2C%20%22geometry%22%3A%20%7B%22coordinates%22%3A%20%5B%5B9.482974550460987%2C%2047.70464899640373%5D%2C%20%5B9.482797999999999%2C%2047.70478299625663%5D%5D%2C%20%22type%22%3A%20%22LineString%22%7D%2C%20%22id%22%3A%20%22%28443338765%2C%2088667752901%2C%200%29%22%2C%20%22properties%22%3A%20%7B%22highway%22%3A%20%22service%22%2C%20%22length%22%3A%2019.93888658432677%2C%20%22osmid%22%3A%2037795339%7D%2C%20%22type%22%3A%20%22Feature%22%7D%2C%20%7B%22bbox%22%3A%20%5B9.482608500000001%2C%2047.70478299625663%2C%209.482797999999999%2C%2047.70481779625669%5D%2C%20%22geometry%22%3A%20%7B%22coordinates%22%3A%20%5B%5B9.482797999999999%2C%2047.70478299625663%5D%2C%20%5B9.482608500000001%2C%2047.70481779625669%5D%5D%2C%20%22type%22%3A%20%22LineString%22%7D%2C%20%22id%22%3A%20%22%28443338766%2C%20443338765%2C%200%29%22%2C%20%22properties%22%3A%20%7B%22highway%22%3A%20%22service%22%2C%20%22length%22%3A%2014.747512623576696%2C%20%22osmid%22%3A%2037795339%7D%2C%20%22type%22%3A%20%22Feature%22%7D%2C%20%7B%22bbox%22%3A%20%5B9.484412800000001%2C%2047.70430119625666%2C%209.484478200000003%2C%2047.70497689625666%5D%2C%20%22geometry%22%3A%20%7B%22coordinates%22%3A%20%5B%5B9.484478200000003%2C%2047.70497689625666%5D%2C%20%5B9.484445499897149%2C%2047.70481274626797%5D%2C%20%5B9.484412800000001%2C%2047.704648596256646%5D%2C%20%5B9.48443265006864%2C%2047.70447489626579%5D%2C%20%5B9.484452500000005%2C%2047.70430119625666%5D%5D%2C%20%22type%22%3A%20%22LineString%22%7D%2C%20%22id%22%3A%20%22%281283292589%2C%20443339517%2C%200%29%22%2C%20%22properties%22%3A%20%7B%22highway%22%3A%20%22unclassified%22%2C%20%22length%22%3A%2075.5247487572266%2C%20%22osmid%22%3A%2037795428%7D%2C%20%22type%22%3A%20%22Feature%22%7D%2C%20%7B%22bbox%22%3A%20%5B9.487042499999996%2C%2047.70266689625648%2C%209.487061199999998%2C%2047.702914396256496%5D%2C%20%22geometry%22%3A%20%7B%22coordinates%22%3A%20%5B%5B9.487042499999996%2C%2047.702914396256496%5D%2C%20%5B9.487061199999998%2C%2047.70266689625648%5D%5D%2C%20%22type%22%3A%20%22LineString%22%7D%2C%20%22id%22%3A%20%22%28443341571%2C%203037986486%2C%200%29%22%2C%20%22properties%22%3A%20%7B%22highway%22%3A%20%22residential%22%2C%20%22length%22%3A%2027.537277042263693%2C%20%22osmid%22%3A%2037795705%7D%2C%20%22type%22%3A%20%22Feature%22%7D%2C%20%7B%22bbox%22%3A%20%5B9.487945800000006%2C%2047.70288569625651%2C%209.488137700000003%2C%2047.70290099625651%5D%2C%20%22geometry%22%3A%20%7B%22coordinates%22%3A%20%5B%5B9.487945800000006%2C%2047.70290099625651%5D%2C%20%5B9.488057900000003%2C%2047.7028962962565%5D%2C%20%5B9.488137700000003%2C%2047.70288569625651%5D%5D%2C%20%22type%22%3A%20%22LineString%22%7D%2C%20%22id%22%3A%20%22%28329334529%2C%20329334540%2C%200%29%22%2C%20%22properties%22%3A%20%7B%22highway%22%3A%20%22residential%22%2C%20%22length%22%3A%2014.542698928172722%2C%20%22osmid%22%3A%20626721645%7D%2C%20%22type%22%3A%20%22Feature%22%7D%2C%20%7B%22bbox%22%3A%20%5B9.487312399999997%2C%2047.70290099625651%2C%209.487945800000006%2C%2047.702976896256516%5D%2C%20%22geometry%22%3A%20%7B%22coordinates%22%3A%20%5B%5B9.487945800000006%2C%2047.70290099625651%5D%2C%20%5B9.487629100234455%2C%2047.702938946715186%5D%2C%20%5B9.487312399999997%2C%2047.702976896256516%5D%5D%2C%20%22type%22%3A%20%22LineString%22%7D%2C%20%22id%22%3A%20%22%28329334529%2C%203037986472%2C%200%29%22%2C%20%22properties%22%3A%20%7B%22highway%22%3A%20%22residential%22%2C%20%22length%22%3A%2048.31128970802344%2C%20%22osmid%22%3A%20626721645%7D%2C%20%22type%22%3A%20%22Feature%22%7D%2C%20%7B%22bbox%22%3A%20%5B9.487683100000005%2C%2047.700660896256295%2C%209.487841199999993%2C%2047.701491196256356%5D%2C%20%22geometry%22%3A%20%7B%22coordinates%22%3A%20%5B%5B9.487683100000005%2C%2047.700660896256295%5D%2C%20%5B9.487719799598056%2C%2047.70085152130081%5D%2C%20%5B9.48775649946408%2C%2047.70104214631565%5D%2C%20%5B9.487793199598055%2C%2047.701232771300845%5D%2C%20%5B9.487829900000001%2C%2047.70142339625638%5D%2C%20%5B9.487841199999993%2C%2047.701491196256356%5D%5D%2C%20%22type%22%3A%20%22LineString%22%7D%2C%20%22id%22%3A%20%22%2859975168%2C%203071960768%2C%200%29%22%2C%20%22properties%22%3A%20%7B%22highway%22%3A%20%22secondary%22%2C%20%22length%22%3A%2093.01904087960742%2C%20%22osmid%22%3A%20%5B39772846%2C%2039772847%5D%7D%2C%20%22type%22%3A%20%22Feature%22%7D%2C%20%7B%22bbox%22%3A%20%5B9.487683100000005%2C%2047.700660896256295%2C%209.487841199999993%2C%2047.701491196256356%5D%2C%20%22geometry%22%3A%20%7B%22coordinates%22%3A%20%5B%5B9.487841199999993%2C%2047.701491196256356%5D%2C%20%5B9.487829900000001%2C%2047.70142339625638%5D%2C%20%5B9.487793199598055%2C%2047.701232771300845%5D%2C%20%5B9.48775649946408%2C%2047.70104214631565%5D%2C%20%5B9.487719799598056%2C%2047.70085152130081%5D%2C%20%5B9.487683100000005%2C%2047.700660896256295%5D%5D%2C%20%22type%22%3A%20%22LineString%22%7D%2C%20%22id%22%3A%20%22%283071960768%2C%2059975168%2C%200%29%22%2C%20%22properties%22%3A%20%7B%22highway%22%3A%20%22secondary%22%2C%20%22length%22%3A%2093.01904087960743%2C%20%22osmid%22%3A%20%5B39772846%2C%2039772847%5D%7D%2C%20%22type%22%3A%20%22Feature%22%7D%2C%20%7B%22bbox%22%3A%20%5B9.487841199999993%2C%2047.701491196256356%2C%209.487912170292917%2C%2047.70182493923742%5D%2C%20%22geometry%22%3A%20%7B%22coordinates%22%3A%20%5B%5B9.487841199999993%2C%2047.701491196256356%5D%2C%20%5B9.487876685032893%2C%2047.701658067759276%5D%2C%20%5B9.487912170292917%2C%2047.70182493923742%5D%5D%2C%20%22type%22%3A%20%22LineString%22%7D%2C%20%22id%22%3A%20%22%283071960768%2C%20313193593502%2C%200%29%22%2C%20%22properties%22%3A%20%7B%22highway%22%3A%20%22secondary%22%2C%20%22length%22%3A%2037.46414212334369%2C%20%22osmid%22%3A%2039772847%7D%2C%20%22type%22%3A%20%22Feature%22%7D%2C%20%7B%22bbox%22%3A%20%5B9.487841199999993%2C%2047.701491196256356%2C%209.488435099999995%2C%2047.70175659625643%5D%2C%20%22geometry%22%3A%20%7B%22coordinates%22%3A%20%5B%5B9.487841199999993%2C%2047.701491196256356%5D%2C%20%5B9.488075099709318%2C%2047.701555296507024%5D%2C%20%5B9.488309000000003%2C%2047.7016193962564%5D%2C%20%5B9.488378699999998%2C%2047.701666396256364%5D%2C%20%5B9.488416299999995%2C%2047.70169159625643%5D%2C%20%5B9.488435099999995%2C%2047.70175659625643%5D%5D%2C%20%22type%22%3A%20%22LineString%22%7D%2C%20%22id%22%3A%20%22%283071960768%2C%203071960763%2C%200%29%22%2C%20%22properties%22%3A%20%7B%22highway%22%3A%20%22residential%22%2C%20%22length%22%3A%2056.63666612241766%2C%20%22osmid%22%3A%20302910935%7D%2C%20%22type%22%3A%20%22Feature%22%7D%2C%20%7B%22bbox%22%3A%20%5B9.487912170292917%2C%2047.70182493923742%2C%209.487947655780067%2C%2047.70199181069077%5D%2C%20%22geometry%22%3A%20%7B%22coordinates%22%3A%20%5B%5B9.487912170292917%2C%2047.70182493923742%5D%2C%20%5B9.487947655780067%2C%2047.70199181069077%5D%5D%2C%20%22type%22%3A%20%22LineString%22%7D%2C%20%22id%22%3A%20%22%28313193593502%2C%20313193593503%2C%200%29%22%2C%20%22properties%22%3A%20%7B%22highway%22%3A%20%22secondary%22%2C%20%22length%22%3A%2018.73207106190208%2C%20%22osmid%22%3A%2039772847%7D%2C%20%22type%22%3A%20%22Feature%22%7D%2C%20%7B%22bbox%22%3A%20%5B9.487841199999993%2C%2047.701491196256356%2C%209.487912170292917%2C%2047.70182493923742%5D%2C%20%22geometry%22%3A%20%7B%22coordinates%22%3A%20%5B%5B9.487912170292917%2C%2047.70182493923742%5D%2C%20%5B9.487876685032893%2C%2047.701658067759276%5D%2C%20%5B9.487841199999993%2C%2047.701491196256356%5D%5D%2C%20%22type%22%3A%20%22LineString%22%7D%2C%20%22id%22%3A%20%22%28313193593502%2C%203071960768%2C%200%29%22%2C%20%22properties%22%3A%20%7B%22highway%22%3A%20%22secondary%22%2C%20%22length%22%3A%2037.46414212334369%2C%20%22osmid%22%3A%2039772847%7D%2C%20%22type%22%3A%20%22Feature%22%7D%2C%20%7B%22bbox%22%3A%20%5B9.488357299999999%2C%2047.70175659625643%2C%209.488448500000002%2C%2047.701886596256436%5D%2C%20%22geometry%22%3A%20%7B%22coordinates%22%3A%20%5B%5B9.488435099999995%2C%2047.70175659625643%5D%2C%20%5B9.488448500000002%2C%2047.701796296256376%5D%2C%20%5B9.488410899999995%2C%2047.701852296256426%5D%2C%20%5B9.488357299999999%2C%2047.701886596256436%5D%5D%2C%20%22type%22%3A%20%22LineString%22%7D%2C%20%22id%22%3A%20%22%283071960763%2C%203071960760%2C%200%29%22%2C%20%22properties%22%3A%20%7B%22highway%22%3A%20%22residential%22%2C%20%22length%22%3A%2016.902147419316133%2C%20%22osmid%22%3A%20302910935%7D%2C%20%22type%22%3A%20%22Feature%22%7D%2C%20%7B%22bbox%22%3A%20%5B9.487841199999993%2C%2047.701491196256356%2C%209.488435099999995%2C%2047.70175659625643%5D%2C%20%22geometry%22%3A%20%7B%22coordinates%22%3A%20%5B%5B9.488435099999995%2C%2047.70175659625643%5D%2C%20%5B9.488416299999995%2C%2047.70169159625643%5D%2C%20%5B9.488378699999998%2C%2047.701666396256364%5D%2C%20%5B9.488309000000003%2C%2047.7016193962564%5D%2C%20%5B9.488075099709318%2C%2047.701555296507024%5D%2C%20%5B9.487841199999993%2C%2047.701491196256356%5D%5D%2C%20%22type%22%3A%20%22LineString%22%7D%2C%20%22id%22%3A%20%22%283071960763%2C%203071960768%2C%200%29%22%2C%20%22properties%22%3A%20%7B%22highway%22%3A%20%22residential%22%2C%20%22length%22%3A%2056.63666612241766%2C%20%22osmid%22%3A%20302910935%7D%2C%20%22type%22%3A%20%22Feature%22%7D%2C%20%7B%22bbox%22%3A%20%5B9.487912170292917%2C%2047.70182493923742%2C%209.487947655780067%2C%2047.70199181069077%5D%2C%20%22geometry%22%3A%20%7B%22coordinates%22%3A%20%5B%5B9.487912170292917%2C%2047.70182493923742%5D%2C%20%5B9.487947655780067%2C%2047.70199181069077%5D%5D%2C%20%22type%22%3A%20%22LineString%22%7D%2C%20%22id%22%3A%20%22%28313193593503%2C%20313193593502%2C%200%29%22%2C%20%22properties%22%3A%20%7B%22highway%22%3A%20%22secondary%22%2C%20%22length%22%3A%2018.73207106190208%2C%20%22osmid%22%3A%2039772847%7D%2C%20%22type%22%3A%20%22Feature%22%7D%2C%20%7B%22bbox%22%3A%20%5B9.487947655780067%2C%2047.70199181069077%2C%209.488137700000003%2C%2047.70288569625651%5D%2C%20%22geometry%22%3A%20%7B%22coordinates%22%3A%20%5B%5B9.487947655780067%2C%2047.70199181069077%5D%2C%20%5B9.487983141494338%2C%2047.70215868211936%5D%2C%20%5B9.488018627435753%2C%2047.70232555352317%5D%2C%20%5B9.488054113604306%2C%2047.702492424902196%5D%2C%20%5B9.488089599999995%2C%2047.70265929625645%5D%2C%20%5B9.488137700000003%2C%2047.70288569625651%5D%5D%2C%20%22type%22%3A%20%22LineString%22%7D%2C%20%22id%22%3A%20%22%28313193593503%2C%20329334540%2C%200%29%22%2C%20%22properties%22%3A%20%7B%22highway%22%3A%20%22secondary%22%2C%20%22length%22%3A%20100.34223172703118%2C%20%22osmid%22%3A%2039772847%7D%2C%20%22type%22%3A%20%22Feature%22%7D%2C%20%7B%22bbox%22%3A%20%5B9.488399366874441%2C%2047.70292269625649%2C%209.488861499999995%2C%2047.702968763411334%5D%2C%20%22geometry%22%3A%20%7B%22coordinates%22%3A%20%5B%5B9.488861499999995%2C%2047.70292269625649%5D%2C%20%5B9.48863043354111%2C%2047.70294573007801%5D%2C%20%5B9.488399366874441%2C%2047.702968763411334%5D%5D%2C%20%22type%22%3A%20%22LineString%22%7D%2C%20%22id%22%3A%20%22%283076312548%2C%20615262508401%2C%200%29%22%2C%20%22properties%22%3A%20%7B%22highway%22%3A%20%22service%22%2C%20%22length%22%3A%2035.0822523110655%2C%20%22osmid%22%3A%20303278577%7D%2C%20%22type%22%3A%20%22Feature%22%7D%2C%20%7B%22bbox%22%3A%20%5B9.478960199999996%2C%2047.70423129625658%2C%209.479187549955578%2C%2047.70424144649266%5D%2C%20%22geometry%22%3A%20%7B%22coordinates%22%3A%20%5B%5B9.478960199999996%2C%2047.70423129625658%5D%2C%20%5B9.479187549955578%2C%2047.70424144649266%5D%5D%2C%20%22type%22%3A%20%22LineString%22%7D%2C%20%22id%22%3A%20%22%28260386717%2C%20333233889501%2C%200%29%22%2C%20%22properties%22%3A%20%7B%22highway%22%3A%20%22unclassified%22%2C%20%22length%22%3A%2017.110346340853706%2C%20%22osmid%22%3A%20119067449%7D%2C%20%22type%22%3A%20%22Feature%22%7D%2C%20%7B%22bbox%22%3A%20%5B9.482310400000003%2C%2047.70294119625652%2C%209.482358699999995%2C%2047.7029700962565%5D%2C%20%22geometry%22%3A%20%7B%22coordinates%22%3A%20%5B%5B9.482358699999995%2C%2047.7029700962565%5D%2C%20%5B9.482310400000003%2C%2047.70294119625652%5D%5D%2C%20%22type%22%3A%20%22LineString%22%7D%2C%20%22id%22%3A%20%22%283071953089%2C%203071953094%2C%200%29%22%2C%20%22properties%22%3A%20%7B%22highway%22%3A%20%22residential%22%2C%20%22length%22%3A%204.844039855688943%2C%20%22osmid%22%3A%20302910640%7D%2C%20%22type%22%3A%20%22Feature%22%7D%2C%20%7B%22bbox%22%3A%20%5B9.482310400000003%2C%2047.70294119625652%2C%209.482358699999995%2C%2047.7029700962565%5D%2C%20%22geometry%22%3A%20%7B%22coordinates%22%3A%20%5B%5B9.482358699999995%2C%2047.7029700962565%5D%2C%20%5B9.482310400000003%2C%2047.70294119625652%5D%5D%2C%20%22type%22%3A%20%22LineString%22%7D%2C%20%22id%22%3A%20%22%283071953094%2C%203071953089%2C%200%29%22%2C%20%22properties%22%3A%20%7B%22highway%22%3A%20%22residential%22%2C%20%22length%22%3A%204.844039855688943%2C%20%22osmid%22%3A%20302910640%7D%2C%20%22type%22%3A%20%22Feature%22%7D%2C%20%7B%22bbox%22%3A%20%5B9.48223529977219%2C%2047.702784146288025%2C%209.482310400000003%2C%2047.70294119625652%5D%2C%20%22geometry%22%3A%20%7B%22coordinates%22%3A%20%5B%5B9.482310400000003%2C%2047.70294119625652%5D%2C%20%5B9.48223529977219%2C%2047.702784146288025%5D%5D%2C%20%22type%22%3A%20%22LineString%22%7D%2C%20%22id%22%3A%20%22%283071953094%2C%20614390617701%2C%200%29%22%2C%20%22properties%22%3A%20%7B%22highway%22%3A%20%22residential%22%2C%20%22length%22%3A%2018.338447020095188%2C%20%22osmid%22%3A%20302910640%7D%2C%20%22type%22%3A%20%22Feature%22%7D%2C%20%7B%22bbox%22%3A%20%5B9.48223529977219%2C%2047.702784146288025%2C%209.482310400000003%2C%2047.70294119625652%5D%2C%20%22geometry%22%3A%20%7B%22coordinates%22%3A%20%5B%5B9.482310400000003%2C%2047.70294119625652%5D%2C%20%5B9.48223529977219%2C%2047.702784146288025%5D%5D%2C%20%22type%22%3A%20%22LineString%22%7D%2C%20%22id%22%3A%20%22%28614390617701%2C%203071953094%2C%200%29%22%2C%20%22properties%22%3A%20%7B%22highway%22%3A%20%22residential%22%2C%20%22length%22%3A%2018.338447020095188%2C%20%22osmid%22%3A%20302910640%7D%2C%20%22type%22%3A%20%22Feature%22%7D%2C%20%7B%22bbox%22%3A%20%5B9.482160199999996%2C%2047.702627096256464%2C%209.48223529977219%2C%2047.702784146288025%5D%2C%20%22geometry%22%3A%20%7B%22coordinates%22%3A%20%5B%5B9.48223529977219%2C%2047.702784146288025%5D%2C%20%5B9.482160199999996%2C%2047.702627096256464%5D%5D%2C%20%22type%22%3A%20%22LineString%22%7D%2C%20%22id%22%3A%20%22%28614390617701%2C%203071953083%2C%200%29%22%2C%20%22properties%22%3A%20%7B%22highway%22%3A%20%22residential%22%2C%20%22length%22%3A%2018.338447020829744%2C%20%22osmid%22%3A%20302910640%7D%2C%20%22type%22%3A%20%22Feature%22%7D%2C%20%7B%22bbox%22%3A%20%5B9.482160199999996%2C%2047.702627096256464%2C%209.48223529977219%2C%2047.702784146288025%5D%2C%20%22geometry%22%3A%20%7B%22coordinates%22%3A%20%5B%5B9.48223529977219%2C%2047.702784146288025%5D%2C%20%5B9.482160199999996%2C%2047.702627096256464%5D%5D%2C%20%22type%22%3A%20%22LineString%22%7D%2C%20%22id%22%3A%20%22%283071953083%2C%20614390617701%2C%200%29%22%2C%20%22properties%22%3A%20%7B%22highway%22%3A%20%22residential%22%2C%20%22length%22%3A%2018.338447020829744%2C%20%22osmid%22%3A%20302910640%7D%2C%20%22type%22%3A%20%22Feature%22%7D%2C%20%7B%22bbox%22%3A%20%5B9.481772599568178%2C%2047.702464646320195%2C%209.482160199999996%2C%2047.70267039625649%5D%2C%20%22geometry%22%3A%20%7B%22coordinates%22%3A%20%5B%5B9.482160199999996%2C%2047.702627096256464%5D%2C%20%5B9.481881199999997%2C%2047.70267039625649%5D%2C%20%5B9.481772599568178%2C%2047.702464646320195%5D%5D%2C%20%22type%22%3A%20%22LineString%22%7D%2C%20%22id%22%3A%20%22%283071953083%2C%20614390618601%2C%200%29%22%2C%20%22properties%22%3A%20%7B%22highway%22%3A%20%22residential%22%2C%20%22length%22%3A%2045.77078379835263%2C%20%22osmid%22%3A%20302910640%7D%2C%20%22type%22%3A%20%22Feature%22%7D%2C%20%7B%22bbox%22%3A%20%5B9.488357299999999%2C%2047.70175659625643%2C%209.488448500000002%2C%2047.701886596256436%5D%2C%20%22geometry%22%3A%20%7B%22coordinates%22%3A%20%5B%5B9.488357299999999%2C%2047.701886596256436%5D%2C%20%5B9.488410899999995%2C%2047.701852296256426%5D%2C%20%5B9.488448500000002%2C%2047.701796296256376%5D%2C%20%5B9.488435099999995%2C%2047.70175659625643%5D%5D%2C%20%22type%22%3A%20%22LineString%22%7D%2C%20%22id%22%3A%20%22%283071960760%2C%203071960763%2C%200%29%22%2C%20%22properties%22%3A%20%7B%22highway%22%3A%20%22residential%22%2C%20%22length%22%3A%2016.902147419316133%2C%20%22osmid%22%3A%20302910935%7D%2C%20%22type%22%3A%20%22Feature%22%7D%2C%20%7B%22bbox%22%3A%20%5B9.480531899999992%2C%2047.704819096256664%2C%209.480568500000002%2C%2047.704920496256655%5D%2C%20%22geometry%22%3A%20%7B%22coordinates%22%3A%20%5B%5B9.480568500000002%2C%2047.704819096256664%5D%2C%20%5B9.480531899999992%2C%2047.704920496256655%5D%5D%2C%20%22type%22%3A%20%22LineString%22%7D%2C%20%22id%22%3A%20%22%28366519040%2C%203037961767%2C%200%29%22%2C%20%22properties%22%3A%20%7B%22highway%22%3A%20%22unclassified%22%2C%20%22length%22%3A%2011.598082981425069%2C%20%22osmid%22%3A%20626712378%7D%2C%20%22type%22%3A%20%22Feature%22%7D%2C%20%7B%22bbox%22%3A%20%5B9.480531899999992%2C%2047.704920496256655%2C%209.480672699999994%2C%2047.705055796256666%5D%2C%20%22geometry%22%3A%20%7B%22coordinates%22%3A%20%5B%5B9.480531899999992%2C%2047.704920496256655%5D%2C%20%5B9.480672699999994%2C%2047.705055796256666%5D%5D%2C%20%22type%22%3A%20%22LineString%22%7D%2C%20%22id%22%3A%20%22%28366519040%2C%203037961830%2C%200%29%22%2C%20%22properties%22%3A%20%7B%22highway%22%3A%20%22unclassified%22%2C%20%22length%22%3A%2018.378179613151296%2C%20%22osmid%22%3A%20626712378%7D%2C%20%22type%22%3A%20%22Feature%22%7D%2C%20%7B%22bbox%22%3A%20%5B9.480531899999992%2C%2047.704920496256655%2C%209.480672699999994%2C%2047.705055796256666%5D%2C%20%22geometry%22%3A%20%7B%22coordinates%22%3A%20%5B%5B9.480531899999992%2C%2047.704920496256655%5D%2C%20%5B9.480672699999994%2C%2047.705055796256666%5D%5D%2C%20%22type%22%3A%20%22LineString%22%7D%2C%20%22id%22%3A%20%22%283037961830%2C%20366519040%2C%200%29%22%2C%20%22properties%22%3A%20%7B%22highway%22%3A%20%22unclassified%22%2C%20%22length%22%3A%2018.378179613151296%2C%20%22osmid%22%3A%20626712378%7D%2C%20%22type%22%3A%20%22Feature%22%7D%2C%20%7B%22bbox%22%3A%20%5B9.480672699999994%2C%2047.705055796256666%2C%209.480701566487662%2C%2047.70521789627685%5D%2C%20%22geometry%22%3A%20%7B%22coordinates%22%3A%20%5B%5B9.480672699999994%2C%2047.705055796256666%5D%2C%20%5B9.480701566487662%2C%2047.70521789627685%5D%5D%2C%20%22type%22%3A%20%22LineString%22%7D%2C%20%22id%22%3A%20%22%283037961830%2C%20340448086901%2C%200%29%22%2C%20%22properties%22%3A%20%7B%22highway%22%3A%20%22unclassified%22%2C%20%22length%22%3A%2018.1414507263603%2C%20%22osmid%22%3A%20626712378%7D%2C%20%22type%22%3A%20%22Feature%22%7D%2C%20%7B%22bbox%22%3A%20%5B9.480672699999994%2C%2047.705055796256666%2C%209.480701566487662%2C%2047.70521789627685%5D%2C%20%22geometry%22%3A%20%7B%22coordinates%22%3A%20%5B%5B9.480672699999994%2C%2047.705055796256666%5D%2C%20%5B9.480701566487662%2C%2047.70521789627685%5D%5D%2C%20%22type%22%3A%20%22LineString%22%7D%2C%20%22id%22%3A%20%22%28340448086901%2C%203037961830%2C%200%29%22%2C%20%22properties%22%3A%20%7B%22highway%22%3A%20%22unclassified%22%2C%20%22length%22%3A%2018.1414507263603%2C%20%22osmid%22%3A%20626712378%7D%2C%20%22type%22%3A%20%22Feature%22%7D%2C%20%7B%22bbox%22%3A%20%5B9.480701566487662%2C%2047.70521789627685%2C%209.480730433154323%2C%2047.70537999627688%5D%2C%20%22geometry%22%3A%20%7B%22coordinates%22%3A%20%5B%5B9.480701566487662%2C%2047.70521789627685%5D%2C%20%5B9.480730433154323%2C%2047.70537999627688%5D%5D%2C%20%22type%22%3A%20%22LineString%22%7D%2C%20%22id%22%3A%20%22%28340448086901%2C%20340448086902%2C%200%29%22%2C%20%22properties%22%3A%20%7B%22highway%22%3A%20%22unclassified%22%2C%20%22length%22%3A%2018.141450726704647%2C%20%22osmid%22%3A%20626712378%7D%2C%20%22type%22%3A%20%22Feature%22%7D%2C%20%7B%22bbox%22%3A%20%5B9.4807593%2C%2047.70554209625677%2C%209.480789099999999%2C%2047.70579499625672%5D%2C%20%22geometry%22%3A%20%7B%22coordinates%22%3A%20%5B%5B9.4807593%2C%2047.70554209625677%5D%2C%20%5B9.480789099999999%2C%2047.70579499625672%5D%5D%2C%20%22type%22%3A%20%22LineString%22%7D%2C%20%22id%22%3A%20%22%28366519039%2C%204452429946%2C%200%29%22%2C%20%22properties%22%3A%20%7B%22highway%22%3A%20%22unclassified%22%2C%20%22length%22%3A%2028.18975683096921%2C%20%22osmid%22%3A%20626712378%7D%2C%20%22type%22%3A%20%22Feature%22%7D%2C%20%7B%22bbox%22%3A%20%5B9.480730433154323%2C%2047.70537999627688%2C%209.4807593%2C%2047.70554209625677%5D%2C%20%22geometry%22%3A%20%7B%22coordinates%22%3A%20%5B%5B9.480730433154323%2C%2047.70537999627688%5D%2C%20%5B9.4807593%2C%2047.70554209625677%5D%5D%2C%20%22type%22%3A%20%22LineString%22%7D%2C%20%22id%22%3A%20%22%28366519039%2C%20340448086902%2C%200%29%22%2C%20%22properties%22%3A%20%7B%22highway%22%3A%20%22unclassified%22%2C%20%22length%22%3A%2018.1414507263603%2C%20%22osmid%22%3A%20626712378%7D%2C%20%22type%22%3A%20%22Feature%22%7D%2C%20%7B%22bbox%22%3A%20%5B9.4807593%2C%2047.70554209625677%2C%209.480789099999999%2C%2047.70579499625672%5D%2C%20%22geometry%22%3A%20%7B%22coordinates%22%3A%20%5B%5B9.4807593%2C%2047.70554209625677%5D%2C%20%5B9.480789099999999%2C%2047.70579499625672%5D%5D%2C%20%22type%22%3A%20%22LineString%22%7D%2C%20%22id%22%3A%20%22%284452429946%2C%20366519039%2C%200%29%22%2C%20%22properties%22%3A%20%7B%22highway%22%3A%20%22unclassified%22%2C%20%22length%22%3A%2028.18975683096921%2C%20%22osmid%22%3A%20626712378%7D%2C%20%22type%22%3A%20%22Feature%22%7D%2C%20%7B%22bbox%22%3A%20%5B9.480701566487662%2C%2047.70521789627685%2C%209.480730433154323%2C%2047.70537999627688%5D%2C%20%22geometry%22%3A%20%7B%22coordinates%22%3A%20%5B%5B9.480701566487662%2C%2047.70521789627685%5D%2C%20%5B9.480730433154323%2C%2047.70537999627688%5D%5D%2C%20%22type%22%3A%20%22LineString%22%7D%2C%20%22id%22%3A%20%22%28340448086902%2C%20340448086901%2C%200%29%22%2C%20%22properties%22%3A%20%7B%22highway%22%3A%20%22unclassified%22%2C%20%22length%22%3A%2018.141450726704647%2C%20%22osmid%22%3A%20626712378%7D%2C%20%22type%22%3A%20%22Feature%22%7D%2C%20%7B%22bbox%22%3A%20%5B9.480730433154323%2C%2047.70537999627688%2C%209.4807593%2C%2047.70554209625677%5D%2C%20%22geometry%22%3A%20%7B%22coordinates%22%3A%20%5B%5B9.480730433154323%2C%2047.70537999627688%5D%2C%20%5B9.4807593%2C%2047.70554209625677%5D%5D%2C%20%22type%22%3A%20%22LineString%22%7D%2C%20%22id%22%3A%20%22%28340448086902%2C%20366519039%2C%200%29%22%2C%20%22properties%22%3A%20%7B%22highway%22%3A%20%22unclassified%22%2C%20%22length%22%3A%2018.1414507263603%2C%20%22osmid%22%3A%20626712378%7D%2C%20%22type%22%3A%20%22Feature%22%7D%2C%20%7B%22bbox%22%3A%20%5B9.4816655%2C%2047.70483789625664%2C%209.4817058%2C%2047.704895296256645%5D%2C%20%22geometry%22%3A%20%7B%22coordinates%22%3A%20%5B%5B9.4816655%2C%2047.70483789625664%5D%2C%20%5B9.4817058%2C%2047.704895296256645%5D%5D%2C%20%22type%22%3A%20%22LineString%22%7D%2C%20%22id%22%3A%20%22%288095608344%2C%208095608343%2C%200%29%22%2C%20%22properties%22%3A%20%7B%22highway%22%3A%20%22service%22%2C%20%22length%22%3A%207.059103301719467%2C%20%22osmid%22%3A%20868521723%7D%2C%20%22type%22%3A%20%22Feature%22%7D%2C%20%7B%22bbox%22%3A%20%5B9.4817058%2C%2047.704895296256645%2C%209.481726700000001%2C%2047.70494219625668%5D%2C%20%22geometry%22%3A%20%7B%22coordinates%22%3A%20%5B%5B9.4817058%2C%2047.704895296256645%5D%2C%20%5B9.481726700000001%2C%2047.70494219625668%5D%5D%2C%20%22type%22%3A%20%22LineString%22%7D%2C%20%22id%22%3A%20%22%288095608344%2C%208095608349%2C%200%29%22%2C%20%22properties%22%3A%20%7B%22highway%22%3A%20%22service%22%2C%20%22length%22%3A%205.442258231123278%2C%20%22osmid%22%3A%20868521723%7D%2C%20%22type%22%3A%20%22Feature%22%7D%2C%20%7B%22bbox%22%3A%20%5B9.4817058%2C%2047.704895296256645%2C%209.481726700000001%2C%2047.70494219625668%5D%2C%20%22geometry%22%3A%20%7B%22coordinates%22%3A%20%5B%5B9.4817058%2C%2047.704895296256645%5D%2C%20%5B9.481726700000001%2C%2047.70494219625668%5D%5D%2C%20%22type%22%3A%20%22LineString%22%7D%2C%20%22id%22%3A%20%22%288095608349%2C%208095608344%2C%200%29%22%2C%20%22properties%22%3A%20%7B%22highway%22%3A%20%22service%22%2C%20%22length%22%3A%205.442258231123278%2C%20%22osmid%22%3A%20868521723%7D%2C%20%22type%22%3A%20%22Feature%22%7D%2C%20%7B%22bbox%22%3A%20%5B9.481726700000001%2C%2047.70494219625668%2C%209.4817383%2C%2047.704989096256696%5D%2C%20%22geometry%22%3A%20%7B%22coordinates%22%3A%20%5B%5B9.481726700000001%2C%2047.70494219625668%5D%2C%20%5B9.4817383%2C%2047.704989096256696%5D%5D%2C%20%22type%22%3A%20%22LineString%22%7D%2C%20%22id%22%3A%20%22%288095608349%2C%208095608345%2C%200%29%22%2C%20%22properties%22%3A%20%7B%22highway%22%3A%20%22service%22%2C%20%22length%22%3A%205.283473530471753%2C%20%22osmid%22%3A%20868521723%7D%2C%20%22type%22%3A%20%22Feature%22%7D%2C%20%7B%22bbox%22%3A%20%5B9.481726700000001%2C%2047.70494219625668%2C%209.4817383%2C%2047.704989096256696%5D%2C%20%22geometry%22%3A%20%7B%22coordinates%22%3A%20%5B%5B9.481726700000001%2C%2047.70494219625668%5D%2C%20%5B9.4817383%2C%2047.704989096256696%5D%5D%2C%20%22type%22%3A%20%22LineString%22%7D%2C%20%22id%22%3A%20%22%288095608345%2C%208095608349%2C%200%29%22%2C%20%22properties%22%3A%20%7B%22highway%22%3A%20%22service%22%2C%20%22length%22%3A%205.283473530471753%2C%20%22osmid%22%3A%20868521723%7D%2C%20%22type%22%3A%20%22Feature%22%7D%2C%20%7B%22bbox%22%3A%20%5B9.4817383%2C%2047.704989096256696%2C%209.4817491%2C%2047.705045396256644%5D%2C%20%22geometry%22%3A%20%7B%22coordinates%22%3A%20%5B%5B9.4817383%2C%2047.704989096256696%5D%2C%20%5B9.4817491%2C%2047.705045396256644%5D%5D%2C%20%22type%22%3A%20%22LineString%22%7D%2C%20%22id%22%3A%20%22%288095608345%2C%208095608346%2C%200%29%22%2C%20%22properties%22%3A%20%7B%22highway%22%3A%20%22service%22%2C%20%22length%22%3A%206.30802376293344%2C%20%22osmid%22%3A%20868521723%7D%2C%20%22type%22%3A%20%22Feature%22%7D%2C%20%7B%22bbox%22%3A%20%5B9.4817383%2C%2047.704989096256696%2C%209.4817491%2C%2047.705045396256644%5D%2C%20%22geometry%22%3A%20%7B%22coordinates%22%3A%20%5B%5B9.4817383%2C%2047.704989096256696%5D%2C%20%5B9.4817491%2C%2047.705045396256644%5D%5D%2C%20%22type%22%3A%20%22LineString%22%7D%2C%20%22id%22%3A%20%22%288095608346%2C%208095608345%2C%200%29%22%2C%20%22properties%22%3A%20%7B%22highway%22%3A%20%22service%22%2C%20%22length%22%3A%206.30802376293344%2C%20%22osmid%22%3A%20868521723%7D%2C%20%22type%22%3A%20%22Feature%22%7D%2C%20%7B%22bbox%22%3A%20%5B9.481722399999997%2C%2047.705045396256644%2C%209.4817491%2C%2047.705067596256654%5D%2C%20%22geometry%22%3A%20%7B%22coordinates%22%3A%20%5B%5B9.4817491%2C%2047.705045396256644%5D%2C%20%5B9.481722399999997%2C%2047.705067596256654%5D%5D%2C%20%22type%22%3A%20%22LineString%22%7D%2C%20%22id%22%3A%20%22%288095608346%2C%208095608348%2C%200%29%22%2C%20%22properties%22%3A%20%7B%22highway%22%3A%20%22service%22%2C%20%22length%22%3A%203.1791853872232223%2C%20%22osmid%22%3A%20868521723%7D%2C%20%22type%22%3A%20%22Feature%22%7D%2C%20%7B%22bbox%22%3A%20%5B9.481722399999997%2C%2047.705045396256644%2C%209.4817491%2C%2047.705067596256654%5D%2C%20%22geometry%22%3A%20%7B%22coordinates%22%3A%20%5B%5B9.4817491%2C%2047.705045396256644%5D%2C%20%5B9.481722399999997%2C%2047.705067596256654%5D%5D%2C%20%22type%22%3A%20%22LineString%22%7D%2C%20%22id%22%3A%20%22%288095608348%2C%208095608346%2C%200%29%22%2C%20%22properties%22%3A%20%7B%22highway%22%3A%20%22service%22%2C%20%22length%22%3A%203.1791853872232223%2C%20%22osmid%22%3A%20868521723%7D%2C%20%22type%22%3A%20%22Feature%22%7D%2C%20%7B%22bbox%22%3A%20%5B9.481671699999996%2C%2047.705067596256654%2C%209.481722399999997%2C%2047.70508289625671%5D%2C%20%22geometry%22%3A%20%7B%22coordinates%22%3A%20%5B%5B9.481722399999997%2C%2047.705067596256654%5D%2C%20%5B9.481671699999996%2C%2047.70508289625671%5D%5D%2C%20%22type%22%3A%20%22LineString%22%7D%2C%20%22id%22%3A%20%22%288095608348%2C%208095608347%2C%200%29%22%2C%20%22properties%22%3A%20%7B%22highway%22%3A%20%22service%22%2C%20%22length%22%3A%204.169997028003538%2C%20%22osmid%22%3A%20868521723%7D%2C%20%22type%22%3A%20%22Feature%22%7D%2C%20%7B%22bbox%22%3A%20%5B9.481671699999996%2C%2047.705067596256654%2C%209.481722399999997%2C%2047.70508289625671%5D%2C%20%22geometry%22%3A%20%7B%22coordinates%22%3A%20%5B%5B9.481722399999997%2C%2047.705067596256654%5D%2C%20%5B9.481671699999996%2C%2047.70508289625671%5D%5D%2C%20%22type%22%3A%20%22LineString%22%7D%2C%20%22id%22%3A%20%22%288095608347%2C%208095608348%2C%200%29%22%2C%20%22properties%22%3A%20%7B%22highway%22%3A%20%22service%22%2C%20%22length%22%3A%204.169997028003538%2C%20%22osmid%22%3A%20868521723%7D%2C%20%22type%22%3A%20%22Feature%22%7D%2C%20%7B%22bbox%22%3A%20%5B9.486450764008517%2C%2047.70301709795986%2C%209.486666031671987%2C%2047.703096697321115%5D%2C%20%22geometry%22%3A%20%7B%22coordinates%22%3A%20%5B%5B9.486666031671987%2C%2047.703096697321115%5D%2C%20%5B9.486450764008517%2C%2047.70301709795986%5D%5D%2C%20%22type%22%3A%20%22LineString%22%7D%2C%20%22id%22%3A%20%22%2865866904702%2C%2065866904701%2C%200%29%22%2C%20%22properties%22%3A%20%7B%22highway%22%3A%20%22residential%22%2C%20%22length%22%3A%2018.426216140036495%2C%20%22osmid%22%3A%2037795694%7D%2C%20%22type%22%3A%20%22Feature%22%7D%2C%20%7B%22bbox%22%3A%20%5B9.486235497009593%2C%2047.702937498172744%2C%209.486450764008517%2C%2047.70301709795986%5D%2C%20%22geometry%22%3A%20%7B%22coordinates%22%3A%20%5B%5B9.486450764008517%2C%2047.70301709795986%5D%2C%20%5B9.486235497009593%2C%2047.702937498172744%5D%5D%2C%20%22type%22%3A%20%22LineString%22%7D%2C%20%22id%22%3A%20%22%2865866904702%2C%2065866904703%2C%200%29%22%2C%20%22properties%22%3A%20%7B%22highway%22%3A%20%22residential%22%2C%20%22length%22%3A%2018.426216139216397%2C%20%22osmid%22%3A%2037795694%7D%2C%20%22type%22%3A%20%22Feature%22%7D%2C%20%7B%22bbox%22%3A%20%5B9.486235497009593%2C%2047.702937498172744%2C%209.486450764008517%2C%2047.70301709795986%5D%2C%20%22geometry%22%3A%20%7B%22coordinates%22%3A%20%5B%5B9.486450764008517%2C%2047.70301709795986%5D%2C%20%5B9.486235497009593%2C%2047.702937498172744%5D%5D%2C%20%22type%22%3A%20%22LineString%22%7D%2C%20%22id%22%3A%20%22%2865866904703%2C%2065866904702%2C%200%29%22%2C%20%22properties%22%3A%20%7B%22highway%22%3A%20%22residential%22%2C%20%22length%22%3A%2018.426216139216397%2C%20%22osmid%22%3A%2037795694%7D%2C%20%22type%22%3A%20%22Feature%22%7D%2C%20%7B%22bbox%22%3A%20%5B9.486020230675194%2C%2047.70285789795981%2C%209.486235497009593%2C%2047.702937498172744%5D%2C%20%22geometry%22%3A%20%7B%22coordinates%22%3A%20%5B%5B9.486235497009593%2C%2047.702937498172744%5D%2C%20%5B9.486020230675194%2C%2047.70285789795981%5D%5D%2C%20%22type%22%3A%20%22LineString%22%7D%2C%20%22id%22%3A%20%22%2865866904703%2C%2065866904704%2C%200%29%22%2C%20%22properties%22%3A%20%7B%22highway%22%3A%20%22residential%22%2C%20%22length%22%3A%2018.426216140257175%2C%20%22osmid%22%3A%2037795694%7D%2C%20%22type%22%3A%20%22Feature%22%7D%2C%20%7B%22bbox%22%3A%20%5B9.486020230675194%2C%2047.70285789795981%2C%209.486235497009593%2C%2047.702937498172744%5D%2C%20%22geometry%22%3A%20%7B%22coordinates%22%3A%20%5B%5B9.486235497009593%2C%2047.702937498172744%5D%2C%20%5B9.486020230675194%2C%2047.70285789795981%5D%5D%2C%20%22type%22%3A%20%22LineString%22%7D%2C%20%22id%22%3A%20%22%2865866904704%2C%2065866904703%2C%200%29%22%2C%20%22properties%22%3A%20%7B%22highway%22%3A%20%22residential%22%2C%20%22length%22%3A%2018.426216140257175%2C%20%22osmid%22%3A%2037795694%7D%2C%20%22type%22%3A%20%22Feature%22%7D%2C%20%7B%22bbox%22%3A%20%5B9.485804965005329%2C%2047.70277829732106%2C%209.486020230675194%2C%2047.70285789795981%5D%2C%20%22geometry%22%3A%20%7B%22coordinates%22%3A%20%5B%5B9.486020230675194%2C%2047.70285789795981%5D%2C%20%5B9.485804965005329%2C%2047.70277829732106%5D%5D%2C%20%22type%22%3A%20%22LineString%22%7D%2C%20%22id%22%3A%20%22%2865866904704%2C%2065866904705%2C%200%29%22%2C%20%22properties%22%3A%20%7B%22highway%22%3A%20%22residential%22%2C%20%22length%22%3A%2018.426216140036495%2C%20%22osmid%22%3A%2037795694%7D%2C%20%22type%22%3A%20%22Feature%22%7D%2C%20%7B%22bbox%22%3A%20%5B9.487876640509292%2C%2047.70395975732525%2C%209.488118420339529%2C%2047.70397771785957%5D%2C%20%22geometry%22%3A%20%7B%22coordinates%22%3A%20%5B%5B9.487876640509292%2C%2047.70397771785957%5D%2C%20%5B9.488118420339529%2C%2047.70395975732525%5D%5D%2C%20%22type%22%3A%20%22LineString%22%7D%2C%20%22id%22%3A%20%22%2877489745604%2C%2077489745603%2C%200%29%22%2C%20%22properties%22%3A%20%7B%22highway%22%3A%20%22residential%22%2C%20%22length%22%3A%2018.26683468308001%2C%20%22osmid%22%3A%2030097999%7D%2C%20%22type%22%3A%20%22Feature%22%7D%2C%20%7B%22bbox%22%3A%20%5B9.488118420339529%2C%2047.70355957637986%2C%209.488425099999999%2C%2047.70395975732525%5D%2C%20%22geometry%22%3A%20%7B%22coordinates%22%3A%20%5B%5B9.488118420339529%2C%2047.70395975732525%5D%2C%20%5B9.488360199999994%2C%2047.703941796256615%5D%2C%20%5B9.488425099999999%2C%2047.703938096256614%5D%2C%20%5B9.488373739252163%2C%2047.7037488363388%5D%2C%20%5B9.488322378878248%2C%2047.70355957637986%5D%5D%2C%20%22type%22%3A%20%22LineString%22%7D%2C%20%22id%22%3A%20%22%2877489745604%2C%20340783580502%2C%200%29%22%2C%20%22properties%22%3A%20%7B%22highway%22%3A%20%5B%22secondary%22%2C%20%22residential%22%5D%2C%20%22length%22%3A%2065.91772590563733%2C%20%22osmid%22%3A%20%5B39772847%2C%2030097999%5D%7D%2C%20%22type%22%3A%20%22Feature%22%7D%2C%20%7B%22bbox%22%3A%20%5B9.488118420339529%2C%2047.70355957637986%2C%209.488425099999999%2C%2047.70395975732525%5D%2C%20%22geometry%22%3A%20%7B%22coordinates%22%3A%20%5B%5B9.488322378878248%2C%2047.70355957637986%5D%2C%20%5B9.488373739252163%2C%2047.7037488363388%5D%2C%20%5B9.488425099999999%2C%2047.703938096256614%5D%2C%20%5B9.488360199999994%2C%2047.703941796256615%5D%2C%20%5B9.488118420339529%2C%2047.70395975732525%5D%5D%2C%20%22type%22%3A%20%22LineString%22%7D%2C%20%22id%22%3A%20%22%28340783580502%2C%2077489745604%2C%200%29%22%2C%20%22properties%22%3A%20%7B%22highway%22%3A%20%5B%22secondary%22%2C%20%22residential%22%5D%2C%20%22length%22%3A%2065.91772590563733%2C%20%22osmid%22%3A%20%5B30097999%2C%2039772847%5D%7D%2C%20%22type%22%3A%20%22Feature%22%7D%2C%20%7B%22bbox%22%3A%20%5B9.488219659252177%2C%2047.70318105633872%2C%209.488322378878248%2C%2047.70355957637986%5D%2C%20%22geometry%22%3A%20%7B%22coordinates%22%3A%20%5B%5B9.488322378878248%2C%2047.70355957637986%5D%2C%20%5B9.488271018878264%2C%2047.703370316379846%5D%2C%20%5B9.488219659252177%2C%2047.70318105633872%5D%5D%2C%20%22type%22%3A%20%22LineString%22%7D%2C%20%22id%22%3A%20%22%28340783580502%2C%20340783580504%2C%200%29%22%2C%20%22properties%22%3A%20%7B%22highway%22%3A%20%22secondary%22%2C%20%22length%22%3A%2042.759660868152366%2C%20%22osmid%22%3A%2039772847%7D%2C%20%22type%22%3A%20%22Feature%22%7D%2C%20%7B%22bbox%22%3A%20%5B9.481610923861382%2C%2047.70378674645911%2C%209.481726348481848%2C%2047.70395669652662%5D%2C%20%22geometry%22%3A%20%7B%22coordinates%22%3A%20%5B%5B9.481610923861382%2C%2047.70378674645911%5D%2C%20%5B9.481726348481848%2C%2047.70395669652662%5D%5D%2C%20%22type%22%3A%20%22LineString%22%7D%2C%20%22id%22%3A%20%22%2870372225302%2C%2070372225301%2C%200%29%22%2C%20%22properties%22%3A%20%7B%22highway%22%3A%20%22residential%22%2C%20%22length%22%3A%2020.776982095833276%2C%20%22osmid%22%3A%2037795005%7D%2C%20%22type%22%3A%20%22Feature%22%7D%2C%20%7B%22bbox%22%3A%20%5B9.481726348481848%2C%2047.70395669652662%2C%209.481841773861381%2C%2047.70412664645912%5D%2C%20%22geometry%22%3A%20%7B%22coordinates%22%3A%20%5B%5B9.481726348481848%2C%2047.70395669652662%5D%2C%20%5B9.481841773861381%2C%2047.70412664645912%5D%5D%2C%20%22type%22%3A%20%22LineString%22%7D%2C%20%22id%22%3A%20%22%2870372225302%2C%2070372225303%2C%200%29%22%2C%20%22properties%22%3A%20%7B%22highway%22%3A%20%22residential%22%2C%20%22length%22%3A%2020.776982095438978%2C%20%22osmid%22%3A%2037795005%7D%2C%20%22type%22%3A%20%22Feature%22%7D%2C%20%7B%22bbox%22%3A%20%5B9.482420526052248%2C%2047.70417884703176%2C%209.482625351402998%2C%2047.70426677183798%5D%2C%20%22geometry%22%3A%20%7B%22coordinates%22%3A%20%5B%5B9.482420526052248%2C%2047.70426677183798%5D%2C%20%5B9.482625351402998%2C%2047.70417884703176%5D%5D%2C%20%22type%22%3A%20%22LineString%22%7D%2C%20%22id%22%3A%20%22%2877485284302%2C%2077485284301%2C%200%29%22%2C%20%22properties%22%3A%20%7B%22highway%22%3A%20%22residential%22%2C%20%22length%22%3A%2018.223883176830228%2C%20%22osmid%22%3A%2037795008%7D%2C%20%22type%22%3A%20%22Feature%22%7D%2C%20%7B%22bbox%22%3A%20%5B9.482625351402998%2C%2047.70409092183797%2C%209.482830176052245%2C%2047.70417884703176%5D%2C%20%22geometry%22%3A%20%7B%22coordinates%22%3A%20%5B%5B9.482625351402998%2C%2047.70417884703176%5D%2C%20%5B9.482830176052245%2C%2047.70409092183797%5D%5D%2C%20%22type%22%3A%20%22LineString%22%7D%2C%20%22id%22%3A%20%22%2877485284302%2C%2077485284303%2C%200%29%22%2C%20%22properties%22%3A%20%7B%22highway%22%3A%20%22residential%22%2C%20%22length%22%3A%2018.223883176577846%2C%20%22osmid%22%3A%2037795008%7D%2C%20%22type%22%3A%20%22Feature%22%7D%5D%2C%20%22type%22%3A%20%22FeatureCollection%22%7D%29%3B%0A%0A%20%20%20%20%20%20%20%20%0A%3C/script%3E onload=\"this.contentDocument.open();this.contentDocument.write(    decodeURIComponent(this.getAttribute('data-html')));this.contentDocument.close();\" allowfullscreen webkitallowfullscreen mozallowfullscreen></iframe></div></div>"
      ],
      "text/plain": [
       "<folium.folium.Map at 0x2d7f178a070>"
      ]
     },
     "execution_count": 129,
     "metadata": {},
     "output_type": "execute_result"
    }
   ],
   "source": [
    "nodes, edges = ox.graph_to_gdfs(cluster_graph)\n",
    "\n",
    "m = folium.Map([polygon.centroid.y, polygon.centroid.x], zoom_start=16)\n",
    "for polygon in ch_polys:\n",
    "    folium.GeoJson(polygon).add_to(m)\n",
    "folium.GeoJson(edges).add_to(m)\n",
    "m\n"
   ]
  },
  {
   "cell_type": "code",
   "execution_count": null,
   "metadata": {},
   "outputs": [],
   "source": []
  },
  {
   "cell_type": "code",
   "execution_count": null,
   "metadata": {},
   "outputs": [],
   "source": [
    "# init empty stations_df\n",
    "lv_grid_districts = pd.DataFrame(columns=['la_id', 'geom'])\n",
    "lv_grid_districts.index.name = 'mvlv_subst_id'"
   ]
  },
  {
   "cell_type": "code",
   "execution_count": 12,
   "metadata": {},
   "outputs": [
    {
     "data": {
      "text/html": [
       "<div>\n",
       "<style scoped>\n",
       "    .dataframe tbody tr th:only-of-type {\n",
       "        vertical-align: middle;\n",
       "    }\n",
       "\n",
       "    .dataframe tbody tr th {\n",
       "        vertical-align: top;\n",
       "    }\n",
       "\n",
       "    .dataframe thead th {\n",
       "        text-align: right;\n",
       "    }\n",
       "</style>\n",
       "<table border=\"1\" class=\"dataframe\">\n",
       "  <thead>\n",
       "    <tr style=\"text-align: right;\">\n",
       "      <th></th>\n",
       "      <th>la_id</th>\n",
       "      <th>population</th>\n",
       "      <th>peak_load_residential</th>\n",
       "      <th>peak_load_retail</th>\n",
       "      <th>peak_load_industrial</th>\n",
       "      <th>peak_load_agricultural</th>\n",
       "      <th>peak_load</th>\n",
       "      <th>geom</th>\n",
       "      <th>sector_count_residential</th>\n",
       "      <th>sector_count_retail</th>\n",
       "      <th>sector_count_industrial</th>\n",
       "      <th>sector_count_agricultural</th>\n",
       "      <th>sector_consumption_residential</th>\n",
       "      <th>sector_consumption_retail</th>\n",
       "      <th>sector_consumption_industrial</th>\n",
       "      <th>sector_consumption_agricultural</th>\n",
       "    </tr>\n",
       "    <tr>\n",
       "      <th>mvlv_subst_id</th>\n",
       "      <th></th>\n",
       "      <th></th>\n",
       "      <th></th>\n",
       "      <th></th>\n",
       "      <th></th>\n",
       "      <th></th>\n",
       "      <th></th>\n",
       "      <th></th>\n",
       "      <th></th>\n",
       "      <th></th>\n",
       "      <th></th>\n",
       "      <th></th>\n",
       "      <th></th>\n",
       "      <th></th>\n",
       "      <th></th>\n",
       "      <th></th>\n",
       "    </tr>\n",
       "  </thead>\n",
       "  <tbody>\n",
       "    <tr>\n",
       "      <th>419093</th>\n",
       "      <td>5372</td>\n",
       "      <td>10.0</td>\n",
       "      <td>3.493570</td>\n",
       "      <td>0.0</td>\n",
       "      <td>0.0</td>\n",
       "      <td>99.525989</td>\n",
       "      <td>103.019559</td>\n",
       "      <td>MULTIPOLYGON(((9.44476423426424 47.69930354485...</td>\n",
       "      <td>0.0</td>\n",
       "      <td>0.0</td>\n",
       "      <td>0.0</td>\n",
       "      <td>2.0</td>\n",
       "      <td>16346.482102</td>\n",
       "      <td>0.0</td>\n",
       "      <td>0.0</td>\n",
       "      <td>414070.515734</td>\n",
       "    </tr>\n",
       "    <tr>\n",
       "      <th>420154</th>\n",
       "      <td>4830</td>\n",
       "      <td>3.0</td>\n",
       "      <td>1.048071</td>\n",
       "      <td>0.0</td>\n",
       "      <td>0.0</td>\n",
       "      <td>0.000000</td>\n",
       "      <td>1.048071</td>\n",
       "      <td>MULTIPOLYGON(((9.49954883830014 47.68339565373...</td>\n",
       "      <td>1.0</td>\n",
       "      <td>0.0</td>\n",
       "      <td>0.0</td>\n",
       "      <td>0.0</td>\n",
       "      <td>4903.944631</td>\n",
       "      <td>0.0</td>\n",
       "      <td>0.0</td>\n",
       "      <td>0.000000</td>\n",
       "    </tr>\n",
       "  </tbody>\n",
       "</table>\n",
       "</div>"
      ],
      "text/plain": [
       "               la_id  population  peak_load_residential  peak_load_retail  \\\n",
       "mvlv_subst_id                                                               \n",
       "419093          5372        10.0               3.493570               0.0   \n",
       "420154          4830         3.0               1.048071               0.0   \n",
       "\n",
       "               peak_load_industrial  peak_load_agricultural   peak_load  \\\n",
       "mvlv_subst_id                                                             \n",
       "419093                          0.0               99.525989  103.019559   \n",
       "420154                          0.0                0.000000    1.048071   \n",
       "\n",
       "                                                            geom  \\\n",
       "mvlv_subst_id                                                      \n",
       "419093         MULTIPOLYGON(((9.44476423426424 47.69930354485...   \n",
       "420154         MULTIPOLYGON(((9.49954883830014 47.68339565373...   \n",
       "\n",
       "               sector_count_residential  sector_count_retail  \\\n",
       "mvlv_subst_id                                                  \n",
       "419093                              0.0                  0.0   \n",
       "420154                              1.0                  0.0   \n",
       "\n",
       "               sector_count_industrial  sector_count_agricultural  \\\n",
       "mvlv_subst_id                                                       \n",
       "419093                             0.0                        2.0   \n",
       "420154                             0.0                        0.0   \n",
       "\n",
       "               sector_consumption_residential  sector_consumption_retail  \\\n",
       "mvlv_subst_id                                                              \n",
       "419093                           16346.482102                        0.0   \n",
       "420154                            4903.944631                        0.0   \n",
       "\n",
       "               sector_consumption_industrial  sector_consumption_agricultural  \n",
       "mvlv_subst_id                                                                  \n",
       "419093                                   0.0                    414070.515734  \n",
       "420154                                   0.0                         0.000000  "
      ]
     },
     "execution_count": 12,
     "metadata": {},
     "output_type": "execute_result"
    }
   ],
   "source": [
    "lv_grid_districts.head(2)"
   ]
  },
  {
   "cell_type": "code",
   "execution_count": null,
   "metadata": {},
   "outputs": [],
   "source": []
  },
  {
   "cell_type": "code",
   "execution_count": 22,
   "metadata": {},
   "outputs": [
    {
     "data": {
      "text/plain": [
       "250.2653091931388"
      ]
     },
     "execution_count": 22,
     "metadata": {},
     "output_type": "execute_result"
    }
   ],
   "source": [
    "# update load areal peak loads in the end \n",
    "# due to residentials at feeder needs to be updated\n",
    "buildings_w_loads_df.capacity.sum()"
   ]
  },
  {
   "cell_type": "code",
   "execution_count": null,
   "metadata": {},
   "outputs": [],
   "source": []
  },
  {
   "cell_type": "code",
   "execution_count": null,
   "metadata": {},
   "outputs": [],
   "source": []
  },
  {
   "cell_type": "code",
   "execution_count": null,
   "metadata": {},
   "outputs": [],
   "source": [
    "# additionally for object\n",
    "# lv_grid as lv_grid-Obect\n",
    "\n",
    "# df\n",
    "la_id\n",
    "population\n",
    "peak_load_residential\n",
    "peak_load_retail\n",
    "peak_load_industrial\n",
    "peak_load_agricultural\n",
    "peak_load\n",
    "geom\n",
    "sector_count_residential\n",
    "sector_count_retail\n",
    "sector_count_industrial\n",
    "sector_count_agricultural\n",
    "sector_consumption_residential\n",
    "sector_consumption_retail\n",
    "sector_consumption_industrial\n",
    "sector_consumption_agricultural"
   ]
  },
  {
   "cell_type": "code",
   "execution_count": 15,
   "metadata": {},
   "outputs": [
    {
     "data": {
      "text/html": [
       "<div>\n",
       "<style scoped>\n",
       "    .dataframe tbody tr th:only-of-type {\n",
       "        vertical-align: middle;\n",
       "    }\n",
       "\n",
       "    .dataframe tbody tr th {\n",
       "        vertical-align: top;\n",
       "    }\n",
       "\n",
       "    .dataframe thead th {\n",
       "        text-align: right;\n",
       "    }\n",
       "</style>\n",
       "<table border=\"1\" class=\"dataframe\">\n",
       "  <thead>\n",
       "    <tr style=\"text-align: right;\">\n",
       "      <th></th>\n",
       "      <th>category</th>\n",
       "      <th>area</th>\n",
       "      <th>geometry</th>\n",
       "      <th>raccordement_building</th>\n",
       "      <th>name</th>\n",
       "      <th>number_households</th>\n",
       "      <th>n_amenities_inside</th>\n",
       "      <th>osm_id_building</th>\n",
       "      <th>geometry_amenity</th>\n",
       "      <th>x</th>\n",
       "      <th>y</th>\n",
       "      <th>capacity</th>\n",
       "      <th>nn</th>\n",
       "      <th>nn_dist</th>\n",
       "      <th>nn_coords</th>\n",
       "    </tr>\n",
       "  </thead>\n",
       "  <tbody>\n",
       "    <tr>\n",
       "      <th>443340114</th>\n",
       "      <td>restaurant</td>\n",
       "      <td>732.547</td>\n",
       "      <td>POLYGON ((9.483392699999998 47.70459640000707,...</td>\n",
       "      <td>POINT (9.48352605 47.70469195000704)</td>\n",
       "      <td>Sportplatz-Restaurant</td>\n",
       "      <td>1.0</td>\n",
       "      <td>1.0</td>\n",
       "      <td>301431136.0</td>\n",
       "      <td>0101000020e6100000c3d3861e8cf72240da9a83ea30da...</td>\n",
       "      <td>9.483526</td>\n",
       "      <td>47.704692</td>\n",
       "      <td>67.035376</td>\n",
       "      <td>443338172</td>\n",
       "      <td>29.025206</td>\n",
       "      <td>POINT (9.483255199999999 47.70450509625661)</td>\n",
       "    </tr>\n",
       "  </tbody>\n",
       "</table>\n",
       "</div>"
      ],
      "text/plain": [
       "             category     area  \\\n",
       "443340114  restaurant  732.547   \n",
       "\n",
       "                                                    geometry  \\\n",
       "443340114  POLYGON ((9.483392699999998 47.70459640000707,...   \n",
       "\n",
       "                          raccordement_building                   name  \\\n",
       "443340114  POINT (9.48352605 47.70469195000704)  Sportplatz-Restaurant   \n",
       "\n",
       "           number_households  n_amenities_inside  osm_id_building  \\\n",
       "443340114                1.0                 1.0      301431136.0   \n",
       "\n",
       "                                            geometry_amenity         x  \\\n",
       "443340114  0101000020e6100000c3d3861e8cf72240da9a83ea30da...  9.483526   \n",
       "\n",
       "                   y   capacity         nn    nn_dist  \\\n",
       "443340114  47.704692  67.035376  443338172  29.025206   \n",
       "\n",
       "                                             nn_coords  \n",
       "443340114  POINT (9.483255199999999 47.70450509625661)  "
      ]
     },
     "execution_count": 15,
     "metadata": {},
     "output_type": "execute_result"
    }
   ],
   "source": [
    "# district e.g.\n",
    "'id_db': 4563,\n",
    "'geo_data': <shapely.geometry.multipolygon.MultiPolygon at 0x17ffc430160>,\n",
    "'lv_load_area': lv_load_area_4544,\n",
    "'lv_grid': lv_grid_4563,\n",
    "'population': 80,\n",
    "'peak_load_residential': 27.9485612387548,\n",
    "'peak_load_retail': 0.0,\n",
    "'peak_load_industrial': 0.0,\n",
    "'peak_load_agricultural': 0.0,\n",
    "'peak_load': 27.9485612387548,\n",
    "'sector_count_residential': 1,\n",
    "'sector_count_retail': 0,\n",
    "'sector_count_industrial': 0,\n",
    "'sector_count_agricultural': 0,\n",
    "'sector_consumption_residential': 130771.856816184,\n",
    "'sector_consumption_retail': 0.0,\n",
    "'sector_consumption_industrial': 0.0,\n",
    "'sector_consumption_agricultural': 0.0"
   ]
  },
  {
   "cell_type": "code",
   "execution_count": null,
   "metadata": {},
   "outputs": [],
   "source": []
  },
  {
   "cell_type": "code",
   "execution_count": null,
   "metadata": {},
   "outputs": [],
   "source": []
  },
  {
   "cell_type": "code",
   "execution_count": null,
   "metadata": {},
   "outputs": [],
   "source": [
    "# todo check if truncate creates subgrpahs\n",
    "# if len(subgraphs) > 1:\n",
    "    # there are unconnected subgraphs\n",
    "    # then for each subgraph\n",
    "        # cluserting\n",
    "        # for each cluster\n",
    "            # build lv_grid_district"
   ]
  },
  {
   "cell_type": "code",
   "execution_count": null,
   "metadata": {},
   "outputs": [],
   "source": []
  },
  {
   "cell_type": "code",
   "execution_count": null,
   "metadata": {},
   "outputs": [],
   "source": []
  },
  {
   "cell_type": "code",
   "execution_count": 8,
   "metadata": {},
   "outputs": [],
   "source": []
  },
  {
   "cell_type": "code",
   "execution_count": 22,
   "metadata": {},
   "outputs": [],
   "source": []
  },
  {
   "cell_type": "code",
   "execution_count": 10,
   "metadata": {},
   "outputs": [],
   "source": []
  },
  {
   "cell_type": "markdown",
   "metadata": {},
   "source": [
    "### Clustering"
   ]
  },
  {
   "cell_type": "code",
   "execution_count": 27,
   "metadata": {},
   "outputs": [],
   "source": [
    "n_clusters = get_n_cluster(buildings_w_loads_df)\n",
    "if n_clusters < len(fn_fallenbrunnen_la._lv_grid_districts):\n",
    "    n_clusters = len(fn_fallenbrunnen_la._lv_grid_districts)\n",
    "buildings_w_loads_df = cluster_k_means(buildings_w_loads_df, n_clusters)"
   ]
  },
  {
   "cell_type": "code",
   "execution_count": 29,
   "metadata": {},
   "outputs": [
    {
     "data": {
      "text/plain": [
       "3"
      ]
     },
     "execution_count": 29,
     "metadata": {},
     "output_type": "execute_result"
    }
   ],
   "source": [
    "n_clusters"
   ]
  },
  {
   "cell_type": "markdown",
   "metadata": {},
   "source": [
    "### Update and add _districts"
   ]
  },
  {
   "cell_type": "code",
   "execution_count": 30,
   "metadata": {},
   "outputs": [
    {
     "name": "stdout",
     "output_type": "stream",
     "text": [
      "99\n",
      "85\n",
      "79\n"
     ]
    }
   ],
   "source": [
    "for i in range(n_clusters):\n",
    "    \n",
    "    print(len(buildings_w_loads_df.loc[(buildings_w_loads_df['Cluster']==i)]))\n"
   ]
  },
  {
   "cell_type": "code",
   "execution_count": 28,
   "metadata": {},
   "outputs": [
    {
     "data": {
      "text/html": [
       "<div>\n",
       "<style scoped>\n",
       "    .dataframe tbody tr th:only-of-type {\n",
       "        vertical-align: middle;\n",
       "    }\n",
       "\n",
       "    .dataframe tbody tr th {\n",
       "        vertical-align: top;\n",
       "    }\n",
       "\n",
       "    .dataframe thead th {\n",
       "        text-align: right;\n",
       "    }\n",
       "</style>\n",
       "<table border=\"1\" class=\"dataframe\">\n",
       "  <thead>\n",
       "    <tr style=\"text-align: right;\">\n",
       "      <th></th>\n",
       "      <th>category</th>\n",
       "      <th>capacity</th>\n",
       "      <th>area</th>\n",
       "      <th>number_households</th>\n",
       "      <th>x</th>\n",
       "      <th>y</th>\n",
       "      <th>geometry</th>\n",
       "      <th>raccordement</th>\n",
       "      <th>nn</th>\n",
       "      <th>nn_dist</th>\n",
       "      <th>Cluster</th>\n",
       "    </tr>\n",
       "    <tr>\n",
       "      <th>osm_id</th>\n",
       "      <th></th>\n",
       "      <th></th>\n",
       "      <th></th>\n",
       "      <th></th>\n",
       "      <th></th>\n",
       "      <th></th>\n",
       "      <th></th>\n",
       "      <th></th>\n",
       "      <th></th>\n",
       "      <th></th>\n",
       "      <th></th>\n",
       "    </tr>\n",
       "  </thead>\n",
       "  <tbody>\n",
       "    <tr>\n",
       "      <th>8598838279</th>\n",
       "      <td>ice_cream</td>\n",
       "      <td>20.966863</td>\n",
       "      <td>229.121</td>\n",
       "      <td>0.645161</td>\n",
       "      <td>9.437183</td>\n",
       "      <td>47.674769</td>\n",
       "      <td>POLYGON ((9.437094099999998 47.67477800001394,...</td>\n",
       "      <td>POINT (9.437183076702567 47.67476938145773)</td>\n",
       "      <td>475940044</td>\n",
       "      <td>19.021132</td>\n",
       "      <td>0</td>\n",
       "    </tr>\n",
       "    <tr>\n",
       "      <th>144020300</th>\n",
       "      <td>public_building</td>\n",
       "      <td>244.695822</td>\n",
       "      <td>2113.09</td>\n",
       "      <td>0.8125</td>\n",
       "      <td>9.438239</td>\n",
       "      <td>47.675506</td>\n",
       "      <td>POLYGON ((9.437905999999998 47.67551250001376,...</td>\n",
       "      <td>POINT (9.438238891069723 47.67550616796044)</td>\n",
       "      <td>1576023053</td>\n",
       "      <td>34.831012</td>\n",
       "      <td>0</td>\n",
       "    </tr>\n",
       "    <tr>\n",
       "      <th>144023114</th>\n",
       "      <td>school</td>\n",
       "      <td>102.108142</td>\n",
       "      <td>1641.61</td>\n",
       "      <td>0.552632</td>\n",
       "      <td>9.438521</td>\n",
       "      <td>47.673818</td>\n",
       "      <td>POLYGON ((9.438203599999998 47.67375600001416,...</td>\n",
       "      <td>POINT (9.438521488700175 47.67381754064048)</td>\n",
       "      <td>68844093</td>\n",
       "      <td>33.677840</td>\n",
       "      <td>0</td>\n",
       "    </tr>\n",
       "    <tr>\n",
       "      <th>314909001</th>\n",
       "      <td>residential</td>\n",
       "      <td>1.246721</td>\n",
       "      <td>100</td>\n",
       "      <td>0.72973</td>\n",
       "      <td>9.43711</td>\n",
       "      <td>47.674319</td>\n",
       "      <td>POLYGON ((9.4370154 47.67431780001401, 9.43711...</td>\n",
       "      <td>POINT (9.437109750000001 47.67431900001404)</td>\n",
       "      <td>2080880814</td>\n",
       "      <td>14.638173</td>\n",
       "      <td>0</td>\n",
       "    </tr>\n",
       "    <tr>\n",
       "      <th>314909020</th>\n",
       "      <td>house</td>\n",
       "      <td>1.102239</td>\n",
       "      <td>100</td>\n",
       "      <td>0.645161</td>\n",
       "      <td>9.437548</td>\n",
       "      <td>47.674401</td>\n",
       "      <td>POLYGON ((9.4374646 47.674413400014, 9.4375446...</td>\n",
       "      <td>POINT (9.437548450000001 47.67440130001403)</td>\n",
       "      <td>314975344</td>\n",
       "      <td>15.374000</td>\n",
       "      <td>0</td>\n",
       "    </tr>\n",
       "    <tr>\n",
       "      <th>...</th>\n",
       "      <td>...</td>\n",
       "      <td>...</td>\n",
       "      <td>...</td>\n",
       "      <td>...</td>\n",
       "      <td>...</td>\n",
       "      <td>...</td>\n",
       "      <td>...</td>\n",
       "      <td>...</td>\n",
       "      <td>...</td>\n",
       "      <td>...</td>\n",
       "      <td>...</td>\n",
       "    </tr>\n",
       "    <tr>\n",
       "      <th>314913916</th>\n",
       "      <td>residential</td>\n",
       "      <td>2.904399</td>\n",
       "      <td>100</td>\n",
       "      <td>1.7</td>\n",
       "      <td>9.436301</td>\n",
       "      <td>47.672468</td>\n",
       "      <td>POLYGON ((9.436173800000001 47.67246730001447,...</td>\n",
       "      <td>POINT (9.436301343479869 47.67246766666069)</td>\n",
       "      <td>311379901</td>\n",
       "      <td>30.431139</td>\n",
       "      <td>0</td>\n",
       "    </tr>\n",
       "    <tr>\n",
       "      <th>338514542</th>\n",
       "      <td>school</td>\n",
       "      <td>407.558658</td>\n",
       "      <td>6552.39</td>\n",
       "      <td>0.594203</td>\n",
       "      <td>9.438414</td>\n",
       "      <td>47.673881</td>\n",
       "      <td>POLYGON ((9.437957300000001 47.67387860001414,...</td>\n",
       "      <td>POINT (9.438414351486788 47.67388107322754)</td>\n",
       "      <td>68844093</td>\n",
       "      <td>31.901109</td>\n",
       "      <td>0</td>\n",
       "    </tr>\n",
       "    <tr>\n",
       "      <th>401560706</th>\n",
       "      <td>residential</td>\n",
       "      <td>1.102239</td>\n",
       "      <td>100</td>\n",
       "      <td>0.645161</td>\n",
       "      <td>9.43769</td>\n",
       "      <td>47.674448</td>\n",
       "      <td>POLYGON ((9.4376228 47.674467300014, 9.4377058...</td>\n",
       "      <td>POINT (9.437690147469656 47.67444791593603)</td>\n",
       "      <td>314975344</td>\n",
       "      <td>27.030240</td>\n",
       "      <td>0</td>\n",
       "    </tr>\n",
       "    <tr>\n",
       "      <th>427999640</th>\n",
       "      <td>residential</td>\n",
       "      <td>1.017812</td>\n",
       "      <td>100</td>\n",
       "      <td>0.595745</td>\n",
       "      <td>9.437456</td>\n",
       "      <td>47.673842</td>\n",
       "      <td>POLYGON ((9.4373962 47.67383920001416, 9.43741...</td>\n",
       "      <td>POINT (9.437456201491505 47.67384173088283)</td>\n",
       "      <td>1863458994</td>\n",
       "      <td>21.084569</td>\n",
       "      <td>0</td>\n",
       "    </tr>\n",
       "    <tr>\n",
       "      <th>428000222</th>\n",
       "      <td>residential</td>\n",
       "      <td>2.628415</td>\n",
       "      <td>100</td>\n",
       "      <td>1.538462</td>\n",
       "      <td>9.436665</td>\n",
       "      <td>47.673556</td>\n",
       "      <td>POLYGON ((9.436553399999999 47.67355130001422,...</td>\n",
       "      <td>POINT (9.436665109007034 47.67355583574013)</td>\n",
       "      <td>2080880811</td>\n",
       "      <td>34.390889</td>\n",
       "      <td>0</td>\n",
       "    </tr>\n",
       "  </tbody>\n",
       "</table>\n",
       "<p>99 rows × 11 columns</p>\n",
       "</div>"
      ],
      "text/plain": [
       "                   category    capacity     area number_households         x  \\\n",
       "osm_id                                                                         \n",
       "8598838279        ice_cream   20.966863  229.121          0.645161  9.437183   \n",
       "144020300   public_building  244.695822  2113.09            0.8125  9.438239   \n",
       "144023114            school  102.108142  1641.61          0.552632  9.438521   \n",
       "314909001       residential    1.246721      100           0.72973   9.43711   \n",
       "314909020             house    1.102239      100          0.645161  9.437548   \n",
       "...                     ...         ...      ...               ...       ...   \n",
       "314913916       residential    2.904399      100               1.7  9.436301   \n",
       "338514542            school  407.558658  6552.39          0.594203  9.438414   \n",
       "401560706       residential    1.102239      100          0.645161   9.43769   \n",
       "427999640       residential    1.017812      100          0.595745  9.437456   \n",
       "428000222       residential    2.628415      100          1.538462  9.436665   \n",
       "\n",
       "                    y                                           geometry  \\\n",
       "osm_id                                                                     \n",
       "8598838279  47.674769  POLYGON ((9.437094099999998 47.67477800001394,...   \n",
       "144020300   47.675506  POLYGON ((9.437905999999998 47.67551250001376,...   \n",
       "144023114   47.673818  POLYGON ((9.438203599999998 47.67375600001416,...   \n",
       "314909001   47.674319  POLYGON ((9.4370154 47.67431780001401, 9.43711...   \n",
       "314909020   47.674401  POLYGON ((9.4374646 47.674413400014, 9.4375446...   \n",
       "...               ...                                                ...   \n",
       "314913916   47.672468  POLYGON ((9.436173800000001 47.67246730001447,...   \n",
       "338514542   47.673881  POLYGON ((9.437957300000001 47.67387860001414,...   \n",
       "401560706   47.674448  POLYGON ((9.4376228 47.674467300014, 9.4377058...   \n",
       "427999640   47.673842  POLYGON ((9.4373962 47.67383920001416, 9.43741...   \n",
       "428000222   47.673556  POLYGON ((9.436553399999999 47.67355130001422,...   \n",
       "\n",
       "                                           raccordement          nn  \\\n",
       "osm_id                                                                \n",
       "8598838279  POINT (9.437183076702567 47.67476938145773)   475940044   \n",
       "144020300   POINT (9.438238891069723 47.67550616796044)  1576023053   \n",
       "144023114   POINT (9.438521488700175 47.67381754064048)    68844093   \n",
       "314909001   POINT (9.437109750000001 47.67431900001404)  2080880814   \n",
       "314909020   POINT (9.437548450000001 47.67440130001403)   314975344   \n",
       "...                                                 ...         ...   \n",
       "314913916   POINT (9.436301343479869 47.67246766666069)   311379901   \n",
       "338514542   POINT (9.438414351486788 47.67388107322754)    68844093   \n",
       "401560706   POINT (9.437690147469656 47.67444791593603)   314975344   \n",
       "427999640   POINT (9.437456201491505 47.67384173088283)  1863458994   \n",
       "428000222   POINT (9.436665109007034 47.67355583574013)  2080880811   \n",
       "\n",
       "              nn_dist  Cluster  \n",
       "osm_id                          \n",
       "8598838279  19.021132        0  \n",
       "144020300   34.831012        0  \n",
       "144023114   33.677840        0  \n",
       "314909001   14.638173        0  \n",
       "314909020   15.374000        0  \n",
       "...               ...      ...  \n",
       "314913916   30.431139        0  \n",
       "338514542   31.901109        0  \n",
       "401560706   27.030240        0  \n",
       "427999640   21.084569        0  \n",
       "428000222   34.390889        0  \n",
       "\n",
       "[99 rows x 11 columns]"
      ]
     },
     "execution_count": 28,
     "metadata": {},
     "output_type": "execute_result"
    }
   ],
   "source": [
    "buildings_w_loads_df.loc[(buildings_w_loads_df['Cluster']==0)]"
   ]
  },
  {
   "cell_type": "code",
   "execution_count": 16,
   "metadata": {},
   "outputs": [
    {
     "name": "stdout",
     "output_type": "stream",
     "text": [
      "Wall time: 9.38 ms\n"
     ]
    },
    {
     "data": {
      "text/plain": [
       "140"
      ]
     },
     "execution_count": 16,
     "metadata": {},
     "output_type": "execute_result"
    }
   ],
   "source": [
    "%%time\n",
    "\n",
    "geometry = buildings_w_loads_df.loc[(buildings_w_loads_df['Cluster']==0), 'geometry'].tolist()\n",
    "\n",
    "points = get_points_in_load_area(geometry)\n",
    "        \n",
    "len(points)"
   ]
  },
  {
   "cell_type": "code",
   "execution_count": 17,
   "metadata": {},
   "outputs": [
    {
     "data": {
      "image/svg+xml": [
       "<svg xmlns=\"http://www.w3.org/2000/svg\" xmlns:xlink=\"http://www.w3.org/1999/xlink\" width=\"100.0\" height=\"100.0\" viewBox=\"9.442894664000024 47.66468626401624 0.002454771999950367 0.0030816719992969865\" preserveAspectRatio=\"xMinYMin meet\"><g transform=\"matrix(1,0,0,-1,0,95.33245420003178)\"><path fill-rule=\"evenodd\" fill=\"#66cc99\" stroke=\"#555555\" stroke-width=\"6.163343998593973e-05\" opacity=\"0.6\" d=\"M 9.4449668,47.66480040001621 L 9.444477799999998,47.665050300016155 L 9.4433808,47.66681720001574 L 9.443314499999998,47.66692910001574 L 9.443008799999998,47.667459900015615 L 9.4437318,47.667653800015565 L 9.444817999999998,47.66596210001596 L 9.4452353,47.66525890001613 L 9.4451412,47.66484560001622 L 9.4449668,47.66480040001621 z\" /></g></svg>"
      ],
      "text/plain": [
       "<shapely.geometry.polygon.Polygon at 0x1d50dc74eb0>"
      ]
     },
     "execution_count": 17,
     "metadata": {},
     "output_type": "execute_result"
    }
   ],
   "source": [
    "get_convex_hull_from_points(points)"
   ]
  },
  {
   "cell_type": "code",
   "execution_count": 24,
   "metadata": {},
   "outputs": [
    {
     "data": {
      "text/plain": [
       "{'id_db': 20,\n",
       " 'mv_grid_district': mv_grid_district_40,\n",
       " '_lv_load_areas': [lv_load_area_4544,\n",
       "  lv_load_area_4545,\n",
       "  lv_load_area_4548,\n",
       "  MVCableDist_mvgd_40_26],\n",
       " 'peak_load': 65.35928151751943,\n",
       " 'branch_length_sum': 0,\n",
       " 'peak_load_max': 1000.0,\n",
       " 'branch_length_max': 2000.0,\n",
       " 'root_node': MVCableDist_mvgd_40_23}"
      ]
     },
     "execution_count": 24,
     "metadata": {},
     "output_type": "execute_result"
    }
   ],
   "source": [
    "fn_fallenbrunnen_la.lv_load_area_group.__dict__"
   ]
  },
  {
   "cell_type": "code",
   "execution_count": 28,
   "metadata": {},
   "outputs": [
    {
     "data": {
      "text/plain": [
       "{'id_db': 40,\n",
       " 'mv_grid': mv_grid_40,\n",
       " '_lv_load_areas': [lv_load_area_2128,\n",
       "  lv_load_area_2292,\n",
       "  lv_load_area_2383,\n",
       "  lv_load_area_2520,\n",
       "  lv_load_area_2521,\n",
       "  lv_load_area_2561,\n",
       "  lv_load_area_2608,\n",
       "  lv_load_area_2625,\n",
       "  lv_load_area_2633,\n",
       "  lv_load_area_2705,\n",
       "  lv_load_area_2728,\n",
       "  lv_load_area_2763,\n",
       "  lv_load_area_2765,\n",
       "  lv_load_area_2840,\n",
       "  lv_load_area_2842,\n",
       "  lv_load_area_3029,\n",
       "  lv_load_area_3088,\n",
       "  lv_load_area_3089,\n",
       "  lv_load_area_3119,\n",
       "  lv_load_area_3160,\n",
       "  lv_load_area_3235,\n",
       "  lv_load_area_3277,\n",
       "  lv_load_area_3304,\n",
       "  lv_load_area_3305,\n",
       "  lv_load_area_3307,\n",
       "  lv_load_area_3311,\n",
       "  lv_load_area_3314,\n",
       "  lv_load_area_3403,\n",
       "  lv_load_area_3413,\n",
       "  lv_load_area_3645,\n",
       "  lv_load_area_3661,\n",
       "  lv_load_area_3731,\n",
       "  lv_load_area_3780,\n",
       "  lv_load_area_3805,\n",
       "  lv_load_area_3911,\n",
       "  lv_load_area_3986,\n",
       "  lv_load_area_3987,\n",
       "  lv_load_area_3992,\n",
       "  lv_load_area_4212,\n",
       "  lv_load_area_4337,\n",
       "  lv_load_area_4347,\n",
       "  lv_load_area_4487,\n",
       "  lv_load_area_4488,\n",
       "  lv_load_area_4544,\n",
       "  lv_load_area_4545,\n",
       "  lv_load_area_4546,\n",
       "  lv_load_area_4547,\n",
       "  lv_load_area_4548,\n",
       "  lv_load_area_4549,\n",
       "  lv_load_area_4550,\n",
       "  lv_load_area_4620,\n",
       "  lv_load_area_4621,\n",
       "  lv_load_area_4622,\n",
       "  lv_load_area_4670,\n",
       "  lv_load_area_4674,\n",
       "  lv_load_area_4735,\n",
       "  lv_load_area_4764,\n",
       "  lv_load_area_4830,\n",
       "  lv_load_area_4831,\n",
       "  lv_load_area_4840,\n",
       "  lv_load_area_4855,\n",
       "  lv_load_area_4868,\n",
       "  lv_load_area_4918,\n",
       "  lv_load_area_5227,\n",
       "  lv_load_area_5305,\n",
       "  lv_load_area_5371,\n",
       "  lv_load_area_5372,\n",
       "  lv_load_area_5404,\n",
       "  lv_load_area_5511,\n",
       "  lv_load_area_5525,\n",
       "  lv_load_area_5529,\n",
       "  lv_load_area_5536,\n",
       "  lv_load_area_5583,\n",
       "  lv_load_area_5588,\n",
       "  lv_load_area_5595],\n",
       " '_lv_load_area_groups': [load_area_group_1,\n",
       "  load_area_group_2,\n",
       "  load_area_group_3,\n",
       "  load_area_group_4,\n",
       "  load_area_group_5,\n",
       "  load_area_group_6,\n",
       "  load_area_group_7,\n",
       "  load_area_group_8,\n",
       "  load_area_group_9,\n",
       "  load_area_group_10,\n",
       "  load_area_group_11,\n",
       "  load_area_group_12,\n",
       "  load_area_group_13,\n",
       "  load_area_group_14,\n",
       "  load_area_group_15,\n",
       "  load_area_group_16,\n",
       "  load_area_group_17,\n",
       "  load_area_group_18,\n",
       "  load_area_group_19,\n",
       "  load_area_group_20,\n",
       "  load_area_group_21,\n",
       "  load_area_group_22,\n",
       "  load_area_group_23,\n",
       "  load_area_group_24,\n",
       "  load_area_group_25,\n",
       "  load_area_group_26,\n",
       "  load_area_group_27,\n",
       "  load_area_group_28,\n",
       "  load_area_group_29,\n",
       "  load_area_group_30,\n",
       "  load_area_group_31,\n",
       "  load_area_group_32,\n",
       "  load_area_group_33,\n",
       "  load_area_group_34,\n",
       "  load_area_group_35,\n",
       "  load_area_group_36,\n",
       "  load_area_group_37,\n",
       "  load_area_group_38,\n",
       "  load_area_group_39],\n",
       " 'geo_data': <shapely.geometry.multipolygon.MultiPolygon at 0x1d51256bf10>,\n",
       " 'peak_load': 67057.57197852976,\n",
       " 'peak_load_satellites': 852.3248953957927,\n",
       " 'peak_load_aggregated': 54058.0529320802}"
      ]
     },
     "execution_count": 28,
     "metadata": {},
     "output_type": "execute_result"
    }
   ],
   "source": [
    "nd._mv_grid_districts[0].__dict__"
   ]
  },
  {
   "cell_type": "code",
   "execution_count": 17,
   "metadata": {},
   "outputs": [
    {
     "data": {
      "text/plain": [
       "{'id_db': 4563,\n",
       " 'geo_data': <shapely.geometry.point.Point at 0x118800eba90>,\n",
       " 'grid': lv_grid_4563,\n",
       " '_transformers': [Transformer_lv_grid_4563_1],\n",
       " 'v_level_operation': None,\n",
       " 'lv_load_area': lv_load_area_4544,\n",
       " 'voltage_res': [0.9897135909377942, 1.0123145234795161]}"
      ]
     },
     "execution_count": 17,
     "metadata": {},
     "output_type": "execute_result"
    }
   ],
   "source": [
    "fn_fallenbrunnen_la._lv_grid_districts[0].lv_grid._station.__dict__"
   ]
  },
  {
   "cell_type": "code",
   "execution_count": 17,
   "metadata": {},
   "outputs": [
    {
     "name": "stdout",
     "output_type": "stream",
     "text": [
      "update _lv_grid_districts 0\n",
      "add _lv_grid_districts id 1\n",
      "add _lv_grid_districts id 2\n"
     ]
    }
   ],
   "source": [
    "preprocessed_clusters = []   \n",
    "    \n",
    "\n",
    "for cluster_id in range(n_clusters):\n",
    "    \n",
    "    if cluster_id < len(fn_fallenbrunnen_la._lv_grid_districts):\n",
    "        \n",
    "        print('delete or update _lv_grid_districts[', cluster_id, ']')\n",
    "        \n",
    "        # GET NEW VALUES FOR DISTRICT        \n",
    "        # get convex hull of cluster\n",
    "        points = get_points_in_load_area(buildings_w_loads_df.loc[buildings_w_loads_df['Cluster']==cluster_id])\n",
    "        district_convex_hull = get_convex_hull_from_points(points)\n",
    "        \n",
    "        # get location of substation for cluster\n",
    "        station_x, station_y = get_location_substation_at_pi(graph, buildings_w_loads_df.loc[(buildings_w_loads_df['Cluster']==0)])\n",
    "\n",
    "        \n",
    "        # UPDATE VALUES\n",
    "        # update values of _lv_grid_districts[cluster_id]\n",
    "        fn_fallenbrunnen_la._lv_grid_districts[cluster_id].geo_data  = district_convex_hull\n",
    "        fn_fallenbrunnen_la._lv_grid_districts[cluster_id].poulation = buildings_w_loads_df.loc[buildings_w_loads_df['Cluster']==cluster_id]['number_households'].sum()\n",
    "        \n",
    "        fn_fallenbrunnen_la._lv_grid_districts[cluster_id].peak_load = buildings_w_loads_df.loc[(buildings_w_loads_df['Cluster']==0)]['capacity'].sum()\n",
    "        fn_fallenbrunnen_la._lv_grid_districts[cluster_id].peak_load_residential = buildings_w_loads_df.loc[(buildings_w_loads_df['Cluster']==cluster_id) & buildings_w_loads_df['number_households'] > 0]['capacity'].sum()\n",
    "        \n",
    "        \n",
    "        # ADD / RESET DING0 ELEMENTS\n",
    "        # update position of substation\n",
    "        fn_fallenbrunnen_la._lv_grid_districts[0].lv_grid._station.geo_data = get_Point_from_x_y(station_x, station_y)\n",
    "        \n",
    "        # reset list to add new elements\n",
    "        fn_fallenbrunnen_la._lv_grid_districts[cluster_id].lv_grid._station.transformers.clear()\n",
    "        \n",
    "        \n",
    "        # update trafo and loads\n",
    "        #fn_fallenbrunnen_la._lv_grid_districts[cluster_id].lv_grid.build_grid()\n",
    "        \n",
    "        \n",
    "    else:\n",
    "        \n",
    "        print('add _lv_grid_districts id', cluster_id)\n",
    "        \n",
    "        \n",
    "        \n",
    "        \n",
    "        \n",
    "    break\n",
    "    "
   ]
  },
  {
   "cell_type": "code",
   "execution_count": 21,
   "metadata": {},
   "outputs": [
    {
     "data": {
      "text/plain": [
       "{'id_db': 4563,\n",
       " 'geo_data': <shapely.geometry.point.Point at 0x1d50cd257f0>,\n",
       " 'grid': lv_grid_4563,\n",
       " '_transformers': [Transformer_lv_grid_4563_1],\n",
       " 'v_level_operation': None,\n",
       " 'lv_load_area': lv_load_area_4544,\n",
       " 'voltage_res': [0.9897135909377942, 1.0123145234795161]}"
      ]
     },
     "execution_count": 21,
     "metadata": {},
     "output_type": "execute_result"
    }
   ],
   "source": [
    "fn_fallenbrunnen_la._lv_grid_districts[0].lv_grid._station.__dict__"
   ]
  },
  {
   "cell_type": "code",
   "execution_count": null,
   "metadata": {},
   "outputs": [],
   "source": []
  },
  {
   "cell_type": "code",
   "execution_count": null,
   "metadata": {},
   "outputs": [],
   "source": []
  },
  {
   "cell_type": "code",
   "execution_count": null,
   "metadata": {},
   "outputs": [],
   "source": []
  },
  {
   "cell_type": "code",
   "execution_count": null,
   "metadata": {},
   "outputs": [],
   "source": []
  },
  {
   "cell_type": "code",
   "execution_count": null,
   "metadata": {},
   "outputs": [],
   "source": []
  },
  {
   "cell_type": "code",
   "execution_count": 19,
   "metadata": {},
   "outputs": [],
   "source": [
    "#lv_district_of_interest.lv_grid.graph_draw(mode='LV')"
   ]
  },
  {
   "cell_type": "code",
   "execution_count": 16,
   "metadata": {},
   "outputs": [
    {
     "ename": "NameError",
     "evalue": "name 'lv_district_of_interest' is not defined",
     "output_type": "error",
     "traceback": [
      "\u001b[1;31m---------------------------------------------------------------------------\u001b[0m",
      "\u001b[1;31mNameError\u001b[0m                                 Traceback (most recent call last)",
      "\u001b[1;32m<ipython-input-16-52e70a767919>\u001b[0m in \u001b[0;36m<module>\u001b[1;34m\u001b[0m\n\u001b[1;32m----> 1\u001b[1;33m \u001b[0mlv_district_of_interest\u001b[0m\u001b[1;33m.\u001b[0m\u001b[0mlv_grid\u001b[0m\u001b[1;33m.\u001b[0m\u001b[0m__dict__\u001b[0m \u001b[1;31m# .geo_data.wkt\u001b[0m\u001b[1;33m\u001b[0m\u001b[1;33m\u001b[0m\u001b[0m\n\u001b[0m",
      "\u001b[1;31mNameError\u001b[0m: name 'lv_district_of_interest' is not defined"
     ]
    }
   ],
   "source": [
    "lv_district_of_interest.lv_grid.__dict__ # .geo_data.wkt"
   ]
  },
  {
   "cell_type": "code",
   "execution_count": null,
   "metadata": {},
   "outputs": [],
   "source": []
  },
  {
   "cell_type": "code",
   "execution_count": null,
   "metadata": {},
   "outputs": [],
   "source": []
  },
  {
   "cell_type": "code",
   "execution_count": null,
   "metadata": {},
   "outputs": [],
   "source": []
  },
  {
   "cell_type": "code",
   "execution_count": null,
   "metadata": {},
   "outputs": [],
   "source": []
  },
  {
   "cell_type": "code",
   "execution_count": 19,
   "metadata": {},
   "outputs": [],
   "source": [
    "from sklearn.cluster import AgglomerativeClustering\n",
    "import numpy as np"
   ]
  },
  {
   "cell_type": "code",
   "execution_count": 20,
   "metadata": {},
   "outputs": [],
   "source": [
    "X = []    # collect nodes\n",
    "\n",
    "for node in graph.nodes:\n",
    "\n",
    "    X.append([graph.nodes[node]['X'], graph.nodes[node]['Y']])\n",
    "    \n",
    "    \n",
    "X = np.array(X)\n",
    "\n",
    "\n",
    "\n",
    "# clustering\n",
    "\n",
    "adj_mat_sparse = nx.adjacency_matrix(graph, weight='length')\n",
    "\n",
    "clustering = AgglomerativeClustering(n_clusters=n_clusters, linkage='ward', connectivity=adj_mat_sparse).fit(X)\n",
    "\n",
    "\n",
    "\n",
    "\n",
    "\n",
    "\n",
    "# assign cluster labels\n",
    "\n",
    "i_label = 0\n",
    "\n",
    "for node in list(graph.nodes):\n",
    "\n",
    "    graph.nodes[node]['cluster'] = clustering.labels_[i_label]\n",
    "    \n",
    "    i_label += 1\n",
    "    \n",
    "labels = nx.get_node_attributes(graph, 'cluster') "
   ]
  },
  {
   "cell_type": "code",
   "execution_count": 23,
   "metadata": {},
   "outputs": [
    {
     "data": {
      "image/png": "[encoded data removed]",
      "text/plain": [
       "<Figure size 432x288 with 1 Axes>"
      ]
     },
     "metadata": {},
     "output_type": "display_data"
    }
   ],
   "source": [
    "nx.draw(graph, node_coords_dict,labels=labels)"
   ]
  },
  {
   "cell_type": "code",
   "execution_count": null,
   "metadata": {},
   "outputs": [],
   "source": []
  },
  {
   "cell_type": "code",
   "execution_count": 24,
   "metadata": {},
   "outputs": [],
   "source": [
    "X = []    # collect nodes\n",
    "\n",
    "for node in graph.nodes:\n",
    "\n",
    "    X.append([graph.nodes[node]['X'], graph.nodes[node]['Y']])\n",
    "    \n",
    "    \n",
    "X = np.array(X)\n",
    "\n",
    "\n",
    "\n",
    "# clustering\n",
    "\n",
    "adj_mat_sparse = nx.to_numpy_matrix(graph, weight='length')\n",
    "\n",
    "clustering = AgglomerativeClustering(n_clusters=n_clusters, linkage='ward', connectivity=adj_mat_sparse).fit(X)\n",
    "\n",
    "\n",
    "\n",
    "\n",
    "\n",
    "\n",
    "# assign cluster labels\n",
    "\n",
    "i_label = 0\n",
    "\n",
    "for node in list(graph.nodes):\n",
    "\n",
    "    graph.nodes[node]['cluster'] = clustering.labels_[i_label]\n",
    "    \n",
    "    i_label += 1\n",
    "    \n",
    "labels = nx.get_node_attributes(graph, 'cluster') "
   ]
  },
  {
   "cell_type": "code",
   "execution_count": 25,
   "metadata": {},
   "outputs": [
    {
     "data": {
      "image/png": "[encoded data removed]",
      "text/plain": [
       "<Figure size 432x288 with 1 Axes>"
      ]
     },
     "metadata": {},
     "output_type": "display_data"
    }
   ],
   "source": [
    "nx.draw(graph, node_coords_dict,labels=labels)"
   ]
  },
  {
   "cell_type": "code",
   "execution_count": null,
   "metadata": {},
   "outputs": [],
   "source": []
  }
 ],
 "metadata": {
  "kernelspec": {
   "display_name": "Python 3 (ipykernel)",
   "language": "python",
   "name": "python3"
  },
  "language_info": {
   "codemirror_mode": {
    "name": "ipython",
    "version": 3
   },
   "file_extension": ".py",
   "mimetype": "text/x-python",
   "name": "python",
   "nbconvert_exporter": "python",
   "pygments_lexer": "ipython3",
   "version": "3.9.6"
  }
 },
 "nbformat": 4,
 "nbformat_minor": 4
}
