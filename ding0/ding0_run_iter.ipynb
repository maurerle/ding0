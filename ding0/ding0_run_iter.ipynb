{
 "cells": [
  {
   "cell_type": "code",
   "execution_count": 1,
   "metadata": {},
   "outputs": [],
   "source": [
    "import warnings\n",
    "\n",
    "from pandas.core.common import SettingWithCopyWarning\n",
    "\n",
    "warnings.simplefilter(action=\"ignore\", category=SettingWithCopyWarning)"
   ]
  },
  {
   "cell_type": "code",
   "execution_count": 2,
   "metadata": {},
   "outputs": [],
   "source": [
    "%%capture\n",
    "\n",
    "from ding0.core import NetworkDing0\n",
    "from ding0.tools.logger import setup_logger\n",
    "from ding0.tools.results import save_nd_to_pickle\n",
    "from ding0.tools.plots import plot_mv_topology\n",
    "from egoio.tools import db\n",
    "from sqlalchemy.orm import sessionmaker\n",
    "import oedialect\n",
    "\n",
    "from ding0.tools import results # to load pickl file\n",
    "\n",
    "\n",
    "# create new network\n",
    "nd = NetworkDing0(name='network')\n",
    "\n",
    "\n",
    "# set ID of MV grid district\n",
    "mv_grid_districts = [40] # fn 40, 912"
   ]
  },
  {
   "cell_type": "markdown",
   "metadata": {},
   "source": [
    "#### SET DING0 SETTINGS"
   ]
  },
  {
   "cell_type": "code",
   "execution_count": 3,
   "metadata": {},
   "outputs": [],
   "source": [
    "# TODO set in config file\n",
    "ding0_default=True\n",
    "retain_all=False #  weil sonst graphen außerhalb des polys unverbunden zum graphen beibehalten werden"
   ]
  },
  {
   "cell_type": "code",
   "execution_count": 4,
   "metadata": {},
   "outputs": [],
   "source": [
    "engine = db.connection(section='oedb_dialect', readonly=True)\n",
    "session = sessionmaker(bind=engine)()"
   ]
  },
  {
   "cell_type": "code",
   "execution_count": 5,
   "metadata": {},
   "outputs": [
    {
     "name": "stderr",
     "output_type": "stream",
     "text": [
      "=====> MV Grid Districts imported\n"
     ]
    },
    {
     "name": "stdout",
     "output_type": "stream",
     "text": [
      "Wall time: 8.72 s\n"
     ]
    }
   ],
   "source": [
    "%%time\n",
    "\n",
    "# STEP 1\n",
    "nd.import_mv_grid_districts(session, mv_grid_districts_no=mv_grid_districts, ding0_default=ding0_default, need_parameterization=True)"
   ]
  },
  {
   "cell_type": "code",
   "execution_count": 13,
   "metadata": {},
   "outputs": [
    {
     "data": {
      "text/html": [
       "<div>\n",
       "<style scoped>\n",
       "    .dataframe tbody tr th:only-of-type {\n",
       "        vertical-align: middle;\n",
       "    }\n",
       "\n",
       "    .dataframe tbody tr th {\n",
       "        vertical-align: top;\n",
       "    }\n",
       "\n",
       "    .dataframe thead th {\n",
       "        text-align: right;\n",
       "    }\n",
       "</style>\n",
       "<table border=\"1\" class=\"dataframe\">\n",
       "  <thead>\n",
       "    <tr style=\"text-align: right;\">\n",
       "      <th></th>\n",
       "      <th>name</th>\n",
       "      <th>U_n</th>\n",
       "      <th>I_max_th</th>\n",
       "      <th>R_per_km</th>\n",
       "      <th>L_per_km</th>\n",
       "      <th>C_per_km</th>\n",
       "      <th>reinforce_only</th>\n",
       "    </tr>\n",
       "  </thead>\n",
       "  <tbody>\n",
       "    <tr>\n",
       "      <th>0</th>\n",
       "      <td>NA2XS2Y 3x1x185 RM/25</td>\n",
       "      <td>10</td>\n",
       "      <td>357</td>\n",
       "      <td>0.164</td>\n",
       "      <td>0.3800</td>\n",
       "      <td>0.410</td>\n",
       "      <td>0</td>\n",
       "    </tr>\n",
       "    <tr>\n",
       "      <th>1</th>\n",
       "      <td>NA2XS2Y 3x1x240 RM/25</td>\n",
       "      <td>10</td>\n",
       "      <td>417</td>\n",
       "      <td>0.125</td>\n",
       "      <td>0.3600</td>\n",
       "      <td>0.470</td>\n",
       "      <td>0</td>\n",
       "    </tr>\n",
       "    <tr>\n",
       "      <th>5</th>\n",
       "      <td>NA2XS2Y 3x1x150 RE/25</td>\n",
       "      <td>20</td>\n",
       "      <td>319</td>\n",
       "      <td>0.206</td>\n",
       "      <td>0.4011</td>\n",
       "      <td>0.240</td>\n",
       "      <td>0</td>\n",
       "    </tr>\n",
       "    <tr>\n",
       "      <th>6</th>\n",
       "      <td>NA2XS2Y 3x1x240</td>\n",
       "      <td>20</td>\n",
       "      <td>417</td>\n",
       "      <td>0.130</td>\n",
       "      <td>0.3597</td>\n",
       "      <td>0.304</td>\n",
       "      <td>0</td>\n",
       "    </tr>\n",
       "  </tbody>\n",
       "</table>\n",
       "</div>"
      ],
      "text/plain": [
       "                    name  U_n  I_max_th  R_per_km  L_per_km  C_per_km  \\\n",
       "0  NA2XS2Y 3x1x185 RM/25   10       357     0.164    0.3800     0.410   \n",
       "1  NA2XS2Y 3x1x240 RM/25   10       417     0.125    0.3600     0.470   \n",
       "5  NA2XS2Y 3x1x150 RE/25   20       319     0.206    0.4011     0.240   \n",
       "6        NA2XS2Y 3x1x240   20       417     0.130    0.3597     0.304   \n",
       "\n",
       "   reinforce_only  \n",
       "0               0  \n",
       "1               0  \n",
       "5               0  \n",
       "6               0  "
      ]
     },
     "execution_count": 13,
     "metadata": {},
     "output_type": "execute_result"
    }
   ],
   "source": [
    "mvc = nd._mv_grid_districts[0]._lv_load_areas[0]._lv_grid_districts[0].lv_grid.network.static_data['MV_cables']\n",
    "mvc.loc[mvc.reinforce_only == 0]"
   ]
  },
  {
   "cell_type": "code",
   "execution_count": 6,
   "metadata": {},
   "outputs": [
    {
     "name": "stderr",
     "output_type": "stream",
     "text": [
      "Generator Generator_mvgd_40_lvgd_420271_hydro_232524 has no la_id and was assigned to a random LV Grid District (lv_grid_district_420271).\n",
      "Generator Generator_mvgd_40_lvgd_4116_hydro_232525 has no la_id and was assigned to a random LV Grid District (lv_grid_district_4116).\n",
      "Generator Generator_mvgd_40_lvgd_4106_hydro_232528 has no la_id and was assigned to a random LV Grid District (lv_grid_district_4106).\n",
      "Generator Generator_mvgd_40_lvgd_418188_hydro_232529 has no la_id and was assigned to a random LV Grid District (lv_grid_district_418188).\n",
      "Generator Generator_mvgd_40_lvgd_420151_hydro_232831 has no la_id and was assigned to a random LV Grid District (lv_grid_district_420151).\n"
     ]
    }
   ],
   "source": [
    "# STEP 2\n",
    "nd.import_generators(session, debug=False)"
   ]
  },
  {
   "cell_type": "code",
   "execution_count": 7,
   "metadata": {},
   "outputs": [
    {
     "name": "stdout",
     "output_type": "stream",
     "text": [
      "Wall time: 21.2 s\n"
     ]
    }
   ],
   "source": [
    "%%time\n",
    "\n",
    "# STEP 3\n",
    "nd.mv_parametrize_grid(debug=False)"
   ]
  },
  {
   "cell_type": "code",
   "execution_count": 8,
   "metadata": {},
   "outputs": [
    {
     "name": "stderr",
     "output_type": "stream",
     "text": [
      "\n"
     ]
    },
    {
     "data": {
      "text/plain": [
       "[]"
      ]
     },
     "execution_count": 8,
     "metadata": {},
     "output_type": "execute_result"
    }
   ],
   "source": [
    "# STEP 4: Validate MV Grid Districts\n",
    "msg = nd.validate_grid_districts()\n",
    "msg"
   ]
  },
  {
   "cell_type": "code",
   "execution_count": 9,
   "metadata": {},
   "outputs": [],
   "source": [
    "nd.build_lv_grids()"
   ]
  },
  {
   "cell_type": "code",
   "execution_count": 48,
   "metadata": {},
   "outputs": [
    {
     "name": "stderr",
     "output_type": "stream",
     "text": [
      "Geo distance is zero, check objects' positions. Distance is set to 1m\n",
      "Geo distance is zero, check objects' positions. Distance is set to 1m\n",
      "Geo distance is zero, check objects' positions. Distance is set to 1m\n",
      "Geo distance is zero, check objects' positions. Distance is set to 1m\n",
      "No valid conn. target found for Generator_mvgd_40_lvgd_419907_solar_ground_mounted_235013.Connected to LVStation_mvgd_40_lvgd_419907.\n",
      "No valid conn. target found for Generator_mvgd_40_lvgd_2873_solar_ground_mounted_232624.Connected to LVStation_mvgd_40_lvgd_2873.\n",
      "No valid conn. target found for Generator_mvgd_40_lvgd_419464_solar_ground_mounted_232678.Connected to LVStation_mvgd_40_lvgd_419464.\n",
      "No valid conn. target found for Generator_mvgd_40_lvgd_3053_solar_roof_mounted_233000.Connected to LVStation_mvgd_40_lvgd_3053.\n",
      "No valid conn. target found for Generator_mvgd_40_lvgd_3053_solar_roof_mounted_233097.Connected to LVStation_mvgd_40_lvgd_3053.\n",
      "No valid conn. target found for Generator_mvgd_40_lvgd_420676_solar_roof_mounted_233083.Connected to LVStation_mvgd_40_lvgd_420676.\n",
      "No valid conn. target found for Generator_mvgd_40_lvgd_3090_solar_ground_mounted_232747.Connected to LVStation_mvgd_40_lvgd_3090.\n",
      "No valid conn. target found for Generator_mvgd_40_lvgd_3090_solar_roof_mounted_232817.Connected to LVStation_mvgd_40_lvgd_3090.\n",
      "No valid conn. target found for Generator_mvgd_40_lvgd_3091_solar_roof_mounted_232968.Connected to LVStation_mvgd_40_lvgd_3091.\n",
      "No valid conn. target found for Generator_mvgd_40_lvgd_3091_solar_roof_mounted_233053.Connected to LVStation_mvgd_40_lvgd_3091.\n",
      "No valid conn. target found for Generator_mvgd_40_lvgd_3092_solar_ground_mounted_235051.Connected to LVStation_mvgd_40_lvgd_3092.\n",
      "No valid conn. target found for Generator_mvgd_40_lvgd_3092_solar_ground_mounted_235065.Connected to LVStation_mvgd_40_lvgd_3092.\n",
      "No valid conn. target found for Generator_mvgd_40_lvgd_3092_solar_roof_mounted_1605823.Connected to LVStation_mvgd_40_lvgd_3092.\n",
      "No valid conn. target found for Generator_mvgd_40_lvgd_3092_solar_roof_mounted_232787.Connected to LVStation_mvgd_40_lvgd_3092.\n",
      "No valid conn. target found for Generator_mvgd_40_lvgd_3092_solar_roof_mounted_232810.Connected to LVStation_mvgd_40_lvgd_3092.\n",
      "No valid conn. target found for Generator_mvgd_40_lvgd_3092_solar_roof_mounted_232832.Connected to LVStation_mvgd_40_lvgd_3092.\n",
      "No valid conn. target found for Generator_mvgd_40_lvgd_3092_solar_roof_mounted_232889.Connected to LVStation_mvgd_40_lvgd_3092.\n",
      "No valid conn. target found for Generator_mvgd_40_lvgd_3092_solar_roof_mounted_233102.Connected to LVStation_mvgd_40_lvgd_3092.\n",
      "No valid conn. target found for Generator_mvgd_40_lvgd_3093_solar_ground_mounted_232727.Connected to LVStation_mvgd_40_lvgd_3093.\n",
      "No valid conn. target found for Generator_mvgd_40_lvgd_3093_solar_ground_mounted_235023.Connected to LVStation_mvgd_40_lvgd_3093.\n",
      "No valid conn. target found for Generator_mvgd_40_lvgd_3093_solar_roof_mounted_232998.Connected to LVStation_mvgd_40_lvgd_3093.\n",
      "No valid conn. target found for Generator_mvgd_40_lvgd_3093_solar_roof_mounted_233004.Connected to LVStation_mvgd_40_lvgd_3093.\n",
      "No valid conn. target found for Generator_mvgd_40_lvgd_3094_solar_ground_mounted_232571.Connected to LVStation_mvgd_40_lvgd_3094.\n",
      "No valid conn. target found for Generator_mvgd_40_lvgd_3094_solar_ground_mounted_232776.Connected to LVStation_mvgd_40_lvgd_3094.\n",
      "No valid conn. target found for Generator_mvgd_40_lvgd_3094_solar_ground_mounted_235033.Connected to LVStation_mvgd_40_lvgd_3094.\n",
      "No valid conn. target found for Generator_mvgd_40_lvgd_3094_solar_ground_mounted_235037.Connected to LVStation_mvgd_40_lvgd_3094.\n",
      "No valid conn. target found for Generator_mvgd_40_lvgd_3094_solar_roof_mounted_232814.Connected to LVStation_mvgd_40_lvgd_3094.\n",
      "No valid conn. target found for Generator_mvgd_40_lvgd_3094_solar_roof_mounted_232830.Connected to LVStation_mvgd_40_lvgd_3094.\n",
      "No valid conn. target found for Generator_mvgd_40_lvgd_3094_solar_roof_mounted_232879.Connected to LVStation_mvgd_40_lvgd_3094.\n",
      "No valid conn. target found for Generator_mvgd_40_lvgd_3094_solar_roof_mounted_232938.Connected to LVStation_mvgd_40_lvgd_3094.\n",
      "No valid conn. target found for Generator_mvgd_40_lvgd_3094_solar_roof_mounted_233099.Connected to LVStation_mvgd_40_lvgd_3094.\n",
      "No valid conn. target found for Generator_mvgd_40_lvgd_3094_solar_roof_mounted_233120.Connected to LVStation_mvgd_40_lvgd_3094.\n",
      "No valid conn. target found for Generator_mvgd_40_lvgd_3095_solar_ground_mounted_232676.Connected to LVStation_mvgd_40_lvgd_3095.\n",
      "No valid conn. target found for Generator_mvgd_40_lvgd_3095_solar_ground_mounted_232698.Connected to LVStation_mvgd_40_lvgd_3095.\n",
      "No valid conn. target found for Generator_mvgd_40_lvgd_3095_solar_ground_mounted_232739.Connected to LVStation_mvgd_40_lvgd_3095.\n",
      "No valid conn. target found for Generator_mvgd_40_lvgd_3095_solar_roof_mounted_232849.Connected to LVStation_mvgd_40_lvgd_3095.\n",
      "No valid conn. target found for Generator_mvgd_40_lvgd_3095_solar_roof_mounted_233126.Connected to LVStation_mvgd_40_lvgd_3095.\n",
      "No valid conn. target found for Generator_mvgd_40_lvgd_3096_solar_ground_mounted_234994.Connected to LVStation_mvgd_40_lvgd_3096.\n",
      "No valid conn. target found for Generator_mvgd_40_lvgd_3096_solar_ground_mounted_235016.Connected to LVStation_mvgd_40_lvgd_3096.\n",
      "No valid conn. target found for Generator_mvgd_40_lvgd_3096_solar_ground_mounted_235038.Connected to LVStation_mvgd_40_lvgd_3096.\n",
      "No valid conn. target found for Generator_mvgd_40_lvgd_3096_solar_ground_mounted_235075.Connected to LVStation_mvgd_40_lvgd_3096.\n",
      "No valid conn. target found for Generator_mvgd_40_lvgd_3096_solar_roof_mounted_1600690.Connected to LVStation_mvgd_40_lvgd_3096.\n",
      "No valid conn. target found for Generator_mvgd_40_lvgd_3096_solar_roof_mounted_233015.Connected to LVStation_mvgd_40_lvgd_3096.\n",
      "No valid conn. target found for Generator_mvgd_40_lvgd_3096_solar_roof_mounted_233019.Connected to LVStation_mvgd_40_lvgd_3096.\n",
      "No valid conn. target found for Generator_mvgd_40_lvgd_3097_solar_ground_mounted_232581.Connected to LVStation_mvgd_40_lvgd_3097.\n",
      "No valid conn. target found for Generator_mvgd_40_lvgd_3097_solar_ground_mounted_232658.Connected to LVStation_mvgd_40_lvgd_3097.\n",
      "No valid conn. target found for Generator_mvgd_40_lvgd_3097_solar_ground_mounted_232682.Connected to LVStation_mvgd_40_lvgd_3097.\n",
      "No valid conn. target found for Generator_mvgd_40_lvgd_3097_solar_ground_mounted_234995.Connected to LVStation_mvgd_40_lvgd_3097.\n",
      "No valid conn. target found for Generator_mvgd_40_lvgd_3097_solar_roof_mounted_232782.Connected to LVStation_mvgd_40_lvgd_3097.\n",
      "No valid conn. target found for Generator_mvgd_40_lvgd_3097_solar_roof_mounted_232903.Connected to LVStation_mvgd_40_lvgd_3097.\n",
      "No valid conn. target found for Generator_mvgd_40_lvgd_3097_solar_roof_mounted_232989.Connected to LVStation_mvgd_40_lvgd_3097.\n",
      "No valid conn. target found for Generator_mvgd_40_lvgd_3098_solar_ground_mounted_232579.Connected to LVStation_mvgd_40_lvgd_3098.\n",
      "No valid conn. target found for Generator_mvgd_40_lvgd_3098_solar_ground_mounted_232691.Connected to LVStation_mvgd_40_lvgd_3098.\n",
      "No valid conn. target found for Generator_mvgd_40_lvgd_3098_solar_roof_mounted_232915.Connected to LVStation_mvgd_40_lvgd_3098.\n",
      "No valid conn. target found for Generator_mvgd_40_lvgd_3098_solar_roof_mounted_233151.Connected to LVStation_mvgd_40_lvgd_3098.\n",
      "No valid conn. target found for Generator_mvgd_40_lvgd_3099_solar_ground_mounted_232665.Connected to LVStation_mvgd_40_lvgd_3099.\n",
      "No valid conn. target found for Generator_mvgd_40_lvgd_3099_solar_ground_mounted_232716.Connected to LVStation_mvgd_40_lvgd_3099.\n",
      "No valid conn. target found for Generator_mvgd_40_lvgd_3099_solar_ground_mounted_232762.Connected to LVStation_mvgd_40_lvgd_3099.\n",
      "No valid conn. target found for Generator_mvgd_40_lvgd_3099_solar_ground_mounted_235032.Connected to LVStation_mvgd_40_lvgd_3099.\n",
      "No valid conn. target found for Generator_mvgd_40_lvgd_3099_solar_roof_mounted_1589771.Connected to LVStation_mvgd_40_lvgd_3099.\n",
      "No valid conn. target found for Generator_mvgd_40_lvgd_3099_solar_roof_mounted_232841.Connected to LVStation_mvgd_40_lvgd_3099.\n",
      "No valid conn. target found for Generator_mvgd_40_lvgd_3099_solar_roof_mounted_235179.Connected to LVStation_mvgd_40_lvgd_3099.\n",
      "No valid conn. target found for Generator_mvgd_40_lvgd_483011_solar_ground_mounted_232616.Connected to LVStation_mvgd_40_lvgd_483011.\n",
      "No valid conn. target found for Generator_mvgd_40_lvgd_483011_solar_ground_mounted_232663.Connected to LVStation_mvgd_40_lvgd_483011.\n",
      "No valid conn. target found for Generator_mvgd_40_lvgd_3141_solar_roof_mounted_232803.Connected to LVStation_mvgd_40_lvgd_3141.\n",
      "No valid conn. target found for Generator_mvgd_40_lvgd_3143_solar_roof_mounted_233031.Connected to LVStation_mvgd_40_lvgd_3143.\n",
      "No valid conn. target found for Generator_mvgd_40_lvgd_3309_solar_roof_mounted_1565746.Connected to LVStation_mvgd_40_lvgd_3309.\n",
      "No valid conn. target found for Generator_mvgd_40_lvgd_3310_solar_ground_mounted_232692.Connected to LVStation_mvgd_40_lvgd_3310.\n",
      "No valid conn. target found for Generator_mvgd_40_lvgd_3310_solar_roof_mounted_232929.Connected to LVStation_mvgd_40_lvgd_3310.\n",
      "No valid conn. target found for Generator_mvgd_40_lvgd_3310_solar_roof_mounted_232933.Connected to LVStation_mvgd_40_lvgd_3310.\n",
      "No valid conn. target found for Generator_mvgd_40_lvgd_3310_solar_roof_mounted_232994.Connected to LVStation_mvgd_40_lvgd_3310.\n",
      "No valid conn. target found for Generator_mvgd_40_lvgd_3310_solar_roof_mounted_233100.Connected to LVStation_mvgd_40_lvgd_3310.\n",
      "No valid conn. target found for Generator_mvgd_40_lvgd_3310_solar_roof_mounted_233111.Connected to LVStation_mvgd_40_lvgd_3310.\n",
      "No valid conn. target found for Generator_mvgd_40_lvgd_3310_solar_roof_mounted_233168.Connected to LVStation_mvgd_40_lvgd_3310.\n",
      "No valid conn. target found for Generator_mvgd_40_lvgd_3311_solar_ground_mounted_232530.Connected to LVStation_mvgd_40_lvgd_3311.\n",
      "No valid conn. target found for Generator_mvgd_40_lvgd_3311_solar_ground_mounted_235083.Connected to LVStation_mvgd_40_lvgd_3311.\n",
      "No valid conn. target found for Generator_mvgd_40_lvgd_3311_solar_roof_mounted_232936.Connected to LVStation_mvgd_40_lvgd_3311.\n",
      "No valid conn. target found for Generator_mvgd_40_lvgd_3311_solar_roof_mounted_233154.Connected to LVStation_mvgd_40_lvgd_3311.\n",
      "No valid conn. target found for Generator_mvgd_40_lvgd_3311_solar_roof_mounted_235112.Connected to LVStation_mvgd_40_lvgd_3311.\n",
      "No valid conn. target found for Generator_mvgd_40_lvgd_3312_solar_ground_mounted_232539.Connected to LVStation_mvgd_40_lvgd_3312.\n",
      "No valid conn. target found for Generator_mvgd_40_lvgd_3312_solar_ground_mounted_232542.Connected to LVStation_mvgd_40_lvgd_3312.\n",
      "No valid conn. target found for Generator_mvgd_40_lvgd_3312_solar_ground_mounted_232770.Connected to LVStation_mvgd_40_lvgd_3312.\n",
      "No valid conn. target found for Generator_mvgd_40_lvgd_3312_solar_ground_mounted_235000.Connected to LVStation_mvgd_40_lvgd_3312.\n",
      "No valid conn. target found for Generator_mvgd_40_lvgd_3312_solar_roof_mounted_233060.Connected to LVStation_mvgd_40_lvgd_3312.\n",
      "No valid conn. target found for Generator_mvgd_40_lvgd_3312_solar_roof_mounted_233084.Connected to LVStation_mvgd_40_lvgd_3312.\n",
      "No valid conn. target found for Generator_mvgd_40_lvgd_3312_solar_roof_mounted_233122.Connected to LVStation_mvgd_40_lvgd_3312.\n",
      "No valid conn. target found for Generator_mvgd_40_lvgd_3312_solar_roof_mounted_233185.Connected to LVStation_mvgd_40_lvgd_3312.\n",
      "No valid conn. target found for Generator_mvgd_40_lvgd_3312_solar_roof_mounted_235090.Connected to LVStation_mvgd_40_lvgd_3312.\n",
      "No valid conn. target found for Generator_mvgd_40_lvgd_3313_solar_ground_mounted_235036.Connected to LVStation_mvgd_40_lvgd_3313.\n",
      "No valid conn. target found for Generator_mvgd_40_lvgd_3313_solar_roof_mounted_1608284.Connected to LVStation_mvgd_40_lvgd_3313.\n",
      "No valid conn. target found for Generator_mvgd_40_lvgd_3313_solar_roof_mounted_235088.Connected to LVStation_mvgd_40_lvgd_3313.\n",
      "No valid conn. target found for Generator_mvgd_40_lvgd_3313_solar_roof_mounted_235167.Connected to LVStation_mvgd_40_lvgd_3313.\n",
      "No valid conn. target found for Generator_mvgd_40_lvgd_3314_solar_ground_mounted_232640.Connected to LVStation_mvgd_40_lvgd_3314.\n",
      "No valid conn. target found for Generator_mvgd_40_lvgd_3314_solar_ground_mounted_232772.Connected to LVStation_mvgd_40_lvgd_3314.\n",
      "No valid conn. target found for Generator_mvgd_40_lvgd_3314_solar_ground_mounted_234998.Connected to LVStation_mvgd_40_lvgd_3314.\n",
      "No valid conn. target found for Generator_mvgd_40_lvgd_3314_solar_roof_mounted_232982.Connected to LVStation_mvgd_40_lvgd_3314.\n",
      "No valid conn. target found for Generator_mvgd_40_lvgd_3315_solar_ground_mounted_232587.Connected to LVStation_mvgd_40_lvgd_3315.\n",
      "No valid conn. target found for Generator_mvgd_40_lvgd_3315_solar_ground_mounted_232695.Connected to LVStation_mvgd_40_lvgd_3315.\n",
      "No valid conn. target found for Generator_mvgd_40_lvgd_3315_solar_ground_mounted_235056.Connected to LVStation_mvgd_40_lvgd_3315.\n",
      "No valid conn. target found for Generator_mvgd_40_lvgd_3315_solar_roof_mounted_232894.Connected to LVStation_mvgd_40_lvgd_3315.\n",
      "No valid conn. target found for Generator_mvgd_40_lvgd_3315_solar_roof_mounted_233162.Connected to LVStation_mvgd_40_lvgd_3315.\n",
      "No valid conn. target found for Generator_mvgd_40_lvgd_3316_solar_ground_mounted_235031.Connected to LVStation_mvgd_40_lvgd_3316.\n",
      "No valid conn. target found for Generator_mvgd_40_lvgd_3316_solar_roof_mounted_232949.Connected to LVStation_mvgd_40_lvgd_3316.\n",
      "No valid conn. target found for Generator_mvgd_40_lvgd_3316_solar_roof_mounted_232979.Connected to LVStation_mvgd_40_lvgd_3316.\n",
      "No valid conn. target found for Generator_mvgd_40_lvgd_3317_solar_ground_mounted_232536.Connected to LVStation_mvgd_40_lvgd_3317.\n",
      "No valid conn. target found for Generator_mvgd_40_lvgd_3317_solar_ground_mounted_232741.Connected to LVStation_mvgd_40_lvgd_3317.\n",
      "No valid conn. target found for Generator_mvgd_40_lvgd_3317_solar_roof_mounted_1599922.Connected to LVStation_mvgd_40_lvgd_3317.\n",
      "No valid conn. target found for Generator_mvgd_40_lvgd_3317_solar_roof_mounted_1604584.Connected to LVStation_mvgd_40_lvgd_3317.\n",
      "No valid conn. target found for Generator_mvgd_40_lvgd_3317_solar_roof_mounted_232806.Connected to LVStation_mvgd_40_lvgd_3317.\n",
      "No valid conn. target found for Generator_mvgd_40_lvgd_3317_solar_roof_mounted_233091.Connected to LVStation_mvgd_40_lvgd_3317.\n",
      "No valid conn. target found for Generator_mvgd_40_lvgd_3317_solar_roof_mounted_235162.Connected to LVStation_mvgd_40_lvgd_3317.\n",
      "No valid conn. target found for Generator_mvgd_40_lvgd_420075_solar_ground_mounted_232526.Connected to LVStation_mvgd_40_lvgd_420075.\n",
      "No valid conn. target found for Generator_mvgd_40_lvgd_420075_solar_ground_mounted_232637.Connected to LVStation_mvgd_40_lvgd_420075.\n",
      "No valid conn. target found for Generator_mvgd_40_lvgd_420075_solar_ground_mounted_235057.Connected to LVStation_mvgd_40_lvgd_420075.\n",
      "No valid conn. target found for Generator_mvgd_40_lvgd_420075_solar_roof_mounted_1582385.Connected to LVStation_mvgd_40_lvgd_420075.\n",
      "No valid conn. target found for Generator_mvgd_40_lvgd_420075_solar_roof_mounted_233195.Connected to LVStation_mvgd_40_lvgd_420075.\n",
      "No valid conn. target found for Generator_mvgd_40_lvgd_420271_biogas_233051.Connected to LVStation_mvgd_40_lvgd_420271.\n",
      "No valid conn. target found for Generator_mvgd_40_lvgd_420271_hydro_232524.Connected to LVStation_mvgd_40_lvgd_420271.\n",
      "No valid conn. target found for Generator_mvgd_40_lvgd_420271_solar_ground_mounted_232669.Connected to LVStation_mvgd_40_lvgd_420271.\n",
      "No valid conn. target found for Generator_mvgd_40_lvgd_420271_solar_roof_mounted_235181.Connected to LVStation_mvgd_40_lvgd_420271.\n",
      "No valid conn. target found for Generator_mvgd_40_lvgd_3428_biogas_232551.Connected to LVStation_mvgd_40_lvgd_3428.\n",
      "No valid conn. target found for Generator_mvgd_40_lvgd_3428_solar_roof_mounted_233054.Connected to LVStation_mvgd_40_lvgd_3428.\n",
      "No valid conn. target found for Generator_mvgd_40_lvgd_420545_solar_ground_mounted_232635.Connected to LVStation_mvgd_40_lvgd_420545.\n",
      "No valid conn. target found for Generator_mvgd_40_lvgd_420545_solar_ground_mounted_232768.Connected to LVStation_mvgd_40_lvgd_420545.\n",
      "No valid conn. target found for Generator_mvgd_40_lvgd_3524_solar_ground_mounted_232534.Connected to LVStation_mvgd_40_lvgd_3524.\n",
      "No valid conn. target found for Generator_mvgd_40_lvgd_3524_solar_roof_mounted_233118.Connected to LVStation_mvgd_40_lvgd_3524.\n",
      "No valid conn. target found for Generator_mvgd_40_lvgd_420403_solar_ground_mounted_232759.Connected to LVStation_mvgd_40_lvgd_420403.\n",
      "No valid conn. target found for Generator_mvgd_40_lvgd_420403_solar_ground_mounted_235040.Connected to LVStation_mvgd_40_lvgd_420403.\n",
      "No valid conn. target found for Generator_mvgd_40_lvgd_420403_solar_ground_mounted_235087.Connected to LVStation_mvgd_40_lvgd_420403.\n",
      "No valid conn. target found for Generator_mvgd_40_lvgd_420403_solar_roof_mounted_232846.Connected to LVStation_mvgd_40_lvgd_420403.\n",
      "No valid conn. target found for Generator_mvgd_40_lvgd_3525_solar_roof_mounted_233032.Connected to LVStation_mvgd_40_lvgd_3525.\n",
      "No valid conn. target found for Generator_mvgd_40_lvgd_3528_solar_roof_mounted_233094.Connected to LVStation_mvgd_40_lvgd_3528.\n",
      "No valid conn. target found for Generator_mvgd_40_lvgd_483014_solar_roof_mounted_232838.Connected to LVStation_mvgd_40_lvgd_483014.\n",
      "No valid conn. target found for Generator_mvgd_40_lvgd_419972_solar_ground_mounted_232701.Connected to LVStation_mvgd_40_lvgd_419972.\n",
      "No valid conn. target found for Generator_mvgd_40_lvgd_419972_solar_roof_mounted_232996.Connected to LVStation_mvgd_40_lvgd_419972.\n",
      "No valid conn. target found for Generator_mvgd_40_lvgd_419803_solar_roof_mounted_233136.Connected to LVStation_mvgd_40_lvgd_419803.\n",
      "No valid conn. target found for Generator_mvgd_40_lvgd_419803_solar_roof_mounted_233163.Connected to LVStation_mvgd_40_lvgd_419803.\n",
      "No valid conn. target found for Generator_mvgd_40_lvgd_419522_solar_ground_mounted_235074.Connected to LVStation_mvgd_40_lvgd_419522.\n",
      "No valid conn. target found for Generator_mvgd_40_lvgd_420126_solar_roof_mounted_233096.Connected to LVStation_mvgd_40_lvgd_420126.\n",
      "No valid conn. target found for Generator_mvgd_40_lvgd_3840_solar_ground_mounted_232696.Connected to LVStation_mvgd_40_lvgd_3840.\n",
      "No valid conn. target found for Generator_mvgd_40_lvgd_3840_solar_ground_mounted_235058.Connected to LVStation_mvgd_40_lvgd_3840.\n",
      "No valid conn. target found for Generator_mvgd_40_lvgd_3840_solar_roof_mounted_233109.Connected to LVStation_mvgd_40_lvgd_3840.\n",
      "No valid conn. target found for Generator_mvgd_40_lvgd_3840_solar_roof_mounted_235124.Connected to LVStation_mvgd_40_lvgd_3840.\n",
      "No valid conn. target found for Generator_mvgd_40_lvgd_419745_biogas_233057.Connected to LVStation_mvgd_40_lvgd_419745.\n",
      "No valid conn. target found for Generator_mvgd_40_lvgd_419795_solar_roof_mounted_232923.Connected to LVStation_mvgd_40_lvgd_419795.\n",
      "No valid conn. target found for Generator_mvgd_40_lvgd_419606_solar_ground_mounted_232615.Connected to LVStation_mvgd_40_lvgd_419606.\n",
      "No valid conn. target found for Generator_mvgd_40_lvgd_419606_solar_ground_mounted_232731.Connected to LVStation_mvgd_40_lvgd_419606.\n",
      "No valid conn. target found for Generator_mvgd_40_lvgd_419606_solar_roof_mounted_235180.Connected to LVStation_mvgd_40_lvgd_419606.\n",
      "No valid conn. target found for Generator_mvgd_40_lvgd_4315_solar_ground_mounted_232601.Connected to LVStation_mvgd_40_lvgd_4315.\n",
      "No valid conn. target found for Generator_mvgd_40_lvgd_4315_solar_ground_mounted_232734.Connected to LVStation_mvgd_40_lvgd_4315.\n",
      "No valid conn. target found for Generator_mvgd_40_lvgd_4315_solar_ground_mounted_232758.Connected to LVStation_mvgd_40_lvgd_4315.\n",
      "No valid conn. target found for Generator_mvgd_40_lvgd_4315_solar_roof_mounted_232911.Connected to LVStation_mvgd_40_lvgd_4315.\n",
      "No valid conn. target found for Generator_mvgd_40_lvgd_4315_solar_roof_mounted_233098.Connected to LVStation_mvgd_40_lvgd_4315.\n",
      "No valid conn. target found for Generator_mvgd_40_lvgd_4315_solar_roof_mounted_233112.Connected to LVStation_mvgd_40_lvgd_4315.\n",
      "No valid conn. target found for Generator_mvgd_40_lvgd_4315_solar_roof_mounted_233121.Connected to LVStation_mvgd_40_lvgd_4315.\n",
      "No valid conn. target found for Generator_mvgd_40_lvgd_4315_solar_roof_mounted_235153.Connected to LVStation_mvgd_40_lvgd_4315.\n",
      "No valid conn. target found for Generator_mvgd_40_lvgd_4316_solar_ground_mounted_235068.Connected to LVStation_mvgd_40_lvgd_4316.\n",
      "No valid conn. target found for Generator_mvgd_40_lvgd_4316_solar_ground_mounted_235079.Connected to LVStation_mvgd_40_lvgd_4316.\n",
      "No valid conn. target found for Generator_mvgd_40_lvgd_4316_solar_roof_mounted_232908.Connected to LVStation_mvgd_40_lvgd_4316.\n",
      "No valid conn. target found for Generator_mvgd_40_lvgd_4316_solar_roof_mounted_233049.Connected to LVStation_mvgd_40_lvgd_4316.\n",
      "No valid conn. target found for Generator_mvgd_40_lvgd_4317_solar_ground_mounted_232721.Connected to LVStation_mvgd_40_lvgd_4317.\n",
      "No valid conn. target found for Generator_mvgd_40_lvgd_4317_solar_ground_mounted_232722.Connected to LVStation_mvgd_40_lvgd_4317.\n",
      "No valid conn. target found for Generator_mvgd_40_lvgd_4317_solar_ground_mounted_232761.Connected to LVStation_mvgd_40_lvgd_4317.\n",
      "No valid conn. target found for Generator_mvgd_40_lvgd_4317_solar_ground_mounted_235063.Connected to LVStation_mvgd_40_lvgd_4317.\n",
      "No valid conn. target found for Generator_mvgd_40_lvgd_4317_solar_roof_mounted_232781.Connected to LVStation_mvgd_40_lvgd_4317.\n",
      "No valid conn. target found for Generator_mvgd_40_lvgd_4317_solar_roof_mounted_233039.Connected to LVStation_mvgd_40_lvgd_4317.\n",
      "No valid conn. target found for Generator_mvgd_40_lvgd_4317_solar_roof_mounted_235103.Connected to LVStation_mvgd_40_lvgd_4317.\n",
      "No valid conn. target found for Generator_mvgd_40_lvgd_4318_solar_ground_mounted_232533.Connected to LVStation_mvgd_40_lvgd_4318.\n",
      "No valid conn. target found for Generator_mvgd_40_lvgd_4318_solar_ground_mounted_232752.Connected to LVStation_mvgd_40_lvgd_4318.\n",
      "No valid conn. target found for Generator_mvgd_40_lvgd_4318_solar_ground_mounted_235028.Connected to LVStation_mvgd_40_lvgd_4318.\n",
      "No valid conn. target found for Generator_mvgd_40_lvgd_4318_solar_roof_mounted_232971.Connected to LVStation_mvgd_40_lvgd_4318.\n",
      "No valid conn. target found for Generator_mvgd_40_lvgd_4318_solar_roof_mounted_233081.Connected to LVStation_mvgd_40_lvgd_4318.\n",
      "No valid conn. target found for Generator_mvgd_40_lvgd_4318_solar_roof_mounted_235091.Connected to LVStation_mvgd_40_lvgd_4318.\n",
      "No valid conn. target found for Generator_mvgd_40_lvgd_4319_solar_ground_mounted_232552.Connected to LVStation_mvgd_40_lvgd_4319.\n",
      "No valid conn. target found for Generator_mvgd_40_lvgd_4319_solar_ground_mounted_232613.Connected to LVStation_mvgd_40_lvgd_4319.\n",
      "No valid conn. target found for Generator_mvgd_40_lvgd_4319_solar_ground_mounted_232632.Connected to LVStation_mvgd_40_lvgd_4319.\n",
      "No valid conn. target found for Generator_mvgd_40_lvgd_4319_solar_ground_mounted_232751.Connected to LVStation_mvgd_40_lvgd_4319.\n",
      "No valid conn. target found for Generator_mvgd_40_lvgd_4319_solar_ground_mounted_235020.Connected to LVStation_mvgd_40_lvgd_4319.\n",
      "No valid conn. target found for Generator_mvgd_40_lvgd_4319_solar_roof_mounted_232815.Connected to LVStation_mvgd_40_lvgd_4319.\n",
      "No valid conn. target found for Generator_mvgd_40_lvgd_4319_solar_roof_mounted_232931.Connected to LVStation_mvgd_40_lvgd_4319.\n",
      "No valid conn. target found for Generator_mvgd_40_lvgd_4319_solar_roof_mounted_233157.Connected to LVStation_mvgd_40_lvgd_4319.\n",
      "No valid conn. target found for Generator_mvgd_40_lvgd_4320_solar_ground_mounted_232596.Connected to LVStation_mvgd_40_lvgd_4320.\n",
      "No valid conn. target found for Generator_mvgd_40_lvgd_4320_solar_ground_mounted_232702.Connected to LVStation_mvgd_40_lvgd_4320.\n",
      "No valid conn. target found for Generator_mvgd_40_lvgd_4320_solar_ground_mounted_235007.Connected to LVStation_mvgd_40_lvgd_4320.\n",
      "No valid conn. target found for Generator_mvgd_40_lvgd_4320_solar_ground_mounted_235081.Connected to LVStation_mvgd_40_lvgd_4320.\n",
      "No valid conn. target found for Generator_mvgd_40_lvgd_4320_solar_roof_mounted_232867.Connected to LVStation_mvgd_40_lvgd_4320.\n",
      "No valid conn. target found for Generator_mvgd_40_lvgd_4320_solar_roof_mounted_232980.Connected to LVStation_mvgd_40_lvgd_4320.\n",
      "No valid conn. target found for Generator_mvgd_40_lvgd_4320_solar_roof_mounted_232988.Connected to LVStation_mvgd_40_lvgd_4320.\n",
      "No valid conn. target found for Generator_mvgd_40_lvgd_4320_solar_roof_mounted_232995.Connected to LVStation_mvgd_40_lvgd_4320.\n",
      "No valid conn. target found for Generator_mvgd_40_lvgd_4320_solar_roof_mounted_233017.Connected to LVStation_mvgd_40_lvgd_4320.\n",
      "No valid conn. target found for Generator_mvgd_40_lvgd_4320_solar_roof_mounted_235143.Connected to LVStation_mvgd_40_lvgd_4320.\n",
      "No valid conn. target found for Generator_mvgd_40_lvgd_4321_solar_ground_mounted_232547.Connected to LVStation_mvgd_40_lvgd_4321.\n",
      "No valid conn. target found for Generator_mvgd_40_lvgd_4321_solar_ground_mounted_235060.Connected to LVStation_mvgd_40_lvgd_4321.\n",
      "No valid conn. target found for Generator_mvgd_40_lvgd_4322_solar_ground_mounted_235041.Connected to LVStation_mvgd_40_lvgd_4322.\n",
      "No valid conn. target found for Generator_mvgd_40_lvgd_4322_solar_roof_mounted_232963.Connected to LVStation_mvgd_40_lvgd_4322.\n",
      "No valid conn. target found for Generator_mvgd_40_lvgd_4322_solar_roof_mounted_233042.Connected to LVStation_mvgd_40_lvgd_4322.\n",
      "No valid conn. target found for Generator_mvgd_40_lvgd_4322_solar_roof_mounted_233137.Connected to LVStation_mvgd_40_lvgd_4322.\n",
      "No valid conn. target found for Generator_mvgd_40_lvgd_4322_solar_roof_mounted_233174.Connected to LVStation_mvgd_40_lvgd_4322.\n",
      "No valid conn. target found for Generator_mvgd_40_lvgd_4323_solar_ground_mounted_232638.Connected to LVStation_mvgd_40_lvgd_4323.\n",
      "No valid conn. target found for Generator_mvgd_40_lvgd_4323_solar_roof_mounted_233169.Connected to LVStation_mvgd_40_lvgd_4323.\n",
      "No valid conn. target found for Generator_mvgd_40_lvgd_4323_solar_roof_mounted_235174.Connected to LVStation_mvgd_40_lvgd_4323.\n",
      "No valid conn. target found for Generator_mvgd_40_lvgd_4324_solar_roof_mounted_232795.Connected to LVStation_mvgd_40_lvgd_4324.\n",
      "No valid conn. target found for Generator_mvgd_40_lvgd_4325_solar_ground_mounted_232577.Connected to LVStation_mvgd_40_lvgd_4325.\n",
      "No valid conn. target found for Generator_mvgd_40_lvgd_4325_solar_ground_mounted_232693.Connected to LVStation_mvgd_40_lvgd_4325.\n",
      "No valid conn. target found for Generator_mvgd_40_lvgd_4325_solar_roof_mounted_232958.Connected to LVStation_mvgd_40_lvgd_4325.\n",
      "No valid conn. target found for Generator_mvgd_40_lvgd_4325_solar_roof_mounted_233074.Connected to LVStation_mvgd_40_lvgd_4325.\n",
      "No valid conn. target found for Generator_mvgd_40_lvgd_4325_solar_roof_mounted_235140.Connected to LVStation_mvgd_40_lvgd_4325.\n",
      "No valid conn. target found for Generator_mvgd_40_lvgd_4325_solar_roof_mounted_235152.Connected to LVStation_mvgd_40_lvgd_4325.\n",
      "No valid conn. target found for Generator_mvgd_40_lvgd_4325_solar_roof_mounted_235160.Connected to LVStation_mvgd_40_lvgd_4325.\n",
      "No valid conn. target found for Generator_mvgd_40_lvgd_4563_solar_ground_mounted_232549.Connected to LVStation_mvgd_40_lvgd_4563.\n",
      "No valid conn. target found for Generator_mvgd_40_lvgd_4563_solar_ground_mounted_232660.Connected to LVStation_mvgd_40_lvgd_4563.\n",
      "No valid conn. target found for Generator_mvgd_40_lvgd_4563_solar_roof_mounted_232882.Connected to LVStation_mvgd_40_lvgd_4563.\n",
      "No valid conn. target found for Generator_mvgd_40_lvgd_4563_solar_roof_mounted_233007.Connected to LVStation_mvgd_40_lvgd_4563.\n",
      "No valid conn. target found for Generator_mvgd_40_lvgd_4564_solar_roof_mounted_235111.Connected to LVStation_mvgd_40_lvgd_4564.\n",
      "No valid conn. target found for Generator_mvgd_40_lvgd_418733_solar_ground_mounted_232583.Connected to LVStation_mvgd_40_lvgd_418733.\n",
      "No valid conn. target found for Generator_mvgd_40_lvgd_419414_solar_roof_mounted_235119.Connected to LVStation_mvgd_40_lvgd_419414.\n",
      "No valid conn. target found for Generator_mvgd_40_lvgd_483020_solar_ground_mounted_232656.Connected to LVStation_mvgd_40_lvgd_483020.\n",
      "No valid conn. target found for Generator_mvgd_40_lvgd_483020_solar_ground_mounted_232679.Connected to LVStation_mvgd_40_lvgd_483020.\n",
      "No valid conn. target found for Generator_mvgd_40_lvgd_483020_solar_roof_mounted_232877.Connected to LVStation_mvgd_40_lvgd_483020.\n",
      "No valid conn. target found for Generator_mvgd_40_lvgd_483021_solar_ground_mounted_232774.Connected to LVStation_mvgd_40_lvgd_483021.\n",
      "No valid conn. target found for Generator_mvgd_40_lvgd_483023_solar_ground_mounted_232574.Connected to LVStation_mvgd_40_lvgd_483023.\n",
      "No valid conn. target found for Generator_mvgd_40_lvgd_483023_solar_ground_mounted_232591.Connected to LVStation_mvgd_40_lvgd_483023.\n",
      "No valid conn. target found for Generator_mvgd_40_lvgd_483023_solar_ground_mounted_232672.Connected to LVStation_mvgd_40_lvgd_483023.\n",
      "No valid conn. target found for Generator_mvgd_40_lvgd_483023_solar_roof_mounted_232786.Connected to LVStation_mvgd_40_lvgd_483023.\n",
      "No valid conn. target found for Generator_mvgd_40_lvgd_483023_solar_roof_mounted_233086.Connected to LVStation_mvgd_40_lvgd_483023.\n",
      "No valid conn. target found for Generator_mvgd_40_lvgd_4900_solar_ground_mounted_232559.Connected to LVStation_mvgd_40_lvgd_4900.\n",
      "No valid conn. target found for Generator_mvgd_40_lvgd_4900_solar_ground_mounted_232643.Connected to LVStation_mvgd_40_lvgd_4900.\n",
      "No valid conn. target found for Generator_mvgd_40_lvgd_4900_solar_roof_mounted_232812.Connected to LVStation_mvgd_40_lvgd_4900.\n",
      "No valid conn. target found for Generator_mvgd_40_lvgd_4900_solar_roof_mounted_232871.Connected to LVStation_mvgd_40_lvgd_4900.\n",
      "No valid conn. target found for Generator_mvgd_40_lvgd_4900_solar_roof_mounted_233183.Connected to LVStation_mvgd_40_lvgd_4900.\n",
      "No valid conn. target found for Generator_mvgd_40_lvgd_4900_solar_roof_mounted_235115.Connected to LVStation_mvgd_40_lvgd_4900.\n",
      "No valid conn. target found for Generator_mvgd_40_lvgd_4901_solar_roof_mounted_232922.Connected to LVStation_mvgd_40_lvgd_4901.\n",
      "No valid conn. target found for Generator_mvgd_40_lvgd_4901_solar_roof_mounted_233178.Connected to LVStation_mvgd_40_lvgd_4901.\n",
      "No valid conn. target found for Generator_mvgd_40_lvgd_4902_solar_ground_mounted_232719.Connected to LVStation_mvgd_40_lvgd_4902.\n",
      "No valid conn. target found for Generator_mvgd_40_lvgd_4902_solar_ground_mounted_232771.Connected to LVStation_mvgd_40_lvgd_4902.\n",
      "No valid conn. target found for Generator_mvgd_40_lvgd_4902_solar_roof_mounted_232783.Connected to LVStation_mvgd_40_lvgd_4902.\n",
      "No valid conn. target found for Generator_mvgd_40_lvgd_4902_solar_roof_mounted_232805.Connected to LVStation_mvgd_40_lvgd_4902.\n",
      "No valid conn. target found for Generator_mvgd_40_lvgd_4902_solar_roof_mounted_233069.Connected to LVStation_mvgd_40_lvgd_4902.\n",
      "No valid conn. target found for Generator_mvgd_40_lvgd_4902_solar_roof_mounted_233117.Connected to LVStation_mvgd_40_lvgd_4902.\n",
      "No valid conn. target found for Generator_mvgd_40_lvgd_4903_solar_ground_mounted_235045.Connected to LVStation_mvgd_40_lvgd_4903.\n",
      "No valid conn. target found for Generator_mvgd_40_lvgd_4903_solar_roof_mounted_232828.Connected to LVStation_mvgd_40_lvgd_4903.\n",
      "No valid conn. target found for Generator_mvgd_40_lvgd_4904_solar_ground_mounted_232586.Connected to LVStation_mvgd_40_lvgd_4904.\n",
      "No valid conn. target found for Generator_mvgd_40_lvgd_4904_solar_roof_mounted_233067.Connected to LVStation_mvgd_40_lvgd_4904.\n",
      "No valid conn. target found for Generator_mvgd_40_lvgd_4904_solar_roof_mounted_235089.Connected to LVStation_mvgd_40_lvgd_4904.\n",
      "No valid conn. target found for Generator_mvgd_40_lvgd_4904_solar_roof_mounted_235146.Connected to LVStation_mvgd_40_lvgd_4904.\n",
      "No valid conn. target found for Generator_mvgd_40_lvgd_4904_solar_roof_mounted_235173.Connected to LVStation_mvgd_40_lvgd_4904.\n",
      "No valid conn. target found for Generator_mvgd_40_lvgd_4905_solar_ground_mounted_232627.Connected to LVStation_mvgd_40_lvgd_4905.\n",
      "No valid conn. target found for Generator_mvgd_40_lvgd_4905_solar_roof_mounted_232940.Connected to LVStation_mvgd_40_lvgd_4905.\n",
      "No valid conn. target found for Generator_mvgd_40_lvgd_4906_solar_ground_mounted_235043.Connected to LVStation_mvgd_40_lvgd_4906.\n",
      "No valid conn. target found for Generator_mvgd_40_lvgd_4906_solar_ground_mounted_235044.Connected to LVStation_mvgd_40_lvgd_4906.\n",
      "No valid conn. target found for Generator_mvgd_40_lvgd_4906_solar_roof_mounted_232901.Connected to LVStation_mvgd_40_lvgd_4906.\n",
      "No valid conn. target found for Generator_mvgd_40_lvgd_420378_solar_roof_mounted_233149.Connected to LVStation_mvgd_40_lvgd_420378.\n",
      "No valid conn. target found for Generator_mvgd_40_lvgd_419250_solar_roof_mounted_232896.Connected to LVStation_mvgd_40_lvgd_419250.\n",
      "No valid conn. target found for Generator_mvgd_40_lvgd_418044_solar_ground_mounted_232653.Connected to LVStation_mvgd_40_lvgd_418044.\n",
      "No valid conn. target found for Generator_mvgd_40_lvgd_418044_solar_roof_mounted_235108.Connected to LVStation_mvgd_40_lvgd_418044.\n",
      "No valid conn. target found for Generator_mvgd_40_lvgd_420154_solar_roof_mounted_232793.Connected to LVStation_mvgd_40_lvgd_420154.\n",
      "No valid conn. target found for Generator_mvgd_40_lvgd_420223_solar_ground_mounted_232612.Connected to LVStation_mvgd_40_lvgd_420223.\n",
      "No valid conn. target found for Generator_mvgd_40_lvgd_510464_solar_roof_mounted_1602830.Connected to LVStation_mvgd_40_lvgd_510464.\n",
      "No valid conn. target found for Generator_mvgd_40_lvgd_510464_solar_roof_mounted_232910.Connected to LVStation_mvgd_40_lvgd_510464.\n",
      "No valid conn. target found for Generator_mvgd_40_lvgd_5119_solar_ground_mounted_232777.Connected to LVStation_mvgd_40_lvgd_5119.\n",
      "No valid conn. target found for Generator_mvgd_40_lvgd_5119_solar_roof_mounted_235105.Connected to LVStation_mvgd_40_lvgd_5119.\n",
      "No valid conn. target found for Generator_mvgd_40_lvgd_5119_solar_roof_mounted_235155.Connected to LVStation_mvgd_40_lvgd_5119.\n",
      "No valid conn. target found for Generator_mvgd_40_lvgd_5119_solar_roof_mounted_235178.Connected to LVStation_mvgd_40_lvgd_5119.\n",
      "No valid conn. target found for Generator_mvgd_40_lvgd_5120_solar_ground_mounted_232600.Connected to LVStation_mvgd_40_lvgd_5120.\n",
      "No valid conn. target found for Generator_mvgd_40_lvgd_5120_solar_roof_mounted_232816.Connected to LVStation_mvgd_40_lvgd_5120.\n",
      "No valid conn. target found for Generator_mvgd_40_lvgd_5120_solar_roof_mounted_232852.Connected to LVStation_mvgd_40_lvgd_5120.\n",
      "No valid conn. target found for Generator_mvgd_40_lvgd_419230_solar_ground_mounted_232764.Connected to LVStation_mvgd_40_lvgd_419230.\n",
      "No valid conn. target found for Generator_mvgd_40_lvgd_419230_solar_roof_mounted_233188.Connected to LVStation_mvgd_40_lvgd_419230.\n",
      "No valid conn. target found for Generator_mvgd_40_lvgd_418188_hydro_232529.Connected to LVStation_mvgd_40_lvgd_418188.\n",
      "No valid conn. target found for Generator_mvgd_40_lvgd_418188_solar_ground_mounted_235086.Connected to LVStation_mvgd_40_lvgd_418188.\n",
      "No valid conn. target found for Generator_mvgd_40_lvgd_5163_solar_ground_mounted_232688.Connected to LVStation_mvgd_40_lvgd_5163.\n",
      "No valid conn. target found for Generator_mvgd_40_lvgd_5164_solar_ground_mounted_232553.Connected to LVStation_mvgd_40_lvgd_5164.\n",
      "No valid conn. target found for Generator_mvgd_40_lvgd_5164_solar_ground_mounted_235055.Connected to LVStation_mvgd_40_lvgd_5164.\n",
      "No valid conn. target found for Generator_mvgd_40_lvgd_5639_solar_ground_mounted_232685.Connected to LVStation_mvgd_40_lvgd_5639.\n",
      "No valid conn. target found for Generator_mvgd_40_lvgd_5639_solar_ground_mounted_232687.Connected to LVStation_mvgd_40_lvgd_5639.\n",
      "No valid conn. target found for Generator_mvgd_40_lvgd_5639_solar_ground_mounted_232718.Connected to LVStation_mvgd_40_lvgd_5639.\n",
      "No valid conn. target found for Generator_mvgd_40_lvgd_5639_solar_ground_mounted_235004.Connected to LVStation_mvgd_40_lvgd_5639.\n",
      "No valid conn. target found for Generator_mvgd_40_lvgd_5639_solar_roof_mounted_232860.Connected to LVStation_mvgd_40_lvgd_5639.\n",
      "No valid conn. target found for Generator_mvgd_40_lvgd_5639_solar_roof_mounted_232887.Connected to LVStation_mvgd_40_lvgd_5639.\n",
      "No valid conn. target found for Generator_mvgd_40_lvgd_5640_solar_ground_mounted_235003.Connected to LVStation_mvgd_40_lvgd_5640.\n",
      "No valid conn. target found for Generator_mvgd_40_lvgd_5640_solar_roof_mounted_232824.Connected to LVStation_mvgd_40_lvgd_5640.\n",
      "No valid conn. target found for Generator_mvgd_40_lvgd_5640_solar_roof_mounted_233058.Connected to LVStation_mvgd_40_lvgd_5640.\n",
      "No valid conn. target found for Generator_mvgd_40_lvgd_5640_solar_roof_mounted_235144.Connected to LVStation_mvgd_40_lvgd_5640.\n",
      "No valid conn. target found for Generator_mvgd_40_lvgd_5792_solar_roof_mounted_232801.Connected to LVStation_mvgd_40_lvgd_5792.\n",
      "No valid conn. target found for Generator_mvgd_40_lvgd_5826_solar_ground_mounted_232654.Connected to LVStation_mvgd_40_lvgd_5826.\n",
      "No valid conn. target found for Generator_mvgd_40_lvgd_5826_solar_roof_mounted_232985.Connected to LVStation_mvgd_40_lvgd_5826.\n",
      "No valid conn. target found for Generator_mvgd_40_lvgd_5827_solar_ground_mounted_232756.Connected to LVStation_mvgd_40_lvgd_5827.\n",
      "No valid conn. target found for Generator_mvgd_40_lvgd_419093_solar_ground_mounted_235042.Connected to LVStation_mvgd_40_lvgd_419093.\n",
      "No valid conn. target found for Generator_mvgd_40_lvgd_419415_solar_ground_mounted_235080.Connected to LVStation_mvgd_40_lvgd_419415.\n",
      "No valid conn. target found for Generator_mvgd_40_lvgd_5918_solar_ground_mounted_232683.Connected to LVStation_mvgd_40_lvgd_5918.\n",
      "No valid conn. target found for Generator_mvgd_40_lvgd_5918_solar_roof_mounted_232991.Connected to LVStation_mvgd_40_lvgd_5918.\n",
      "No valid conn. target found for Generator_mvgd_40_lvgd_5918_solar_roof_mounted_235113.Connected to LVStation_mvgd_40_lvgd_5918.\n",
      "No valid conn. target found for Generator_mvgd_40_lvgd_5929_solar_ground_mounted_232543.Connected to LVStation_mvgd_40_lvgd_5929.\n",
      "No valid conn. target found for Generator_mvgd_40_lvgd_5929_solar_ground_mounted_232668.Connected to LVStation_mvgd_40_lvgd_5929.\n",
      "No valid conn. target found for Generator_mvgd_40_lvgd_5929_solar_ground_mounted_235011.Connected to LVStation_mvgd_40_lvgd_5929.\n",
      "No valid conn. target found for Generator_mvgd_40_lvgd_5929_solar_roof_mounted_232811.Connected to LVStation_mvgd_40_lvgd_5929.\n",
      "No valid conn. target found for Generator_mvgd_40_lvgd_5929_solar_roof_mounted_233088.Connected to LVStation_mvgd_40_lvgd_5929.\n",
      "No valid conn. target found for Generator_mvgd_40_lvgd_5929_solar_roof_mounted_233115.Connected to LVStation_mvgd_40_lvgd_5929.\n",
      "No valid conn. target found for Generator_mvgd_40_lvgd_5929_solar_roof_mounted_235133.Connected to LVStation_mvgd_40_lvgd_5929.\n",
      "No valid conn. target found for Generator_mvgd_40_lvgd_5958_solar_roof_mounted_232913.Connected to LVStation_mvgd_40_lvgd_5958.\n",
      "No valid conn. target found for Generator_mvgd_40_lvgd_5958_solar_roof_mounted_233072.Connected to LVStation_mvgd_40_lvgd_5958.\n",
      "No valid conn. target found for Generator_mvgd_40_lvgd_5958_solar_roof_mounted_233193.Connected to LVStation_mvgd_40_lvgd_5958.\n",
      "No valid conn. target found for Generator_mvgd_40_lvgd_5959_solar_ground_mounted_232567.Connected to LVStation_mvgd_40_lvgd_5959.\n",
      "No valid conn. target found for Generator_mvgd_40_lvgd_5959_solar_ground_mounted_232611.Connected to LVStation_mvgd_40_lvgd_5959.\n",
      "No valid conn. target found for Generator_mvgd_40_lvgd_5959_solar_ground_mounted_232636.Connected to LVStation_mvgd_40_lvgd_5959.\n",
      "No valid conn. target found for Generator_mvgd_40_lvgd_5959_solar_ground_mounted_232694.Connected to LVStation_mvgd_40_lvgd_5959.\n",
      "No valid conn. target found for Generator_mvgd_40_lvgd_420151_hydro_232831.Connected to LVStation_mvgd_40_lvgd_420151.\n",
      "No valid conn. target found for Generator_mvgd_40_lvgd_420151_solar_roof_mounted_233187.Connected to LVStation_mvgd_40_lvgd_420151.\n"
     ]
    }
   ],
   "source": [
    "nd.mv_routing(debug=False)\n",
    "nd.connect_generators(debug=False)\n"
   ]
  },
  {
   "cell_type": "code",
   "execution_count": 67,
   "metadata": {},
   "outputs": [
    {
     "data": {
      "text/plain": [
       "{'id_db': 'branch_HH1_1',\n",
       " 'ring': None,\n",
       " 'grid': lv_grid_420382,\n",
       " 'length': 135,\n",
       " 'kind': 'cable',\n",
       " 'type': U_n         400.000\n",
       " I_max_th    275.000\n",
       " R_per_km      0.206\n",
       " L_per_km      0.256\n",
       " Name: NAYY 4x1x150, dtype: float64,\n",
       " 'connects_aggregated': False,\n",
       " 'circuit_breaker': None,\n",
       " 'geometry': None,\n",
       " 'critical': False}"
      ]
     },
     "execution_count": 67,
     "metadata": {},
     "output_type": "execute_result"
    }
   ],
   "source": [
    "nd._mv_grid_districts[0]._lv_load_areas[0]._lv_grid_districts[0].lv_grid._graph.edges[list(nd._mv_grid_districts[0]._lv_load_areas[0]._lv_grid_districts[0].lv_grid._graph.edges)[0]].get('branch').__dict__"
   ]
  },
  {
   "cell_type": "code",
   "execution_count": 15,
   "metadata": {},
   "outputs": [
    {
     "data": {
      "text/plain": [
       "lv_load_area_2292"
      ]
     },
     "execution_count": 15,
     "metadata": {},
     "output_type": "execute_result"
    }
   ],
   "source": [
    "nd._mv_grid_districts[0]._lv_load_areas[1]"
   ]
  },
  {
   "cell_type": "code",
   "execution_count": 16,
   "metadata": {},
   "outputs": [
    {
     "data": {
      "text/plain": [
       "lv_grid_district_419907"
      ]
     },
     "execution_count": 16,
     "metadata": {},
     "output_type": "execute_result"
    }
   ],
   "source": [
    "nd._mv_grid_districts[0]._lv_load_areas[1]._lv_grid_districts[0]"
   ]
  },
  {
   "cell_type": "code",
   "execution_count": 63,
   "metadata": {},
   "outputs": [
    {
     "data": {
      "text/plain": [
       "(LVStation_mvgd_40_lvgd_420382, LVCableDist_mvgd_40_lvgd_420382_1)"
      ]
     },
     "execution_count": 63,
     "metadata": {},
     "output_type": "execute_result"
    }
   ],
   "source": [
    "list(nd._mv_grid_districts[0]._lv_load_areas[0]._lv_grid_districts[0].lv_grid._graph.edges)[0]"
   ]
  },
  {
   "cell_type": "code",
   "execution_count": 20,
   "metadata": {},
   "outputs": [
    {
     "data": {
      "text/plain": [
       "[Generator_mvgd_40_lvgd_419907_solar_ground_mounted_235013,\n",
       " Generator_mvgd_40_lvgd_419907_solar_roof_mounted_235137]"
      ]
     },
     "execution_count": 20,
     "metadata": {},
     "output_type": "execute_result"
    }
   ],
   "source": [
    "nd._mv_grid_districts[0]._lv_load_areas[1]._lv_grid_districts[0].lv_grid._generators"
   ]
  },
  {
   "cell_type": "code",
   "execution_count": 21,
   "metadata": {},
   "outputs": [
    {
     "data": {
      "text/plain": [
       "LVStation_mvgd_40_lvgd_419907"
      ]
     },
     "execution_count": 21,
     "metadata": {},
     "output_type": "execute_result"
    }
   ],
   "source": [
    "nd._mv_grid_districts[0]._lv_load_areas[1]._lv_grid_districts[0].lv_grid._station"
   ]
  },
  {
   "cell_type": "code",
   "execution_count": 11,
   "metadata": {},
   "outputs": [
    {
     "name": "stderr",
     "output_type": "stream",
     "text": [
      "Geo distance is zero, check objects' positions. Distance is set to 1m\n",
      "Geo distance is zero, check objects' positions. Distance is set to 1m\n",
      "Geo distance is zero, check objects' positions. Distance is set to 1m\n",
      "Geo distance is zero, check objects' positions. Distance is set to 1m\n"
     ]
    }
   ],
   "source": [
    "nd.mv_routing(debug=False)"
   ]
  },
  {
   "cell_type": "code",
   "execution_count": 12,
   "metadata": {},
   "outputs": [
    {
     "name": "stderr",
     "output_type": "stream",
     "text": [
      "No valid conn. target found for Generator_mvgd_40_lvgd_419907_solar_ground_mounted_235013.Connected to LVStation_mvgd_40_lvgd_419907.\n",
      "No valid conn. target found for Generator_mvgd_40_lvgd_2873_solar_ground_mounted_232624.Connected to LVStation_mvgd_40_lvgd_2873.\n",
      "No valid conn. target found for Generator_mvgd_40_lvgd_419464_solar_ground_mounted_232678.Connected to LVStation_mvgd_40_lvgd_419464.\n",
      "No valid conn. target found for Generator_mvgd_40_lvgd_3053_solar_roof_mounted_233000.Connected to LVStation_mvgd_40_lvgd_3053.\n",
      "No valid conn. target found for Generator_mvgd_40_lvgd_3053_solar_roof_mounted_233097.Connected to LVStation_mvgd_40_lvgd_3053.\n",
      "No valid conn. target found for Generator_mvgd_40_lvgd_420676_solar_roof_mounted_233083.Connected to LVStation_mvgd_40_lvgd_420676.\n",
      "No valid conn. target found for Generator_mvgd_40_lvgd_3090_solar_ground_mounted_232747.Connected to LVStation_mvgd_40_lvgd_3090.\n",
      "No valid conn. target found for Generator_mvgd_40_lvgd_3090_solar_roof_mounted_232817.Connected to LVStation_mvgd_40_lvgd_3090.\n",
      "No valid conn. target found for Generator_mvgd_40_lvgd_3091_solar_roof_mounted_232968.Connected to LVStation_mvgd_40_lvgd_3091.\n",
      "No valid conn. target found for Generator_mvgd_40_lvgd_3091_solar_roof_mounted_233053.Connected to LVStation_mvgd_40_lvgd_3091.\n",
      "No valid conn. target found for Generator_mvgd_40_lvgd_3092_solar_ground_mounted_235051.Connected to LVStation_mvgd_40_lvgd_3092.\n",
      "No valid conn. target found for Generator_mvgd_40_lvgd_3092_solar_ground_mounted_235065.Connected to LVStation_mvgd_40_lvgd_3092.\n",
      "No valid conn. target found for Generator_mvgd_40_lvgd_3092_solar_roof_mounted_1605823.Connected to LVStation_mvgd_40_lvgd_3092.\n",
      "No valid conn. target found for Generator_mvgd_40_lvgd_3092_solar_roof_mounted_232787.Connected to LVStation_mvgd_40_lvgd_3092.\n",
      "No valid conn. target found for Generator_mvgd_40_lvgd_3092_solar_roof_mounted_232810.Connected to LVStation_mvgd_40_lvgd_3092.\n",
      "No valid conn. target found for Generator_mvgd_40_lvgd_3092_solar_roof_mounted_232832.Connected to LVStation_mvgd_40_lvgd_3092.\n",
      "No valid conn. target found for Generator_mvgd_40_lvgd_3092_solar_roof_mounted_232889.Connected to LVStation_mvgd_40_lvgd_3092.\n",
      "No valid conn. target found for Generator_mvgd_40_lvgd_3092_solar_roof_mounted_233102.Connected to LVStation_mvgd_40_lvgd_3092.\n",
      "No valid conn. target found for Generator_mvgd_40_lvgd_3093_solar_ground_mounted_232727.Connected to LVStation_mvgd_40_lvgd_3093.\n",
      "No valid conn. target found for Generator_mvgd_40_lvgd_3093_solar_ground_mounted_235023.Connected to LVStation_mvgd_40_lvgd_3093.\n",
      "No valid conn. target found for Generator_mvgd_40_lvgd_3093_solar_roof_mounted_232998.Connected to LVStation_mvgd_40_lvgd_3093.\n",
      "No valid conn. target found for Generator_mvgd_40_lvgd_3093_solar_roof_mounted_233004.Connected to LVStation_mvgd_40_lvgd_3093.\n",
      "No valid conn. target found for Generator_mvgd_40_lvgd_3094_solar_ground_mounted_232571.Connected to LVStation_mvgd_40_lvgd_3094.\n",
      "No valid conn. target found for Generator_mvgd_40_lvgd_3094_solar_ground_mounted_232776.Connected to LVStation_mvgd_40_lvgd_3094.\n",
      "No valid conn. target found for Generator_mvgd_40_lvgd_3094_solar_ground_mounted_235033.Connected to LVStation_mvgd_40_lvgd_3094.\n",
      "No valid conn. target found for Generator_mvgd_40_lvgd_3094_solar_ground_mounted_235037.Connected to LVStation_mvgd_40_lvgd_3094.\n",
      "No valid conn. target found for Generator_mvgd_40_lvgd_3094_solar_roof_mounted_232814.Connected to LVStation_mvgd_40_lvgd_3094.\n",
      "No valid conn. target found for Generator_mvgd_40_lvgd_3094_solar_roof_mounted_232830.Connected to LVStation_mvgd_40_lvgd_3094.\n",
      "No valid conn. target found for Generator_mvgd_40_lvgd_3094_solar_roof_mounted_232879.Connected to LVStation_mvgd_40_lvgd_3094.\n",
      "No valid conn. target found for Generator_mvgd_40_lvgd_3094_solar_roof_mounted_232938.Connected to LVStation_mvgd_40_lvgd_3094.\n",
      "No valid conn. target found for Generator_mvgd_40_lvgd_3094_solar_roof_mounted_233099.Connected to LVStation_mvgd_40_lvgd_3094.\n",
      "No valid conn. target found for Generator_mvgd_40_lvgd_3094_solar_roof_mounted_233120.Connected to LVStation_mvgd_40_lvgd_3094.\n",
      "No valid conn. target found for Generator_mvgd_40_lvgd_3095_solar_ground_mounted_232676.Connected to LVStation_mvgd_40_lvgd_3095.\n",
      "No valid conn. target found for Generator_mvgd_40_lvgd_3095_solar_ground_mounted_232698.Connected to LVStation_mvgd_40_lvgd_3095.\n",
      "No valid conn. target found for Generator_mvgd_40_lvgd_3095_solar_ground_mounted_232739.Connected to LVStation_mvgd_40_lvgd_3095.\n",
      "No valid conn. target found for Generator_mvgd_40_lvgd_3095_solar_roof_mounted_232849.Connected to LVStation_mvgd_40_lvgd_3095.\n",
      "No valid conn. target found for Generator_mvgd_40_lvgd_3095_solar_roof_mounted_233126.Connected to LVStation_mvgd_40_lvgd_3095.\n",
      "No valid conn. target found for Generator_mvgd_40_lvgd_3096_solar_ground_mounted_234994.Connected to LVStation_mvgd_40_lvgd_3096.\n",
      "No valid conn. target found for Generator_mvgd_40_lvgd_3096_solar_ground_mounted_235016.Connected to LVStation_mvgd_40_lvgd_3096.\n",
      "No valid conn. target found for Generator_mvgd_40_lvgd_3096_solar_ground_mounted_235038.Connected to LVStation_mvgd_40_lvgd_3096.\n",
      "No valid conn. target found for Generator_mvgd_40_lvgd_3096_solar_ground_mounted_235075.Connected to LVStation_mvgd_40_lvgd_3096.\n",
      "No valid conn. target found for Generator_mvgd_40_lvgd_3096_solar_roof_mounted_1600690.Connected to LVStation_mvgd_40_lvgd_3096.\n",
      "No valid conn. target found for Generator_mvgd_40_lvgd_3096_solar_roof_mounted_233015.Connected to LVStation_mvgd_40_lvgd_3096.\n",
      "No valid conn. target found for Generator_mvgd_40_lvgd_3096_solar_roof_mounted_233019.Connected to LVStation_mvgd_40_lvgd_3096.\n",
      "No valid conn. target found for Generator_mvgd_40_lvgd_3097_solar_ground_mounted_232581.Connected to LVStation_mvgd_40_lvgd_3097.\n",
      "No valid conn. target found for Generator_mvgd_40_lvgd_3097_solar_ground_mounted_232658.Connected to LVStation_mvgd_40_lvgd_3097.\n",
      "No valid conn. target found for Generator_mvgd_40_lvgd_3097_solar_ground_mounted_232682.Connected to LVStation_mvgd_40_lvgd_3097.\n",
      "No valid conn. target found for Generator_mvgd_40_lvgd_3097_solar_ground_mounted_234995.Connected to LVStation_mvgd_40_lvgd_3097.\n",
      "No valid conn. target found for Generator_mvgd_40_lvgd_3097_solar_roof_mounted_232782.Connected to LVStation_mvgd_40_lvgd_3097.\n",
      "No valid conn. target found for Generator_mvgd_40_lvgd_3097_solar_roof_mounted_232903.Connected to LVStation_mvgd_40_lvgd_3097.\n",
      "No valid conn. target found for Generator_mvgd_40_lvgd_3097_solar_roof_mounted_232989.Connected to LVStation_mvgd_40_lvgd_3097.\n",
      "No valid conn. target found for Generator_mvgd_40_lvgd_3098_solar_ground_mounted_232579.Connected to LVStation_mvgd_40_lvgd_3098.\n",
      "No valid conn. target found for Generator_mvgd_40_lvgd_3098_solar_ground_mounted_232691.Connected to LVStation_mvgd_40_lvgd_3098.\n",
      "No valid conn. target found for Generator_mvgd_40_lvgd_3098_solar_roof_mounted_232915.Connected to LVStation_mvgd_40_lvgd_3098.\n",
      "No valid conn. target found for Generator_mvgd_40_lvgd_3098_solar_roof_mounted_233151.Connected to LVStation_mvgd_40_lvgd_3098.\n",
      "No valid conn. target found for Generator_mvgd_40_lvgd_3099_solar_ground_mounted_232665.Connected to LVStation_mvgd_40_lvgd_3099.\n",
      "No valid conn. target found for Generator_mvgd_40_lvgd_3099_solar_ground_mounted_232716.Connected to LVStation_mvgd_40_lvgd_3099.\n",
      "No valid conn. target found for Generator_mvgd_40_lvgd_3099_solar_ground_mounted_232762.Connected to LVStation_mvgd_40_lvgd_3099.\n",
      "No valid conn. target found for Generator_mvgd_40_lvgd_3099_solar_ground_mounted_235032.Connected to LVStation_mvgd_40_lvgd_3099.\n",
      "No valid conn. target found for Generator_mvgd_40_lvgd_3099_solar_roof_mounted_1589771.Connected to LVStation_mvgd_40_lvgd_3099.\n",
      "No valid conn. target found for Generator_mvgd_40_lvgd_3099_solar_roof_mounted_232841.Connected to LVStation_mvgd_40_lvgd_3099.\n",
      "No valid conn. target found for Generator_mvgd_40_lvgd_3099_solar_roof_mounted_235179.Connected to LVStation_mvgd_40_lvgd_3099.\n",
      "No valid conn. target found for Generator_mvgd_40_lvgd_483011_solar_ground_mounted_232616.Connected to LVStation_mvgd_40_lvgd_483011.\n",
      "No valid conn. target found for Generator_mvgd_40_lvgd_483011_solar_ground_mounted_232663.Connected to LVStation_mvgd_40_lvgd_483011.\n",
      "No valid conn. target found for Generator_mvgd_40_lvgd_3141_solar_roof_mounted_232803.Connected to LVStation_mvgd_40_lvgd_3141.\n",
      "No valid conn. target found for Generator_mvgd_40_lvgd_3143_solar_roof_mounted_233031.Connected to LVStation_mvgd_40_lvgd_3143.\n",
      "No valid conn. target found for Generator_mvgd_40_lvgd_3309_solar_roof_mounted_1565746.Connected to LVStation_mvgd_40_lvgd_3309.\n",
      "No valid conn. target found for Generator_mvgd_40_lvgd_3310_solar_ground_mounted_232692.Connected to LVStation_mvgd_40_lvgd_3310.\n",
      "No valid conn. target found for Generator_mvgd_40_lvgd_3310_solar_roof_mounted_232929.Connected to LVStation_mvgd_40_lvgd_3310.\n",
      "No valid conn. target found for Generator_mvgd_40_lvgd_3310_solar_roof_mounted_232933.Connected to LVStation_mvgd_40_lvgd_3310.\n",
      "No valid conn. target found for Generator_mvgd_40_lvgd_3310_solar_roof_mounted_232994.Connected to LVStation_mvgd_40_lvgd_3310.\n",
      "No valid conn. target found for Generator_mvgd_40_lvgd_3310_solar_roof_mounted_233100.Connected to LVStation_mvgd_40_lvgd_3310.\n",
      "No valid conn. target found for Generator_mvgd_40_lvgd_3310_solar_roof_mounted_233111.Connected to LVStation_mvgd_40_lvgd_3310.\n",
      "No valid conn. target found for Generator_mvgd_40_lvgd_3310_solar_roof_mounted_233168.Connected to LVStation_mvgd_40_lvgd_3310.\n",
      "No valid conn. target found for Generator_mvgd_40_lvgd_3311_solar_ground_mounted_232530.Connected to LVStation_mvgd_40_lvgd_3311.\n",
      "No valid conn. target found for Generator_mvgd_40_lvgd_3311_solar_ground_mounted_235083.Connected to LVStation_mvgd_40_lvgd_3311.\n",
      "No valid conn. target found for Generator_mvgd_40_lvgd_3311_solar_roof_mounted_232936.Connected to LVStation_mvgd_40_lvgd_3311.\n",
      "No valid conn. target found for Generator_mvgd_40_lvgd_3311_solar_roof_mounted_233154.Connected to LVStation_mvgd_40_lvgd_3311.\n",
      "No valid conn. target found for Generator_mvgd_40_lvgd_3311_solar_roof_mounted_235112.Connected to LVStation_mvgd_40_lvgd_3311.\n",
      "No valid conn. target found for Generator_mvgd_40_lvgd_3312_solar_ground_mounted_232539.Connected to LVStation_mvgd_40_lvgd_3312.\n",
      "No valid conn. target found for Generator_mvgd_40_lvgd_3312_solar_ground_mounted_232542.Connected to LVStation_mvgd_40_lvgd_3312.\n",
      "No valid conn. target found for Generator_mvgd_40_lvgd_3312_solar_ground_mounted_232770.Connected to LVStation_mvgd_40_lvgd_3312.\n",
      "No valid conn. target found for Generator_mvgd_40_lvgd_3312_solar_ground_mounted_235000.Connected to LVStation_mvgd_40_lvgd_3312.\n",
      "No valid conn. target found for Generator_mvgd_40_lvgd_3312_solar_roof_mounted_233060.Connected to LVStation_mvgd_40_lvgd_3312.\n",
      "No valid conn. target found for Generator_mvgd_40_lvgd_3312_solar_roof_mounted_233084.Connected to LVStation_mvgd_40_lvgd_3312.\n",
      "No valid conn. target found for Generator_mvgd_40_lvgd_3312_solar_roof_mounted_233122.Connected to LVStation_mvgd_40_lvgd_3312.\n",
      "No valid conn. target found for Generator_mvgd_40_lvgd_3312_solar_roof_mounted_233185.Connected to LVStation_mvgd_40_lvgd_3312.\n",
      "No valid conn. target found for Generator_mvgd_40_lvgd_3312_solar_roof_mounted_235090.Connected to LVStation_mvgd_40_lvgd_3312.\n",
      "No valid conn. target found for Generator_mvgd_40_lvgd_3313_solar_ground_mounted_235036.Connected to LVStation_mvgd_40_lvgd_3313.\n",
      "No valid conn. target found for Generator_mvgd_40_lvgd_3313_solar_roof_mounted_1608284.Connected to LVStation_mvgd_40_lvgd_3313.\n",
      "No valid conn. target found for Generator_mvgd_40_lvgd_3313_solar_roof_mounted_235088.Connected to LVStation_mvgd_40_lvgd_3313.\n",
      "No valid conn. target found for Generator_mvgd_40_lvgd_3313_solar_roof_mounted_235167.Connected to LVStation_mvgd_40_lvgd_3313.\n",
      "No valid conn. target found for Generator_mvgd_40_lvgd_3314_solar_ground_mounted_232640.Connected to LVStation_mvgd_40_lvgd_3314.\n",
      "No valid conn. target found for Generator_mvgd_40_lvgd_3314_solar_ground_mounted_232772.Connected to LVStation_mvgd_40_lvgd_3314.\n",
      "No valid conn. target found for Generator_mvgd_40_lvgd_3314_solar_ground_mounted_234998.Connected to LVStation_mvgd_40_lvgd_3314.\n",
      "No valid conn. target found for Generator_mvgd_40_lvgd_3314_solar_roof_mounted_232982.Connected to LVStation_mvgd_40_lvgd_3314.\n",
      "No valid conn. target found for Generator_mvgd_40_lvgd_3315_solar_ground_mounted_232587.Connected to LVStation_mvgd_40_lvgd_3315.\n",
      "No valid conn. target found for Generator_mvgd_40_lvgd_3315_solar_ground_mounted_232695.Connected to LVStation_mvgd_40_lvgd_3315.\n",
      "No valid conn. target found for Generator_mvgd_40_lvgd_3315_solar_ground_mounted_235056.Connected to LVStation_mvgd_40_lvgd_3315.\n",
      "No valid conn. target found for Generator_mvgd_40_lvgd_3315_solar_roof_mounted_232894.Connected to LVStation_mvgd_40_lvgd_3315.\n",
      "No valid conn. target found for Generator_mvgd_40_lvgd_3315_solar_roof_mounted_233162.Connected to LVStation_mvgd_40_lvgd_3315.\n",
      "No valid conn. target found for Generator_mvgd_40_lvgd_3316_solar_ground_mounted_235031.Connected to LVStation_mvgd_40_lvgd_3316.\n",
      "No valid conn. target found for Generator_mvgd_40_lvgd_3316_solar_roof_mounted_232949.Connected to LVStation_mvgd_40_lvgd_3316.\n",
      "No valid conn. target found for Generator_mvgd_40_lvgd_3316_solar_roof_mounted_232979.Connected to LVStation_mvgd_40_lvgd_3316.\n",
      "No valid conn. target found for Generator_mvgd_40_lvgd_3317_solar_ground_mounted_232536.Connected to LVStation_mvgd_40_lvgd_3317.\n",
      "No valid conn. target found for Generator_mvgd_40_lvgd_3317_solar_ground_mounted_232741.Connected to LVStation_mvgd_40_lvgd_3317.\n",
      "No valid conn. target found for Generator_mvgd_40_lvgd_3317_solar_roof_mounted_1599922.Connected to LVStation_mvgd_40_lvgd_3317.\n",
      "No valid conn. target found for Generator_mvgd_40_lvgd_3317_solar_roof_mounted_1604584.Connected to LVStation_mvgd_40_lvgd_3317.\n",
      "No valid conn. target found for Generator_mvgd_40_lvgd_3317_solar_roof_mounted_232806.Connected to LVStation_mvgd_40_lvgd_3317.\n",
      "No valid conn. target found for Generator_mvgd_40_lvgd_3317_solar_roof_mounted_233091.Connected to LVStation_mvgd_40_lvgd_3317.\n",
      "No valid conn. target found for Generator_mvgd_40_lvgd_3317_solar_roof_mounted_235162.Connected to LVStation_mvgd_40_lvgd_3317.\n",
      "No valid conn. target found for Generator_mvgd_40_lvgd_420075_solar_ground_mounted_232526.Connected to LVStation_mvgd_40_lvgd_420075.\n",
      "No valid conn. target found for Generator_mvgd_40_lvgd_420075_solar_ground_mounted_232637.Connected to LVStation_mvgd_40_lvgd_420075.\n",
      "No valid conn. target found for Generator_mvgd_40_lvgd_420075_solar_ground_mounted_235057.Connected to LVStation_mvgd_40_lvgd_420075.\n",
      "No valid conn. target found for Generator_mvgd_40_lvgd_420075_solar_roof_mounted_1582385.Connected to LVStation_mvgd_40_lvgd_420075.\n",
      "No valid conn. target found for Generator_mvgd_40_lvgd_420075_solar_roof_mounted_233195.Connected to LVStation_mvgd_40_lvgd_420075.\n",
      "No valid conn. target found for Generator_mvgd_40_lvgd_420271_biogas_233051.Connected to LVStation_mvgd_40_lvgd_420271.\n",
      "No valid conn. target found for Generator_mvgd_40_lvgd_420271_hydro_232524.Connected to LVStation_mvgd_40_lvgd_420271.\n",
      "No valid conn. target found for Generator_mvgd_40_lvgd_420271_solar_ground_mounted_232669.Connected to LVStation_mvgd_40_lvgd_420271.\n",
      "No valid conn. target found for Generator_mvgd_40_lvgd_420271_solar_roof_mounted_235181.Connected to LVStation_mvgd_40_lvgd_420271.\n",
      "No valid conn. target found for Generator_mvgd_40_lvgd_3428_biogas_232551.Connected to LVStation_mvgd_40_lvgd_3428.\n",
      "No valid conn. target found for Generator_mvgd_40_lvgd_3428_solar_roof_mounted_233054.Connected to LVStation_mvgd_40_lvgd_3428.\n",
      "No valid conn. target found for Generator_mvgd_40_lvgd_420545_solar_ground_mounted_232635.Connected to LVStation_mvgd_40_lvgd_420545.\n",
      "No valid conn. target found for Generator_mvgd_40_lvgd_420545_solar_ground_mounted_232768.Connected to LVStation_mvgd_40_lvgd_420545.\n",
      "No valid conn. target found for Generator_mvgd_40_lvgd_3524_solar_ground_mounted_232534.Connected to LVStation_mvgd_40_lvgd_3524.\n",
      "No valid conn. target found for Generator_mvgd_40_lvgd_3524_solar_roof_mounted_233118.Connected to LVStation_mvgd_40_lvgd_3524.\n",
      "No valid conn. target found for Generator_mvgd_40_lvgd_420403_solar_ground_mounted_232759.Connected to LVStation_mvgd_40_lvgd_420403.\n",
      "No valid conn. target found for Generator_mvgd_40_lvgd_420403_solar_ground_mounted_235040.Connected to LVStation_mvgd_40_lvgd_420403.\n",
      "No valid conn. target found for Generator_mvgd_40_lvgd_420403_solar_ground_mounted_235087.Connected to LVStation_mvgd_40_lvgd_420403.\n",
      "No valid conn. target found for Generator_mvgd_40_lvgd_420403_solar_roof_mounted_232846.Connected to LVStation_mvgd_40_lvgd_420403.\n",
      "No valid conn. target found for Generator_mvgd_40_lvgd_3525_solar_roof_mounted_233032.Connected to LVStation_mvgd_40_lvgd_3525.\n",
      "No valid conn. target found for Generator_mvgd_40_lvgd_3528_solar_roof_mounted_233094.Connected to LVStation_mvgd_40_lvgd_3528.\n",
      "No valid conn. target found for Generator_mvgd_40_lvgd_483014_solar_roof_mounted_232838.Connected to LVStation_mvgd_40_lvgd_483014.\n",
      "No valid conn. target found for Generator_mvgd_40_lvgd_419972_solar_ground_mounted_232701.Connected to LVStation_mvgd_40_lvgd_419972.\n",
      "No valid conn. target found for Generator_mvgd_40_lvgd_419972_solar_roof_mounted_232996.Connected to LVStation_mvgd_40_lvgd_419972.\n",
      "No valid conn. target found for Generator_mvgd_40_lvgd_419803_solar_roof_mounted_233136.Connected to LVStation_mvgd_40_lvgd_419803.\n",
      "No valid conn. target found for Generator_mvgd_40_lvgd_419803_solar_roof_mounted_233163.Connected to LVStation_mvgd_40_lvgd_419803.\n",
      "No valid conn. target found for Generator_mvgd_40_lvgd_419522_solar_ground_mounted_235074.Connected to LVStation_mvgd_40_lvgd_419522.\n",
      "No valid conn. target found for Generator_mvgd_40_lvgd_420126_solar_roof_mounted_233096.Connected to LVStation_mvgd_40_lvgd_420126.\n",
      "No valid conn. target found for Generator_mvgd_40_lvgd_3840_solar_ground_mounted_232696.Connected to LVStation_mvgd_40_lvgd_3840.\n",
      "No valid conn. target found for Generator_mvgd_40_lvgd_3840_solar_ground_mounted_235058.Connected to LVStation_mvgd_40_lvgd_3840.\n",
      "No valid conn. target found for Generator_mvgd_40_lvgd_3840_solar_roof_mounted_233109.Connected to LVStation_mvgd_40_lvgd_3840.\n",
      "No valid conn. target found for Generator_mvgd_40_lvgd_3840_solar_roof_mounted_235124.Connected to LVStation_mvgd_40_lvgd_3840.\n",
      "No valid conn. target found for Generator_mvgd_40_lvgd_419745_biogas_233057.Connected to LVStation_mvgd_40_lvgd_419745.\n",
      "No valid conn. target found for Generator_mvgd_40_lvgd_419795_solar_roof_mounted_232923.Connected to LVStation_mvgd_40_lvgd_419795.\n",
      "No valid conn. target found for Generator_mvgd_40_lvgd_419606_solar_ground_mounted_232615.Connected to LVStation_mvgd_40_lvgd_419606.\n",
      "No valid conn. target found for Generator_mvgd_40_lvgd_419606_solar_ground_mounted_232731.Connected to LVStation_mvgd_40_lvgd_419606.\n",
      "No valid conn. target found for Generator_mvgd_40_lvgd_419606_solar_roof_mounted_235180.Connected to LVStation_mvgd_40_lvgd_419606.\n",
      "No valid conn. target found for Generator_mvgd_40_lvgd_4315_solar_ground_mounted_232601.Connected to LVStation_mvgd_40_lvgd_4315.\n",
      "No valid conn. target found for Generator_mvgd_40_lvgd_4315_solar_ground_mounted_232734.Connected to LVStation_mvgd_40_lvgd_4315.\n",
      "No valid conn. target found for Generator_mvgd_40_lvgd_4315_solar_ground_mounted_232758.Connected to LVStation_mvgd_40_lvgd_4315.\n",
      "No valid conn. target found for Generator_mvgd_40_lvgd_4315_solar_roof_mounted_232911.Connected to LVStation_mvgd_40_lvgd_4315.\n",
      "No valid conn. target found for Generator_mvgd_40_lvgd_4315_solar_roof_mounted_233098.Connected to LVStation_mvgd_40_lvgd_4315.\n",
      "No valid conn. target found for Generator_mvgd_40_lvgd_4315_solar_roof_mounted_233112.Connected to LVStation_mvgd_40_lvgd_4315.\n",
      "No valid conn. target found for Generator_mvgd_40_lvgd_4315_solar_roof_mounted_233121.Connected to LVStation_mvgd_40_lvgd_4315.\n",
      "No valid conn. target found for Generator_mvgd_40_lvgd_4315_solar_roof_mounted_235153.Connected to LVStation_mvgd_40_lvgd_4315.\n",
      "No valid conn. target found for Generator_mvgd_40_lvgd_4316_solar_ground_mounted_235068.Connected to LVStation_mvgd_40_lvgd_4316.\n",
      "No valid conn. target found for Generator_mvgd_40_lvgd_4316_solar_ground_mounted_235079.Connected to LVStation_mvgd_40_lvgd_4316.\n",
      "No valid conn. target found for Generator_mvgd_40_lvgd_4316_solar_roof_mounted_232908.Connected to LVStation_mvgd_40_lvgd_4316.\n",
      "No valid conn. target found for Generator_mvgd_40_lvgd_4316_solar_roof_mounted_233049.Connected to LVStation_mvgd_40_lvgd_4316.\n",
      "No valid conn. target found for Generator_mvgd_40_lvgd_4317_solar_ground_mounted_232721.Connected to LVStation_mvgd_40_lvgd_4317.\n",
      "No valid conn. target found for Generator_mvgd_40_lvgd_4317_solar_ground_mounted_232722.Connected to LVStation_mvgd_40_lvgd_4317.\n",
      "No valid conn. target found for Generator_mvgd_40_lvgd_4317_solar_ground_mounted_232761.Connected to LVStation_mvgd_40_lvgd_4317.\n",
      "No valid conn. target found for Generator_mvgd_40_lvgd_4317_solar_ground_mounted_235063.Connected to LVStation_mvgd_40_lvgd_4317.\n",
      "No valid conn. target found for Generator_mvgd_40_lvgd_4317_solar_roof_mounted_232781.Connected to LVStation_mvgd_40_lvgd_4317.\n",
      "No valid conn. target found for Generator_mvgd_40_lvgd_4317_solar_roof_mounted_233039.Connected to LVStation_mvgd_40_lvgd_4317.\n",
      "No valid conn. target found for Generator_mvgd_40_lvgd_4317_solar_roof_mounted_235103.Connected to LVStation_mvgd_40_lvgd_4317.\n",
      "No valid conn. target found for Generator_mvgd_40_lvgd_4318_solar_ground_mounted_232533.Connected to LVStation_mvgd_40_lvgd_4318.\n",
      "No valid conn. target found for Generator_mvgd_40_lvgd_4318_solar_ground_mounted_232752.Connected to LVStation_mvgd_40_lvgd_4318.\n",
      "No valid conn. target found for Generator_mvgd_40_lvgd_4318_solar_ground_mounted_235028.Connected to LVStation_mvgd_40_lvgd_4318.\n",
      "No valid conn. target found for Generator_mvgd_40_lvgd_4318_solar_roof_mounted_232971.Connected to LVStation_mvgd_40_lvgd_4318.\n",
      "No valid conn. target found for Generator_mvgd_40_lvgd_4318_solar_roof_mounted_233081.Connected to LVStation_mvgd_40_lvgd_4318.\n",
      "No valid conn. target found for Generator_mvgd_40_lvgd_4318_solar_roof_mounted_235091.Connected to LVStation_mvgd_40_lvgd_4318.\n",
      "No valid conn. target found for Generator_mvgd_40_lvgd_4319_solar_ground_mounted_232552.Connected to LVStation_mvgd_40_lvgd_4319.\n",
      "No valid conn. target found for Generator_mvgd_40_lvgd_4319_solar_ground_mounted_232613.Connected to LVStation_mvgd_40_lvgd_4319.\n",
      "No valid conn. target found for Generator_mvgd_40_lvgd_4319_solar_ground_mounted_232632.Connected to LVStation_mvgd_40_lvgd_4319.\n",
      "No valid conn. target found for Generator_mvgd_40_lvgd_4319_solar_ground_mounted_232751.Connected to LVStation_mvgd_40_lvgd_4319.\n",
      "No valid conn. target found for Generator_mvgd_40_lvgd_4319_solar_ground_mounted_235020.Connected to LVStation_mvgd_40_lvgd_4319.\n",
      "No valid conn. target found for Generator_mvgd_40_lvgd_4319_solar_roof_mounted_232815.Connected to LVStation_mvgd_40_lvgd_4319.\n",
      "No valid conn. target found for Generator_mvgd_40_lvgd_4319_solar_roof_mounted_232931.Connected to LVStation_mvgd_40_lvgd_4319.\n",
      "No valid conn. target found for Generator_mvgd_40_lvgd_4319_solar_roof_mounted_233157.Connected to LVStation_mvgd_40_lvgd_4319.\n",
      "No valid conn. target found for Generator_mvgd_40_lvgd_4320_solar_ground_mounted_232596.Connected to LVStation_mvgd_40_lvgd_4320.\n",
      "No valid conn. target found for Generator_mvgd_40_lvgd_4320_solar_ground_mounted_232702.Connected to LVStation_mvgd_40_lvgd_4320.\n",
      "No valid conn. target found for Generator_mvgd_40_lvgd_4320_solar_ground_mounted_235007.Connected to LVStation_mvgd_40_lvgd_4320.\n",
      "No valid conn. target found for Generator_mvgd_40_lvgd_4320_solar_ground_mounted_235081.Connected to LVStation_mvgd_40_lvgd_4320.\n",
      "No valid conn. target found for Generator_mvgd_40_lvgd_4320_solar_roof_mounted_232867.Connected to LVStation_mvgd_40_lvgd_4320.\n",
      "No valid conn. target found for Generator_mvgd_40_lvgd_4320_solar_roof_mounted_232980.Connected to LVStation_mvgd_40_lvgd_4320.\n",
      "No valid conn. target found for Generator_mvgd_40_lvgd_4320_solar_roof_mounted_232988.Connected to LVStation_mvgd_40_lvgd_4320.\n",
      "No valid conn. target found for Generator_mvgd_40_lvgd_4320_solar_roof_mounted_232995.Connected to LVStation_mvgd_40_lvgd_4320.\n",
      "No valid conn. target found for Generator_mvgd_40_lvgd_4320_solar_roof_mounted_233017.Connected to LVStation_mvgd_40_lvgd_4320.\n",
      "No valid conn. target found for Generator_mvgd_40_lvgd_4320_solar_roof_mounted_235143.Connected to LVStation_mvgd_40_lvgd_4320.\n",
      "No valid conn. target found for Generator_mvgd_40_lvgd_4321_solar_ground_mounted_232547.Connected to LVStation_mvgd_40_lvgd_4321.\n",
      "No valid conn. target found for Generator_mvgd_40_lvgd_4321_solar_ground_mounted_235060.Connected to LVStation_mvgd_40_lvgd_4321.\n",
      "No valid conn. target found for Generator_mvgd_40_lvgd_4322_solar_ground_mounted_235041.Connected to LVStation_mvgd_40_lvgd_4322.\n",
      "No valid conn. target found for Generator_mvgd_40_lvgd_4322_solar_roof_mounted_232963.Connected to LVStation_mvgd_40_lvgd_4322.\n",
      "No valid conn. target found for Generator_mvgd_40_lvgd_4322_solar_roof_mounted_233042.Connected to LVStation_mvgd_40_lvgd_4322.\n",
      "No valid conn. target found for Generator_mvgd_40_lvgd_4322_solar_roof_mounted_233137.Connected to LVStation_mvgd_40_lvgd_4322.\n",
      "No valid conn. target found for Generator_mvgd_40_lvgd_4322_solar_roof_mounted_233174.Connected to LVStation_mvgd_40_lvgd_4322.\n",
      "No valid conn. target found for Generator_mvgd_40_lvgd_4323_solar_ground_mounted_232638.Connected to LVStation_mvgd_40_lvgd_4323.\n",
      "No valid conn. target found for Generator_mvgd_40_lvgd_4323_solar_roof_mounted_233169.Connected to LVStation_mvgd_40_lvgd_4323.\n",
      "No valid conn. target found for Generator_mvgd_40_lvgd_4323_solar_roof_mounted_235174.Connected to LVStation_mvgd_40_lvgd_4323.\n",
      "No valid conn. target found for Generator_mvgd_40_lvgd_4324_solar_roof_mounted_232795.Connected to LVStation_mvgd_40_lvgd_4324.\n",
      "No valid conn. target found for Generator_mvgd_40_lvgd_4325_solar_ground_mounted_232577.Connected to LVStation_mvgd_40_lvgd_4325.\n",
      "No valid conn. target found for Generator_mvgd_40_lvgd_4325_solar_ground_mounted_232693.Connected to LVStation_mvgd_40_lvgd_4325.\n",
      "No valid conn. target found for Generator_mvgd_40_lvgd_4325_solar_roof_mounted_232958.Connected to LVStation_mvgd_40_lvgd_4325.\n",
      "No valid conn. target found for Generator_mvgd_40_lvgd_4325_solar_roof_mounted_233074.Connected to LVStation_mvgd_40_lvgd_4325.\n",
      "No valid conn. target found for Generator_mvgd_40_lvgd_4325_solar_roof_mounted_235140.Connected to LVStation_mvgd_40_lvgd_4325.\n",
      "No valid conn. target found for Generator_mvgd_40_lvgd_4325_solar_roof_mounted_235152.Connected to LVStation_mvgd_40_lvgd_4325.\n",
      "No valid conn. target found for Generator_mvgd_40_lvgd_4325_solar_roof_mounted_235160.Connected to LVStation_mvgd_40_lvgd_4325.\n",
      "No valid conn. target found for Generator_mvgd_40_lvgd_4563_solar_ground_mounted_232549.Connected to LVStation_mvgd_40_lvgd_4563.\n",
      "No valid conn. target found for Generator_mvgd_40_lvgd_4563_solar_ground_mounted_232660.Connected to LVStation_mvgd_40_lvgd_4563.\n",
      "No valid conn. target found for Generator_mvgd_40_lvgd_4563_solar_roof_mounted_232882.Connected to LVStation_mvgd_40_lvgd_4563.\n",
      "No valid conn. target found for Generator_mvgd_40_lvgd_4563_solar_roof_mounted_233007.Connected to LVStation_mvgd_40_lvgd_4563.\n",
      "No valid conn. target found for Generator_mvgd_40_lvgd_4564_solar_roof_mounted_235111.Connected to LVStation_mvgd_40_lvgd_4564.\n",
      "No valid conn. target found for Generator_mvgd_40_lvgd_418733_solar_ground_mounted_232583.Connected to LVStation_mvgd_40_lvgd_418733.\n",
      "No valid conn. target found for Generator_mvgd_40_lvgd_419414_solar_roof_mounted_235119.Connected to LVStation_mvgd_40_lvgd_419414.\n",
      "No valid conn. target found for Generator_mvgd_40_lvgd_483020_solar_ground_mounted_232656.Connected to LVStation_mvgd_40_lvgd_483020.\n",
      "No valid conn. target found for Generator_mvgd_40_lvgd_483020_solar_ground_mounted_232679.Connected to LVStation_mvgd_40_lvgd_483020.\n",
      "No valid conn. target found for Generator_mvgd_40_lvgd_483020_solar_roof_mounted_232877.Connected to LVStation_mvgd_40_lvgd_483020.\n",
      "No valid conn. target found for Generator_mvgd_40_lvgd_483021_solar_ground_mounted_232774.Connected to LVStation_mvgd_40_lvgd_483021.\n",
      "No valid conn. target found for Generator_mvgd_40_lvgd_483023_solar_ground_mounted_232574.Connected to LVStation_mvgd_40_lvgd_483023.\n",
      "No valid conn. target found for Generator_mvgd_40_lvgd_483023_solar_ground_mounted_232591.Connected to LVStation_mvgd_40_lvgd_483023.\n",
      "No valid conn. target found for Generator_mvgd_40_lvgd_483023_solar_ground_mounted_232672.Connected to LVStation_mvgd_40_lvgd_483023.\n",
      "No valid conn. target found for Generator_mvgd_40_lvgd_483023_solar_roof_mounted_232786.Connected to LVStation_mvgd_40_lvgd_483023.\n",
      "No valid conn. target found for Generator_mvgd_40_lvgd_483023_solar_roof_mounted_233086.Connected to LVStation_mvgd_40_lvgd_483023.\n",
      "No valid conn. target found for Generator_mvgd_40_lvgd_4900_solar_ground_mounted_232559.Connected to LVStation_mvgd_40_lvgd_4900.\n",
      "No valid conn. target found for Generator_mvgd_40_lvgd_4900_solar_ground_mounted_232643.Connected to LVStation_mvgd_40_lvgd_4900.\n",
      "No valid conn. target found for Generator_mvgd_40_lvgd_4900_solar_roof_mounted_232812.Connected to LVStation_mvgd_40_lvgd_4900.\n",
      "No valid conn. target found for Generator_mvgd_40_lvgd_4900_solar_roof_mounted_232871.Connected to LVStation_mvgd_40_lvgd_4900.\n",
      "No valid conn. target found for Generator_mvgd_40_lvgd_4900_solar_roof_mounted_233183.Connected to LVStation_mvgd_40_lvgd_4900.\n",
      "No valid conn. target found for Generator_mvgd_40_lvgd_4900_solar_roof_mounted_235115.Connected to LVStation_mvgd_40_lvgd_4900.\n",
      "No valid conn. target found for Generator_mvgd_40_lvgd_4901_solar_roof_mounted_232922.Connected to LVStation_mvgd_40_lvgd_4901.\n",
      "No valid conn. target found for Generator_mvgd_40_lvgd_4901_solar_roof_mounted_233178.Connected to LVStation_mvgd_40_lvgd_4901.\n",
      "No valid conn. target found for Generator_mvgd_40_lvgd_4902_solar_ground_mounted_232719.Connected to LVStation_mvgd_40_lvgd_4902.\n",
      "No valid conn. target found for Generator_mvgd_40_lvgd_4902_solar_ground_mounted_232771.Connected to LVStation_mvgd_40_lvgd_4902.\n",
      "No valid conn. target found for Generator_mvgd_40_lvgd_4902_solar_roof_mounted_232783.Connected to LVStation_mvgd_40_lvgd_4902.\n",
      "No valid conn. target found for Generator_mvgd_40_lvgd_4902_solar_roof_mounted_232805.Connected to LVStation_mvgd_40_lvgd_4902.\n",
      "No valid conn. target found for Generator_mvgd_40_lvgd_4902_solar_roof_mounted_233069.Connected to LVStation_mvgd_40_lvgd_4902.\n",
      "No valid conn. target found for Generator_mvgd_40_lvgd_4902_solar_roof_mounted_233117.Connected to LVStation_mvgd_40_lvgd_4902.\n",
      "No valid conn. target found for Generator_mvgd_40_lvgd_4903_solar_ground_mounted_235045.Connected to LVStation_mvgd_40_lvgd_4903.\n",
      "No valid conn. target found for Generator_mvgd_40_lvgd_4903_solar_roof_mounted_232828.Connected to LVStation_mvgd_40_lvgd_4903.\n",
      "No valid conn. target found for Generator_mvgd_40_lvgd_4904_solar_ground_mounted_232586.Connected to LVStation_mvgd_40_lvgd_4904.\n",
      "No valid conn. target found for Generator_mvgd_40_lvgd_4904_solar_roof_mounted_233067.Connected to LVStation_mvgd_40_lvgd_4904.\n",
      "No valid conn. target found for Generator_mvgd_40_lvgd_4904_solar_roof_mounted_235089.Connected to LVStation_mvgd_40_lvgd_4904.\n",
      "No valid conn. target found for Generator_mvgd_40_lvgd_4904_solar_roof_mounted_235146.Connected to LVStation_mvgd_40_lvgd_4904.\n",
      "No valid conn. target found for Generator_mvgd_40_lvgd_4904_solar_roof_mounted_235173.Connected to LVStation_mvgd_40_lvgd_4904.\n",
      "No valid conn. target found for Generator_mvgd_40_lvgd_4905_solar_ground_mounted_232627.Connected to LVStation_mvgd_40_lvgd_4905.\n",
      "No valid conn. target found for Generator_mvgd_40_lvgd_4905_solar_roof_mounted_232940.Connected to LVStation_mvgd_40_lvgd_4905.\n",
      "No valid conn. target found for Generator_mvgd_40_lvgd_4906_solar_ground_mounted_235043.Connected to LVStation_mvgd_40_lvgd_4906.\n",
      "No valid conn. target found for Generator_mvgd_40_lvgd_4906_solar_ground_mounted_235044.Connected to LVStation_mvgd_40_lvgd_4906.\n",
      "No valid conn. target found for Generator_mvgd_40_lvgd_4906_solar_roof_mounted_232901.Connected to LVStation_mvgd_40_lvgd_4906.\n",
      "No valid conn. target found for Generator_mvgd_40_lvgd_420378_solar_roof_mounted_233149.Connected to LVStation_mvgd_40_lvgd_420378.\n",
      "No valid conn. target found for Generator_mvgd_40_lvgd_419250_solar_roof_mounted_232896.Connected to LVStation_mvgd_40_lvgd_419250.\n",
      "No valid conn. target found for Generator_mvgd_40_lvgd_418044_solar_ground_mounted_232653.Connected to LVStation_mvgd_40_lvgd_418044.\n",
      "No valid conn. target found for Generator_mvgd_40_lvgd_418044_solar_roof_mounted_235108.Connected to LVStation_mvgd_40_lvgd_418044.\n",
      "No valid conn. target found for Generator_mvgd_40_lvgd_420154_solar_roof_mounted_232793.Connected to LVStation_mvgd_40_lvgd_420154.\n",
      "No valid conn. target found for Generator_mvgd_40_lvgd_420223_solar_ground_mounted_232612.Connected to LVStation_mvgd_40_lvgd_420223.\n",
      "No valid conn. target found for Generator_mvgd_40_lvgd_510464_solar_roof_mounted_1602830.Connected to LVStation_mvgd_40_lvgd_510464.\n",
      "No valid conn. target found for Generator_mvgd_40_lvgd_510464_solar_roof_mounted_232910.Connected to LVStation_mvgd_40_lvgd_510464.\n",
      "No valid conn. target found for Generator_mvgd_40_lvgd_5119_solar_ground_mounted_232777.Connected to LVStation_mvgd_40_lvgd_5119.\n",
      "No valid conn. target found for Generator_mvgd_40_lvgd_5119_solar_roof_mounted_235105.Connected to LVStation_mvgd_40_lvgd_5119.\n",
      "No valid conn. target found for Generator_mvgd_40_lvgd_5119_solar_roof_mounted_235155.Connected to LVStation_mvgd_40_lvgd_5119.\n",
      "No valid conn. target found for Generator_mvgd_40_lvgd_5119_solar_roof_mounted_235178.Connected to LVStation_mvgd_40_lvgd_5119.\n",
      "No valid conn. target found for Generator_mvgd_40_lvgd_5120_solar_ground_mounted_232600.Connected to LVStation_mvgd_40_lvgd_5120.\n",
      "No valid conn. target found for Generator_mvgd_40_lvgd_5120_solar_roof_mounted_232816.Connected to LVStation_mvgd_40_lvgd_5120.\n",
      "No valid conn. target found for Generator_mvgd_40_lvgd_5120_solar_roof_mounted_232852.Connected to LVStation_mvgd_40_lvgd_5120.\n",
      "No valid conn. target found for Generator_mvgd_40_lvgd_419230_solar_ground_mounted_232764.Connected to LVStation_mvgd_40_lvgd_419230.\n",
      "No valid conn. target found for Generator_mvgd_40_lvgd_419230_solar_roof_mounted_233188.Connected to LVStation_mvgd_40_lvgd_419230.\n",
      "No valid conn. target found for Generator_mvgd_40_lvgd_418188_hydro_232529.Connected to LVStation_mvgd_40_lvgd_418188.\n",
      "No valid conn. target found for Generator_mvgd_40_lvgd_418188_solar_ground_mounted_235086.Connected to LVStation_mvgd_40_lvgd_418188.\n",
      "No valid conn. target found for Generator_mvgd_40_lvgd_5163_solar_ground_mounted_232688.Connected to LVStation_mvgd_40_lvgd_5163.\n",
      "No valid conn. target found for Generator_mvgd_40_lvgd_5164_solar_ground_mounted_232553.Connected to LVStation_mvgd_40_lvgd_5164.\n",
      "No valid conn. target found for Generator_mvgd_40_lvgd_5164_solar_ground_mounted_235055.Connected to LVStation_mvgd_40_lvgd_5164.\n",
      "No valid conn. target found for Generator_mvgd_40_lvgd_5639_solar_ground_mounted_232685.Connected to LVStation_mvgd_40_lvgd_5639.\n",
      "No valid conn. target found for Generator_mvgd_40_lvgd_5639_solar_ground_mounted_232687.Connected to LVStation_mvgd_40_lvgd_5639.\n",
      "No valid conn. target found for Generator_mvgd_40_lvgd_5639_solar_ground_mounted_232718.Connected to LVStation_mvgd_40_lvgd_5639.\n",
      "No valid conn. target found for Generator_mvgd_40_lvgd_5639_solar_ground_mounted_235004.Connected to LVStation_mvgd_40_lvgd_5639.\n",
      "No valid conn. target found for Generator_mvgd_40_lvgd_5639_solar_roof_mounted_232860.Connected to LVStation_mvgd_40_lvgd_5639.\n",
      "No valid conn. target found for Generator_mvgd_40_lvgd_5639_solar_roof_mounted_232887.Connected to LVStation_mvgd_40_lvgd_5639.\n",
      "No valid conn. target found for Generator_mvgd_40_lvgd_5640_solar_ground_mounted_235003.Connected to LVStation_mvgd_40_lvgd_5640.\n",
      "No valid conn. target found for Generator_mvgd_40_lvgd_5640_solar_roof_mounted_232824.Connected to LVStation_mvgd_40_lvgd_5640.\n",
      "No valid conn. target found for Generator_mvgd_40_lvgd_5640_solar_roof_mounted_233058.Connected to LVStation_mvgd_40_lvgd_5640.\n",
      "No valid conn. target found for Generator_mvgd_40_lvgd_5640_solar_roof_mounted_235144.Connected to LVStation_mvgd_40_lvgd_5640.\n",
      "No valid conn. target found for Generator_mvgd_40_lvgd_5792_solar_roof_mounted_232801.Connected to LVStation_mvgd_40_lvgd_5792.\n",
      "No valid conn. target found for Generator_mvgd_40_lvgd_5826_solar_ground_mounted_232654.Connected to LVStation_mvgd_40_lvgd_5826.\n",
      "No valid conn. target found for Generator_mvgd_40_lvgd_5826_solar_roof_mounted_232985.Connected to LVStation_mvgd_40_lvgd_5826.\n",
      "No valid conn. target found for Generator_mvgd_40_lvgd_5827_solar_ground_mounted_232756.Connected to LVStation_mvgd_40_lvgd_5827.\n",
      "No valid conn. target found for Generator_mvgd_40_lvgd_419093_solar_ground_mounted_235042.Connected to LVStation_mvgd_40_lvgd_419093.\n",
      "No valid conn. target found for Generator_mvgd_40_lvgd_419415_solar_ground_mounted_235080.Connected to LVStation_mvgd_40_lvgd_419415.\n",
      "No valid conn. target found for Generator_mvgd_40_lvgd_5918_solar_ground_mounted_232683.Connected to LVStation_mvgd_40_lvgd_5918.\n",
      "No valid conn. target found for Generator_mvgd_40_lvgd_5918_solar_roof_mounted_232991.Connected to LVStation_mvgd_40_lvgd_5918.\n",
      "No valid conn. target found for Generator_mvgd_40_lvgd_5918_solar_roof_mounted_235113.Connected to LVStation_mvgd_40_lvgd_5918.\n",
      "No valid conn. target found for Generator_mvgd_40_lvgd_5929_solar_ground_mounted_232543.Connected to LVStation_mvgd_40_lvgd_5929.\n",
      "No valid conn. target found for Generator_mvgd_40_lvgd_5929_solar_ground_mounted_232668.Connected to LVStation_mvgd_40_lvgd_5929.\n",
      "No valid conn. target found for Generator_mvgd_40_lvgd_5929_solar_ground_mounted_235011.Connected to LVStation_mvgd_40_lvgd_5929.\n",
      "No valid conn. target found for Generator_mvgd_40_lvgd_5929_solar_roof_mounted_232811.Connected to LVStation_mvgd_40_lvgd_5929.\n",
      "No valid conn. target found for Generator_mvgd_40_lvgd_5929_solar_roof_mounted_233088.Connected to LVStation_mvgd_40_lvgd_5929.\n",
      "No valid conn. target found for Generator_mvgd_40_lvgd_5929_solar_roof_mounted_233115.Connected to LVStation_mvgd_40_lvgd_5929.\n",
      "No valid conn. target found for Generator_mvgd_40_lvgd_5929_solar_roof_mounted_235133.Connected to LVStation_mvgd_40_lvgd_5929.\n",
      "No valid conn. target found for Generator_mvgd_40_lvgd_5958_solar_roof_mounted_232913.Connected to LVStation_mvgd_40_lvgd_5958.\n",
      "No valid conn. target found for Generator_mvgd_40_lvgd_5958_solar_roof_mounted_233072.Connected to LVStation_mvgd_40_lvgd_5958.\n",
      "No valid conn. target found for Generator_mvgd_40_lvgd_5958_solar_roof_mounted_233193.Connected to LVStation_mvgd_40_lvgd_5958.\n",
      "No valid conn. target found for Generator_mvgd_40_lvgd_5959_solar_ground_mounted_232567.Connected to LVStation_mvgd_40_lvgd_5959.\n",
      "No valid conn. target found for Generator_mvgd_40_lvgd_5959_solar_ground_mounted_232611.Connected to LVStation_mvgd_40_lvgd_5959.\n",
      "No valid conn. target found for Generator_mvgd_40_lvgd_5959_solar_ground_mounted_232636.Connected to LVStation_mvgd_40_lvgd_5959.\n",
      "No valid conn. target found for Generator_mvgd_40_lvgd_5959_solar_ground_mounted_232694.Connected to LVStation_mvgd_40_lvgd_5959.\n",
      "No valid conn. target found for Generator_mvgd_40_lvgd_420151_hydro_232831.Connected to LVStation_mvgd_40_lvgd_420151.\n",
      "No valid conn. target found for Generator_mvgd_40_lvgd_420151_solar_roof_mounted_233187.Connected to LVStation_mvgd_40_lvgd_420151.\n"
     ]
    }
   ],
   "source": [
    "nd.connect_generators(debug=False)"
   ]
  },
  {
   "cell_type": "code",
   "execution_count": 27,
   "metadata": {},
   "outputs": [
    {
     "data": {
      "text/plain": [
       "{'id_db': 420382,\n",
       " 'geo_data': <shapely.geometry.multipolygon.MultiPolygon at 0x2dd6650a700>,\n",
       " 'lv_load_area': lv_load_area_2128,\n",
       " 'lv_grid': lv_grid_420382,\n",
       " 'population': 4,\n",
       " 'peak_load_residential': 1.39742806193774,\n",
       " 'peak_load_retail': 0.0,\n",
       " 'peak_load_industrial': 0.0,\n",
       " 'peak_load_agricultural': 0.0,\n",
       " 'peak_load': 1.39742806193774,\n",
       " 'sector_count_residential': 0,\n",
       " 'sector_count_retail': 0,\n",
       " 'sector_count_industrial': 0,\n",
       " 'sector_count_agricultural': 0,\n",
       " 'sector_consumption_residential': 6538.59284080918,\n",
       " 'sector_consumption_retail': 0.0,\n",
       " 'sector_consumption_industrial': 0.0,\n",
       " 'sector_consumption_agricultural': 0.0,\n",
       " 'mvlv_subst_id': None,\n",
       " 'graph_district': None,\n",
       " 'load_level': None,\n",
       " 'buildings': None}"
      ]
     },
     "execution_count": 27,
     "metadata": {},
     "output_type": "execute_result"
    }
   ],
   "source": [
    "nd._mv_grid_districts[0]._lv_load_areas[0]._lv_grid_districts[0].__dict__"
   ]
  },
  {
   "cell_type": "code",
   "execution_count": 14,
   "metadata": {},
   "outputs": [
    {
     "data": {
      "text/plain": [
       "LVCableDist_mvgd_40_lvgd_420382_1"
      ]
     },
     "execution_count": 14,
     "metadata": {},
     "output_type": "execute_result"
    }
   ],
   "source": [
    "nd._mv_grid_districts[0]._lv_load_areas[0]._lv_grid_districts[0].lv_grid._cable_distributors[0]"
   ]
  },
  {
   "cell_type": "code",
   "execution_count": 13,
   "metadata": {},
   "outputs": [
    {
     "data": {
      "text/plain": [
       "{'id_db': 1,\n",
       " 'geo_data': None,\n",
       " 'grid': lv_grid_420382,\n",
       " 'string_id': 2,\n",
       " 'branch_no': 1,\n",
       " 'load_no': 1,\n",
       " 'in_building': False,\n",
       " 'geometry': None}"
      ]
     },
     "execution_count": 13,
     "metadata": {},
     "output_type": "execute_result"
    }
   ],
   "source": [
    "nd._mv_grid_districts[0]._lv_load_areas[0]._lv_grid_districts[0].lv_grid._cable_distributors[0].__dict__"
   ]
  },
  {
   "cell_type": "code",
   "execution_count": 32,
   "metadata": {},
   "outputs": [
    {
     "data": {
      "text/plain": [
       "{'id_db': 5929,\n",
       " 'geo_data': <shapely.geometry.multipolygon.MultiPolygon at 0x2dd6661c550>,\n",
       " 'lv_load_area': lv_load_area_5529,\n",
       " 'lv_grid': lv_grid_5929,\n",
       " 'population': 63,\n",
       " 'peak_load_residential': 22.0094919755194,\n",
       " 'peak_load_retail': 0.0,\n",
       " 'peak_load_industrial': 0.0,\n",
       " 'peak_load_agricultural': 0.0,\n",
       " 'peak_load': 22.0094919755194,\n",
       " 'sector_count_residential': 0,\n",
       " 'sector_count_retail': 0,\n",
       " 'sector_count_industrial': 0,\n",
       " 'sector_count_agricultural': 0,\n",
       " 'sector_consumption_residential': 102982.837242745,\n",
       " 'sector_consumption_retail': 0.0,\n",
       " 'sector_consumption_industrial': 0.0,\n",
       " 'sector_consumption_agricultural': 0.0,\n",
       " 'mvlv_subst_id': None,\n",
       " 'graph_district': None,\n",
       " 'load_level': None,\n",
       " 'buildings': None}"
      ]
     },
     "execution_count": 32,
     "metadata": {},
     "output_type": "execute_result"
    }
   ],
   "source": [
    "nd._mv_grid_districts[0]._lv_load_areas[70]._lv_grid_districts[0].__dict__"
   ]
  },
  {
   "cell_type": "code",
   "execution_count": 31,
   "metadata": {},
   "outputs": [
    {
     "data": {
      "text/plain": [
       "{'id_db': 232543,\n",
       " 'name': None,\n",
       " 'geo_data': <shapely.geometry.point.Point at 0x2dd6662b850>,\n",
       " 'mv_grid': mv_grid_40,\n",
       " 'lv_load_area': lv_load_area_5529,\n",
       " 'lv_grid': lv_grid_5929,\n",
       " 'capacity': 3.0,\n",
       " 'capacity_factor': 1,\n",
       " 'type': 'solar',\n",
       " 'subtype': 'solar_ground_mounted',\n",
       " 'v_level': 7,\n",
       " '_weather_cell_id': 1127074}"
      ]
     },
     "execution_count": 31,
     "metadata": {},
     "output_type": "execute_result"
    }
   ],
   "source": [
    "nd._mv_grid_districts[0]._lv_load_areas[70]._lv_grid_districts[0].lv_grid._generators[0].__dict__"
   ]
  },
  {
   "cell_type": "code",
   "execution_count": 30,
   "metadata": {},
   "outputs": [
    {
     "data": {
      "text/plain": [
       "{'id_db': 235013,\n",
       " 'name': None,\n",
       " 'geo_data': <shapely.geometry.point.Point at 0x2dd66759400>,\n",
       " 'mv_grid': mv_grid_40,\n",
       " 'lv_load_area': lv_load_area_2292,\n",
       " 'lv_grid': lv_grid_419907,\n",
       " 'capacity': 1.0,\n",
       " 'capacity_factor': 1,\n",
       " 'type': 'solar',\n",
       " 'subtype': 'solar_ground_mounted',\n",
       " 'v_level': 7,\n",
       " '_weather_cell_id': 1127074}"
      ]
     },
     "execution_count": 30,
     "metadata": {},
     "output_type": "execute_result"
    }
   ],
   "source": [
    "nd._mv_grid_districts[0]._lv_load_areas[1]._lv_grid_districts[0].lv_grid._generators[0].__dict__"
   ]
  },
  {
   "cell_type": "code",
   "execution_count": 29,
   "metadata": {},
   "outputs": [
    {
     "data": {
      "text/plain": [
       "{'id_db': 235137,\n",
       " 'name': None,\n",
       " 'geo_data': <shapely.geometry.point.Point at 0x2dd66776ac0>,\n",
       " 'mv_grid': mv_grid_40,\n",
       " 'lv_load_area': lv_load_area_2292,\n",
       " 'lv_grid': lv_grid_419907,\n",
       " 'capacity': 138.0,\n",
       " 'capacity_factor': 1,\n",
       " 'type': 'solar',\n",
       " 'subtype': 'solar_roof_mounted',\n",
       " 'v_level': 6,\n",
       " '_weather_cell_id': 1127074}"
      ]
     },
     "execution_count": 29,
     "metadata": {},
     "output_type": "execute_result"
    }
   ],
   "source": [
    "nd._mv_grid_districts[0]._lv_load_areas[1]._lv_grid_districts[0].lv_grid._generators[1].__dict__"
   ]
  },
  {
   "cell_type": "code",
   "execution_count": null,
   "metadata": {},
   "outputs": [
    {
     "data": {
      "text/html": [
       "<div>\n",
       "<style scoped>\n",
       "    .dataframe tbody tr th:only-of-type {\n",
       "        vertical-align: middle;\n",
       "    }\n",
       "\n",
       "    .dataframe tbody tr th {\n",
       "        vertical-align: top;\n",
       "    }\n",
       "\n",
       "    .dataframe thead th {\n",
       "        text-align: right;\n",
       "    }\n",
       "</style>\n",
       "<table border=\"1\" class=\"dataframe\">\n",
       "  <thead>\n",
       "    <tr style=\"text-align: right;\">\n",
       "      <th></th>\n",
       "      <th>U_n</th>\n",
       "      <th>I_max_th</th>\n",
       "      <th>R_per_km</th>\n",
       "      <th>L_per_km</th>\n",
       "    </tr>\n",
       "    <tr>\n",
       "      <th>name</th>\n",
       "      <th></th>\n",
       "      <th></th>\n",
       "      <th></th>\n",
       "      <th></th>\n",
       "    </tr>\n",
       "  </thead>\n",
       "  <tbody>\n",
       "    <tr>\n",
       "      <th>NAYY 4x1x300</th>\n",
       "      <td>400</td>\n",
       "      <td>419</td>\n",
       "      <td>0.100</td>\n",
       "      <td>0.279</td>\n",
       "    </tr>\n",
       "    <tr>\n",
       "      <th>NAYY 4x1x240</th>\n",
       "      <td>400</td>\n",
       "      <td>364</td>\n",
       "      <td>0.125</td>\n",
       "      <td>0.254</td>\n",
       "    </tr>\n",
       "    <tr>\n",
       "      <th>NAYY 4x1x185</th>\n",
       "      <td>400</td>\n",
       "      <td>313</td>\n",
       "      <td>0.164</td>\n",
       "      <td>0.256</td>\n",
       "    </tr>\n",
       "    <tr>\n",
       "      <th>NAYY 4x1x150</th>\n",
       "      <td>400</td>\n",
       "      <td>275</td>\n",
       "      <td>0.206</td>\n",
       "      <td>0.256</td>\n",
       "    </tr>\n",
       "    <tr>\n",
       "      <th>NAYY 4x1x120</th>\n",
       "      <td>400</td>\n",
       "      <td>245</td>\n",
       "      <td>0.253</td>\n",
       "      <td>0.256</td>\n",
       "    </tr>\n",
       "    <tr>\n",
       "      <th>NAYY 4x1x95</th>\n",
       "      <td>400</td>\n",
       "      <td>215</td>\n",
       "      <td>0.320</td>\n",
       "      <td>0.261</td>\n",
       "    </tr>\n",
       "    <tr>\n",
       "      <th>NAYY 4x1x50</th>\n",
       "      <td>400</td>\n",
       "      <td>144</td>\n",
       "      <td>0.449</td>\n",
       "      <td>0.270</td>\n",
       "    </tr>\n",
       "    <tr>\n",
       "      <th>NAYY 4x1x35</th>\n",
       "      <td>400</td>\n",
       "      <td>123</td>\n",
       "      <td>0.868</td>\n",
       "      <td>0.271</td>\n",
       "    </tr>\n",
       "  </tbody>\n",
       "</table>\n",
       "</div>"
      ],
      "text/plain": [
       "              U_n  I_max_th  R_per_km  L_per_km\n",
       "name                                           \n",
       "NAYY 4x1x300  400       419     0.100     0.279\n",
       "NAYY 4x1x240  400       364     0.125     0.254\n",
       "NAYY 4x1x185  400       313     0.164     0.256\n",
       "NAYY 4x1x150  400       275     0.206     0.256\n",
       "NAYY 4x1x120  400       245     0.253     0.256\n",
       "NAYY 4x1x95   400       215     0.320     0.261\n",
       "NAYY 4x1x50   400       144     0.449     0.270\n",
       "NAYY 4x1x35   400       123     0.868     0.271"
      ]
     },
     "execution_count": 50,
     "metadata": {},
     "output_type": "execute_result"
    }
   ],
   "source": [
    "\n",
    "elements[0].network.static_data['LV_cables']"
   ]
  },
  {
   "cell_type": "code",
   "execution_count": 43,
   "metadata": {},
   "outputs": [
    {
     "data": {
      "text/plain": [
       "{'id_db': 2128,\n",
       " 'geo_data': <shapely.geometry.polygon.Polygon at 0x2c403346ee0>,\n",
       " 'lv_load_area': lv_load_area_2128,\n",
       " 'lv_grid': lv_grid_2128,\n",
       " 'population': None,\n",
       " 'peak_load_residential': None,\n",
       " 'peak_load_retail': None,\n",
       " 'peak_load_industrial': None,\n",
       " 'peak_load_agricultural': None,\n",
       " 'peak_load': 3.440542100000001,\n",
       " 'sector_count_residential': None,\n",
       " 'sector_count_retail': None,\n",
       " 'sector_count_industrial': None,\n",
       " 'sector_count_agricultural': None,\n",
       " 'sector_consumption_residential': None,\n",
       " 'sector_consumption_retail': None,\n",
       " 'sector_consumption_industrial': None,\n",
       " 'sector_consumption_agricultural': None,\n",
       " 'mvlv_subst_id': 0,\n",
       " 'graph_district': <networkx.classes.multidigraph.MultiDiGraph at 0x2c403346be0>,\n",
       " 'load_level': 'lv',\n",
       " 'buildings':               category      area  \\\n",
       " osm_id                             \n",
       " 121254826  residential  1063.060   \n",
       " 285821993  residential   650.438   \n",
       " 971421893       chapel   236.021   \n",
       " \n",
       "                                                     geometry  \\\n",
       " osm_id                                                         \n",
       " 121254826  POLYGON ((4284384.933772514 2725229.425153703,...   \n",
       " 285821993  POLYGON ((4284435.943428256 2725276.335724954,...   \n",
       " 971421893  POLYGON ((4284406.968089831 2725240.447235622,...   \n",
       " \n",
       "                                  raccordement_building  \\\n",
       " osm_id                                                   \n",
       " 121254826    POINT (4284397.64322427 2725231.60730715)   \n",
       " 285821993   POINT (4284448.99985888 2725267.609138271)   \n",
       " 971421893  POINT (4284414.241857724 2725234.829397242)   \n",
       " \n",
       "                                    name  number_households  \\\n",
       " osm_id                                                       \n",
       " 121254826  Don-Bosco-Haus (Tagungshaus)                1.0   \n",
       " 285821993                          None                1.0   \n",
       " 971421893                          None                1.0   \n",
       " \n",
       "            n_amenities_inside             x             y  capacity  \\\n",
       " osm_id                                                                \n",
       " 121254826                   1  4.284398e+06  2.725232e+06  1.708470   \n",
       " 285821993                   1  4.284449e+06  2.725268e+06  1.708470   \n",
       " 971421893                   1  4.284414e+06  2.725235e+06  0.023602   \n",
       " \n",
       "                    nn    nn_dist                                    nn_coords  \\\n",
       " osm_id                                                                          \n",
       " 121254826    29585231  46.640970  POINT (4284444.248370417 2725229.779617371)   \n",
       " 285821993  2923114678  26.262987  POINT (4284472.956745268 2725256.847536233)   \n",
       " 971421893    29585231  30.428458  POINT (4284444.248370417 2725229.779617371)   \n",
       " \n",
       "            cluster  \n",
       " osm_id              \n",
       " 121254826      0.0  \n",
       " 285821993      0.0  \n",
       " 971421893      0.0  }"
      ]
     },
     "execution_count": 43,
     "metadata": {},
     "output_type": "execute_result"
    }
   ],
   "source": [
    "elements[1].__dict__"
   ]
  },
  {
   "cell_type": "code",
   "execution_count": 17,
   "metadata": {},
   "outputs": [
    {
     "data": {
      "text/plain": [
       "<networkx.classes.graph.Graph at 0x2c403375610>"
      ]
     },
     "execution_count": 17,
     "metadata": {},
     "output_type": "execute_result"
    }
   ],
   "source": [
    "elements[0]._graph"
   ]
  },
  {
   "cell_type": "code",
   "execution_count": 25,
   "metadata": {},
   "outputs": [
    {
     "data": {
      "text/plain": [
       "<networkx.classes.multidigraph.MultiDiGraph at 0x2c403346be0>"
      ]
     },
     "execution_count": 25,
     "metadata": {},
     "output_type": "execute_result"
    }
   ],
   "source": [
    "elements[1].graph_district"
   ]
  },
  {
   "cell_type": "code",
   "execution_count": 40,
   "metadata": {},
   "outputs": [
    {
     "name": "stdout",
     "output_type": "stream",
     "text": [
      "LVStation_mvgd_40_lvgd_2128\n"
     ]
    }
   ],
   "source": [
    "for n in elements[0]._graph.nodes:\n",
    "    print(n)\n",
    "    break"
   ]
  },
  {
   "cell_type": "code",
   "execution_count": 41,
   "metadata": {},
   "outputs": [
    {
     "data": {
      "text/plain": [
       "{'id_db': 2128,\n",
       " 'geo_data': <shapely.geometry.point.Point at 0x2c403375640>,\n",
       " 'grid': lv_grid_2128,\n",
       " '_transformers': [Transformer_lv_grid_2128_1],\n",
       " 'v_level_operation': None,\n",
       " 'lv_load_area': lv_load_area_2128,\n",
       " 'osm_id_node': 29585231}"
      ]
     },
     "execution_count": 41,
     "metadata": {},
     "output_type": "execute_result"
    }
   ],
   "source": [
    "n.__dict__"
   ]
  },
  {
   "cell_type": "code",
   "execution_count": 11,
   "metadata": {},
   "outputs": [
    {
     "data": {
      "text/plain": [
       "{'id_db': 2128,\n",
       " 'geo_data': <shapely.geometry.point.Point at 0x21274db6190>,\n",
       " 'grid': lv_grid_2128,\n",
       " '_transformers': [Transformer_lv_grid_2128_1],\n",
       " 'v_level_operation': None,\n",
       " 'lv_load_area': lv_load_area_2128,\n",
       " 'osm_id_node': 29585231}"
      ]
     },
     "execution_count": 11,
     "metadata": {},
     "output_type": "execute_result"
    }
   ],
   "source": [
    "e.grid_district.lv_grid._station.__dict__"
   ]
  },
  {
   "cell_type": "code",
   "execution_count": 12,
   "metadata": {},
   "outputs": [
    {
     "data": {
      "text/plain": [
       "{'network': network,\n",
       " 'id_db': 2128,\n",
       " 'grid_district': lv_grid_district_2128,\n",
       " '_cable_distributors': [],\n",
       " '_loads': [],\n",
       " '_generators': [Generator_mvgd_40_lvgd_2128_solar_roof_mounted_232788,\n",
       "  Generator_mvgd_40_lvgd_2128_solar_roof_mounted_233043,\n",
       "  Generator_mvgd_40_lvgd_2128_solar_roof_mounted_233071,\n",
       "  Generator_mvgd_40_lvgd_2128_solar_roof_mounted_233084,\n",
       "  Generator_mvgd_40_lvgd_2128_solar_roof_mounted_233176,\n",
       "  Generator_mvgd_40_lvgd_2128_solar_roof_mounted_233184,\n",
       "  Generator_mvgd_40_lvgd_2128_solar_roof_mounted_235165,\n",
       "  Generator_mvgd_40_lvgd_2128_solar_roof_mounted_1602830],\n",
       " 'v_level': 400,\n",
       " '_graph': <networkx.classes.graph.Graph at 0x21274db6160>,\n",
       " 'default_branch_kind': 'cable',\n",
       " '_station': LVStation_mvgd_40_lvgd_2128,\n",
       " 'population': None}"
      ]
     },
     "execution_count": 12,
     "metadata": {},
     "output_type": "execute_result"
    }
   ],
   "source": [
    "e.grid_district.lv_grid.__dict__"
   ]
  },
  {
   "cell_type": "code",
   "execution_count": 19,
   "metadata": {},
   "outputs": [
    {
     "data": {
      "text/plain": [
       "{'id_db': 2128,\n",
       " 'geo_data': <shapely.geometry.point.Point at 0x21274db6190>,\n",
       " 'grid': lv_grid_2128,\n",
       " '_transformers': [Transformer_lv_grid_2128_1],\n",
       " 'v_level_operation': None,\n",
       " 'lv_load_area': lv_load_area_2128,\n",
       " 'osm_id_node': 29585231}"
      ]
     },
     "execution_count": 19,
     "metadata": {},
     "output_type": "execute_result"
    }
   ],
   "source": [
    "e.grid_district.lv_grid._station.__dict__"
   ]
  },
  {
   "cell_type": "code",
   "execution_count": 13,
   "metadata": {},
   "outputs": [
    {
     "data": {
      "text/plain": [
       "{'id_db': 1,\n",
       " 'grid': lv_grid_2128,\n",
       " 'v_level': 0.4,\n",
       " 's_max_a': 100.0,\n",
       " 's_max_b': None,\n",
       " 's_max_c': None,\n",
       " 'phase_angle': None,\n",
       " 'tap_ratio': None,\n",
       " 'r_pu': 0.0175,\n",
       " 'x_pu': 0.035968736424845396}"
      ]
     },
     "execution_count": 13,
     "metadata": {},
     "output_type": "execute_result"
    }
   ],
   "source": [
    "e.grid_district.lv_grid._station._transformers[0].__dict__"
   ]
  },
  {
   "cell_type": "code",
   "execution_count": 18,
   "metadata": {},
   "outputs": [
    {
     "data": {
      "text/plain": [
       "{'id_db': 1,\n",
       " 'grid': lv_grid_2128,\n",
       " 'v_level': 0.4,\n",
       " 's_max_a': 250.0,\n",
       " 's_max_b': None,\n",
       " 's_max_c': None,\n",
       " 'phase_angle': None,\n",
       " 'tap_ratio': None,\n",
       " 'r_pu': 0.013,\n",
       " 'x_pu': 0.037828560638755476}"
      ]
     },
     "execution_count": 18,
     "metadata": {},
     "output_type": "execute_result"
    }
   ],
   "source": [
    "e.grid_district.lv_grid._station._transformers[0].__dict__"
   ]
  },
  {
   "cell_type": "code",
   "execution_count": 22,
   "metadata": {},
   "outputs": [
    {
     "data": {
      "text/html": [
       "<div>\n",
       "<style scoped>\n",
       "    .dataframe tbody tr th:only-of-type {\n",
       "        vertical-align: middle;\n",
       "    }\n",
       "\n",
       "    .dataframe tbody tr th {\n",
       "        vertical-align: top;\n",
       "    }\n",
       "\n",
       "    .dataframe thead th {\n",
       "        text-align: right;\n",
       "    }\n",
       "</style>\n",
       "<table border=\"1\" class=\"dataframe\">\n",
       "  <thead>\n",
       "    <tr style=\"text-align: right;\">\n",
       "      <th></th>\n",
       "      <th>category</th>\n",
       "      <th>area</th>\n",
       "      <th>geometry</th>\n",
       "      <th>raccordement_building</th>\n",
       "      <th>name</th>\n",
       "      <th>number_households</th>\n",
       "      <th>n_amenities_inside</th>\n",
       "      <th>x</th>\n",
       "      <th>y</th>\n",
       "      <th>capacity</th>\n",
       "      <th>nn</th>\n",
       "      <th>nn_dist</th>\n",
       "      <th>nn_coords</th>\n",
       "      <th>cluster</th>\n",
       "    </tr>\n",
       "    <tr>\n",
       "      <th>osm_id</th>\n",
       "      <th></th>\n",
       "      <th></th>\n",
       "      <th></th>\n",
       "      <th></th>\n",
       "      <th></th>\n",
       "      <th></th>\n",
       "      <th></th>\n",
       "      <th></th>\n",
       "      <th></th>\n",
       "      <th></th>\n",
       "      <th></th>\n",
       "      <th></th>\n",
       "      <th></th>\n",
       "      <th></th>\n",
       "    </tr>\n",
       "  </thead>\n",
       "  <tbody>\n",
       "    <tr>\n",
       "      <th>121254826</th>\n",
       "      <td>residential</td>\n",
       "      <td>1063.060</td>\n",
       "      <td>POLYGON ((4284384.933772514 2725229.425153703,...</td>\n",
       "      <td>POINT (4284397.64322427 2725231.60730715)</td>\n",
       "      <td>Don-Bosco-Haus (Tagungshaus)</td>\n",
       "      <td>1.0</td>\n",
       "      <td>1</td>\n",
       "      <td>4.284398e+06</td>\n",
       "      <td>2.725232e+06</td>\n",
       "      <td>1.708470</td>\n",
       "      <td>29585231</td>\n",
       "      <td>46.640970</td>\n",
       "      <td>POINT (4284444.248370417 2725229.779617371)</td>\n",
       "      <td>0.0</td>\n",
       "    </tr>\n",
       "    <tr>\n",
       "      <th>285821993</th>\n",
       "      <td>residential</td>\n",
       "      <td>650.438</td>\n",
       "      <td>POLYGON ((4284435.943428256 2725276.335724954,...</td>\n",
       "      <td>POINT (4284448.99985888 2725267.609138271)</td>\n",
       "      <td>None</td>\n",
       "      <td>1.0</td>\n",
       "      <td>1</td>\n",
       "      <td>4.284449e+06</td>\n",
       "      <td>2.725268e+06</td>\n",
       "      <td>1.708470</td>\n",
       "      <td>2923114678</td>\n",
       "      <td>26.262987</td>\n",
       "      <td>POINT (4284472.956745268 2725256.847536233)</td>\n",
       "      <td>0.0</td>\n",
       "    </tr>\n",
       "    <tr>\n",
       "      <th>971421893</th>\n",
       "      <td>chapel</td>\n",
       "      <td>236.021</td>\n",
       "      <td>POLYGON ((4284406.968089831 2725240.447235622,...</td>\n",
       "      <td>POINT (4284414.241857724 2725234.829397242)</td>\n",
       "      <td>None</td>\n",
       "      <td>1.0</td>\n",
       "      <td>1</td>\n",
       "      <td>4.284414e+06</td>\n",
       "      <td>2.725235e+06</td>\n",
       "      <td>0.023602</td>\n",
       "      <td>29585231</td>\n",
       "      <td>30.428458</td>\n",
       "      <td>POINT (4284444.248370417 2725229.779617371)</td>\n",
       "      <td>0.0</td>\n",
       "    </tr>\n",
       "  </tbody>\n",
       "</table>\n",
       "</div>"
      ],
      "text/plain": [
       "              category      area  \\\n",
       "osm_id                             \n",
       "121254826  residential  1063.060   \n",
       "285821993  residential   650.438   \n",
       "971421893       chapel   236.021   \n",
       "\n",
       "                                                    geometry  \\\n",
       "osm_id                                                         \n",
       "121254826  POLYGON ((4284384.933772514 2725229.425153703,...   \n",
       "285821993  POLYGON ((4284435.943428256 2725276.335724954,...   \n",
       "971421893  POLYGON ((4284406.968089831 2725240.447235622,...   \n",
       "\n",
       "                                 raccordement_building  \\\n",
       "osm_id                                                   \n",
       "121254826    POINT (4284397.64322427 2725231.60730715)   \n",
       "285821993   POINT (4284448.99985888 2725267.609138271)   \n",
       "971421893  POINT (4284414.241857724 2725234.829397242)   \n",
       "\n",
       "                                   name  number_households  \\\n",
       "osm_id                                                       \n",
       "121254826  Don-Bosco-Haus (Tagungshaus)                1.0   \n",
       "285821993                          None                1.0   \n",
       "971421893                          None                1.0   \n",
       "\n",
       "           n_amenities_inside             x             y  capacity  \\\n",
       "osm_id                                                                \n",
       "121254826                   1  4.284398e+06  2.725232e+06  1.708470   \n",
       "285821993                   1  4.284449e+06  2.725268e+06  1.708470   \n",
       "971421893                   1  4.284414e+06  2.725235e+06  0.023602   \n",
       "\n",
       "                   nn    nn_dist                                    nn_coords  \\\n",
       "osm_id                                                                          \n",
       "121254826    29585231  46.640970  POINT (4284444.248370417 2725229.779617371)   \n",
       "285821993  2923114678  26.262987  POINT (4284472.956745268 2725256.847536233)   \n",
       "971421893    29585231  30.428458  POINT (4284444.248370417 2725229.779617371)   \n",
       "\n",
       "           cluster  \n",
       "osm_id              \n",
       "121254826      0.0  \n",
       "285821993      0.0  \n",
       "971421893      0.0  "
      ]
     },
     "execution_count": 22,
     "metadata": {},
     "output_type": "execute_result"
    }
   ],
   "source": [
    "e.grid_district.buildings"
   ]
  },
  {
   "cell_type": "code",
   "execution_count": 17,
   "metadata": {},
   "outputs": [
    {
     "data": {
      "text/plain": [
       "3.440542100000001"
      ]
     },
     "execution_count": 17,
     "metadata": {},
     "output_type": "execute_result"
    }
   ],
   "source": [
    "e.grid_district.buildings.capacity.sum()"
   ]
  },
  {
   "cell_type": "code",
   "execution_count": null,
   "metadata": {},
   "outputs": [],
   "source": []
  }
 ],
 "metadata": {
  "kernelspec": {
   "display_name": "Python 3 (ipykernel)",
   "language": "python",
   "name": "python3"
  },
  "language_info": {
   "codemirror_mode": {
    "name": "ipython",
    "version": 3
   },
   "file_extension": ".py",
   "mimetype": "text/x-python",
   "name": "python",
   "nbconvert_exporter": "python",
   "pygments_lexer": "ipython3",
   "version": "3.9.7"
  }
 },
 "nbformat": 4,
 "nbformat_minor": 4
}
