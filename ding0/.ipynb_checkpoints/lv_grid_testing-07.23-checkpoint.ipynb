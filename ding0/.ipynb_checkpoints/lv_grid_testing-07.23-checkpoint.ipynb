{
 "cells": [
  {
   "cell_type": "markdown",
   "metadata": {},
   "source": [
    "<img src=\"https://gist.githubusercontent.com/nesnoj/6ee605cd3494fa6e3e848385c4afbe19/raw/a883b1bdc69c0c5bbb0b00ba92f43033aa86ec64/dingo_model.png\" alt=\"DINGO Model\" width=\"800\"  align=\"center\">"
   ]
  },
  {
   "cell_type": "code",
   "execution_count": 1,
   "metadata": {},
   "outputs": [],
   "source": [
    "%%capture\n",
    "\n",
    "from ding0.core import NetworkDing0\n",
    "from ding0.tools.logger import setup_logger\n",
    "from ding0.tools.results import save_nd_to_pickle\n",
    "from ding0.tools.plots import plot_mv_topology\n",
    "from egoio.tools import db\n",
    "from sqlalchemy.orm import sessionmaker\n",
    "import oedialect\n",
    "\n",
    "# create new network\n",
    "nd = NetworkDing0(name='network')\n",
    "\n",
    "\n",
    "\n",
    "# set ID of MV grid district\n",
    "mv_grid_districts = [40] # fn"
   ]
  },
  {
   "cell_type": "code",
   "execution_count": 2,
   "metadata": {},
   "outputs": [],
   "source": [
    "engine = db.connection(section='oedb_dialect', readonly=True)\n",
    "session = sessionmaker(bind=engine)()"
   ]
  },
  {
   "cell_type": "code",
   "execution_count": 3,
   "metadata": {},
   "outputs": [],
   "source": [
    "ding0_default=False"
   ]
  },
  {
   "cell_type": "code",
   "execution_count": 4,
   "metadata": {},
   "outputs": [
    {
     "name": "stdout",
     "output_type": "stream",
     "text": [
      "POLYGON((9.48065814797112 47.702048792915,9.48067670106068 47.7021395014346,9.48066347764271 47.7023084812701,9.48060322151733 47.7024727172123,9.48049810585165 47.7026262848256,9.48035192210726 47.7027636444594,9.48016994331629 47.7028798410926,9.4799587338921 47.7029706830933,9.47972591283223 47.7030328934435,9.47947987885587 47.7030642279683,9.47934922845884 47.7030722981368,9.47934792440673 47.7030725587507,9.47934672068944 47.7030729863116,9.47934566356528 47.7030735643887,9.47934479365881 47.7030742707668,9.47934414440016 47.7030750783002,9.47934374073991 47.7030759559558,9.479336776973 47.7031206087375,9.47932811383377 47.7039767787497,9.47930419238297 47.7041397502748,9.47923653630674 47.7042970032425,9.47912743128483 47.7044432241517,9.47898056362106 47.704573472226,9.4788008957201 47.7046833463729,9.47859449842742 47.7047691339106,9.47836834589566 47.7048279360353,9.47813007990952 47.7048577657854,9.47799942474244 47.7048658343318,9.47799812063796 47.7048660949293,9.47799691686738 47.704866522475,9.47799585969107 47.7048671005385,9.4779949897356 47.7048678069052,9.47799434043296 47.7048686144299,9.47799393673543 47.7048694920797,9.47798697154557 47.7049141447356,9.4779787295344 47.7057265448722,9.47798478818284 47.7057712596147,9.47798517404136 47.7057721410293,9.47798580690837 47.7057729546676,9.47798666246323 47.7057736692622,9.47798770782735 47.7057742573515,9.47798890282809 47.7057746963355,9.4779902015421 47.7057749693445,9.47805627420604 47.7057796855643,9.47925836179254 47.7057854103959,9.47932452365425 47.7057813239307,9.47939684134063 47.7057668720675,9.47947074051022 47.7057461669742,9.47970464719749 47.7057122633707,9.4799437768382 47.7057074870088,9.48018025507286 47.7057319951709,9.48034744636498 47.7057711862927,9.48037689470352 47.7057757983759,9.48037825014002 47.7057758265235,9.48043195925295 47.7057697338835,9.48047172866012 47.7057610034903,9.48133621703282 47.7055388618592,9.48135885400651 47.7055327249778,9.48138130051303 47.705526317869,9.48140359308013 47.7055196301061,9.48184265548561 47.7053814134536,9.48188497300641 47.7053668406817,9.48192634797981 47.7053513243399,9.48196703670106 47.705334768313,9.48261598271012 47.7050491257199,9.48284333280551 47.704969152505,9.48308929237145 47.7049204267937,9.48334456355668 47.7049047905248,9.48459384072616 47.704910679556,9.48466000103303 47.7049065898632,9.48466130510465 47.7049063291863,9.48466250882066 47.7049059015673,9.48466356592275 47.7049053234393,9.48466443578721 47.7049046170195,9.48466508498556 47.7049038094553,9.48466548856953 47.7049029317807,9.48467244796152 47.7048582786949,9.48467252083228 47.7048510026062,9.48470144355156 47.7046713355684,9.48478341991812 47.7044993167496,9.48491507631957 47.7043420242559,9.48509099507982 47.7042059301838,9.48530393743215 47.7040966343336,9.48554514139163 47.7040186338194,9.48580468226796 47.7039751380528,9.48607188098854 47.7039679367057,9.48633574343929 47.703997326084,9.48658541275859 47.704062096937,9.48665996453331 47.7040875703233,9.48666125058864 47.7040878085908,9.4867167774489 47.7040903270379,9.48675968026844 47.7040879027794,9.48836847986512 47.7039418050495,9.4884117301121 47.7039363032622,9.48846597903209 47.7039231915254,9.48846705282667 47.7039227432537,9.48846796485505 47.7039221536213,9.48846867510225 47.7039214484983,9.48846915240659 47.7039206588216,9.48847935080848 47.7038823344878,9.48848025539496 47.703852595877,9.48842973702086 47.7027828505263,9.48844378123493 47.7026216774512,9.48850063100891 47.7024648693601,9.48859841913968 47.7023175754942,9.48865532790434 47.7022617469993,9.48868669396787 47.702222722459,9.48868709746194 47.7022218447685,9.48869405298831 47.702177191366,9.48870212495492 47.7013647888932,9.48869605749258 47.7013200746416,9.48869567148364 47.7013191932628,9.48869503850179 47.7013183796845,9.48869418287212 47.7013176651721,9.48869313747609 47.7013170771837,9.48869194248755 47.7013166383156,9.4886906438294 47.7013163654331,9.48862457593146 47.7013116556256,9.48742259199815 47.7013060337188,9.4873564365445 47.7013101250925,9.48735513257782 47.701310385802,9.48735392896852 47.7013108134515,9.48735287197076 47.7013113916065,9.48735200220425 47.701312098049,9.48735135309372 47.7013129056306,9.48733547721792 47.7013474377041,9.48729880272183 47.7014642066402,9.48718750471712 47.7016336934443,9.48702670182373 47.7017839298192,9.48682336012544 47.7019084070581,9.48658628881307 47.7020017323772,9.48632575854415 47.7020598625765,9.48623025600094 47.7020739303646,9.48617046017902 47.7020907513363,9.48604806357768 47.7021335412969,9.48580331253464 47.7021817585738,9.48554939661524 47.70219722886,9.48475058108646 47.702193471732,9.48468442427628 47.7021975614879,9.4846831202735 47.7021978221655,9.48468191662114 47.7021982497853,9.48468085957504 47.7021988279143,9.48461736729804 47.7022503929486,9.48443111462172 47.7023742811523,9.48421235274966 47.7024708953687,9.48396968035719 47.7025364380003,9.48371263609498 47.702568332763,9.48345132361183 47.7025653259663,9.48319601435324 47.7025275357989,9.48295674375924 47.7024564476832,9.48274291674611 47.7023548558783,9.48256293798974 47.7022267536309,9.48242388155127 47.7020771761945,9.48233121283449 47.7019120028899,9.48225890353158 47.701730597702,9.48224568495493 47.701703164647,9.4822201219771 47.7016691405087,9.48221931544813 47.7016684616587,9.48221831995788 47.7016679091309,9.48221717790197 47.701667506456,9.48221593791797 47.7016672707831,9.48221465281409 47.7016672121489,9.48215874690368 47.7016725113534,9.48211790122247 47.7016808820075,9.48167200443362 47.7017895566957,9.4816344148702 47.7018000918094,9.48158928266617 47.7018181334203,9.48157294080893 47.7018278627516,9.48136857897516 47.7019277897901,9.48113978789522 47.7019995726057,9.48089494607431 47.70204058243,9.48065814797112 47.702048792915))\n"
     ]
    }
   ],
   "source": [
    "ways = nd.import_mv_grid_districts(session, ding0_default, mv_grid_districts_no=mv_grid_districts)"
   ]
  },
  {
   "cell_type": "code",
   "execution_count": 5,
   "metadata": {},
   "outputs": [],
   "source": [
    "from grid.lv_grid.routing import build_graph_from_ways"
   ]
  },
  {
   "cell_type": "code",
   "execution_count": 6,
   "metadata": {},
   "outputs": [],
   "source": [
    "import networkx as nx"
   ]
  },
  {
   "cell_type": "code",
   "execution_count": 7,
   "metadata": {},
   "outputs": [
    {
     "data": {
      "image/png": "[encoded data removed]",
      "text/plain": [
       "<Figure size 432x288 with 1 Axes>"
      ]
     },
     "metadata": {},
     "output_type": "display_data"
    }
   ],
   "source": [
    "graph, node_coords_dict = build_graph_from_ways(ways)\n",
    "nx.draw(graph, node_coords_dict)"
   ]
  },
  {
   "cell_type": "code",
   "execution_count": null,
   "metadata": {},
   "outputs": [],
   "source": []
  },
  {
   "cell_type": "code",
   "execution_count": null,
   "metadata": {},
   "outputs": [],
   "source": []
  },
  {
   "cell_type": "code",
   "execution_count": null,
   "metadata": {},
   "outputs": [],
   "source": []
  },
  {
   "cell_type": "code",
   "execution_count": 9,
   "metadata": {},
   "outputs": [
    {
     "data": {
      "text/html": [
       "<div>\n",
       "<style scoped>\n",
       "    .dataframe tbody tr th:only-of-type {\n",
       "        vertical-align: middle;\n",
       "    }\n",
       "\n",
       "    .dataframe tbody tr th {\n",
       "        vertical-align: top;\n",
       "    }\n",
       "\n",
       "    .dataframe thead th {\n",
       "        text-align: right;\n",
       "    }\n",
       "</style>\n",
       "<table border=\"1\" class=\"dataframe\">\n",
       "  <thead>\n",
       "    <tr style=\"text-align: right;\">\n",
       "      <th></th>\n",
       "      <th>zensus_sum</th>\n",
       "      <th>zensus_cnt</th>\n",
       "      <th>ioer_sum</th>\n",
       "      <th>ioer_cnt</th>\n",
       "      <th>area</th>\n",
       "      <th>sector_area_residential</th>\n",
       "      <th>sector_area_retail</th>\n",
       "      <th>sector_area_industrial</th>\n",
       "      <th>sector_area_agricultural</th>\n",
       "      <th>sector_share_residential</th>\n",
       "      <th>...</th>\n",
       "      <th>sector_count_industrial</th>\n",
       "      <th>sector_count_agricultural</th>\n",
       "      <th>nuts_code</th>\n",
       "      <th>geo_area</th>\n",
       "      <th>geo_centre</th>\n",
       "      <th>peak_load_residential</th>\n",
       "      <th>peak_load_retail</th>\n",
       "      <th>peak_load_industrial</th>\n",
       "      <th>peak_load_agricultural</th>\n",
       "      <th>peak_load</th>\n",
       "    </tr>\n",
       "    <tr>\n",
       "      <th>id_db</th>\n",
       "      <th></th>\n",
       "      <th></th>\n",
       "      <th></th>\n",
       "      <th></th>\n",
       "      <th></th>\n",
       "      <th></th>\n",
       "      <th></th>\n",
       "      <th></th>\n",
       "      <th></th>\n",
       "      <th></th>\n",
       "      <th></th>\n",
       "      <th></th>\n",
       "      <th></th>\n",
       "      <th></th>\n",
       "      <th></th>\n",
       "      <th></th>\n",
       "      <th></th>\n",
       "      <th></th>\n",
       "      <th></th>\n",
       "      <th></th>\n",
       "      <th></th>\n",
       "    </tr>\n",
       "  </thead>\n",
       "  <tbody>\n",
       "    <tr>\n",
       "      <th>2128</th>\n",
       "      <td>4.0</td>\n",
       "      <td>1.0</td>\n",
       "      <td>None</td>\n",
       "      <td>None</td>\n",
       "      <td>1.039153</td>\n",
       "      <td>NaN</td>\n",
       "      <td>NaN</td>\n",
       "      <td>NaN</td>\n",
       "      <td>NaN</td>\n",
       "      <td>NaN</td>\n",
       "      <td>...</td>\n",
       "      <td>NaN</td>\n",
       "      <td>NaN</td>\n",
       "      <td>DE147</td>\n",
       "      <td>POLYGON((9.51330823270168 47.6393245588715,9.5...</td>\n",
       "      <td>POINT(9.51390417574105 47.6397862137353)</td>\n",
       "      <td>1.397428</td>\n",
       "      <td>0.0</td>\n",
       "      <td>0.0</td>\n",
       "      <td>0.0</td>\n",
       "      <td>1.397428</td>\n",
       "    </tr>\n",
       "  </tbody>\n",
       "</table>\n",
       "<p>1 rows × 25 columns</p>\n",
       "</div>"
      ],
      "text/plain": [
       "       zensus_sum  zensus_cnt ioer_sum ioer_cnt      area  \\\n",
       "id_db                                                       \n",
       "2128          4.0         1.0     None     None  1.039153   \n",
       "\n",
       "       sector_area_residential  sector_area_retail  sector_area_industrial  \\\n",
       "id_db                                                                        \n",
       "2128                       NaN                 NaN                     NaN   \n",
       "\n",
       "       sector_area_agricultural  sector_share_residential  ...  \\\n",
       "id_db                                                      ...   \n",
       "2128                        NaN                       NaN  ...   \n",
       "\n",
       "       sector_count_industrial  sector_count_agricultural  nuts_code  \\\n",
       "id_db                                                                  \n",
       "2128                       NaN                        NaN      DE147   \n",
       "\n",
       "                                                geo_area  \\\n",
       "id_db                                                      \n",
       "2128   POLYGON((9.51330823270168 47.6393245588715,9.5...   \n",
       "\n",
       "                                     geo_centre  peak_load_residential  \\\n",
       "id_db                                                                    \n",
       "2128   POINT(9.51390417574105 47.6397862137353)               1.397428   \n",
       "\n",
       "       peak_load_retail peak_load_industrial peak_load_agricultural peak_load  \n",
       "id_db                                                                          \n",
       "2128                0.0                  0.0                    0.0  1.397428  \n",
       "\n",
       "[1 rows x 25 columns]"
      ]
     },
     "execution_count": 9,
     "metadata": {},
     "output_type": "execute_result"
    }
   ],
   "source": [
    "la.head(1)"
   ]
  },
  {
   "cell_type": "code",
   "execution_count": 14,
   "metadata": {},
   "outputs": [
    {
     "data": {
      "text/html": [
       "<div>\n",
       "<style scoped>\n",
       "    .dataframe tbody tr th:only-of-type {\n",
       "        vertical-align: middle;\n",
       "    }\n",
       "\n",
       "    .dataframe tbody tr th {\n",
       "        vertical-align: top;\n",
       "    }\n",
       "\n",
       "    .dataframe thead th {\n",
       "        text-align: right;\n",
       "    }\n",
       "</style>\n",
       "<table border=\"1\" class=\"dataframe\">\n",
       "  <thead>\n",
       "    <tr style=\"text-align: right;\">\n",
       "      <th></th>\n",
       "      <th>la_id</th>\n",
       "      <th>geom</th>\n",
       "    </tr>\n",
       "    <tr>\n",
       "      <th>mvlv_subst_id</th>\n",
       "      <th></th>\n",
       "      <th></th>\n",
       "    </tr>\n",
       "  </thead>\n",
       "  <tbody>\n",
       "    <tr>\n",
       "      <th>419093</th>\n",
       "      <td>5372</td>\n",
       "      <td>POINT(9.44545963700664 47.7006294450643)</td>\n",
       "    </tr>\n",
       "  </tbody>\n",
       "</table>\n",
       "</div>"
      ],
      "text/plain": [
       "               la_id                                      geom\n",
       "mvlv_subst_id                                                 \n",
       "419093          5372  POINT(9.44545963700664 47.7006294450643)"
      ]
     },
     "execution_count": 14,
     "metadata": {},
     "output_type": "execute_result"
    }
   ],
   "source": [
    "# station\n",
    "lv_stations_districts[0].loc[lv_stations_districts[0].la_id == 5372]"
   ]
  },
  {
   "cell_type": "code",
   "execution_count": 26,
   "metadata": {},
   "outputs": [
    {
     "data": {
      "text/html": [
       "<div>\n",
       "<style scoped>\n",
       "    .dataframe tbody tr th:only-of-type {\n",
       "        vertical-align: middle;\n",
       "    }\n",
       "\n",
       "    .dataframe tbody tr th {\n",
       "        vertical-align: top;\n",
       "    }\n",
       "\n",
       "    .dataframe thead th {\n",
       "        text-align: right;\n",
       "    }\n",
       "</style>\n",
       "<table border=\"1\" class=\"dataframe\">\n",
       "  <thead>\n",
       "    <tr style=\"text-align: right;\">\n",
       "      <th></th>\n",
       "      <th>la_id</th>\n",
       "      <th>population</th>\n",
       "      <th>peak_load_residential</th>\n",
       "      <th>peak_load_retail</th>\n",
       "      <th>peak_load_industrial</th>\n",
       "      <th>peak_load_agricultural</th>\n",
       "      <th>peak_load</th>\n",
       "      <th>geom</th>\n",
       "      <th>sector_count_residential</th>\n",
       "      <th>sector_count_retail</th>\n",
       "      <th>sector_count_industrial</th>\n",
       "      <th>sector_count_agricultural</th>\n",
       "      <th>sector_consumption_residential</th>\n",
       "      <th>sector_consumption_retail</th>\n",
       "      <th>sector_consumption_industrial</th>\n",
       "      <th>sector_consumption_agricultural</th>\n",
       "    </tr>\n",
       "    <tr>\n",
       "      <th>mvlv_subst_id</th>\n",
       "      <th></th>\n",
       "      <th></th>\n",
       "      <th></th>\n",
       "      <th></th>\n",
       "      <th></th>\n",
       "      <th></th>\n",
       "      <th></th>\n",
       "      <th></th>\n",
       "      <th></th>\n",
       "      <th></th>\n",
       "      <th></th>\n",
       "      <th></th>\n",
       "      <th></th>\n",
       "      <th></th>\n",
       "      <th></th>\n",
       "      <th></th>\n",
       "    </tr>\n",
       "  </thead>\n",
       "  <tbody>\n",
       "    <tr>\n",
       "      <th>420676</th>\n",
       "      <td>2763</td>\n",
       "      <td>8.0</td>\n",
       "      <td>2.794856</td>\n",
       "      <td>0.0</td>\n",
       "      <td>0.0</td>\n",
       "      <td>0.0</td>\n",
       "      <td>2.794856</td>\n",
       "      <td>MULTIPOLYGON(((9.52841054169646 47.73298935647...</td>\n",
       "      <td>0.0</td>\n",
       "      <td>0.0</td>\n",
       "      <td>0.0</td>\n",
       "      <td>0.0</td>\n",
       "      <td>13077.185682</td>\n",
       "      <td>0.0</td>\n",
       "      <td>0.0</td>\n",
       "      <td>0.0</td>\n",
       "    </tr>\n",
       "  </tbody>\n",
       "</table>\n",
       "</div>"
      ],
      "text/plain": [
       "               la_id  population  peak_load_residential  peak_load_retail  \\\n",
       "mvlv_subst_id                                                               \n",
       "420676          2763         8.0               2.794856               0.0   \n",
       "\n",
       "               peak_load_industrial  peak_load_agricultural  peak_load  \\\n",
       "mvlv_subst_id                                                            \n",
       "420676                          0.0                     0.0   2.794856   \n",
       "\n",
       "                                                            geom  \\\n",
       "mvlv_subst_id                                                      \n",
       "420676         MULTIPOLYGON(((9.52841054169646 47.73298935647...   \n",
       "\n",
       "               sector_count_residential  sector_count_retail  \\\n",
       "mvlv_subst_id                                                  \n",
       "420676                              0.0                  0.0   \n",
       "\n",
       "               sector_count_industrial  sector_count_agricultural  \\\n",
       "mvlv_subst_id                                                       \n",
       "420676                             0.0                        0.0   \n",
       "\n",
       "               sector_consumption_residential  sector_consumption_retail  \\\n",
       "mvlv_subst_id                                                              \n",
       "420676                           13077.185682                        0.0   \n",
       "\n",
       "               sector_consumption_industrial  sector_consumption_agricultural  \n",
       "mvlv_subst_id                                                                  \n",
       "420676                                   0.0                              0.0  "
      ]
     },
     "execution_count": 26,
     "metadata": {},
     "output_type": "execute_result"
    }
   ],
   "source": [
    "# district\n",
    "lv_stations_districts[1].loc[lv_stations_districts[1].la_id == 2763]"
   ]
  },
  {
   "cell_type": "code",
   "execution_count": 22,
   "metadata": {},
   "outputs": [
    {
     "data": {
      "text/html": [
       "<div>\n",
       "<style scoped>\n",
       "    .dataframe tbody tr th:only-of-type {\n",
       "        vertical-align: middle;\n",
       "    }\n",
       "\n",
       "    .dataframe tbody tr th {\n",
       "        vertical-align: top;\n",
       "    }\n",
       "\n",
       "    .dataframe thead th {\n",
       "        text-align: right;\n",
       "    }\n",
       "</style>\n",
       "<table border=\"1\" class=\"dataframe\">\n",
       "  <thead>\n",
       "    <tr style=\"text-align: right;\">\n",
       "      <th></th>\n",
       "      <th>la_id</th>\n",
       "      <th>population</th>\n",
       "      <th>peak_load_residential</th>\n",
       "      <th>peak_load_retail</th>\n",
       "      <th>peak_load_industrial</th>\n",
       "      <th>peak_load_agricultural</th>\n",
       "      <th>peak_load</th>\n",
       "      <th>geom</th>\n",
       "      <th>sector_count_residential</th>\n",
       "      <th>sector_count_retail</th>\n",
       "      <th>sector_count_industrial</th>\n",
       "      <th>sector_count_agricultural</th>\n",
       "      <th>sector_consumption_residential</th>\n",
       "      <th>sector_consumption_retail</th>\n",
       "      <th>sector_consumption_industrial</th>\n",
       "      <th>sector_consumption_agricultural</th>\n",
       "    </tr>\n",
       "    <tr>\n",
       "      <th>mvlv_subst_id</th>\n",
       "      <th></th>\n",
       "      <th></th>\n",
       "      <th></th>\n",
       "      <th></th>\n",
       "      <th></th>\n",
       "      <th></th>\n",
       "      <th></th>\n",
       "      <th></th>\n",
       "      <th></th>\n",
       "      <th></th>\n",
       "      <th></th>\n",
       "      <th></th>\n",
       "      <th></th>\n",
       "      <th></th>\n",
       "      <th></th>\n",
       "      <th></th>\n",
       "    </tr>\n",
       "  </thead>\n",
       "  <tbody>\n",
       "    <tr>\n",
       "      <th>419093</th>\n",
       "      <td>5372</td>\n",
       "      <td>10.0</td>\n",
       "      <td>3.493570</td>\n",
       "      <td>0.0</td>\n",
       "      <td>0.0</td>\n",
       "      <td>99.525989</td>\n",
       "      <td>103.019559</td>\n",
       "      <td>MULTIPOLYGON(((9.44476423426424 47.69930354485...</td>\n",
       "      <td>0.0</td>\n",
       "      <td>0.0</td>\n",
       "      <td>0.0</td>\n",
       "      <td>2.0</td>\n",
       "      <td>16346.482102</td>\n",
       "      <td>0.0</td>\n",
       "      <td>0.0</td>\n",
       "      <td>414070.515734</td>\n",
       "    </tr>\n",
       "    <tr>\n",
       "      <th>420154</th>\n",
       "      <td>4830</td>\n",
       "      <td>3.0</td>\n",
       "      <td>1.048071</td>\n",
       "      <td>0.0</td>\n",
       "      <td>0.0</td>\n",
       "      <td>0.000000</td>\n",
       "      <td>1.048071</td>\n",
       "      <td>MULTIPOLYGON(((9.49954883830014 47.68339565373...</td>\n",
       "      <td>1.0</td>\n",
       "      <td>0.0</td>\n",
       "      <td>0.0</td>\n",
       "      <td>0.0</td>\n",
       "      <td>4903.944631</td>\n",
       "      <td>0.0</td>\n",
       "      <td>0.0</td>\n",
       "      <td>0.000000</td>\n",
       "    </tr>\n",
       "    <tr>\n",
       "      <th>420676</th>\n",
       "      <td>2763</td>\n",
       "      <td>8.0</td>\n",
       "      <td>2.794856</td>\n",
       "      <td>0.0</td>\n",
       "      <td>0.0</td>\n",
       "      <td>0.000000</td>\n",
       "      <td>2.794856</td>\n",
       "      <td>MULTIPOLYGON(((9.52841054169646 47.73298935647...</td>\n",
       "      <td>0.0</td>\n",
       "      <td>0.0</td>\n",
       "      <td>0.0</td>\n",
       "      <td>0.0</td>\n",
       "      <td>13077.185682</td>\n",
       "      <td>0.0</td>\n",
       "      <td>0.0</td>\n",
       "      <td>0.000000</td>\n",
       "    </tr>\n",
       "    <tr>\n",
       "      <th>4563</th>\n",
       "      <td>4544</td>\n",
       "      <td>80.0</td>\n",
       "      <td>27.948561</td>\n",
       "      <td>0.0</td>\n",
       "      <td>0.0</td>\n",
       "      <td>0.000000</td>\n",
       "      <td>27.948561</td>\n",
       "      <td>MULTIPOLYGON(((9.44475732155357 47.66408203721...</td>\n",
       "      <td>1.0</td>\n",
       "      <td>0.0</td>\n",
       "      <td>0.0</td>\n",
       "      <td>0.0</td>\n",
       "      <td>130771.856816</td>\n",
       "      <td>0.0</td>\n",
       "      <td>0.0</td>\n",
       "      <td>0.000000</td>\n",
       "    </tr>\n",
       "    <tr>\n",
       "      <th>4899</th>\n",
       "      <td>4620</td>\n",
       "      <td>6.0</td>\n",
       "      <td>2.096142</td>\n",
       "      <td>0.0</td>\n",
       "      <td>0.0</td>\n",
       "      <td>34.079188</td>\n",
       "      <td>36.175330</td>\n",
       "      <td>MULTIPOLYGON(((9.50619375315981 47.70442381578...</td>\n",
       "      <td>0.0</td>\n",
       "      <td>0.0</td>\n",
       "      <td>0.0</td>\n",
       "      <td>1.0</td>\n",
       "      <td>9807.889261</td>\n",
       "      <td>0.0</td>\n",
       "      <td>0.0</td>\n",
       "      <td>141783.942446</td>\n",
       "    </tr>\n",
       "  </tbody>\n",
       "</table>\n",
       "</div>"
      ],
      "text/plain": [
       "               la_id  population  peak_load_residential  peak_load_retail  \\\n",
       "mvlv_subst_id                                                               \n",
       "419093          5372        10.0               3.493570               0.0   \n",
       "420154          4830         3.0               1.048071               0.0   \n",
       "420676          2763         8.0               2.794856               0.0   \n",
       "4563            4544        80.0              27.948561               0.0   \n",
       "4899            4620         6.0               2.096142               0.0   \n",
       "\n",
       "               peak_load_industrial  peak_load_agricultural   peak_load  \\\n",
       "mvlv_subst_id                                                             \n",
       "419093                          0.0               99.525989  103.019559   \n",
       "420154                          0.0                0.000000    1.048071   \n",
       "420676                          0.0                0.000000    2.794856   \n",
       "4563                            0.0                0.000000   27.948561   \n",
       "4899                            0.0               34.079188   36.175330   \n",
       "\n",
       "                                                            geom  \\\n",
       "mvlv_subst_id                                                      \n",
       "419093         MULTIPOLYGON(((9.44476423426424 47.69930354485...   \n",
       "420154         MULTIPOLYGON(((9.49954883830014 47.68339565373...   \n",
       "420676         MULTIPOLYGON(((9.52841054169646 47.73298935647...   \n",
       "4563           MULTIPOLYGON(((9.44475732155357 47.66408203721...   \n",
       "4899           MULTIPOLYGON(((9.50619375315981 47.70442381578...   \n",
       "\n",
       "               sector_count_residential  sector_count_retail  \\\n",
       "mvlv_subst_id                                                  \n",
       "419093                              0.0                  0.0   \n",
       "420154                              1.0                  0.0   \n",
       "420676                              0.0                  0.0   \n",
       "4563                                1.0                  0.0   \n",
       "4899                                0.0                  0.0   \n",
       "\n",
       "               sector_count_industrial  sector_count_agricultural  \\\n",
       "mvlv_subst_id                                                       \n",
       "419093                             0.0                        2.0   \n",
       "420154                             0.0                        0.0   \n",
       "420676                             0.0                        0.0   \n",
       "4563                               0.0                        0.0   \n",
       "4899                               0.0                        1.0   \n",
       "\n",
       "               sector_consumption_residential  sector_consumption_retail  \\\n",
       "mvlv_subst_id                                                              \n",
       "419093                           16346.482102                        0.0   \n",
       "420154                            4903.944631                        0.0   \n",
       "420676                           13077.185682                        0.0   \n",
       "4563                            130771.856816                        0.0   \n",
       "4899                              9807.889261                        0.0   \n",
       "\n",
       "               sector_consumption_industrial  sector_consumption_agricultural  \n",
       "mvlv_subst_id                                                                  \n",
       "419093                                   0.0                    414070.515734  \n",
       "420154                                   0.0                         0.000000  \n",
       "420676                                   0.0                         0.000000  \n",
       "4563                                     0.0                         0.000000  \n",
       "4899                                     0.0                    141783.942446  "
      ]
     },
     "execution_count": 22,
     "metadata": {},
     "output_type": "execute_result"
    }
   ],
   "source": [
    "# district\n",
    "lv_stations_districts[1].head()"
   ]
  },
  {
   "cell_type": "code",
   "execution_count": null,
   "metadata": {},
   "outputs": [],
   "source": []
  },
  {
   "cell_type": "code",
   "execution_count": null,
   "metadata": {},
   "outputs": [],
   "source": []
  },
  {
   "cell_type": "code",
   "execution_count": 8,
   "metadata": {},
   "outputs": [],
   "source": [
    "need_parameterization=True\n",
    "ding0_default=True"
   ]
  },
  {
   "cell_type": "code",
   "execution_count": 7,
   "metadata": {},
   "outputs": [
    {
     "name": "stdout",
     "output_type": "stream",
     "text": [
      "LOAD DING0 GRID FROM PKL\n"
     ]
    }
   ],
   "source": [
    "load_from_pkl=True\n",
    "\n",
    "if load_from_pkl:\n",
    "    \n",
    "    print('LOAD DING0 GRID FROM PKL')\n",
    "\n",
    "    grid_id=40\n",
    "    nd = results.load_nd_from_pickle(filename='./config/tmp/ding0_grids__' + str(grid_id) + '.pkl')\n",
    "    \n",
    "    # should be closed before export\n",
    "    nd.control_circuit_breakers(mode='open')\n",
    "\n",
    "\n",
    "else:\n",
    "    \n",
    "    print('DING0.RUN()')\n",
    "    \n",
    "    nd.import_mv_grid_districts(session, ding0_default, mv_grid_districts, need_parameterization)\n",
    "    nd.import_generators(session)\n",
    "\n",
    "    nd.mv_parametrize_grid()\n",
    "    nd.validate_grid_districts()\n",
    "    \n",
    "    build_lv_grid_default=True\n",
    "\n",
    "    if build_lv_grid_default:\n",
    "\n",
    "        nd.build_lv_grids()\n",
    "\n",
    "    else:\n",
    "\n",
    "        print('IMPLEMENT_MY_ROUTING')\n",
    "        \n",
    "        \n",
    "    nd.mv_routing()\n",
    "    \n",
    "    nd.connect_generators()\n",
    "    #nd.set_branch_ids()\n",
    "    nd.set_circuit_breakers()\n",
    "    \n",
    "    \n",
    "    nd.control_circuit_breakers(mode='open')\n",
    "    nd.run_powerflow(session)\n",
    "    \n",
    "    nd.reinforce_grid()\n",
    "    \n",
    "    \n",
    "    \n",
    "    #nd.control_circuit_breakers(mode='close')\n",
    "    #save_nd_to_pickle(nd, filename='ding0_grids__40.pkl')"
   ]
  },
  {
   "cell_type": "code",
   "execution_count": 9,
   "metadata": {},
   "outputs": [],
   "source": [
    "import networkx as nx # to enable nx.draw()\n",
    "import pandas as pd\n",
    "from sqlalchemy import func              # check\n",
    "from geoalchemy2.shape import to_shape \n",
    "from shapely.wkt import loads"
   ]
  },
  {
   "cell_type": "code",
   "execution_count": 10,
   "metadata": {},
   "outputs": [],
   "source": [
    "from config.config_lv_grids_osm import get_config_osm     # check\n",
    "from config.db_conn_local import create_session_osm       # check\n",
    "from config.classes_db_conn.osm_load_classes import Buildings_with_Amenities, Building_wo_Amenity, Amenities_ni_Buildings, Way # check"
   ]
  },
  {
   "cell_type": "code",
   "execution_count": 11,
   "metadata": {},
   "outputs": [],
   "source": [
    "from grid.lv_grid.routing import build_graph_from_ways, nearest_nodes, get_location_substation_at_pi\n",
    "from grid.lv_grid.parameterization import parameterize_by_load_profiles\n",
    "from grid.lv_grid.clustering import get_n_cluster, cluster_k_means"
   ]
  },
  {
   "cell_type": "code",
   "execution_count": 12,
   "metadata": {},
   "outputs": [],
   "source": [
    "from grid.lv_grid.geo import get_Point_from_x_y, get_points_in_load_area, get_convex_hull_from_points"
   ]
  },
  {
   "cell_type": "code",
   "execution_count": 13,
   "metadata": {
    "tags": []
   },
   "outputs": [],
   "source": [
    "session_osm = create_session_osm() # check"
   ]
  },
  {
   "cell_type": "code",
   "execution_count": 14,
   "metadata": {},
   "outputs": [
    {
     "name": "stdout",
     "output_type": "stream",
     "text": [
      "build a lv grid for  lv_load_area_4544\n",
      "peak_load by ding0 27.9485612387548\n",
      "STARTING SYNTHESIZING LV GRIDS FOR load_area\n",
      "CALL\n",
      "SYNTHESIZING LV GRIDS for LA TERMINATED\n"
     ]
    }
   ],
   "source": [
    "# FOR TESTING REASONS SELECT ONE LOAD_AREA (Fallenbrunnen) BY ID\n",
    "id_load_area_fallenbrunnen = '4544'\n",
    "\n",
    "load_areas = []\n",
    "\n",
    "\n",
    "for mv_grid_district in nd.mv_grid_districts():\n",
    "    for load_area in mv_grid_district.lv_load_areas():\n",
    "        \n",
    "        \n",
    "        if not load_area.is_aggregated:\n",
    "                \n",
    "            if id_load_area_fallenbrunnen in str(load_area):\n",
    "                \n",
    "                fn_fallenbrunnen_la  = load_area\n",
    "                fn_fallenbrunnen_geo = fn_fallenbrunnen_la.geo_area\n",
    "                \n",
    "                #for lv_district in fn_fallenbrunnen_la._lv_grid_districts:\n",
    "                # does not work due to one districtr has 1 lv station where trafo is located\n",
    "            \n",
    "                print('build a lv grid for ', str(load_area))\n",
    "                print('peak_load by ding0', load_area.peak_load)\n",
    "                print('STARTING SYNTHESIZING LV GRIDS FOR load_area')\n",
    "\n",
    "                print('CALL')\n",
    "\n",
    "                print('SYNTHESIZING LV GRIDS for LA TERMINATED')\n",
    "                \n",
    "                \n",
    "        # if only is_aggregated\n",
    "        #    indent\n",
    "        load_areas.append(load_area)\n",
    "                                \n",
    "                "
   ]
  },
  {
   "cell_type": "code",
   "execution_count": 20,
   "metadata": {},
   "outputs": [
    {
     "data": {
      "text/plain": [
       "ding0.core.structure.regions.LVGridDistrictDing0"
      ]
     },
     "execution_count": 20,
     "metadata": {},
     "output_type": "execute_result"
    }
   ],
   "source": [
    "type(fn_fallenbrunnen_la._lv_grid_districts[0])"
   ]
  },
  {
   "cell_type": "code",
   "execution_count": 19,
   "metadata": {},
   "outputs": [
    {
     "data": {
      "text/plain": [
       "{'id_db': 4563,\n",
       " 'geo_data': <shapely.geometry.multipolygon.MultiPolygon at 0x2dc0d351d60>,\n",
       " 'lv_load_area': lv_load_area_4544,\n",
       " 'lv_grid': lv_grid_4563,\n",
       " 'population': 80,\n",
       " 'peak_load_residential': 27.9485612387548,\n",
       " 'peak_load_retail': 0.0,\n",
       " 'peak_load_industrial': 0.0,\n",
       " 'peak_load_agricultural': 0.0,\n",
       " 'peak_load': 27.9485612387548,\n",
       " 'sector_count_residential': 1,\n",
       " 'sector_count_retail': 0,\n",
       " 'sector_count_industrial': 0,\n",
       " 'sector_count_agricultural': 0,\n",
       " 'sector_consumption_residential': 130771.856816184,\n",
       " 'sector_consumption_retail': 0.0,\n",
       " 'sector_consumption_industrial': 0.0,\n",
       " 'sector_consumption_agricultural': 0.0}"
      ]
     },
     "execution_count": 19,
     "metadata": {},
     "output_type": "execute_result"
    }
   ],
   "source": [
    "fn_fallenbrunnen_la._lv_grid_districts[0].__dict__"
   ]
  },
  {
   "cell_type": "code",
   "execution_count": 15,
   "metadata": {},
   "outputs": [
    {
     "data": {
      "text/plain": [
       "4544"
      ]
     },
     "execution_count": 15,
     "metadata": {},
     "output_type": "execute_result"
    }
   ],
   "source": [
    "fn_fallenbrunnen_la.id_db"
   ]
  },
  {
   "cell_type": "code",
   "execution_count": 16,
   "metadata": {},
   "outputs": [],
   "source": [
    "fn_fallenbrunnen_geo = fn_fallenbrunnen_la.geo_area"
   ]
  },
  {
   "cell_type": "code",
   "execution_count": 17,
   "metadata": {},
   "outputs": [
    {
     "data": {
      "text/plain": [
       "'POLYGON ((9.444757321553571 47.6640820372137, 9.44469147049122 47.6642370363376, 9.442746638836271 47.6675223477341, 9.44273323863089 47.6675486765942, 9.44272335456083 47.6675846924473, 9.44272337322715 47.6675856076278, 9.44272365679015 47.667586502615, 9.442724194246059 47.6675873426787, 9.442724964738851 47.6675880952201, 9.442725938369239 47.6675887310364, 9.442771524985689 47.6676085195463, 9.442809078141879 47.6676199425426, 9.443599054706221 47.6678292167847, 9.44364298889086 47.6678391758214, 9.44369319196211 47.6678454078942, 9.443694609235431 47.6678454056071, 9.44369600193242 47.6678452280573, 9.443697323077419 47.6678448812336, 9.443698528108349 47.6678443768344, 9.443744598701199 47.6678160313241, 9.443795360184319 47.6677784822092, 9.443991191770809 47.6676599114601, 9.44421793991903 47.667570002951, 9.44446657647225 47.667512336406, 9.44472720190474 47.6674892078198, 9.444989439424219 47.6675015380556, 9.445052589744799 47.6675088406224, 9.445117064489731 47.6675174206873, 9.445183601261711 47.6675274468952, 9.44523747329856 47.6675300193568, 9.445238809309229 47.6675299032106, 9.4452400852424 47.6675296113077, 9.445241251079061 47.667529155091, 9.445242261116221 47.6675285524453, 9.445243075758549 47.6675278269953, 9.44524366307046 47.6675270071801, 9.445257172339209 47.6674916444378, 9.44526138400154 47.6674643786881, 9.44526635876986 47.6674027181877, 9.44527842375639 47.6673216144847, 9.44528702520314 47.6672820624034, 9.445343690252869 47.6671237851091, 9.44544200701166 47.6669751340207, 9.445578690330031 47.6668410756375, 9.445606929899901 47.666818179473, 9.445637520256669 47.6667867600046, 9.445694232828229 47.6667392820943, 9.445718033000571 47.6667110812337, 9.445816550854619 47.6665782840333, 9.445885789521761 47.6664961432372, 9.44592142419992 47.6664586450851, 9.44609642847751 47.6663115101204, 9.446313359526091 47.6661926345661, 9.44656247099808 47.6661073591621, 9.4468325709589 47.6660595150674, 9.447111524661491 47.6660512517601, 9.44717730910928 47.6660540322315, 9.447316189895529 47.6660649297759, 9.44753610831893 47.6660902456686, 9.44758112940486 47.6660938580278, 9.44767071891042 47.6660918313842, 9.447684852061499 47.6660900296329, 9.44774691292624 47.6660795923001, 9.4479881800759 47.6660547725018, 9.448232085468209 47.6660604809193, 9.448470258112661 47.6660965216365, 9.448560914386359 47.6661163562617, 9.44857404167368 47.6661182063231, 9.448691583060739 47.6661430580836, 9.44873711713312 47.6661476818212, 9.44936429835351 47.6661892570172, 9.44940607834077 47.66619064719, 9.44946122599818 47.6661870380657, 9.449463401923399 47.6661858503929, 9.449498075077059 47.6661578721339, 9.449520006942709 47.6661337837734, 9.45042894326825 47.6650175089795, 9.45044714891934 47.6649921250378, 9.450463499380801 47.6649559172176, 9.450463614247271 47.6649550512483, 9.450463463599689 47.664954187754, 9.450463053866351 47.6649533635807, 9.45046240253088 47.6649526138965, 9.450461537386341 47.6649519706911, 9.450460495349169 47.6649514614106, 9.45040935260457 47.6649360626301, 9.45036907619812 47.664928709451, 9.447377834868041 47.6644933952575, 9.447343269935271 47.6644880343118, 9.44730847614896 47.6644823034133, 9.44727413690042 47.6644763151236, 9.444928887305879 47.6640444576946, 9.444886220360861 47.6640381906818, 9.444829205115131 47.6640359557828, 9.4448279422305 47.6640360849357, 9.44482674602855 47.6640363876611, 9.44482566804831 47.6640368509158, 9.444757321553571 47.6640820372137))'"
      ]
     },
     "execution_count": 17,
     "metadata": {},
     "output_type": "execute_result"
    }
   ],
   "source": [
    "fn_fallenbrunnen_geo.wkt"
   ]
  },
  {
   "cell_type": "code",
   "execution_count": 45,
   "metadata": {},
   "outputs": [],
   "source": [
    "# load ways and buildings...\n",
    "\n",
    "### Load bays\n",
    "ways = session_osm.query(Way).filter(func.st_intersects(func.ST_GeomFromText(fn_fallenbrunnen_geo.wkt, get_config_osm('srid')), Way.geometry)) \n",
    "\n",
    "\n",
    "graph, node_coords_dict = build_graph_from_ways(ways)\n",
    "#nx.draw(graph, node_coords_dict)\n",
    "\n",
    "\n",
    "### Load buildings_w_a\n",
    "buildings_w_a = session_osm.query(Buildings_with_Amenities).filter(func.st_intersects(func.ST_GeomFromText(fn_fallenbrunnen_geo.wkt, get_config_osm('srid')), Buildings_with_Amenities.geometry_amenity)) \n",
    "\n",
    "### Load buildings_wo_a\n",
    "#buildings_wo_a = session_osm.query(Building_wo_Amenity).filter(func.st_intersects(func.ST_GeomFromText(fn_fallenbrunnen_geo.wkt, config_osm['srid']), Building_wo_Amenity.geometry)) \n",
    "buildings_wo_a = session_osm.query(Building_wo_Amenity).filter(func.st_intersects(func.ST_GeomFromText(fn_fallenbrunnen_geo.wkt, get_config_osm('srid')), Building_wo_Amenity.geometry)) \n",
    "\n",
    "### Load buildings_wo_a\n",
    "#amenities_ni_Buildings = session_osm.query(Amenities_ni_Buildings).filter(func.st_intersects(func.ST_GeomFromText(fn_fallenbrunnen_geo.wkt, config_osm['srid']), Amenities_ni_Buildings.geometry)) \n",
    "amenities_ni_Buildings = session_osm.query(Amenities_ni_Buildings).filter(func.st_intersects(func.ST_GeomFromText(fn_fallenbrunnen_geo.wkt, get_config_osm('srid')), Amenities_ni_Buildings.geometry)) \n"
   ]
  },
  {
   "cell_type": "code",
   "execution_count": 46,
   "metadata": {},
   "outputs": [
    {
     "data": {
      "image/png": "[encoded data removed]",
      "text/plain": [
       "<Figure size 432x288 with 1 Axes>"
      ]
     },
     "metadata": {},
     "output_type": "display_data"
    }
   ],
   "source": [
    "nx.draw(graph, node_coords_dict)"
   ]
  },
  {
   "cell_type": "markdown",
   "metadata": {},
   "source": [
    "#### ADD LOADS and ASSIGN NN"
   ]
  },
  {
   "cell_type": "code",
   "execution_count": 47,
   "metadata": {},
   "outputs": [
    {
     "name": "stdout",
     "output_type": "stream",
     "text": [
      "Wall time: 11.7 s\n"
     ]
    }
   ],
   "source": [
    "%%time\n",
    "\n",
    "buildings_w_loads_df = parameterize_by_load_profiles(buildings_w_a, buildings_wo_a, amenities_ni_Buildings)\n",
    "\n",
    "X = buildings_w_loads_df['x'].tolist()\n",
    "Y = buildings_w_loads_df['y'].tolist()\n",
    "    \n",
    "buildings_w_loads_df['nn'], buildings_w_loads_df['nn_dist'] = nearest_nodes(graph, X, Y)\n"
   ]
  },
  {
   "cell_type": "code",
   "execution_count": 49,
   "metadata": {},
   "outputs": [
    {
     "data": {
      "text/html": [
       "<div>\n",
       "<style scoped>\n",
       "    .dataframe tbody tr th:only-of-type {\n",
       "        vertical-align: middle;\n",
       "    }\n",
       "\n",
       "    .dataframe tbody tr th {\n",
       "        vertical-align: top;\n",
       "    }\n",
       "\n",
       "    .dataframe thead th {\n",
       "        text-align: right;\n",
       "    }\n",
       "</style>\n",
       "<table border=\"1\" class=\"dataframe\">\n",
       "  <thead>\n",
       "    <tr style=\"text-align: right;\">\n",
       "      <th></th>\n",
       "      <th>category</th>\n",
       "      <th>capacity</th>\n",
       "      <th>number_households</th>\n",
       "      <th>x</th>\n",
       "      <th>y</th>\n",
       "      <th>geometry</th>\n",
       "      <th>nn</th>\n",
       "      <th>nn_dist</th>\n",
       "    </tr>\n",
       "    <tr>\n",
       "      <th>osm_id</th>\n",
       "      <th></th>\n",
       "      <th></th>\n",
       "      <th></th>\n",
       "      <th></th>\n",
       "      <th></th>\n",
       "      <th></th>\n",
       "      <th></th>\n",
       "      <th></th>\n",
       "    </tr>\n",
       "  </thead>\n",
       "  <tbody>\n",
       "    <tr>\n",
       "      <th>5372048198</th>\n",
       "      <td>charging_station</td>\n",
       "      <td>22.000000</td>\n",
       "      <td>0</td>\n",
       "      <td>9.445399</td>\n",
       "      <td>47.665424</td>\n",
       "      <td>POINT (9.445398799999998 47.66542380001609)</td>\n",
       "      <td>7283182919</td>\n",
       "      <td>10.088896</td>\n",
       "    </tr>\n",
       "    <tr>\n",
       "      <th>6443944543</th>\n",
       "      <td>charging_station</td>\n",
       "      <td>22.000000</td>\n",
       "      <td>0</td>\n",
       "      <td>9.447825</td>\n",
       "      <td>47.665403</td>\n",
       "      <td>POINT (9.447825000000002 47.6654032000161)</td>\n",
       "      <td>4319338906</td>\n",
       "      <td>24.563201</td>\n",
       "    </tr>\n",
       "    <tr>\n",
       "      <th>35318089</th>\n",
       "      <td>residential</td>\n",
       "      <td>1.708470</td>\n",
       "      <td>1.0</td>\n",
       "      <td>9.449618</td>\n",
       "      <td>47.665476</td>\n",
       "      <td>POLYGON ((9.448597700000001 47.66587060001597,...</td>\n",
       "      <td>70844021</td>\n",
       "      <td>55.848276</td>\n",
       "    </tr>\n",
       "    <tr>\n",
       "      <th>35318091</th>\n",
       "      <td>dormitory</td>\n",
       "      <td>88.840440</td>\n",
       "      <td>52.0</td>\n",
       "      <td>9.443895</td>\n",
       "      <td>47.667216</td>\n",
       "      <td>POLYGON ((9.443008799999998 47.66745990001561,...</td>\n",
       "      <td>2927393550</td>\n",
       "      <td>40.266932</td>\n",
       "    </tr>\n",
       "    <tr>\n",
       "      <th>222184229</th>\n",
       "      <td>university</td>\n",
       "      <td>46.540341</td>\n",
       "      <td>0.0</td>\n",
       "      <td>9.444999</td>\n",
       "      <td>47.664924</td>\n",
       "      <td>POLYGON ((9.444854599999998 47.66499900001618,...</td>\n",
       "      <td>2311661357</td>\n",
       "      <td>24.986495</td>\n",
       "    </tr>\n",
       "  </tbody>\n",
       "</table>\n",
       "</div>"
      ],
      "text/plain": [
       "                    category   capacity number_households         x  \\\n",
       "osm_id                                                                \n",
       "5372048198  charging_station  22.000000                 0  9.445399   \n",
       "6443944543  charging_station  22.000000                 0  9.447825   \n",
       "35318089         residential   1.708470               1.0  9.449618   \n",
       "35318091           dormitory  88.840440              52.0  9.443895   \n",
       "222184229         university  46.540341               0.0  9.444999   \n",
       "\n",
       "                    y                                           geometry  \\\n",
       "osm_id                                                                     \n",
       "5372048198  47.665424        POINT (9.445398799999998 47.66542380001609)   \n",
       "6443944543  47.665403         POINT (9.447825000000002 47.6654032000161)   \n",
       "35318089    47.665476  POLYGON ((9.448597700000001 47.66587060001597,...   \n",
       "35318091    47.667216  POLYGON ((9.443008799999998 47.66745990001561,...   \n",
       "222184229   47.664924  POLYGON ((9.444854599999998 47.66499900001618,...   \n",
       "\n",
       "                    nn    nn_dist  \n",
       "osm_id                             \n",
       "5372048198  7283182919  10.088896  \n",
       "6443944543  4319338906  24.563201  \n",
       "35318089      70844021  55.848276  \n",
       "35318091    2927393550  40.266932  \n",
       "222184229   2311661357  24.986495  "
      ]
     },
     "execution_count": 49,
     "metadata": {},
     "output_type": "execute_result"
    }
   ],
   "source": [
    "buildings_w_loads_df.head()"
   ]
  },
  {
   "cell_type": "markdown",
   "metadata": {},
   "source": [
    "### Clustering"
   ]
  },
  {
   "cell_type": "code",
   "execution_count": 14,
   "metadata": {},
   "outputs": [],
   "source": [
    "n_clusters = get_n_cluster(buildings_w_loads_df)\n",
    "if n_clusters < len(fn_fallenbrunnen_la._lv_grid_districts):\n",
    "    n_clusters = len(fn_fallenbrunnen_la._lv_grid_districts)\n",
    "buildings_w_loads_df = cluster_k_means(buildings_w_loads_df, n_clusters)"
   ]
  },
  {
   "cell_type": "markdown",
   "metadata": {},
   "source": [
    "### Update and add _districts"
   ]
  },
  {
   "cell_type": "code",
   "execution_count": 15,
   "metadata": {},
   "outputs": [
    {
     "data": {
      "text/html": [
       "<div>\n",
       "<style scoped>\n",
       "    .dataframe tbody tr th:only-of-type {\n",
       "        vertical-align: middle;\n",
       "    }\n",
       "\n",
       "    .dataframe tbody tr th {\n",
       "        vertical-align: top;\n",
       "    }\n",
       "\n",
       "    .dataframe thead th {\n",
       "        text-align: right;\n",
       "    }\n",
       "</style>\n",
       "<table border=\"1\" class=\"dataframe\">\n",
       "  <thead>\n",
       "    <tr style=\"text-align: right;\">\n",
       "      <th></th>\n",
       "      <th>category</th>\n",
       "      <th>capacity</th>\n",
       "      <th>number_households</th>\n",
       "      <th>x</th>\n",
       "      <th>y</th>\n",
       "      <th>geometry</th>\n",
       "      <th>nn</th>\n",
       "      <th>nn_dist</th>\n",
       "      <th>Cluster</th>\n",
       "    </tr>\n",
       "    <tr>\n",
       "      <th>osm_id</th>\n",
       "      <th></th>\n",
       "      <th></th>\n",
       "      <th></th>\n",
       "      <th></th>\n",
       "      <th></th>\n",
       "      <th></th>\n",
       "      <th></th>\n",
       "      <th></th>\n",
       "      <th></th>\n",
       "    </tr>\n",
       "  </thead>\n",
       "  <tbody>\n",
       "    <tr>\n",
       "      <th>35318091</th>\n",
       "      <td>dormitory</td>\n",
       "      <td>88.840440</td>\n",
       "      <td>52.0</td>\n",
       "      <td>9.443895</td>\n",
       "      <td>47.667216</td>\n",
       "      <td>POLYGON ((9.443008799999998 47.66745990001561,...</td>\n",
       "      <td>2927393550</td>\n",
       "      <td>40.266932</td>\n",
       "      <td>0</td>\n",
       "    </tr>\n",
       "    <tr>\n",
       "      <th>222184229</th>\n",
       "      <td>university</td>\n",
       "      <td>46.540341</td>\n",
       "      <td>0.0</td>\n",
       "      <td>9.444999</td>\n",
       "      <td>47.664924</td>\n",
       "      <td>POLYGON ((9.444854599999998 47.66499900001618,...</td>\n",
       "      <td>2311661357</td>\n",
       "      <td>24.986495</td>\n",
       "      <td>0</td>\n",
       "    </tr>\n",
       "    <tr>\n",
       "      <th>247479384</th>\n",
       "      <td>restaurant</td>\n",
       "      <td>158.595981</td>\n",
       "      <td>0.0</td>\n",
       "      <td>9.444379</td>\n",
       "      <td>47.665467</td>\n",
       "      <td>POLYGON ((9.4440598 47.665758600016, 9.4441263...</td>\n",
       "      <td>3840636444</td>\n",
       "      <td>12.316928</td>\n",
       "      <td>0</td>\n",
       "    </tr>\n",
       "    <tr>\n",
       "      <th>249601890</th>\n",
       "      <td>cinema</td>\n",
       "      <td>200.692980</td>\n",
       "      <td>0.0</td>\n",
       "      <td>9.444379</td>\n",
       "      <td>47.665467</td>\n",
       "      <td>POLYGON ((9.4440598 47.665758600016, 9.4441263...</td>\n",
       "      <td>3840636444</td>\n",
       "      <td>12.316928</td>\n",
       "      <td>0</td>\n",
       "    </tr>\n",
       "    <tr>\n",
       "      <th>1510094884</th>\n",
       "      <td>bar</td>\n",
       "      <td>158.595981</td>\n",
       "      <td>0.0</td>\n",
       "      <td>9.444379</td>\n",
       "      <td>47.665467</td>\n",
       "      <td>POLYGON ((9.4440598 47.665758600016, 9.4441263...</td>\n",
       "      <td>3840636444</td>\n",
       "      <td>12.316928</td>\n",
       "      <td>0</td>\n",
       "    </tr>\n",
       "    <tr>\n",
       "      <th>1510098931</th>\n",
       "      <td>theatre</td>\n",
       "      <td>200.692980</td>\n",
       "      <td>0.0</td>\n",
       "      <td>9.444379</td>\n",
       "      <td>47.665467</td>\n",
       "      <td>POLYGON ((9.4440598 47.665758600016, 9.4441263...</td>\n",
       "      <td>3840636444</td>\n",
       "      <td>12.316928</td>\n",
       "      <td>0</td>\n",
       "    </tr>\n",
       "    <tr>\n",
       "      <th>2427156009</th>\n",
       "      <td>university</td>\n",
       "      <td>304.811100</td>\n",
       "      <td>0.0</td>\n",
       "      <td>9.444427</td>\n",
       "      <td>47.666355</td>\n",
       "      <td>POLYGON ((9.443543500000001 47.66659780001582,...</td>\n",
       "      <td>2927393547</td>\n",
       "      <td>39.824731</td>\n",
       "      <td>0</td>\n",
       "    </tr>\n",
       "  </tbody>\n",
       "</table>\n",
       "</div>"
      ],
      "text/plain": [
       "              category    capacity number_households         x          y  \\\n",
       "osm_id                                                                      \n",
       "35318091     dormitory   88.840440              52.0  9.443895  47.667216   \n",
       "222184229   university   46.540341               0.0  9.444999  47.664924   \n",
       "247479384   restaurant  158.595981               0.0  9.444379  47.665467   \n",
       "249601890       cinema  200.692980               0.0  9.444379  47.665467   \n",
       "1510094884         bar  158.595981               0.0  9.444379  47.665467   \n",
       "1510098931     theatre  200.692980               0.0  9.444379  47.665467   \n",
       "2427156009  university  304.811100               0.0  9.444427  47.666355   \n",
       "\n",
       "                                                     geometry          nn  \\\n",
       "osm_id                                                                      \n",
       "35318091    POLYGON ((9.443008799999998 47.66745990001561,...  2927393550   \n",
       "222184229   POLYGON ((9.444854599999998 47.66499900001618,...  2311661357   \n",
       "247479384   POLYGON ((9.4440598 47.665758600016, 9.4441263...  3840636444   \n",
       "249601890   POLYGON ((9.4440598 47.665758600016, 9.4441263...  3840636444   \n",
       "1510094884  POLYGON ((9.4440598 47.665758600016, 9.4441263...  3840636444   \n",
       "1510098931  POLYGON ((9.4440598 47.665758600016, 9.4441263...  3840636444   \n",
       "2427156009  POLYGON ((9.443543500000001 47.66659780001582,...  2927393547   \n",
       "\n",
       "              nn_dist  Cluster  \n",
       "osm_id                          \n",
       "35318091    40.266932        0  \n",
       "222184229   24.986495        0  \n",
       "247479384   12.316928        0  \n",
       "249601890   12.316928        0  \n",
       "1510094884  12.316928        0  \n",
       "1510098931  12.316928        0  \n",
       "2427156009  39.824731        0  "
      ]
     },
     "execution_count": 15,
     "metadata": {},
     "output_type": "execute_result"
    }
   ],
   "source": [
    "buildings_w_loads_df.loc[(buildings_w_loads_df['Cluster']==0)]"
   ]
  },
  {
   "cell_type": "code",
   "execution_count": 16,
   "metadata": {},
   "outputs": [
    {
     "name": "stdout",
     "output_type": "stream",
     "text": [
      "Wall time: 9.38 ms\n"
     ]
    },
    {
     "data": {
      "text/plain": [
       "140"
      ]
     },
     "execution_count": 16,
     "metadata": {},
     "output_type": "execute_result"
    }
   ],
   "source": [
    "%%time\n",
    "\n",
    "geometry = buildings_w_loads_df.loc[(buildings_w_loads_df['Cluster']==0), 'geometry'].tolist()\n",
    "\n",
    "points = get_points_in_load_area(geometry)\n",
    "        \n",
    "len(points)"
   ]
  },
  {
   "cell_type": "code",
   "execution_count": 17,
   "metadata": {},
   "outputs": [
    {
     "data": {
      "image/svg+xml": [
       "<svg xmlns=\"http://www.w3.org/2000/svg\" xmlns:xlink=\"http://www.w3.org/1999/xlink\" width=\"100.0\" height=\"100.0\" viewBox=\"9.442894664000024 47.66468626401624 0.002454771999950367 0.0030816719992969865\" preserveAspectRatio=\"xMinYMin meet\"><g transform=\"matrix(1,0,0,-1,0,95.33245420003178)\"><path fill-rule=\"evenodd\" fill=\"#66cc99\" stroke=\"#555555\" stroke-width=\"6.163343998593973e-05\" opacity=\"0.6\" d=\"M 9.4449668,47.66480040001621 L 9.444477799999998,47.665050300016155 L 9.4433808,47.66681720001574 L 9.443314499999998,47.66692910001574 L 9.443008799999998,47.667459900015615 L 9.4437318,47.667653800015565 L 9.444817999999998,47.66596210001596 L 9.4452353,47.66525890001613 L 9.4451412,47.66484560001622 L 9.4449668,47.66480040001621 z\" /></g></svg>"
      ],
      "text/plain": [
       "<shapely.geometry.polygon.Polygon at 0x1d50dc74eb0>"
      ]
     },
     "execution_count": 17,
     "metadata": {},
     "output_type": "execute_result"
    }
   ],
   "source": [
    "get_convex_hull_from_points(points)"
   ]
  },
  {
   "cell_type": "code",
   "execution_count": 24,
   "metadata": {},
   "outputs": [
    {
     "data": {
      "text/plain": [
       "{'id_db': 20,\n",
       " 'mv_grid_district': mv_grid_district_40,\n",
       " '_lv_load_areas': [lv_load_area_4544,\n",
       "  lv_load_area_4545,\n",
       "  lv_load_area_4548,\n",
       "  MVCableDist_mvgd_40_26],\n",
       " 'peak_load': 65.35928151751943,\n",
       " 'branch_length_sum': 0,\n",
       " 'peak_load_max': 1000.0,\n",
       " 'branch_length_max': 2000.0,\n",
       " 'root_node': MVCableDist_mvgd_40_23}"
      ]
     },
     "execution_count": 24,
     "metadata": {},
     "output_type": "execute_result"
    }
   ],
   "source": [
    "fn_fallenbrunnen_la.lv_load_area_group.__dict__"
   ]
  },
  {
   "cell_type": "code",
   "execution_count": 28,
   "metadata": {},
   "outputs": [
    {
     "data": {
      "text/plain": [
       "{'id_db': 40,\n",
       " 'mv_grid': mv_grid_40,\n",
       " '_lv_load_areas': [lv_load_area_2128,\n",
       "  lv_load_area_2292,\n",
       "  lv_load_area_2383,\n",
       "  lv_load_area_2520,\n",
       "  lv_load_area_2521,\n",
       "  lv_load_area_2561,\n",
       "  lv_load_area_2608,\n",
       "  lv_load_area_2625,\n",
       "  lv_load_area_2633,\n",
       "  lv_load_area_2705,\n",
       "  lv_load_area_2728,\n",
       "  lv_load_area_2763,\n",
       "  lv_load_area_2765,\n",
       "  lv_load_area_2840,\n",
       "  lv_load_area_2842,\n",
       "  lv_load_area_3029,\n",
       "  lv_load_area_3088,\n",
       "  lv_load_area_3089,\n",
       "  lv_load_area_3119,\n",
       "  lv_load_area_3160,\n",
       "  lv_load_area_3235,\n",
       "  lv_load_area_3277,\n",
       "  lv_load_area_3304,\n",
       "  lv_load_area_3305,\n",
       "  lv_load_area_3307,\n",
       "  lv_load_area_3311,\n",
       "  lv_load_area_3314,\n",
       "  lv_load_area_3403,\n",
       "  lv_load_area_3413,\n",
       "  lv_load_area_3645,\n",
       "  lv_load_area_3661,\n",
       "  lv_load_area_3731,\n",
       "  lv_load_area_3780,\n",
       "  lv_load_area_3805,\n",
       "  lv_load_area_3911,\n",
       "  lv_load_area_3986,\n",
       "  lv_load_area_3987,\n",
       "  lv_load_area_3992,\n",
       "  lv_load_area_4212,\n",
       "  lv_load_area_4337,\n",
       "  lv_load_area_4347,\n",
       "  lv_load_area_4487,\n",
       "  lv_load_area_4488,\n",
       "  lv_load_area_4544,\n",
       "  lv_load_area_4545,\n",
       "  lv_load_area_4546,\n",
       "  lv_load_area_4547,\n",
       "  lv_load_area_4548,\n",
       "  lv_load_area_4549,\n",
       "  lv_load_area_4550,\n",
       "  lv_load_area_4620,\n",
       "  lv_load_area_4621,\n",
       "  lv_load_area_4622,\n",
       "  lv_load_area_4670,\n",
       "  lv_load_area_4674,\n",
       "  lv_load_area_4735,\n",
       "  lv_load_area_4764,\n",
       "  lv_load_area_4830,\n",
       "  lv_load_area_4831,\n",
       "  lv_load_area_4840,\n",
       "  lv_load_area_4855,\n",
       "  lv_load_area_4868,\n",
       "  lv_load_area_4918,\n",
       "  lv_load_area_5227,\n",
       "  lv_load_area_5305,\n",
       "  lv_load_area_5371,\n",
       "  lv_load_area_5372,\n",
       "  lv_load_area_5404,\n",
       "  lv_load_area_5511,\n",
       "  lv_load_area_5525,\n",
       "  lv_load_area_5529,\n",
       "  lv_load_area_5536,\n",
       "  lv_load_area_5583,\n",
       "  lv_load_area_5588,\n",
       "  lv_load_area_5595],\n",
       " '_lv_load_area_groups': [load_area_group_1,\n",
       "  load_area_group_2,\n",
       "  load_area_group_3,\n",
       "  load_area_group_4,\n",
       "  load_area_group_5,\n",
       "  load_area_group_6,\n",
       "  load_area_group_7,\n",
       "  load_area_group_8,\n",
       "  load_area_group_9,\n",
       "  load_area_group_10,\n",
       "  load_area_group_11,\n",
       "  load_area_group_12,\n",
       "  load_area_group_13,\n",
       "  load_area_group_14,\n",
       "  load_area_group_15,\n",
       "  load_area_group_16,\n",
       "  load_area_group_17,\n",
       "  load_area_group_18,\n",
       "  load_area_group_19,\n",
       "  load_area_group_20,\n",
       "  load_area_group_21,\n",
       "  load_area_group_22,\n",
       "  load_area_group_23,\n",
       "  load_area_group_24,\n",
       "  load_area_group_25,\n",
       "  load_area_group_26,\n",
       "  load_area_group_27,\n",
       "  load_area_group_28,\n",
       "  load_area_group_29,\n",
       "  load_area_group_30,\n",
       "  load_area_group_31,\n",
       "  load_area_group_32,\n",
       "  load_area_group_33,\n",
       "  load_area_group_34,\n",
       "  load_area_group_35,\n",
       "  load_area_group_36,\n",
       "  load_area_group_37,\n",
       "  load_area_group_38,\n",
       "  load_area_group_39],\n",
       " 'geo_data': <shapely.geometry.multipolygon.MultiPolygon at 0x1d51256bf10>,\n",
       " 'peak_load': 67057.57197852976,\n",
       " 'peak_load_satellites': 852.3248953957927,\n",
       " 'peak_load_aggregated': 54058.0529320802}"
      ]
     },
     "execution_count": 28,
     "metadata": {},
     "output_type": "execute_result"
    }
   ],
   "source": [
    "nd._mv_grid_districts[0].__dict__"
   ]
  },
  {
   "cell_type": "code",
   "execution_count": 17,
   "metadata": {},
   "outputs": [
    {
     "data": {
      "text/plain": [
       "{'id_db': 4563,\n",
       " 'geo_data': <shapely.geometry.point.Point at 0x118800eba90>,\n",
       " 'grid': lv_grid_4563,\n",
       " '_transformers': [Transformer_lv_grid_4563_1],\n",
       " 'v_level_operation': None,\n",
       " 'lv_load_area': lv_load_area_4544,\n",
       " 'voltage_res': [0.9897135909377942, 1.0123145234795161]}"
      ]
     },
     "execution_count": 17,
     "metadata": {},
     "output_type": "execute_result"
    }
   ],
   "source": [
    "fn_fallenbrunnen_la._lv_grid_districts[0].lv_grid._station.__dict__"
   ]
  },
  {
   "cell_type": "code",
   "execution_count": 17,
   "metadata": {},
   "outputs": [
    {
     "name": "stdout",
     "output_type": "stream",
     "text": [
      "update _lv_grid_districts 0\n",
      "add _lv_grid_districts id 1\n",
      "add _lv_grid_districts id 2\n"
     ]
    }
   ],
   "source": [
    "preprocessed_clusters = []   \n",
    "    \n",
    "\n",
    "for cluster_id in range(n_clusters):\n",
    "    \n",
    "    if cluster_id < len(fn_fallenbrunnen_la._lv_grid_districts):\n",
    "        \n",
    "        print('delete or update _lv_grid_districts[', cluster_id, ']')\n",
    "        \n",
    "        # GET NEW VALUES FOR DISTRICT        \n",
    "        # get convex hull of cluster\n",
    "        points = get_points_in_load_area(buildings_w_loads_df.loc[buildings_w_loads_df['Cluster']==cluster_id])\n",
    "        district_convex_hull = get_convex_hull_from_points(points)\n",
    "        \n",
    "        # get location of substation for cluster\n",
    "        station_x, station_y = get_location_substation_at_pi(graph, buildings_w_loads_df.loc[(buildings_w_loads_df['Cluster']==0)])\n",
    "\n",
    "        \n",
    "        # UPDATE VALUES\n",
    "        # update values of _lv_grid_districts[cluster_id]\n",
    "        fn_fallenbrunnen_la._lv_grid_districts[cluster_id].geo_data  = district_convex_hull\n",
    "        fn_fallenbrunnen_la._lv_grid_districts[cluster_id].poulation = buildings_w_loads_df.loc[buildings_w_loads_df['Cluster']==cluster_id]['number_households'].sum()\n",
    "        \n",
    "        fn_fallenbrunnen_la._lv_grid_districts[cluster_id].peak_load = buildings_w_loads_df.loc[(buildings_w_loads_df['Cluster']==0)]['capacity'].sum()\n",
    "        fn_fallenbrunnen_la._lv_grid_districts[cluster_id].peak_load_residential = buildings_w_loads_df.loc[(buildings_w_loads_df['Cluster']==cluster_id) & buildings_w_loads_df['number_households'] > 0]['capacity'].sum()\n",
    "        \n",
    "        \n",
    "        # ADD / RESET DING0 ELEMENTS\n",
    "        # update position of substation\n",
    "        fn_fallenbrunnen_la._lv_grid_districts[0].lv_grid._station.geo_data = get_Point_from_x_y(station_x, station_y)\n",
    "        \n",
    "        # reset list to add new elements\n",
    "        fn_fallenbrunnen_la._lv_grid_districts[cluster_id].lv_grid._station.transformers.clear()\n",
    "        \n",
    "        \n",
    "        # update trafo and loads\n",
    "        #fn_fallenbrunnen_la._lv_grid_districts[cluster_id].lv_grid.build_grid()\n",
    "        \n",
    "        \n",
    "    else:\n",
    "        \n",
    "        print('add _lv_grid_districts id', cluster_id)\n",
    "        \n",
    "        \n",
    "        \n",
    "        \n",
    "        \n",
    "    break\n",
    "    "
   ]
  },
  {
   "cell_type": "code",
   "execution_count": 21,
   "metadata": {},
   "outputs": [
    {
     "data": {
      "text/plain": [
       "{'id_db': 4563,\n",
       " 'geo_data': <shapely.geometry.point.Point at 0x1d50cd257f0>,\n",
       " 'grid': lv_grid_4563,\n",
       " '_transformers': [Transformer_lv_grid_4563_1],\n",
       " 'v_level_operation': None,\n",
       " 'lv_load_area': lv_load_area_4544,\n",
       " 'voltage_res': [0.9897135909377942, 1.0123145234795161]}"
      ]
     },
     "execution_count": 21,
     "metadata": {},
     "output_type": "execute_result"
    }
   ],
   "source": [
    "fn_fallenbrunnen_la._lv_grid_districts[0].lv_grid._station.__dict__"
   ]
  },
  {
   "cell_type": "code",
   "execution_count": null,
   "metadata": {},
   "outputs": [],
   "source": []
  },
  {
   "cell_type": "code",
   "execution_count": null,
   "metadata": {},
   "outputs": [],
   "source": []
  },
  {
   "cell_type": "code",
   "execution_count": null,
   "metadata": {},
   "outputs": [],
   "source": []
  },
  {
   "cell_type": "code",
   "execution_count": null,
   "metadata": {},
   "outputs": [],
   "source": []
  },
  {
   "cell_type": "code",
   "execution_count": null,
   "metadata": {},
   "outputs": [],
   "source": []
  },
  {
   "cell_type": "code",
   "execution_count": 19,
   "metadata": {},
   "outputs": [],
   "source": [
    "#lv_district_of_interest.lv_grid.graph_draw(mode='LV')"
   ]
  },
  {
   "cell_type": "code",
   "execution_count": 16,
   "metadata": {},
   "outputs": [
    {
     "ename": "NameError",
     "evalue": "name 'lv_district_of_interest' is not defined",
     "output_type": "error",
     "traceback": [
      "\u001b[1;31m---------------------------------------------------------------------------\u001b[0m",
      "\u001b[1;31mNameError\u001b[0m                                 Traceback (most recent call last)",
      "\u001b[1;32m<ipython-input-16-52e70a767919>\u001b[0m in \u001b[0;36m<module>\u001b[1;34m\u001b[0m\n\u001b[1;32m----> 1\u001b[1;33m \u001b[0mlv_district_of_interest\u001b[0m\u001b[1;33m.\u001b[0m\u001b[0mlv_grid\u001b[0m\u001b[1;33m.\u001b[0m\u001b[0m__dict__\u001b[0m \u001b[1;31m# .geo_data.wkt\u001b[0m\u001b[1;33m\u001b[0m\u001b[1;33m\u001b[0m\u001b[0m\n\u001b[0m",
      "\u001b[1;31mNameError\u001b[0m: name 'lv_district_of_interest' is not defined"
     ]
    }
   ],
   "source": [
    "lv_district_of_interest.lv_grid.__dict__ # .geo_data.wkt"
   ]
  },
  {
   "cell_type": "code",
   "execution_count": null,
   "metadata": {},
   "outputs": [],
   "source": []
  },
  {
   "cell_type": "code",
   "execution_count": null,
   "metadata": {},
   "outputs": [],
   "source": []
  },
  {
   "cell_type": "code",
   "execution_count": null,
   "metadata": {},
   "outputs": [],
   "source": []
  },
  {
   "cell_type": "code",
   "execution_count": null,
   "metadata": {},
   "outputs": [],
   "source": []
  },
  {
   "cell_type": "code",
   "execution_count": 19,
   "metadata": {},
   "outputs": [],
   "source": [
    "from sklearn.cluster import AgglomerativeClustering\n",
    "import numpy as np"
   ]
  },
  {
   "cell_type": "code",
   "execution_count": 20,
   "metadata": {},
   "outputs": [],
   "source": [
    "X = []    # collect nodes\n",
    "\n",
    "for node in graph.nodes:\n",
    "\n",
    "    X.append([graph.nodes[node]['X'], graph.nodes[node]['Y']])\n",
    "    \n",
    "    \n",
    "X = np.array(X)\n",
    "\n",
    "\n",
    "\n",
    "# clustering\n",
    "\n",
    "adj_mat_sparse = nx.adjacency_matrix(graph, weight='length')\n",
    "\n",
    "clustering = AgglomerativeClustering(n_clusters=n_clusters, linkage='ward', connectivity=adj_mat_sparse).fit(X)\n",
    "\n",
    "\n",
    "\n",
    "\n",
    "\n",
    "\n",
    "# assign cluster labels\n",
    "\n",
    "i_label = 0\n",
    "\n",
    "for node in list(graph.nodes):\n",
    "\n",
    "    graph.nodes[node]['cluster'] = clustering.labels_[i_label]\n",
    "    \n",
    "    i_label += 1\n",
    "    \n",
    "labels = nx.get_node_attributes(graph, 'cluster') "
   ]
  },
  {
   "cell_type": "code",
   "execution_count": 23,
   "metadata": {},
   "outputs": [
    {
     "data": {
      "image/png": "[encoded data removed]",
      "text/plain": [
       "<Figure size 432x288 with 1 Axes>"
      ]
     },
     "metadata": {},
     "output_type": "display_data"
    }
   ],
   "source": [
    "nx.draw(graph, node_coords_dict,labels=labels)"
   ]
  },
  {
   "cell_type": "code",
   "execution_count": null,
   "metadata": {},
   "outputs": [],
   "source": []
  },
  {
   "cell_type": "code",
   "execution_count": 24,
   "metadata": {},
   "outputs": [],
   "source": [
    "X = []    # collect nodes\n",
    "\n",
    "for node in graph.nodes:\n",
    "\n",
    "    X.append([graph.nodes[node]['X'], graph.nodes[node]['Y']])\n",
    "    \n",
    "    \n",
    "X = np.array(X)\n",
    "\n",
    "\n",
    "\n",
    "# clustering\n",
    "\n",
    "adj_mat_sparse = nx.to_numpy_matrix(graph, weight='length')\n",
    "\n",
    "clustering = AgglomerativeClustering(n_clusters=n_clusters, linkage='ward', connectivity=adj_mat_sparse).fit(X)\n",
    "\n",
    "\n",
    "\n",
    "\n",
    "\n",
    "\n",
    "# assign cluster labels\n",
    "\n",
    "i_label = 0\n",
    "\n",
    "for node in list(graph.nodes):\n",
    "\n",
    "    graph.nodes[node]['cluster'] = clustering.labels_[i_label]\n",
    "    \n",
    "    i_label += 1\n",
    "    \n",
    "labels = nx.get_node_attributes(graph, 'cluster') "
   ]
  },
  {
   "cell_type": "code",
   "execution_count": 25,
   "metadata": {},
   "outputs": [
    {
     "data": {
      "image/png": "[encoded data removed]",
      "text/plain": [
       "<Figure size 432x288 with 1 Axes>"
      ]
     },
     "metadata": {},
     "output_type": "display_data"
    }
   ],
   "source": [
    "nx.draw(graph, node_coords_dict,labels=labels)"
   ]
  },
  {
   "cell_type": "code",
   "execution_count": null,
   "metadata": {},
   "outputs": [],
   "source": []
  }
 ],
 "metadata": {
  "kernelspec": {
   "display_name": "Python 3",
   "language": "python",
   "name": "python3"
  },
  "language_info": {
   "codemirror_mode": {
    "name": "ipython",
    "version": 3
   },
   "file_extension": ".py",
   "mimetype": "text/x-python",
   "name": "python",
   "nbconvert_exporter": "python",
   "pygments_lexer": "ipython3",
   "version": "3.8.5"
  }
 },
 "nbformat": 4,
 "nbformat_minor": 4
}
