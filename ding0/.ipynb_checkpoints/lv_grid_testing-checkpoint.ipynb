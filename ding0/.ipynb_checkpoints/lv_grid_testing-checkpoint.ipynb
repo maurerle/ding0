{
 "cells": [
  {
   "cell_type": "code",
   "execution_count": 1,
   "metadata": {},
   "outputs": [],
   "source": [
    "%%capture\n",
    "\n",
    "from ding0.core import NetworkDing0\n",
    "from ding0.tools.logger import setup_logger\n",
    "from ding0.tools.results import save_nd_to_pickle\n",
    "from ding0.tools.plots import plot_mv_topology\n",
    "from egoio.tools import db\n",
    "from sqlalchemy.orm import sessionmaker\n",
    "import oedialect\n",
    "\n",
    "# create new network\n",
    "nd = NetworkDing0(name='network')\n",
    "\n",
    "\n",
    "\n",
    "# set ID of MV grid district\n",
    "mv_grid_districts = [40] # fn"
   ]
  },
  {
   "cell_type": "code",
   "execution_count": 2,
   "metadata": {},
   "outputs": [],
   "source": [
    "engine = db.connection(section='oedb_dialect', readonly=True)\n",
    "session = sessionmaker(bind=engine)()"
   ]
  },
  {
   "cell_type": "code",
   "execution_count": 3,
   "metadata": {},
   "outputs": [],
   "source": [
    "# due to load_nd_from_pickle\n",
    "from ding0.tools import results"
   ]
  },
  {
   "cell_type": "code",
   "execution_count": 4,
   "metadata": {},
   "outputs": [
    {
     "name": "stdout",
     "output_type": "stream",
     "text": [
      "LOAD DING0 GRID FROM PKL\n"
     ]
    }
   ],
   "source": [
    "load_from_pkl=True\n",
    "\n",
    "if load_from_pkl:\n",
    "    \n",
    "    print('LOAD DING0 GRID FROM PKL')\n",
    "\n",
    "    grid_id=40\n",
    "    nd = results.load_nd_from_pickle(filename='./config/tmp/ding0_grids__' + str(grid_id) + '.pkl')\n",
    "    \n",
    "    # should be closed before export\n",
    "    nd.control_circuit_breakers(mode='open')\n",
    "\n",
    "\n",
    "else:\n",
    "    \n",
    "    print('DING0.RUN()')\n",
    "    \n",
    "    nd.import_mv_grid_districts(session, mv_grid_districts_no=mv_grid_districts)\n",
    "    nd.import_generators(session)\n",
    "\n",
    "    nd.mv_parametrize_grid()\n",
    "    nd.validate_grid_districts()\n",
    "    \n",
    "    build_lv_grid_default=True\n",
    "\n",
    "    if build_lv_grid_default:\n",
    "\n",
    "        nd.build_lv_grids()\n",
    "\n",
    "    else:\n",
    "\n",
    "        print('IMPLEMENT_MY_ROUTING')\n",
    "        \n",
    "        \n",
    "    nd.mv_routing()\n",
    "    \n",
    "    nd.connect_generators()\n",
    "    #nd.set_branch_ids()\n",
    "    nd.set_circuit_breakers()\n",
    "    \n",
    "    \n",
    "    nd.control_circuit_breakers(mode='open')\n",
    "    nd.run_powerflow(session)\n",
    "    \n",
    "    nd.reinforce_grid()\n",
    "    \n",
    "    \n",
    "    \n",
    "    #nd.control_circuit_breakers(mode='close')\n",
    "    #save_nd_to_pickle(nd, filename='ding0_grids__40.pkl')"
   ]
  },
  {
   "cell_type": "code",
   "execution_count": 5,
   "metadata": {},
   "outputs": [],
   "source": [
    "import networkx as nx # to enable nx.draw()\n",
    "import pandas as pd\n",
    "from sqlalchemy import func\n",
    "from geoalchemy2.shape import to_shape \n",
    "from shapely.wkt import loads"
   ]
  },
  {
   "cell_type": "code",
   "execution_count": 6,
   "metadata": {},
   "outputs": [],
   "source": [
    "from config.config_lv_grids_osm import get_config_osm \n",
    "from config.db_conn_local_bw_sandbox import get_session_osm\n",
    "from config.classes_db_conn.osm_load_classes import Buildings_with_Amenities, Building_wo_Amenity, Amenities_ni_Buildings, Way"
   ]
  },
  {
   "cell_type": "code",
   "execution_count": 7,
   "metadata": {},
   "outputs": [],
   "source": [
    "from grid.lv_grid.routing import build_graph_from_ways, nearest_nodes\n",
    "from grid.lv_grid.parameterization import parameterize_by_load_profiles\n",
    "from grid.lv_grid.clustering import get_n_cluster, cluster_k_means"
   ]
  },
  {
   "cell_type": "code",
   "execution_count": 8,
   "metadata": {},
   "outputs": [],
   "source": [
    "from grid.lv_grid.geo import get_points_in_load_area, get_convex_hull_from_points"
   ]
  },
  {
   "cell_type": "code",
   "execution_count": 9,
   "metadata": {
    "tags": []
   },
   "outputs": [],
   "source": [
    "session_osm = get_session_osm()"
   ]
  },
  {
   "cell_type": "code",
   "execution_count": 10,
   "metadata": {},
   "outputs": [
    {
     "name": "stdout",
     "output_type": "stream",
     "text": [
      "build a lv grid for  lv_load_area_4544\n",
      "peak_load by ding0 27.9485612387548\n",
      "STARTING SYNTHESIZING LV GRIDS FOR load_area\n",
      "CALL\n",
      "SYNTHESIZING LV GRIDS for LA TERMINATED\n"
     ]
    }
   ],
   "source": [
    "# FOR TESTING REASONS SELECT ONE LOAD_AREA (Fallenbrunnen) BY ID\n",
    "id_load_area_fallenbrunnen = '4544'\n",
    "\n",
    "load_areas = []\n",
    "\n",
    "\n",
    "for mv_grid_district in nd.mv_grid_districts():\n",
    "    for load_area in mv_grid_district.lv_load_areas():\n",
    "        \n",
    "        \n",
    "        if not load_area.is_aggregated:\n",
    "                \n",
    "            if id_load_area_fallenbrunnen in str(load_area):\n",
    "                \n",
    "                fn_fallenbrunnen_la  = load_area\n",
    "                fn_fallenbrunnen_geo = fn_fallenbrunnen_la.geo_area\n",
    "                \n",
    "                #for lv_district in fn_fallenbrunnen_la._lv_grid_districts:\n",
    "                # does not work due to one districtr has 1 lv station where trafo is located\n",
    "            \n",
    "                print('build a lv grid for ', str(load_area))\n",
    "                print('peak_load by ding0', load_area.peak_load)\n",
    "                print('STARTING SYNTHESIZING LV GRIDS FOR load_area')\n",
    "\n",
    "                print('CALL')\n",
    "\n",
    "                print('SYNTHESIZING LV GRIDS for LA TERMINATED')\n",
    "                \n",
    "                \n",
    "        # if only is_aggregated\n",
    "        #    indent\n",
    "        load_areas.append(load_area)\n",
    "                                \n",
    "                "
   ]
  },
  {
   "cell_type": "code",
   "execution_count": 11,
   "metadata": {},
   "outputs": [],
   "source": [
    "# load ways and buildings...\n",
    "\n",
    "### Load bays\n",
    "ways = session_osm.query(Way).filter(func.st_intersects(func.ST_GeomFromText(fn_fallenbrunnen_geo.wkt, get_config_osm('srid')), Way.geometry)) \n",
    "\n",
    "\n",
    "graph, node_coords_dict = build_graph_from_ways(ways)\n",
    "#nx.draw(graph, node_coords_dict)\n",
    "\n",
    "\n",
    "### Load buildings_w_a\n",
    "buildings_w_a = session_osm.query(Buildings_with_Amenities).filter(func.st_intersects(func.ST_GeomFromText(fn_fallenbrunnen_geo.wkt, get_config_osm('srid')), Buildings_with_Amenities.geometry)) \n",
    "\n",
    "### Load buildings_wo_a\n",
    "#buildings_wo_a = session_osm.query(Building_wo_Amenity).filter(func.st_intersects(func.ST_GeomFromText(fn_fallenbrunnen_geo.wkt, config_osm['srid']), Building_wo_Amenity.geometry)) \n",
    "buildings_wo_a = session_osm.query(Building_wo_Amenity).filter(func.st_intersects(func.ST_GeomFromText(fn_fallenbrunnen_geo.wkt, get_config_osm('srid')), Building_wo_Amenity.geometry)) \n",
    "\n",
    "### Load buildings_wo_a\n",
    "#amenities_ni_Buildings = session_osm.query(Amenities_ni_Buildings).filter(func.st_intersects(func.ST_GeomFromText(fn_fallenbrunnen_geo.wkt, config_osm['srid']), Amenities_ni_Buildings.geometry)) \n",
    "amenities_ni_Buildings = session_osm.query(Amenities_ni_Buildings).filter(func.st_intersects(func.ST_GeomFromText(fn_fallenbrunnen_geo.wkt, get_config_osm('srid')), Amenities_ni_Buildings.geometry)) \n"
   ]
  },
  {
   "cell_type": "code",
   "execution_count": 12,
   "metadata": {},
   "outputs": [],
   "source": [
    "#nx.draw(graph, node_coords_dict)"
   ]
  },
  {
   "cell_type": "markdown",
   "metadata": {},
   "source": [
    "#### ADD LOADS and ASSIGN NN"
   ]
  },
  {
   "cell_type": "code",
   "execution_count": 13,
   "metadata": {},
   "outputs": [
    {
     "name": "stdout",
     "output_type": "stream",
     "text": [
      "Wall time: 4.94 s\n"
     ]
    }
   ],
   "source": [
    "%%time\n",
    "\n",
    "buildings_w_loads_df = parameterize_by_load_profiles(buildings_w_a, buildings_wo_a, amenities_ni_Buildings)\n",
    "\n",
    "X = buildings_w_loads_df['x'].tolist()\n",
    "Y = buildings_w_loads_df['y'].tolist()\n",
    "    \n",
    "buildings_w_loads_df['nn'], buildings_w_loads_df['nn_dist'] = nearest_nodes(graph, X, Y)\n"
   ]
  },
  {
   "cell_type": "markdown",
   "metadata": {},
   "source": [
    "### Clustering"
   ]
  },
  {
   "cell_type": "code",
   "execution_count": 14,
   "metadata": {},
   "outputs": [],
   "source": [
    "n_clusters = get_n_cluster(buildings_w_loads_df)\n",
    "if n_clusters < len(fn_fallenbrunnen_la._lv_grid_districts):\n",
    "    n_clusters = len(fn_fallenbrunnen_la._lv_grid_districts)\n",
    "buildings_w_loads_df = cluster_k_means(buildings_w_loads_df, n_clusters)"
   ]
  },
  {
   "cell_type": "markdown",
   "metadata": {},
   "source": [
    "### Update and add _districts"
   ]
  },
  {
   "cell_type": "code",
   "execution_count": 24,
   "metadata": {},
   "outputs": [
    {
     "data": {
      "text/html": [
       "<div>\n",
       "<style scoped>\n",
       "    .dataframe tbody tr th:only-of-type {\n",
       "        vertical-align: middle;\n",
       "    }\n",
       "\n",
       "    .dataframe tbody tr th {\n",
       "        vertical-align: top;\n",
       "    }\n",
       "\n",
       "    .dataframe thead th {\n",
       "        text-align: right;\n",
       "    }\n",
       "</style>\n",
       "<table border=\"1\" class=\"dataframe\">\n",
       "  <thead>\n",
       "    <tr style=\"text-align: right;\">\n",
       "      <th></th>\n",
       "      <th>category</th>\n",
       "      <th>capacity</th>\n",
       "      <th>number_households</th>\n",
       "      <th>x</th>\n",
       "      <th>y</th>\n",
       "      <th>nn</th>\n",
       "      <th>nn_dist</th>\n",
       "      <th>Cluster</th>\n",
       "    </tr>\n",
       "    <tr>\n",
       "      <th>osm_id</th>\n",
       "      <th></th>\n",
       "      <th></th>\n",
       "      <th></th>\n",
       "      <th></th>\n",
       "      <th></th>\n",
       "      <th></th>\n",
       "      <th></th>\n",
       "      <th></th>\n",
       "    </tr>\n",
       "  </thead>\n",
       "  <tbody>\n",
       "    <tr>\n",
       "      <th>556952969</th>\n",
       "      <td>residential</td>\n",
       "      <td>1.708470</td>\n",
       "      <td>1.0</td>\n",
       "      <td>9.446373</td>\n",
       "      <td>47.665048</td>\n",
       "      <td>1437615048</td>\n",
       "      <td>33.453189</td>\n",
       "      <td>0</td>\n",
       "    </tr>\n",
       "    <tr>\n",
       "      <th>556952970</th>\n",
       "      <td>residential</td>\n",
       "      <td>1.708470</td>\n",
       "      <td>1.0</td>\n",
       "      <td>9.446161</td>\n",
       "      <td>47.664986</td>\n",
       "      <td>2311661359</td>\n",
       "      <td>41.386651</td>\n",
       "      <td>0</td>\n",
       "    </tr>\n",
       "    <tr>\n",
       "      <th>556952972</th>\n",
       "      <td>university</td>\n",
       "      <td>285.471254</td>\n",
       "      <td>0.0</td>\n",
       "      <td>9.447028</td>\n",
       "      <td>47.665802</td>\n",
       "      <td>380694455</td>\n",
       "      <td>38.604408</td>\n",
       "      <td>0</td>\n",
       "    </tr>\n",
       "    <tr>\n",
       "      <th>557584181</th>\n",
       "      <td>office</td>\n",
       "      <td>398.194599</td>\n",
       "      <td>0.0</td>\n",
       "      <td>9.446037</td>\n",
       "      <td>47.665606</td>\n",
       "      <td>70844030</td>\n",
       "      <td>37.148190</td>\n",
       "      <td>0</td>\n",
       "    </tr>\n",
       "    <tr>\n",
       "      <th>740533249</th>\n",
       "      <td>residential</td>\n",
       "      <td>1.708470</td>\n",
       "      <td>1.0</td>\n",
       "      <td>9.445402</td>\n",
       "      <td>47.664755</td>\n",
       "      <td>2311661359</td>\n",
       "      <td>30.216145</td>\n",
       "      <td>0</td>\n",
       "    </tr>\n",
       "    <tr>\n",
       "      <th>6937616307</th>\n",
       "      <td>school</td>\n",
       "      <td>92.726723</td>\n",
       "      <td>0.0</td>\n",
       "      <td>9.446824</td>\n",
       "      <td>47.665139</td>\n",
       "      <td>1437615048</td>\n",
       "      <td>27.567163</td>\n",
       "      <td>0</td>\n",
       "    </tr>\n",
       "    <tr>\n",
       "      <th>8279319568</th>\n",
       "      <td>school</td>\n",
       "      <td>92.726723</td>\n",
       "      <td>0.0</td>\n",
       "      <td>9.446319</td>\n",
       "      <td>47.664624</td>\n",
       "      <td>70844065</td>\n",
       "      <td>36.928217</td>\n",
       "      <td>0</td>\n",
       "    </tr>\n",
       "    <tr>\n",
       "      <th>8279319569</th>\n",
       "      <td>kindergarten</td>\n",
       "      <td>92.726723</td>\n",
       "      <td>0.0</td>\n",
       "      <td>9.446495</td>\n",
       "      <td>47.664677</td>\n",
       "      <td>1437615048</td>\n",
       "      <td>31.255781</td>\n",
       "      <td>0</td>\n",
       "    </tr>\n",
       "  </tbody>\n",
       "</table>\n",
       "</div>"
      ],
      "text/plain": [
       "                category    capacity number_households         x          y  \\\n",
       "osm_id                                                                        \n",
       "556952969    residential    1.708470               1.0  9.446373  47.665048   \n",
       "556952970    residential    1.708470               1.0  9.446161  47.664986   \n",
       "556952972     university  285.471254               0.0  9.447028  47.665802   \n",
       "557584181         office  398.194599               0.0  9.446037  47.665606   \n",
       "740533249    residential    1.708470               1.0  9.445402  47.664755   \n",
       "6937616307        school   92.726723               0.0  9.446824  47.665139   \n",
       "8279319568        school   92.726723               0.0  9.446319  47.664624   \n",
       "8279319569  kindergarten   92.726723               0.0  9.446495  47.664677   \n",
       "\n",
       "                    nn    nn_dist  Cluster  \n",
       "osm_id                                      \n",
       "556952969   1437615048  33.453189        0  \n",
       "556952970   2311661359  41.386651        0  \n",
       "556952972    380694455  38.604408        0  \n",
       "557584181     70844030  37.148190        0  \n",
       "740533249   2311661359  30.216145        0  \n",
       "6937616307  1437615048  27.567163        0  \n",
       "8279319568    70844065  36.928217        0  \n",
       "8279319569  1437615048  31.255781        0  "
      ]
     },
     "execution_count": 24,
     "metadata": {},
     "output_type": "execute_result"
    }
   ],
   "source": [
    "buildings_w_loads_df.loc[(buildings_w_loads_df['Cluster']==0)]"
   ]
  },
  {
   "cell_type": "code",
   "execution_count": 21,
   "metadata": {},
   "outputs": [
    {
     "data": {
      "text/plain": [
       "{'id_db': 4563,\n",
       " 'geo_data': <shapely.geometry.multipolygon.MultiPolygon at 0x189c41f9760>,\n",
       " 'lv_load_area': lv_load_area_4544,\n",
       " 'lv_grid': lv_grid_4563,\n",
       " 'population': 80,\n",
       " 'peak_load_residential': 27.9485612387548,\n",
       " 'peak_load_retail': 0.0,\n",
       " 'peak_load_industrial': 0.0,\n",
       " 'peak_load_agricultural': 0.0,\n",
       " 'peak_load': 27.9485612387548,\n",
       " 'sector_count_residential': 1,\n",
       " 'sector_count_retail': 0,\n",
       " 'sector_count_industrial': 0,\n",
       " 'sector_count_agricultural': 0,\n",
       " 'sector_consumption_residential': 130771.856816184,\n",
       " 'sector_consumption_retail': 0.0,\n",
       " 'sector_consumption_industrial': 0.0,\n",
       " 'sector_consumption_agricultural': 0.0}"
      ]
     },
     "execution_count": 21,
     "metadata": {},
     "output_type": "execute_result"
    }
   ],
   "source": [
    "fn_fallenbrunnen_la._lv_grid_districts[0].__dict__"
   ]
  },
  {
   "cell_type": "code",
   "execution_count": 17,
   "metadata": {},
   "outputs": [
    {
     "name": "stdout",
     "output_type": "stream",
     "text": [
      "update _lv_grid_districts 0\n",
      "add _lv_grid_districts id 1\n",
      "add _lv_grid_districts id 2\n"
     ]
    }
   ],
   "source": [
    "preprocessed_clusters = []   \n",
    "    \n",
    "\n",
    "for cluster_id in range(n_clusters):\n",
    "    \n",
    "    if cluster_id < len(fn_fallenbrunnen_la._lv_grid_districts):\n",
    "        \n",
    "        print('delete or update _lv_grid_districts[', cluster_id, ']')\n",
    "        \n",
    "        # get convex hull of cluster\n",
    "        points = get_points_in_load_area(buildings_w_loads_df.loc[buildings_w_loads_df['Cluster']==cluster_id])\n",
    "        district_convex_hull = get_convex_hull_from_points(points)\n",
    "        \n",
    "        # update for cluster\n",
    "        fn_fallenbrunnen_la._lv_grid_districts[cluster_id].geo_data = district_convex_hull\n",
    "        fn_fallenbrunnen_la._lv_grid_districts[cluster_id].poulation = buildings_w_loads_df.loc[buildings_w_loads_df['Cluster']==cluster_id]['number_households'].sum()\n",
    "        \n",
    "        fn_fallenbrunnen_la._lv_grid_districts[cluster_id].peak_load = buildings_w_loads_df.loc[(buildings_w_loads_df['Cluster']==0)]['capacity'].sum()\n",
    "        fn_fallenbrunnen_la._lv_grid_districts[cluster_id].peak_load_residential = buildings_w_loads_df.loc[(buildings_w_loads_df['Cluster']==cluster_id) & buildings_w_loads_df['number_households'] > 0]['capacity'].sum()\n",
    "        \n",
    "        \n",
    "        # update trafo and loads\n",
    "        fn_fallenbrunnen_la._lv_grid_districts[cluster_id].lv_grid.build_grid()\n",
    "        \n",
    "        \n",
    "    else:\n",
    "        \n",
    "        print('add _lv_grid_districts id', cluster_id)\n",
    "        \n",
    "        \n",
    "        \n",
    "        \n",
    "        \n",
    "    break\n",
    "    "
   ]
  },
  {
   "cell_type": "code",
   "execution_count": null,
   "metadata": {},
   "outputs": [],
   "source": []
  },
  {
   "cell_type": "code",
   "execution_count": null,
   "metadata": {},
   "outputs": [],
   "source": []
  },
  {
   "cell_type": "code",
   "execution_count": null,
   "metadata": {},
   "outputs": [],
   "source": []
  },
  {
   "cell_type": "code",
   "execution_count": null,
   "metadata": {},
   "outputs": [],
   "source": []
  },
  {
   "cell_type": "code",
   "execution_count": null,
   "metadata": {},
   "outputs": [],
   "source": []
  },
  {
   "cell_type": "code",
   "execution_count": 22,
   "metadata": {},
   "outputs": [
    {
     "data": {
      "text/plain": [
       "{'network': network,\n",
       " 'id_db': 4563,\n",
       " 'grid_district': lv_grid_district_4563,\n",
       " '_cable_distributors': [LVCableDist_mvgd_40_lvgd_4563_1,\n",
       "  LVCableDist_mvgd_40_lvgd_4563_2,\n",
       "  LVCableDist_mvgd_40_lvgd_4563_3,\n",
       "  LVCableDist_mvgd_40_lvgd_4563_4,\n",
       "  LVCableDist_mvgd_40_lvgd_4563_5,\n",
       "  LVCableDist_mvgd_40_lvgd_4563_6,\n",
       "  LVCableDist_mvgd_40_lvgd_4563_7,\n",
       "  LVCableDist_mvgd_40_lvgd_4563_8,\n",
       "  LVCableDist_mvgd_40_lvgd_4563_9,\n",
       "  LVCableDist_mvgd_40_lvgd_4563_10,\n",
       "  LVCableDist_mvgd_40_lvgd_4563_11,\n",
       "  LVCableDist_mvgd_40_lvgd_4563_12,\n",
       "  LVCableDist_mvgd_40_lvgd_4563_13,\n",
       "  LVCableDist_mvgd_40_lvgd_4563_14,\n",
       "  LVCableDist_mvgd_40_lvgd_4563_15,\n",
       "  LVCableDist_mvgd_40_lvgd_4563_16,\n",
       "  LVCableDist_mvgd_40_lvgd_4563_17,\n",
       "  LVCableDist_mvgd_40_lvgd_4563_18,\n",
       "  LVCableDist_mvgd_40_lvgd_4563_19,\n",
       "  LVCableDist_mvgd_40_lvgd_4563_20,\n",
       "  LVCableDist_mvgd_40_lvgd_4563_21,\n",
       "  LVCableDist_mvgd_40_lvgd_4563_22,\n",
       "  LVCableDist_mvgd_40_lvgd_4563_23,\n",
       "  LVCableDist_mvgd_40_lvgd_4563_24,\n",
       "  LVCableDist_mvgd_40_lvgd_4563_25,\n",
       "  LVCableDist_mvgd_40_lvgd_4563_26,\n",
       "  LVCableDist_mvgd_40_lvgd_4563_27,\n",
       "  LVCableDist_mvgd_40_lvgd_4563_28,\n",
       "  LVCableDist_mvgd_40_lvgd_4563_29,\n",
       "  LVCableDist_mvgd_40_lvgd_4563_30,\n",
       "  LVCableDist_mvgd_40_lvgd_4563_31,\n",
       "  LVCableDist_mvgd_40_lvgd_4563_32,\n",
       "  LVCableDist_mvgd_40_lvgd_4563_33,\n",
       "  LVCableDist_mvgd_40_lvgd_4563_34,\n",
       "  LVCableDist_mvgd_40_lvgd_4563_35,\n",
       "  LVCableDist_mvgd_40_lvgd_4563_36,\n",
       "  LVCableDist_mvgd_40_lvgd_4563_37,\n",
       "  LVCableDist_mvgd_40_lvgd_4563_38,\n",
       "  LVCableDist_mvgd_40_lvgd_4563_39,\n",
       "  LVCableDist_mvgd_40_lvgd_4563_40,\n",
       "  LVCableDist_mvgd_40_lvgd_4563_41,\n",
       "  LVCableDist_mvgd_40_lvgd_4563_42,\n",
       "  LVCableDist_mvgd_40_lvgd_4563_43,\n",
       "  LVCableDist_mvgd_40_lvgd_4563_44,\n",
       "  LVCableDist_mvgd_40_lvgd_4563_45,\n",
       "  LVCableDist_mvgd_40_lvgd_4563_46],\n",
       " '_loads': [Load_mvgd_40_lvgd_4563_1,\n",
       "  Load_mvgd_40_lvgd_4563_2,\n",
       "  Load_mvgd_40_lvgd_4563_3,\n",
       "  Load_mvgd_40_lvgd_4563_4,\n",
       "  Load_mvgd_40_lvgd_4563_5,\n",
       "  Load_mvgd_40_lvgd_4563_6,\n",
       "  Load_mvgd_40_lvgd_4563_7,\n",
       "  Load_mvgd_40_lvgd_4563_8,\n",
       "  Load_mvgd_40_lvgd_4563_9,\n",
       "  Load_mvgd_40_lvgd_4563_10,\n",
       "  Load_mvgd_40_lvgd_4563_11,\n",
       "  Load_mvgd_40_lvgd_4563_12,\n",
       "  Load_mvgd_40_lvgd_4563_13,\n",
       "  Load_mvgd_40_lvgd_4563_14,\n",
       "  Load_mvgd_40_lvgd_4563_15,\n",
       "  Load_mvgd_40_lvgd_4563_16,\n",
       "  Load_mvgd_40_lvgd_4563_17,\n",
       "  Load_mvgd_40_lvgd_4563_18,\n",
       "  Load_mvgd_40_lvgd_4563_19,\n",
       "  Load_mvgd_40_lvgd_4563_20,\n",
       "  Load_mvgd_40_lvgd_4563_21,\n",
       "  Load_mvgd_40_lvgd_4563_22,\n",
       "  Load_mvgd_40_lvgd_4563_23],\n",
       " '_generators': [Generator_mvgd_40_lvgd_4563_solar_ground_mounted_232549,\n",
       "  Generator_mvgd_40_lvgd_4563_solar_ground_mounted_232660,\n",
       "  Generator_mvgd_40_lvgd_4563_solar_roof_mounted_232882,\n",
       "  Generator_mvgd_40_lvgd_4563_solar_roof_mounted_233007],\n",
       " 'v_level': 400.0,\n",
       " '_graph': <networkx.classes.graph.Graph at 0x1c2c3ef8550>,\n",
       " 'default_branch_kind': 'cable',\n",
       " '_station': LVStation_mvgd_40_lvgd_4563,\n",
       " 'population': None}"
      ]
     },
     "execution_count": 22,
     "metadata": {},
     "output_type": "execute_result"
    }
   ],
   "source": [
    "lv_district_of_interest.lv_grid.__dict__"
   ]
  },
  {
   "cell_type": "code",
   "execution_count": 19,
   "metadata": {},
   "outputs": [],
   "source": [
    "#lv_district_of_interest.lv_grid.graph_draw(mode='LV')"
   ]
  },
  {
   "cell_type": "code",
   "execution_count": 24,
   "metadata": {},
   "outputs": [
    {
     "data": {
      "text/plain": [
       "{'id_db': 4563,\n",
       " 'geo_data': <shapely.geometry.point.Point at 0x1c2c3ef85b0>,\n",
       " 'grid': lv_grid_4563,\n",
       " '_transformers': [Transformer_lv_grid_4563_1],\n",
       " 'v_level_operation': None,\n",
       " 'lv_load_area': lv_load_area_4544,\n",
       " 'voltage_res': [0.9897135909377942, 1.0123145234795161]}"
      ]
     },
     "execution_count": 24,
     "metadata": {},
     "output_type": "execute_result"
    }
   ],
   "source": [
    "lv_district_of_interest.lv_grid._station.__dict__ # .geo_data.wkt"
   ]
  },
  {
   "cell_type": "code",
   "execution_count": null,
   "metadata": {},
   "outputs": [],
   "source": []
  },
  {
   "cell_type": "code",
   "execution_count": null,
   "metadata": {},
   "outputs": [],
   "source": []
  },
  {
   "cell_type": "code",
   "execution_count": null,
   "metadata": {},
   "outputs": [],
   "source": []
  },
  {
   "cell_type": "code",
   "execution_count": null,
   "metadata": {},
   "outputs": [],
   "source": []
  },
  {
   "cell_type": "code",
   "execution_count": 19,
   "metadata": {},
   "outputs": [],
   "source": [
    "from sklearn.cluster import AgglomerativeClustering\n",
    "import numpy as np"
   ]
  },
  {
   "cell_type": "code",
   "execution_count": 20,
   "metadata": {},
   "outputs": [],
   "source": [
    "X = []    # collect nodes\n",
    "\n",
    "for node in graph.nodes:\n",
    "\n",
    "    X.append([graph.nodes[node]['X'], graph.nodes[node]['Y']])\n",
    "    \n",
    "    \n",
    "X = np.array(X)\n",
    "\n",
    "\n",
    "\n",
    "# clustering\n",
    "\n",
    "adj_mat_sparse = nx.adjacency_matrix(graph, weight='length')\n",
    "\n",
    "clustering = AgglomerativeClustering(n_clusters=n_clusters, linkage='ward', connectivity=adj_mat_sparse).fit(X)\n",
    "\n",
    "\n",
    "\n",
    "\n",
    "\n",
    "\n",
    "# assign cluster labels\n",
    "\n",
    "i_label = 0\n",
    "\n",
    "for node in list(graph.nodes):\n",
    "\n",
    "    graph.nodes[node]['cluster'] = clustering.labels_[i_label]\n",
    "    \n",
    "    i_label += 1\n",
    "    \n",
    "labels = nx.get_node_attributes(graph, 'cluster') "
   ]
  },
  {
   "cell_type": "code",
   "execution_count": 23,
   "metadata": {},
   "outputs": [
    {
     "data": {
      "image/png": "[encoded data removed]",
      "text/plain": [
       "<Figure size 432x288 with 1 Axes>"
      ]
     },
     "metadata": {},
     "output_type": "display_data"
    }
   ],
   "source": [
    "nx.draw(graph, node_coords_dict,labels=labels)"
   ]
  },
  {
   "cell_type": "code",
   "execution_count": null,
   "metadata": {},
   "outputs": [],
   "source": []
  },
  {
   "cell_type": "code",
   "execution_count": 24,
   "metadata": {},
   "outputs": [],
   "source": [
    "X = []    # collect nodes\n",
    "\n",
    "for node in graph.nodes:\n",
    "\n",
    "    X.append([graph.nodes[node]['X'], graph.nodes[node]['Y']])\n",
    "    \n",
    "    \n",
    "X = np.array(X)\n",
    "\n",
    "\n",
    "\n",
    "# clustering\n",
    "\n",
    "adj_mat_sparse = nx.to_numpy_matrix(graph, weight='length')\n",
    "\n",
    "clustering = AgglomerativeClustering(n_clusters=n_clusters, linkage='ward', connectivity=adj_mat_sparse).fit(X)\n",
    "\n",
    "\n",
    "\n",
    "\n",
    "\n",
    "\n",
    "# assign cluster labels\n",
    "\n",
    "i_label = 0\n",
    "\n",
    "for node in list(graph.nodes):\n",
    "\n",
    "    graph.nodes[node]['cluster'] = clustering.labels_[i_label]\n",
    "    \n",
    "    i_label += 1\n",
    "    \n",
    "labels = nx.get_node_attributes(graph, 'cluster') "
   ]
  },
  {
   "cell_type": "code",
   "execution_count": 25,
   "metadata": {},
   "outputs": [
    {
     "data": {
      "image/png": "[encoded data removed]",
      "text/plain": [
       "<Figure size 432x288 with 1 Axes>"
      ]
     },
     "metadata": {},
     "output_type": "display_data"
    }
   ],
   "source": [
    "nx.draw(graph, node_coords_dict,labels=labels)"
   ]
  },
  {
   "cell_type": "code",
   "execution_count": null,
   "metadata": {},
   "outputs": [],
   "source": []
  }
 ],
 "metadata": {
  "kernelspec": {
   "display_name": "Python 3",
   "language": "python",
   "name": "python3"
  },
  "language_info": {
   "codemirror_mode": {
    "name": "ipython",
    "version": 3
   },
   "file_extension": ".py",
   "mimetype": "text/x-python",
   "name": "python",
   "nbconvert_exporter": "python",
   "pygments_lexer": "ipython3",
   "version": "3.8.5"
  }
 },
 "nbformat": 4,
 "nbformat_minor": 4
}
